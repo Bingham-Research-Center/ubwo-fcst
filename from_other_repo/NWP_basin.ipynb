{
 "cells": [
  {
   "cell_type": "markdown",
   "source": [
    "### Download HRRR model for inversion event\n",
    "### "
   ],
   "metadata": {
    "collapsed": false
   },
   "id": "ea64301e5c75300f"
  },
  {
   "cell_type": "markdown",
   "source": [
    "## Plotting high-resolution data from HRRR in the Basin during inversion events"
   ],
   "metadata": {
    "collapsed": false
   },
   "id": "de371668502acd3c"
  },
  {
   "cell_type": "code",
   "source": [
    "%matplotlib inline\n",
    "import matplotlib.pyplot as plt\n",
    "from matplotlib import rc\n",
    "import xarray as xr\n",
    "import numpy as np\n",
    "\n",
    "import cartopy.feature as cfeature\n",
    "from cartopy import crs\n",
    "\n",
    "from herbie import  FastHerbie, Herbie\n",
    "\n",
    "import time\n",
    "import warnings\n",
    "\n",
    "#little helper func\n",
    "def trunc(values, decs=0):\n",
    "    return np.trunc(values*10**decs)/(10**decs)\n",
    "\n",
    "font = {'family' : 'sans-serif',\n",
    "        'weight' : 'bold',\n",
    "        'size'   : 12}\n",
    "\n",
    "rc('font', **font)\n",
    "\n",
    "\n",
    "#I will put some PRs into Herbie, we get a bunch of warnings with the regex calls\n",
    "warnings.filterwarnings(action='ignore')"
   ],
   "metadata": {
    "collapsed": false,
    "ExecuteTime": {
     "end_time": "2024-05-12T23:52:07.396252Z",
     "start_time": "2024-05-12T23:51:59.179538Z"
    }
   },
   "id": "dfc3273f6ae9c441",
   "outputs": [],
   "execution_count": 1
  },
  {
   "cell_type": "code",
   "source": [
    "tbegin = time.time() #Timing\n",
    "\n",
    "mt = \"2023-02-06 06:00\"\n",
    "nfcst = 1\n",
    "nprocs = 60\n",
    "source = 'aws'"
   ],
   "metadata": {
    "collapsed": false,
    "ExecuteTime": {
     "end_time": "2024-05-12T23:52:07.406528Z",
     "start_time": "2024-05-12T23:52:07.400320Z"
    }
   },
   "id": "a0695269c3fc28b8",
   "outputs": [],
   "execution_count": 2
  },
  {
   "cell_type": "code",
   "source": [
    "#Regex query string. \n",
    "#See https://www.nco.ncep.noaa.gov/pmb/products/hrrr/hrrr.t00z.wrfnatf02.grib2.shtml\n",
    "# qstr = \"(:TMP:|:PRES:|:HGT:|:UGRD:|:VGRD:|:SPFH:)\"\n",
    "# qstr = \"(:TMP:|:PRES:|:SPFH:)\"\n",
    "# qstr = \"(:CIMIXR:)\"\n",
    "qstr = \"(:TMP:)\"\n",
    "FH = FastHerbie([mt], model=\"hrrr\",product=\"nat\",source=source, fxx=range(1,2))\n",
    "\n",
    "#Download the subsets contianing the cloud fields. This can be 5 mins to 30 mins (ANL, Courtyard Marriott)\n",
    "FH.download(qstr, max_threads=nprocs)\n",
    "print('Downloaded')\n",
    "\n",
    "#Load downloaded fields into a xarray dataset\n",
    "ds_clouds = FH.xarray(qstr, remove_grib=True)\n",
    "display(ds_clouds)"
   ],
   "metadata": {
    "collapsed": false,
    "ExecuteTime": {
     "end_time": "2024-05-12T23:53:06.610997Z",
     "start_time": "2024-05-12T23:52:07.409257Z"
    }
   },
   "id": "b2080bacd7da63c7",
   "outputs": [
    {
     "name": "stdout",
     "output_type": "stream",
     "text": [
      "👨🏻‍🏭 Created directory: [/Users/johnlawson/data/hrrr/20230206]\n",
      "Downloaded\n",
      "Note: Returning a list of [3] xarray.Datasets because cfgrib opened with multiple hypercubes.\n"
     ]
    },
    {
     "ename": "AttributeError",
     "evalue": "'list' object has no attribute 'step'",
     "output_type": "error",
     "traceback": [
      "\u001B[0;31m---------------------------------------------------------------------------\u001B[0m",
      "\u001B[0;31mAttributeError\u001B[0m                            Traceback (most recent call last)",
      "Cell \u001B[0;32mIn[3], line 14\u001B[0m\n\u001B[1;32m     11\u001B[0m \u001B[38;5;28mprint\u001B[39m(\u001B[38;5;124m'\u001B[39m\u001B[38;5;124mDownloaded\u001B[39m\u001B[38;5;124m'\u001B[39m)\n\u001B[1;32m     13\u001B[0m \u001B[38;5;66;03m#Load downloaded fields into a xarray dataset\u001B[39;00m\n\u001B[0;32m---> 14\u001B[0m ds_clouds \u001B[38;5;241m=\u001B[39m \u001B[43mFH\u001B[49m\u001B[38;5;241;43m.\u001B[39;49m\u001B[43mxarray\u001B[49m\u001B[43m(\u001B[49m\u001B[43mqstr\u001B[49m\u001B[43m,\u001B[49m\u001B[43m \u001B[49m\u001B[43mremove_grib\u001B[49m\u001B[38;5;241;43m=\u001B[39;49m\u001B[38;5;28;43;01mTrue\u001B[39;49;00m\u001B[43m)\u001B[49m\n\u001B[1;32m     15\u001B[0m display(ds_clouds)\n",
      "File \u001B[0;32m~/anaconda3/envs/live-verification/lib/python3.11/site-packages/herbie/fast.py:294\u001B[0m, in \u001B[0;36mFastHerbie.xarray\u001B[0;34m(self, searchString, max_threads, **xarray_kwargs)\u001B[0m\n\u001B[1;32m    291\u001B[0m     ds_list \u001B[38;5;241m=\u001B[39m [H\u001B[38;5;241m.\u001B[39mxarray(\u001B[38;5;241m*\u001B[39m\u001B[38;5;241m*\u001B[39mxarray_kwargs) \u001B[38;5;28;01mfor\u001B[39;00m H \u001B[38;5;129;01min\u001B[39;00m \u001B[38;5;28mself\u001B[39m\u001B[38;5;241m.\u001B[39mfile_exists]\n\u001B[1;32m    293\u001B[0m \u001B[38;5;66;03m# Sort the DataSets, first by lead time (step), then by run time (time)\u001B[39;00m\n\u001B[0;32m--> 294\u001B[0m \u001B[43mds_list\u001B[49m\u001B[38;5;241;43m.\u001B[39;49m\u001B[43msort\u001B[49m\u001B[43m(\u001B[49m\u001B[43mkey\u001B[49m\u001B[38;5;241;43m=\u001B[39;49m\u001B[38;5;28;43;01mlambda\u001B[39;49;00m\u001B[43m \u001B[49m\u001B[43mx\u001B[49m\u001B[43m:\u001B[49m\u001B[43m \u001B[49m\u001B[43mx\u001B[49m\u001B[38;5;241;43m.\u001B[39;49m\u001B[43mstep\u001B[49m\u001B[38;5;241;43m.\u001B[39;49m\u001B[43mdata\u001B[49m\u001B[38;5;241;43m.\u001B[39;49m\u001B[43mmax\u001B[49m\u001B[43m(\u001B[49m\u001B[43m)\u001B[49m\u001B[43m)\u001B[49m\n\u001B[1;32m    295\u001B[0m ds_list\u001B[38;5;241m.\u001B[39msort(key\u001B[38;5;241m=\u001B[39m\u001B[38;5;28;01mlambda\u001B[39;00m x: x\u001B[38;5;241m.\u001B[39mtime\u001B[38;5;241m.\u001B[39mdata\u001B[38;5;241m.\u001B[39mmax())\n\u001B[1;32m    297\u001B[0m \u001B[38;5;66;03m# Reshape list with dimensions (len(DATES), len(fxx))\u001B[39;00m\n",
      "File \u001B[0;32m~/anaconda3/envs/live-verification/lib/python3.11/site-packages/herbie/fast.py:294\u001B[0m, in \u001B[0;36mFastHerbie.xarray.<locals>.<lambda>\u001B[0;34m(x)\u001B[0m\n\u001B[1;32m    291\u001B[0m     ds_list \u001B[38;5;241m=\u001B[39m [H\u001B[38;5;241m.\u001B[39mxarray(\u001B[38;5;241m*\u001B[39m\u001B[38;5;241m*\u001B[39mxarray_kwargs) \u001B[38;5;28;01mfor\u001B[39;00m H \u001B[38;5;129;01min\u001B[39;00m \u001B[38;5;28mself\u001B[39m\u001B[38;5;241m.\u001B[39mfile_exists]\n\u001B[1;32m    293\u001B[0m \u001B[38;5;66;03m# Sort the DataSets, first by lead time (step), then by run time (time)\u001B[39;00m\n\u001B[0;32m--> 294\u001B[0m ds_list\u001B[38;5;241m.\u001B[39msort(key\u001B[38;5;241m=\u001B[39m\u001B[38;5;28;01mlambda\u001B[39;00m x: \u001B[43mx\u001B[49m\u001B[38;5;241;43m.\u001B[39;49m\u001B[43mstep\u001B[49m\u001B[38;5;241m.\u001B[39mdata\u001B[38;5;241m.\u001B[39mmax())\n\u001B[1;32m    295\u001B[0m ds_list\u001B[38;5;241m.\u001B[39msort(key\u001B[38;5;241m=\u001B[39m\u001B[38;5;28;01mlambda\u001B[39;00m x: x\u001B[38;5;241m.\u001B[39mtime\u001B[38;5;241m.\u001B[39mdata\u001B[38;5;241m.\u001B[39mmax())\n\u001B[1;32m    297\u001B[0m \u001B[38;5;66;03m# Reshape list with dimensions (len(DATES), len(fxx))\u001B[39;00m\n",
      "\u001B[0;31mAttributeError\u001B[0m: 'list' object has no attribute 'step'"
     ]
    }
   ],
   "execution_count": 3
  },
  {
   "cell_type": "code",
   "source": [
    "#Fix metadata\n",
    "ds_clouds = ds_clouds.rename({'unknown' : 'cloudice',})\n",
    "ds_clouds.cloudice.attrs['units'] = 'kg/kg'\n",
    "ds_clouds.cloudice.attrs['long_name'] = 'Cloud ice mixing ratio'\n",
    "\n",
    "tcloud = time.time() #timing"
   ],
   "metadata": {
    "collapsed": false,
    "ExecuteTime": {
     "end_time": "2024-05-12T23:53:06.613200Z",
     "start_time": "2024-05-12T23:53:06.613035Z"
    }
   },
   "id": "2f3f59c8b1126fc3",
   "outputs": [],
   "execution_count": null
  },
  {
   "cell_type": "code",
   "source": [
    "FH = FastHerbie([mt], model=\"hrrr\", fxx=[1,], source=source)\n",
    "\n",
    "#Download temperature and Dewpoint at 2m\n",
    "FH.download(\"(TMP|DPT):2 m\", max_threads=nprocs)\n",
    "\n",
    "#Load it into xarray\n",
    "ds_t_and_dp = FH.xarray(\"(TMP|DPT):2 m\", remove_grib=True)\n",
    "\n",
    "ttemps = time.time()"
   ],
   "metadata": {
    "collapsed": false
   },
   "id": "d549a04153e73bef",
   "outputs": [],
   "execution_count": null
  },
  {
   "cell_type": "code",
   "source": [
    "FH = FastHerbie([mt], model=\"hrrr\", product=\"sfc\",fxx=[1,], source=source)\n",
    "\n",
    "FH.download(\"(:SNOD:)\", max_threads=nprocs)\n",
    "ds_snod = FH.xarray(\"(:SNOD:)\", remove_grib=True)\n",
    "\n",
    "tsnod = time.time()"
   ],
   "metadata": {
    "collapsed": false
   },
   "id": "adce40553bb24177",
   "outputs": [],
   "execution_count": null
  },
  {
   "cell_type": "code",
   "source": [
    "#Get vertical axis\n",
    "FH = FastHerbie([mt], model=\"hrrr\",product=\"nat\",source=source, fxx=[0])\n",
    "FH.download(':HGT:.*hybrid', max_threads=1) \n",
    "ds_heights = FH.xarray(':HGT:.*hybrid', remove_grib=True)\n",
    "\n",
    "taxis = time.time() # timing"
   ],
   "metadata": {
    "collapsed": false
   },
   "id": "d10015ab4c6f58b",
   "outputs": [],
   "execution_count": null
  },
  {
   "cell_type": "code",
   "source": [
    "# ds_precip = xr.merge([ds_rain, ds_clouds, ds_t_and_dp])\n",
    "ds_precip = xr.merge([ds_clouds, ds_t_and_dp, ds_snod])\n",
    "ds_precip['gph_zero_time'] = ds_heights.gh\n",
    "\n",
    "#lets see what we have!\n",
    "ds_precip"
   ],
   "metadata": {
    "collapsed": false
   },
   "id": "970f799369ed4866",
   "outputs": [],
   "execution_count": null
  },
  {
   "cell_type": "code",
   "source": [
    "#HRRR gives kg per m^2.. this is basically mm of rainfall. So convert to inches for our American audience \n",
    "inches_per_mm = 0.0393701\n",
    "\n",
    "#The time step to show (hr 30 of 47). And some title text\n",
    "timestep = 1\n",
    "# tstr = f\"{ds_precip.model.upper()}: {ds_precip.description}\\nValid: {ds_precip.valid_time[timestep].dt.strftime('%H:%M UTC %d %b %Y').item()}\"\n",
    "\n",
    "locations_of_interest = [(-109.5287,40.4555),(-110.4029,40.1633),(-109.6774,40.0891)]\n",
    "names_of_interest = [\"Vernal\",\"Duchesne\",\"Ouray\"]\n",
    "\n",
    "#Map parameters\n",
    "my_transform = crs.PlateCarree()\n",
    "my_extent = [-110.6,-108.7,41.05,39.65]\n",
    "nlines = 5\n",
    "lonlines = trunc(np.linspace(my_extent[0], my_extent[1], nlines), 1)\n",
    "latlines = trunc(np.linspace(my_extent[2], my_extent[3], nlines), 1)\n",
    "\n",
    "coast = cfeature.NaturalEarthFeature(category='physical', scale='10m',\n",
    "                            edgecolor='black', name='coastline')\n",
    "\n",
    "counties = cfeature.NaturalEarthFeature(category='cultural', scale='10m',\n",
    "                            edgecolor='black', name='admin_2_counties_lakes', alpha=.2)"
   ],
   "metadata": {
    "collapsed": false
   },
   "id": "34e8f78c0b1ef899",
   "outputs": [],
   "execution_count": null
  },
  {
   "cell_type": "code",
   "source": [
    "#Make a two panel figure\n",
    "fig, (ax1, ax2) = plt.subplots( ncols=2, figsize=[18,8], constrained_layout=True,\n",
    "                  subplot_kw={'projection' : ds_precip.herbie.crs})\n",
    "\n",
    "\n",
    "#Plot 2m temperature\n",
    "pc_temp = ax1.pcolormesh(ds_precip.longitude,  ds_precip.latitude, \n",
    "                         # ds_precip.isel(step=timestep).t2m-273.15, \n",
    "                         ds_precip.t2m-273.15, \n",
    "\n",
    "                         # cmap=cm_colorblind.HomeyerRainbow,\n",
    "                        transform=my_transform)\n",
    "\n",
    "c1 = plt.colorbar(pc_temp, fraction=0.046, pad=0.04)\n",
    "c1.set_label(label='2m Temperature (Celcius)', size=18, weight='bold')\n",
    "c1.ax.tick_params(labelsize=18) \n",
    "\n",
    "# plot_2 = \"precip\"\n",
    "plot_2 = \"snod\"\n",
    "if plot_2 == \"precip\":\n",
    "    pc_precip = ax2.pcolormesh(ds_precip.longitude,  ds_precip.latitude, \n",
    "                             ds_precip.isel(step=timestep).precip_accum_1hr*inches_per_mm, \n",
    "                               cmap=cm_colorblind.HomeyerRainbow,\n",
    "                            transform=my_transform, vmin = 0, vmax=.1)\n",
    "    \n",
    "    c2 = plt.colorbar(pc_precip, fraction=0.046, pad=0.04)\n",
    "    c2.set_label(label='1hr Precip Accum (rain or SWE, Inches)', size=18, weight='bold')\n",
    "    c2.ax.tick_params(labelsize=18)\n",
    "else:\n",
    "    pc_precip = ax2.pcolormesh(ds_precip.longitude,  ds_precip.latitude, \n",
    "                             # ds_precip.isel(step=timestep).snod, \n",
    "                             ds_precip.sde, \n",
    "                             # cmap=cm_colorblind.HomeyerRainbow,\n",
    "                            transform=my_transform, vmin = 0, vmax=.1)\n",
    "    \n",
    "    c2 = plt.colorbar(pc_precip, fraction=0.046, pad=0.04)\n",
    "    c2.set_label(label='Snow depth (m)', size=18, weight='bold')\n",
    "    c2.ax.tick_params(labelsize=18)\n",
    "\n",
    "\n",
    "#Zoom\n",
    "ax1.set_extent(my_extent, crs=my_transform)\n",
    "ax2.set_extent(my_extent, crs=my_transform)\n",
    "\n",
    "#Gridlines\n",
    "gl1 = ax1.gridlines(xlocs=lonlines, ylocs=latlines, x_inline=False, rotate_labels=False)\n",
    "gl2 = ax2.gridlines(xlocs=lonlines, ylocs=latlines, x_inline=False, rotate_labels=False)\n",
    "gl1.xlabels_bottom = True\n",
    "gl1.ylabels_left = True\n",
    "gl2.xlabels_bottom = True\n",
    "gl2.ylabels_left = False\n",
    "gl1.xlabel_style = {'size': 18}\n",
    "gl1.ylabel_style = {'size': 18}\n",
    "gl2.xlabel_style = {'size': 18}\n",
    "gl2.ylabel_style = {'size': 18}\n",
    "# ax1.set_title( tstr, loc=\"left\")\n",
    "# ax2.set_title( tstr, loc=\"left\")\n",
    "\n",
    "#Map features\n",
    "ax1.add_feature(cfeature.STATES, facecolor='none', edgecolor='black')\n",
    "ax1.add_feature(coast, facecolor='none', edgecolor='black')\n",
    "ax1.add_feature(counties, facecolor='none', edgecolor='black')\n",
    "ax2.add_feature(cfeature.STATES, facecolor='none', edgecolor='black')\n",
    "ax2.add_feature(coast, facecolor='none', edgecolor='black')\n",
    "ax2.add_feature(counties, facecolor='none', edgecolor='black')\n",
    "\n",
    "#Plot Locations\n",
    "ax1.scatter([loc[0] for loc in locations_of_interest],\n",
    "            [loc[1] for loc in locations_of_interest], transform=my_transform, marker='o', color='r')\n",
    "\n",
    "for i in range(len(names_of_interest)):\n",
    "    ax1.text(locations_of_interest[i][0],locations_of_interest[i][1], \n",
    "             names_of_interest[i], transform = my_transform, size=15 )\n",
    "    \n",
    "ax2.scatter([loc[0] for loc in locations_of_interest],\n",
    "            [loc[1] for loc in locations_of_interest], transform=my_transform, marker='o', color='r')\n",
    "\n",
    "for i in range(len(names_of_interest)):\n",
    "    ax2.text(locations_of_interest[i][0],locations_of_interest[i][1], \n",
    "             names_of_interest[i], transform = my_transform, size=15 )\n",
    "    \n",
    "    \n"
   ],
   "metadata": {
    "collapsed": false
   },
   "id": "883183a367833acd",
   "outputs": [],
   "execution_count": null
  },
  {
   "cell_type": "code",
   "source": [
    "fig, (ax1, ax2) = plt.subplots( ncols=2, figsize=[18,8], constrained_layout=True,\n",
    "                  subplot_kw={'projection' : ds_precip.herbie.crs})\n",
    "\n",
    "pc_cw = ax1.pcolormesh(ds_precip.longitude,  ds_precip.latitude, \n",
    "                         ds_precip.cloudwater.isel(step=timestep).max(dim='hybrid'), \n",
    "                       # cmap=cm_colorblind.HomeyerRainbow,\n",
    "                        transform=my_transform, vmax=0.002)\n",
    "\n",
    "c1 = plt.colorbar(pc_cw, fraction=0.046, pad=0.04)\n",
    "c1.set_label(label='Col. Max Cloud Water Mixing Ratio kg/kg', size=18, weight='bold')\n",
    "c1.ax.tick_params(labelsize=18) \n",
    "\n",
    "pc_ci = ax2.pcolormesh(ds_precip.longitude,  ds_precip.latitude, \n",
    "                         ds_precip.cloudice.isel(step=timestep).max(dim='hybrid'), \n",
    "                       # cmap=cm_colorblind.HomeyerRainbow,\n",
    "                        transform=my_transform, vmax=1e-5)\n",
    "\n",
    "c2 = plt.colorbar(pc_ci, fraction=0.046, pad=0.04)\n",
    "c2.set_label(label='Col. Max Cloud Ice Mixing Ratio kg/kg', size=18, weight='bold')\n",
    "c2.ax.tick_params(labelsize=18) \n",
    "\n",
    "\n",
    "\n",
    "ax1.set_extent(my_extent, crs=my_transform)\n",
    "ax2.set_extent(my_extent, crs=my_transform)\n",
    "\n",
    "gl1 = ax1.gridlines(xlocs=lonlines, ylocs=latlines, x_inline=False, rotate_labels=False)\n",
    "gl2 = ax2.gridlines(xlocs=lonlines, ylocs=latlines, x_inline=False, rotate_labels=False)\n",
    "\n",
    "gl1.xlabels_bottom = True\n",
    "gl1.ylabels_left = True\n",
    "gl2.xlabels_bottom = True\n",
    "gl2.ylabels_left = False\n",
    "\n",
    "gl1.xlabel_style = {'size': 18}\n",
    "gl1.ylabel_style = {'size': 18}\n",
    "\n",
    "gl2.xlabel_style = {'size': 18}\n",
    "gl2.ylabel_style = {'size': 18}\n",
    "\n",
    "\n",
    "ax1.set_title( tstr, loc=\"left\")\n",
    "ax2.set_title( tstr, loc=\"left\")\n",
    "\n",
    "ax1.add_feature(cfeature.STATES, facecolor='none', edgecolor='black')\n",
    "ax1.add_feature(coast, facecolor='none', edgecolor='black')\n",
    "ax1.add_feature(counties, facecolor='none', edgecolor='black')\n",
    "\n",
    "ax2.add_feature(cfeature.STATES, facecolor='none', edgecolor='black')\n",
    "ax2.add_feature(coast, facecolor='none', edgecolor='black')\n",
    "ax2.add_feature(counties, facecolor='none', edgecolor='black')\n",
    "\n",
    "ax1.scatter([loc[0] for loc in locations_of_interest],\n",
    "            [loc[1] for loc in locations_of_interest], transform=my_transform, marker='o', color='r')\n",
    "\n",
    "for i in range(len(names_of_interest)):\n",
    "    ax1.text(locations_of_interest[i][0],locations_of_interest[i][1], \n",
    "             names_of_interest[i], transform = my_transform, size=15 )\n",
    "    \n",
    "ax2.scatter([loc[0] for loc in locations_of_interest],\n",
    "            [loc[1] for loc in locations_of_interest], transform=my_transform, marker='o', color='r')\n",
    "\n",
    "for i in range(len(names_of_interest)):\n",
    "    ax2.text(locations_of_interest[i][0],locations_of_interest[i][1], \n",
    "             names_of_interest[i], transform = my_transform, size=15 )"
   ],
   "metadata": {
    "collapsed": false
   },
   "id": "e642000925128b52",
   "outputs": [],
   "execution_count": null
  },
  {
   "cell_type": "code",
   "source": [
    "dsi = ds_precip.herbie.nearest_points(locations_of_interest, \n",
    "                               names=names_of_interest)\n",
    "dsi"
   ],
   "metadata": {
    "collapsed": false
   },
   "id": "98a57839c0c2df33",
   "outputs": [],
   "execution_count": null
  },
  {
   "cell_type": "code",
   "source": [
    "#Make a figure with four rows. \n",
    "fig, (ax1, ax2, ax3, ax4)  = plt.subplots(nrows = 4, sharex=True, constrained_layout=True, figsize=[15,15])\n",
    "\n",
    "\n",
    "#Use GPH at t=0 as the vertical axis and plot cloud ice and cloud water for one site\n",
    "dsi.isel(point=0).set_index(hybrid=\"gph_zero_time\").cloudice.plot(x=\"valid_time\", vmin=0, vmax=5e-6, \n",
    "                                                        # cmap = cm_colorblind.HomeyerRainbow, ax=ax1\n",
    "                                                                  )\n",
    "\n",
    "\n",
    "dsi.isel(point=0).set_index(hybrid=\"gph_zero_time\").cloudwater.plot(x=\"valid_time\", vmin=0, vmax=0.0005, \n",
    "                                                        # cmap = cm_colorblind.HomeyerRainbow, ax=ax2\n",
    "                                                                    )\n",
    "\n",
    "acpc = False\n",
    "if acpc:\n",
    "    #Plot precip 1hr accums for all sites\n",
    "    (dsi.precip_accum_1hr*inches_per_mm).isel(point=2).plot(color='red', \n",
    "                                                          x=\"valid_time\", marker=\".\", \n",
    "                                                          label=dsi.point[2].values,\n",
    "                                                         ax=ax3)\n",
    "    \n",
    "    \n",
    "    (dsi.precip_accum_1hr*inches_per_mm).isel(point=0).plot(color='blue', \n",
    "                                                          x=\"valid_time\", marker=\".\", \n",
    "                                                          label=dsi.point[0].values,\n",
    "                                                         ax = ax3)\n",
    "    \n",
    "    (dsi.precip_accum_1hr*inches_per_mm).isel(point=1).plot(color='purple', \n",
    "                                                          x=\"valid_time\", marker=\".\",\n",
    "                                                          label=dsi.point[1].values,\n",
    "                                                         ax=ax3)\n",
    "\n",
    "\n",
    "#plot temperature and dewpoints for all sites. \n",
    "(dsi.t2m - 273.15).isel(point=0).plot(color='blue', x=\"valid_time\", marker=\".\", label=dsi.point[0].values, ax=ax4)\n",
    "(dsi.t2m - 273.15).isel(point=1).plot(color='purple', x=\"valid_time\", marker=\".\", label=dsi.point[1].values, ax=ax4)\n",
    "(dsi.t2m - 273.15).isel(point=2).plot(color='red', x=\"valid_time\", marker=\".\", label=dsi.point[2].values, ax=ax4)\n",
    "\n",
    "(dsi.d2m - 273.15).isel(point=0).plot(color='blue', x=\"valid_time\", marker=\".\", linestyle='dashed', ax=ax4)\n",
    "(dsi.d2m - 273.15).isel(point=1).plot(color='purple', x=\"valid_time\", marker=\".\", linestyle='dashed', ax=ax4)\n",
    "(dsi.d2m - 273.15).isel(point=2).plot(color='red', x=\"valid_time\", marker=\".\", linestyle='dashed', ax=ax4)\n",
    "\n",
    "\n",
    "#Embelish\n",
    "ax4.set_ylabel('Temperature and dew point (celcius)')\n",
    "ax4.set_xlabel('Time and date (UTC)')\n",
    "ax4.set_title('HRRR Temperature and dewpoint forecasts')\n",
    "\n",
    "\n",
    "plt.legend()\n",
    "\n",
    "ax1.set_ylim([0, 15000])\n",
    "ax2.set_ylim([0, 15000])\n",
    "#ax3.set_ylim([0,.5])\n",
    "plt.grid()\n",
    "ax3.set_ylabel('Rain Rate (in/hr)')\n",
    "ax3.set_xlabel('Time and date (UTC)')\n",
    "ax3.set_title('HRRR rain rate forecasts')\n"
   ],
   "metadata": {
    "collapsed": false
   },
   "id": "9b8729a6d4b62cb8",
   "outputs": [],
   "execution_count": null
  },
  {
   "cell_type": "code",
   "source": [],
   "metadata": {
    "collapsed": false
   },
   "id": "f93c2cad847cbe",
   "outputs": [],
   "execution_count": null
  },
  {
   "cell_type": "code",
   "source": [
    "# Convert temperature to potential temperature\n",
    "# Need to think about moisture and using theta-e?\n",
    "# theta = T(1000/P)**(R/Cp)\n",
    "\n",
    "def calculate_moist_stability_indices(T, P, z, u, v, q):\n",
    "    g = 9.81  # Acceleration due to gravity\n",
    "    Rd = 287  # Gas constant for dry air\n",
    "    cp = 1005  # Specific heat at constant pressure\n",
    "    Lv = 2.5e6  # Latent heat of vaporization\n",
    "    P0 = 1000  # Reference pressure\n",
    "\n",
    "    # Calculate potential temperature\n",
    "    theta = T * (P0 / P)**(Rd / cp)\n",
    "\n",
    "    # Calculate equivalent potential temperature\n",
    "    theta_m = theta * np.exp((Lv * q) / (cp * T))\n",
    "\n",
    "    # Calculate vertical gradients\n",
    "    dtheta_m_dz = np.gradient(theta_m, z, axis=0)\n",
    "    du_dz = np.gradient(u, z, axis=0)\n",
    "    dv_dz = np.gradient(v, z, axis=0)\n",
    "\n",
    "    # Calculate moist Brunt-Vaisala frequency squared (N^2_m)\n",
    "    N2_m = (g / theta_m) * dtheta_m_dz\n",
    "\n",
    "    # Calculate Richardson number (Ri)\n",
    "    Ri = N2_m / (du_dz**2 + dv_dz**2)\n",
    "\n",
    "    return N2_m, Ri\n",
    "\n",
    "# Dummy data (replace with your actual data)\n",
    "T = np.random.rand(10, 10, 10)  # Temperature in Kelvin\n",
    "P = np.random.rand(10, 10, 10)  # Pressure in hPa\n",
    "z = np.linspace(0, 3000, 10)  # Height in meters\n",
    "u = np.random.rand(10, 10, 10)  # u wind component\n",
    "v = np.random.rand(10, 10, 10)  # v wind component\n",
    "q = np.random.rand(10, 10, 10)  # Specific humidity\n",
    "\n",
    "# Calculate moist stability indices\n",
    "N2_m, Ri = calculate_moist_stability_indices(T, P, z, u, v, q)\n"
   ],
   "metadata": {
    "collapsed": false
   },
   "id": "b156ea49fd33401",
   "outputs": [],
   "execution_count": null
  },
  {
   "cell_type": "code",
   "source": [
    "qstr = '(' \n",
    "for i in range(nfcst):\n",
    "    if i != nfcst -1:\n",
    "        qstr = qstr +  f':APCP:surface:{i}-{i+1} ho*|'\n",
    "    else:\n",
    "        qstr = qstr +  f':APCP:surface:{i}-{i+1} ho*)'\n",
    "\n",
    "H = Herbie(\n",
    "    mt,  # model run date\n",
    "    model=\"hrrr\",  # model name\n",
    "    product=\"sfc\",  # model produce name (model dependent)\n",
    "    fxx=1,  # forecast lead time\n",
    ")\n",
    "\n",
    "#Lets test!\n",
    "H.read_idx(searchString=qstr)"
   ],
   "metadata": {
    "collapsed": false
   },
   "id": "3d1cfdd6be5a0bc8",
   "outputs": [],
   "execution_count": null
  },
  {
   "cell_type": "code",
   "source": [
    "#Download\n",
    "FH = FastHerbie([mt], model=\"hrrr\",source=source, fxx=[1,])\n",
    "FH.download(qstr, max_threads=nprocs) #This needs a good (and cheap) internet connection... ~1m on my connection\n",
    "\n",
    "#Read to xarray\n",
    "ds_rain = FH.xarray(qstr, remove_grib=True)\n",
    "\n",
    "#Add a timestep at start\n",
    "ds_rain = xr.concat([ds_rain.isel(step=0), ds_rain], dim='step')\n",
    "ds_rain['step'] = ds_clouds['step']\n",
    "ds_rain['valid_time'] = ds_clouds['valid_time']\n",
    "ds_rain = ds_rain.rename({'tp': 'precip_accum_1hr'})\n",
    "\n",
    "#set time zero to zero mm/hr\n",
    "ds_rain.precip_accum_1hr[0, :, :] =  ds_rain.precip_accum_1hr[0, :, :]*0.0\n",
    "\n",
    "tprecip = time.time() #timing"
   ],
   "metadata": {
    "collapsed": false
   },
   "id": "3e39088cafe03330",
   "outputs": [],
   "execution_count": null
  }
 ],
 "metadata": {
  "kernelspec": {
   "display_name": "Python 3",
   "language": "python",
   "name": "python3"
  },
  "language_info": {
   "codemirror_mode": {
    "name": "ipython",
    "version": 2
   },
   "file_extension": ".py",
   "mimetype": "text/x-python",
   "name": "python",
   "nbconvert_exporter": "python",
   "pygments_lexer": "ipython2",
   "version": "2.7.6"
  }
 },
 "nbformat": 4,
 "nbformat_minor": 5
}

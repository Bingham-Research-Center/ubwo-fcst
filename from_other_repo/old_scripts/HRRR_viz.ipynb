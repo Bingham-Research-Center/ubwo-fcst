{
 "cells": [
  {
   "cell_type": "markdown",
   "id": "9bce5b8d",
   "metadata": {},
   "source": [
    "## A Notebook Using Herbie to Look at HRRR Cloud Forecasts\n",
    "\n",
    "This notebook uses the new Herbie package to download HRRR fields, fix some metadata, fix some dimensions and merge fields. It also grabs one column of geopotential heights and uses this as a vertical axis to look at the structure of clouds over Chicago. The plan is to extract these columns and study the performance of HRRR and other models over Chicago using Argonne's scanning Doppler LIDAR, Ceilometer and other instruments. We also plan to do this study at [ARM's](http://www.arm.gov) Southern Great Plains site. \n",
    "\n",
    "**Note this shows cloud liquid and ice NOT precipitating water and ice... Future work.**\n",
    "\n",
    "This notebook, given it takes 15 minutes to work on **the best** internet connections, inadervtantly makes the case for server side subsetting like the [HRRR ZARR archives](https://mesowest.utah.edu/html/hrrr/). This makes heavy use of [xarray](https://docs.xarray.dev/en/stable/) and we are always grateful to [Pangeo](https://pangeo.io/). \n",
    "\n",
    "Scott Collis, Argonne National Laboratory. [Twitter](https://twitter.com/Cyclogenesis_au) [GitHub](https://github.com/scollis)\n"
   ]
  },
  {
   "cell_type": "code",
   "execution_count": 1,
   "id": "79a68d4f",
   "metadata": {
    "ExecuteTime": {
     "end_time": "2023-09-27T18:53:48.587082Z",
     "start_time": "2023-09-27T18:53:47.828352Z"
    }
   },
   "outputs": [
    {
     "name": "stdout",
     "output_type": "stream",
     "text": [
      "\n",
      "## You are using the Python ARM Radar Toolkit (Py-ART), an open source\n",
      "## library for working with weather radar data. Py-ART is partly\n",
      "## supported by the U.S. Department of Energy as part of the Atmospheric\n",
      "## Radiation Measurement (ARM) Climate Research Facility, an Office of\n",
      "## Science user facility.\n",
      "##\n",
      "## If you use this software to prepare a publication, please cite:\n",
      "##\n",
      "##     JJ Helmus and SM Collis, JORS 2016, doi: 10.5334/jors.119\n"
     ]
    }
   ],
   "source": [
    "%matplotlib inline\n",
    "import matplotlib.pyplot as plt\n",
    "from matplotlib import rc\n",
    "import xarray as xr\n",
    "import numpy as np\n",
    "\n",
    "import cartopy.feature as cfeature\n",
    "from cartopy import crs\n",
    "\n",
    "from herbie import  FastHerbie, Herbie\n",
    "\n",
    "# I like Py-ART's colorblind freindly colormaps\n",
    "from pyart.graph import cm_colorblind \n",
    "\n",
    "import time\n",
    "import warnings\n",
    "\n",
    "#little helper func\n",
    "def trunc(values, decs=0):\n",
    "    return np.trunc(values*10**decs)/(10**decs)\n",
    "\n",
    "font = {'family' : 'sans-serif',\n",
    "        'weight' : 'bold',\n",
    "        'size'   : 12}\n",
    "\n",
    "rc('font', **font)\n",
    "\n",
    "\n",
    "#I will put some PRs into Herbie, we get a bunch of warnings with the regex calls\n",
    "warnings.filterwarnings(action='ignore')\n"
   ]
  },
  {
   "cell_type": "markdown",
   "id": "7db22aa0",
   "metadata": {},
   "source": [
    "Set the start time of the model, number of forecast hours and how many cores to use and how many parallel downloads. "
   ]
  },
  {
   "cell_type": "code",
   "execution_count": 2,
   "id": "d5f8603c",
   "metadata": {
    "ExecuteTime": {
     "end_time": "2023-09-27T18:53:48.588773Z",
     "start_time": "2023-09-27T18:53:48.586591Z"
    }
   },
   "outputs": [],
   "source": [
    "tbegin = time.time() #Timing\n",
    "\n",
    "mt = \"2023-02-05 06:00\"\n",
    "# nfcst = 47\n",
    "nfcst = 24\n",
    "plot_t = 12\n",
    "nprocs = 11\n",
    "source = 'aws'"
   ]
  },
  {
   "cell_type": "markdown",
   "id": "7777a83f",
   "metadata": {},
   "source": [
    "Get the full four dimensional fields. **This is memory hungry, another case for the Pangeo lazy loading** on fast connections the downloads are faster than the loading. \n",
    "\n",
    "This downloads and loads grib files for cloud ice and cloud water mixing ratio into xarray. It also renames variables and fixes metadata for the ice fields. "
   ]
  },
  {
   "cell_type": "code",
   "execution_count": 3,
   "id": "118414dd",
   "metadata": {
    "ExecuteTime": {
     "end_time": "2023-09-27T19:00:02.295746Z",
     "start_time": "2023-09-27T18:53:48.589661Z"
    }
   },
   "outputs": [
    {
     "name": "stdout",
     "output_type": "stream",
     "text": [
      "Downloaded\n"
     ]
    },
    {
     "name": "stderr",
     "output_type": "stream",
     "text": [
      "skipping corrupted Message\n",
      "Traceback (most recent call last):\n",
      "  File \"/Users/johnlawson/anaconda3/envs/live-verification/lib/python3.11/site-packages/cfgrib/messages.py\", line 273, in itervalues\n",
      "    yield self.filestream.message_from_file(file, errors=errors)\n",
      "          ^^^^^^^^^^^^^^^^^^^^^^^^^^^^^^^^^^^^^^^^^^^^^^^^^^^^^^\n",
      "  File \"/Users/johnlawson/anaconda3/envs/live-verification/lib/python3.11/site-packages/cfgrib/messages.py\", line 340, in message_from_file\n",
      "    return Message.from_file(file, offset, **kwargs)\n",
      "           ^^^^^^^^^^^^^^^^^^^^^^^^^^^^^^^^^^^^^^^^^\n",
      "  File \"/Users/johnlawson/anaconda3/envs/live-verification/lib/python3.11/site-packages/cfgrib/messages.py\", line 96, in from_file\n",
      "    codes_id = eccodes.codes_grib_new_from_file(file)\n",
      "               ^^^^^^^^^^^^^^^^^^^^^^^^^^^^^^^^^^^^^^\n",
      "  File \"/Users/johnlawson/anaconda3/envs/live-verification/lib/python3.11/site-packages/gribapi/gribapi.py\", line 409, in grib_new_from_file\n",
      "    GRIB_CHECK(err)\n",
      "  File \"/Users/johnlawson/anaconda3/envs/live-verification/lib/python3.11/site-packages/gribapi/gribapi.py\", line 226, in GRIB_CHECK\n",
      "    errors.raise_grib_error(errid)\n",
      "  File \"/Users/johnlawson/anaconda3/envs/live-verification/lib/python3.11/site-packages/gribapi/errors.py\", line 381, in raise_grib_error\n",
      "    raise ERROR_MAP[errid](errid)\n",
      "gribapi.errors.PrematureEndOfFileError: End of resource reached when reading message\n",
      "skipping corrupted Message\n",
      "Traceback (most recent call last):\n",
      "  File \"/Users/johnlawson/anaconda3/envs/live-verification/lib/python3.11/site-packages/cfgrib/messages.py\", line 273, in itervalues\n",
      "    yield self.filestream.message_from_file(file, errors=errors)\n",
      "          ^^^^^^^^^^^^^^^^^^^^^^^^^^^^^^^^^^^^^^^^^^^^^^^^^^^^^^\n",
      "  File \"/Users/johnlawson/anaconda3/envs/live-verification/lib/python3.11/site-packages/cfgrib/messages.py\", line 340, in message_from_file\n",
      "    return Message.from_file(file, offset, **kwargs)\n",
      "           ^^^^^^^^^^^^^^^^^^^^^^^^^^^^^^^^^^^^^^^^^\n",
      "  File \"/Users/johnlawson/anaconda3/envs/live-verification/lib/python3.11/site-packages/cfgrib/messages.py\", line 96, in from_file\n",
      "    codes_id = eccodes.codes_grib_new_from_file(file)\n",
      "               ^^^^^^^^^^^^^^^^^^^^^^^^^^^^^^^^^^^^^^\n",
      "  File \"/Users/johnlawson/anaconda3/envs/live-verification/lib/python3.11/site-packages/gribapi/gribapi.py\", line 409, in grib_new_from_file\n",
      "    GRIB_CHECK(err)\n",
      "  File \"/Users/johnlawson/anaconda3/envs/live-verification/lib/python3.11/site-packages/gribapi/gribapi.py\", line 226, in GRIB_CHECK\n",
      "    errors.raise_grib_error(errid)\n",
      "  File \"/Users/johnlawson/anaconda3/envs/live-verification/lib/python3.11/site-packages/gribapi/errors.py\", line 381, in raise_grib_error\n",
      "    raise ERROR_MAP[errid](errid)\n",
      "gribapi.errors.PrematureEndOfFileError: End of resource reached when reading message\n",
      "skipping corrupted Message\n",
      "Traceback (most recent call last):\n",
      "  File \"/Users/johnlawson/anaconda3/envs/live-verification/lib/python3.11/site-packages/cfgrib/messages.py\", line 273, in itervalues\n",
      "    yield self.filestream.message_from_file(file, errors=errors)\n",
      "          ^^^^^^^^^^^^^^^^^^^^^^^^^^^^^^^^^^^^^^^^^^^^^^^^^^^^^^\n",
      "  File \"/Users/johnlawson/anaconda3/envs/live-verification/lib/python3.11/site-packages/cfgrib/messages.py\", line 340, in message_from_file\n",
      "    return Message.from_file(file, offset, **kwargs)\n",
      "           ^^^^^^^^^^^^^^^^^^^^^^^^^^^^^^^^^^^^^^^^^\n",
      "  File \"/Users/johnlawson/anaconda3/envs/live-verification/lib/python3.11/site-packages/cfgrib/messages.py\", line 96, in from_file\n",
      "    codes_id = eccodes.codes_grib_new_from_file(file)\n",
      "               ^^^^^^^^^^^^^^^^^^^^^^^^^^^^^^^^^^^^^^\n",
      "  File \"/Users/johnlawson/anaconda3/envs/live-verification/lib/python3.11/site-packages/gribapi/gribapi.py\", line 409, in grib_new_from_file\n",
      "    GRIB_CHECK(err)\n",
      "  File \"/Users/johnlawson/anaconda3/envs/live-verification/lib/python3.11/site-packages/gribapi/gribapi.py\", line 226, in GRIB_CHECK\n",
      "    errors.raise_grib_error(errid)\n",
      "  File \"/Users/johnlawson/anaconda3/envs/live-verification/lib/python3.11/site-packages/gribapi/errors.py\", line 381, in raise_grib_error\n",
      "    raise ERROR_MAP[errid](errid)\n",
      "gribapi.errors.PrematureEndOfFileError: End of resource reached when reading message\n",
      "skipping corrupted Message\n",
      "Traceback (most recent call last):\n",
      "  File \"/Users/johnlawson/anaconda3/envs/live-verification/lib/python3.11/site-packages/cfgrib/messages.py\", line 273, in itervalues\n",
      "    yield self.filestream.message_from_file(file, errors=errors)\n",
      "          ^^^^^^^^^^^^^^^^^^^^^^^^^^^^^^^^^^^^^^^^^^^^^^^^^^^^^^\n",
      "  File \"/Users/johnlawson/anaconda3/envs/live-verification/lib/python3.11/site-packages/cfgrib/messages.py\", line 340, in message_from_file\n",
      "    return Message.from_file(file, offset, **kwargs)\n",
      "           ^^^^^^^^^^^^^^^^^^^^^^^^^^^^^^^^^^^^^^^^^\n",
      "  File \"/Users/johnlawson/anaconda3/envs/live-verification/lib/python3.11/site-packages/cfgrib/messages.py\", line 96, in from_file\n",
      "    codes_id = eccodes.codes_grib_new_from_file(file)\n",
      "               ^^^^^^^^^^^^^^^^^^^^^^^^^^^^^^^^^^^^^^\n",
      "  File \"/Users/johnlawson/anaconda3/envs/live-verification/lib/python3.11/site-packages/gribapi/gribapi.py\", line 409, in grib_new_from_file\n",
      "    GRIB_CHECK(err)\n",
      "  File \"/Users/johnlawson/anaconda3/envs/live-verification/lib/python3.11/site-packages/gribapi/gribapi.py\", line 226, in GRIB_CHECK\n",
      "    errors.raise_grib_error(errid)\n",
      "  File \"/Users/johnlawson/anaconda3/envs/live-verification/lib/python3.11/site-packages/gribapi/errors.py\", line 381, in raise_grib_error\n",
      "    raise ERROR_MAP[errid](errid)\n",
      "gribapi.errors.PrematureEndOfFileError: End of resource reached when reading message\n",
      "skipping corrupted Message\n",
      "Traceback (most recent call last):\n",
      "  File \"/Users/johnlawson/anaconda3/envs/live-verification/lib/python3.11/site-packages/cfgrib/messages.py\", line 273, in itervalues\n",
      "    yield self.filestream.message_from_file(file, errors=errors)\n",
      "          ^^^^^^^^^^^^^^^^^^^^^^^^^^^^^^^^^^^^^^^^^^^^^^^^^^^^^^\n",
      "  File \"/Users/johnlawson/anaconda3/envs/live-verification/lib/python3.11/site-packages/cfgrib/messages.py\", line 340, in message_from_file\n",
      "    return Message.from_file(file, offset, **kwargs)\n",
      "           ^^^^^^^^^^^^^^^^^^^^^^^^^^^^^^^^^^^^^^^^^\n",
      "  File \"/Users/johnlawson/anaconda3/envs/live-verification/lib/python3.11/site-packages/cfgrib/messages.py\", line 96, in from_file\n",
      "    codes_id = eccodes.codes_grib_new_from_file(file)\n",
      "               ^^^^^^^^^^^^^^^^^^^^^^^^^^^^^^^^^^^^^^\n",
      "  File \"/Users/johnlawson/anaconda3/envs/live-verification/lib/python3.11/site-packages/gribapi/gribapi.py\", line 409, in grib_new_from_file\n",
      "    GRIB_CHECK(err)\n",
      "  File \"/Users/johnlawson/anaconda3/envs/live-verification/lib/python3.11/site-packages/gribapi/gribapi.py\", line 226, in GRIB_CHECK\n",
      "    errors.raise_grib_error(errid)\n",
      "  File \"/Users/johnlawson/anaconda3/envs/live-verification/lib/python3.11/site-packages/gribapi/errors.py\", line 381, in raise_grib_error\n",
      "    raise ERROR_MAP[errid](errid)\n",
      "gribapi.errors.PrematureEndOfFileError: End of resource reached when reading message\n",
      "skipping corrupted Message\n",
      "Traceback (most recent call last):\n",
      "  File \"/Users/johnlawson/anaconda3/envs/live-verification/lib/python3.11/site-packages/cfgrib/messages.py\", line 273, in itervalues\n",
      "    yield self.filestream.message_from_file(file, errors=errors)\n",
      "          ^^^^^^^^^^^^^^^^^^^^^^^^^^^^^^^^^^^^^^^^^^^^^^^^^^^^^^\n",
      "  File \"/Users/johnlawson/anaconda3/envs/live-verification/lib/python3.11/site-packages/cfgrib/messages.py\", line 340, in message_from_file\n",
      "    return Message.from_file(file, offset, **kwargs)\n",
      "           ^^^^^^^^^^^^^^^^^^^^^^^^^^^^^^^^^^^^^^^^^\n",
      "  File \"/Users/johnlawson/anaconda3/envs/live-verification/lib/python3.11/site-packages/cfgrib/messages.py\", line 96, in from_file\n",
      "    codes_id = eccodes.codes_grib_new_from_file(file)\n",
      "               ^^^^^^^^^^^^^^^^^^^^^^^^^^^^^^^^^^^^^^\n",
      "  File \"/Users/johnlawson/anaconda3/envs/live-verification/lib/python3.11/site-packages/gribapi/gribapi.py\", line 409, in grib_new_from_file\n",
      "    GRIB_CHECK(err)\n",
      "  File \"/Users/johnlawson/anaconda3/envs/live-verification/lib/python3.11/site-packages/gribapi/gribapi.py\", line 226, in GRIB_CHECK\n",
      "    errors.raise_grib_error(errid)\n",
      "  File \"/Users/johnlawson/anaconda3/envs/live-verification/lib/python3.11/site-packages/gribapi/errors.py\", line 381, in raise_grib_error\n",
      "    raise ERROR_MAP[errid](errid)\n",
      "gribapi.errors.PrematureEndOfFileError: End of resource reached when reading message\n"
     ]
    },
    {
     "name": "stdout",
     "output_type": "stream",
     "text": [
      "Note: Returning a list of [2] xarray.Datasets because cfgrib opened with multiple hypercubes.\n"
     ]
    },
    {
     "ename": "AttributeError",
     "evalue": "'list' object has no attribute 'step'",
     "output_type": "error",
     "traceback": [
      "\u001B[0;31m---------------------------------------------------------------------------\u001B[0m",
      "\u001B[0;31mAttributeError\u001B[0m                            Traceback (most recent call last)",
      "Cell \u001B[0;32mIn[3], line 11\u001B[0m\n\u001B[1;32m      8\u001B[0m \u001B[38;5;28mprint\u001B[39m(\u001B[38;5;124m'\u001B[39m\u001B[38;5;124mDownloaded\u001B[39m\u001B[38;5;124m'\u001B[39m)\n\u001B[1;32m     10\u001B[0m \u001B[38;5;66;03m#Load downloaded fields into a xarray dataset\u001B[39;00m\n\u001B[0;32m---> 11\u001B[0m ds_clouds \u001B[38;5;241m=\u001B[39m \u001B[43mFH\u001B[49m\u001B[38;5;241;43m.\u001B[39;49m\u001B[43mxarray\u001B[49m\u001B[43m(\u001B[49m\u001B[43mqstr\u001B[49m\u001B[43m,\u001B[49m\u001B[43m \u001B[49m\u001B[43mremove_grib\u001B[49m\u001B[38;5;241;43m=\u001B[39;49m\u001B[38;5;28;43;01mTrue\u001B[39;49;00m\u001B[43m)\u001B[49m\n\u001B[1;32m     13\u001B[0m \u001B[38;5;66;03m#Fix metadata\u001B[39;00m\n\u001B[1;32m     14\u001B[0m ds_clouds \u001B[38;5;241m=\u001B[39m ds_clouds\u001B[38;5;241m.\u001B[39mrename({\u001B[38;5;124m'\u001B[39m\u001B[38;5;124munknown\u001B[39m\u001B[38;5;124m'\u001B[39m : \u001B[38;5;124m'\u001B[39m\u001B[38;5;124mcloudice\u001B[39m\u001B[38;5;124m'\u001B[39m, \u001B[38;5;124m'\u001B[39m\u001B[38;5;124mclwmr\u001B[39m\u001B[38;5;124m'\u001B[39m : \u001B[38;5;124m'\u001B[39m\u001B[38;5;124mcloudwater\u001B[39m\u001B[38;5;124m'\u001B[39m})\n",
      "File \u001B[0;32m~/anaconda3/envs/live-verification/lib/python3.11/site-packages/herbie/fast.py:294\u001B[0m, in \u001B[0;36mFastHerbie.xarray\u001B[0;34m(self, searchString, max_threads, **xarray_kwargs)\u001B[0m\n\u001B[1;32m    291\u001B[0m     ds_list \u001B[38;5;241m=\u001B[39m [H\u001B[38;5;241m.\u001B[39mxarray(\u001B[38;5;241m*\u001B[39m\u001B[38;5;241m*\u001B[39mxarray_kwargs) \u001B[38;5;28;01mfor\u001B[39;00m H \u001B[38;5;129;01min\u001B[39;00m \u001B[38;5;28mself\u001B[39m\u001B[38;5;241m.\u001B[39mfile_exists]\n\u001B[1;32m    293\u001B[0m \u001B[38;5;66;03m# Sort the DataSets, first by lead time (step), then by run time (time)\u001B[39;00m\n\u001B[0;32m--> 294\u001B[0m \u001B[43mds_list\u001B[49m\u001B[38;5;241;43m.\u001B[39;49m\u001B[43msort\u001B[49m\u001B[43m(\u001B[49m\u001B[43mkey\u001B[49m\u001B[38;5;241;43m=\u001B[39;49m\u001B[38;5;28;43;01mlambda\u001B[39;49;00m\u001B[43m \u001B[49m\u001B[43mx\u001B[49m\u001B[43m:\u001B[49m\u001B[43m \u001B[49m\u001B[43mx\u001B[49m\u001B[38;5;241;43m.\u001B[39;49m\u001B[43mstep\u001B[49m\u001B[38;5;241;43m.\u001B[39;49m\u001B[43mdata\u001B[49m\u001B[38;5;241;43m.\u001B[39;49m\u001B[43mmax\u001B[49m\u001B[43m(\u001B[49m\u001B[43m)\u001B[49m\u001B[43m)\u001B[49m\n\u001B[1;32m    295\u001B[0m ds_list\u001B[38;5;241m.\u001B[39msort(key\u001B[38;5;241m=\u001B[39m\u001B[38;5;28;01mlambda\u001B[39;00m x: x\u001B[38;5;241m.\u001B[39mtime\u001B[38;5;241m.\u001B[39mdata\u001B[38;5;241m.\u001B[39mmax())\n\u001B[1;32m    297\u001B[0m \u001B[38;5;66;03m# Reshape list with dimensions (len(DATES), len(fxx))\u001B[39;00m\n",
      "File \u001B[0;32m~/anaconda3/envs/live-verification/lib/python3.11/site-packages/herbie/fast.py:294\u001B[0m, in \u001B[0;36mFastHerbie.xarray.<locals>.<lambda>\u001B[0;34m(x)\u001B[0m\n\u001B[1;32m    291\u001B[0m     ds_list \u001B[38;5;241m=\u001B[39m [H\u001B[38;5;241m.\u001B[39mxarray(\u001B[38;5;241m*\u001B[39m\u001B[38;5;241m*\u001B[39mxarray_kwargs) \u001B[38;5;28;01mfor\u001B[39;00m H \u001B[38;5;129;01min\u001B[39;00m \u001B[38;5;28mself\u001B[39m\u001B[38;5;241m.\u001B[39mfile_exists]\n\u001B[1;32m    293\u001B[0m \u001B[38;5;66;03m# Sort the DataSets, first by lead time (step), then by run time (time)\u001B[39;00m\n\u001B[0;32m--> 294\u001B[0m ds_list\u001B[38;5;241m.\u001B[39msort(key\u001B[38;5;241m=\u001B[39m\u001B[38;5;28;01mlambda\u001B[39;00m x: \u001B[43mx\u001B[49m\u001B[38;5;241;43m.\u001B[39;49m\u001B[43mstep\u001B[49m\u001B[38;5;241m.\u001B[39mdata\u001B[38;5;241m.\u001B[39mmax())\n\u001B[1;32m    295\u001B[0m ds_list\u001B[38;5;241m.\u001B[39msort(key\u001B[38;5;241m=\u001B[39m\u001B[38;5;28;01mlambda\u001B[39;00m x: x\u001B[38;5;241m.\u001B[39mtime\u001B[38;5;241m.\u001B[39mdata\u001B[38;5;241m.\u001B[39mmax())\n\u001B[1;32m    297\u001B[0m \u001B[38;5;66;03m# Reshape list with dimensions (len(DATES), len(fxx))\u001B[39;00m\n",
      "\u001B[0;31mAttributeError\u001B[0m: 'list' object has no attribute 'step'"
     ]
    }
   ],
   "source": [
    "#Regex query string. Cloud water and cloud ice.\n",
    "#See https://www.nco.ncep.noaa.gov/pmb/products/hrrr/hrrr.t00z.wrfnatf02.grib2.shtml\n",
    "qstr = \"(:CIMIXR:|:CLMR:)\"\n",
    "FH = FastHerbie([mt], model=\"hrrr\",product=\"nat\",source=source, fxx=range(0,nfcst))\n",
    "\n",
    "#Download the subsets contianing the cloud fields. This can be 5 mins to 30 mins (ANL, Courtyard Marriott)\n",
    "FH.download(qstr, max_threads=nprocs)\n",
    "print('Downloaded')\n"
   ]
  },
  {
   "cell_type": "code",
   "execution_count": 4,
   "outputs": [
    {
     "name": "stderr",
     "output_type": "stream",
     "text": [
      "skipping corrupted Message\n",
      "Traceback (most recent call last):\n",
      "  File \"/Users/johnlawson/anaconda3/envs/live-verification/lib/python3.11/site-packages/cfgrib/messages.py\", line 273, in itervalues\n",
      "    yield self.filestream.message_from_file(file, errors=errors)\n",
      "          ^^^^^^^^^^^^^^^^^^^^^^^^^^^^^^^^^^^^^^^^^^^^^^^^^^^^^^\n",
      "  File \"/Users/johnlawson/anaconda3/envs/live-verification/lib/python3.11/site-packages/cfgrib/messages.py\", line 340, in message_from_file\n",
      "    return Message.from_file(file, offset, **kwargs)\n",
      "           ^^^^^^^^^^^^^^^^^^^^^^^^^^^^^^^^^^^^^^^^^\n",
      "  File \"/Users/johnlawson/anaconda3/envs/live-verification/lib/python3.11/site-packages/cfgrib/messages.py\", line 96, in from_file\n",
      "    codes_id = eccodes.codes_grib_new_from_file(file)\n",
      "               ^^^^^^^^^^^^^^^^^^^^^^^^^^^^^^^^^^^^^^\n",
      "  File \"/Users/johnlawson/anaconda3/envs/live-verification/lib/python3.11/site-packages/gribapi/gribapi.py\", line 409, in grib_new_from_file\n",
      "    GRIB_CHECK(err)\n",
      "  File \"/Users/johnlawson/anaconda3/envs/live-verification/lib/python3.11/site-packages/gribapi/gribapi.py\", line 226, in GRIB_CHECK\n",
      "    errors.raise_grib_error(errid)\n",
      "  File \"/Users/johnlawson/anaconda3/envs/live-verification/lib/python3.11/site-packages/gribapi/errors.py\", line 381, in raise_grib_error\n",
      "    raise ERROR_MAP[errid](errid)\n",
      "gribapi.errors.PrematureEndOfFileError: End of resource reached when reading message\n",
      "skipping corrupted Message\n",
      "Traceback (most recent call last):\n",
      "  File \"/Users/johnlawson/anaconda3/envs/live-verification/lib/python3.11/site-packages/cfgrib/messages.py\", line 273, in itervalues\n",
      "    yield self.filestream.message_from_file(file, errors=errors)\n",
      "          ^^^^^^^^^^^^^^^^^^^^^^^^^^^^^^^^^^^^^^^^^^^^^^^^^^^^^^\n",
      "  File \"/Users/johnlawson/anaconda3/envs/live-verification/lib/python3.11/site-packages/cfgrib/messages.py\", line 340, in message_from_file\n",
      "    return Message.from_file(file, offset, **kwargs)\n",
      "           ^^^^^^^^^^^^^^^^^^^^^^^^^^^^^^^^^^^^^^^^^\n",
      "  File \"/Users/johnlawson/anaconda3/envs/live-verification/lib/python3.11/site-packages/cfgrib/messages.py\", line 96, in from_file\n",
      "    codes_id = eccodes.codes_grib_new_from_file(file)\n",
      "               ^^^^^^^^^^^^^^^^^^^^^^^^^^^^^^^^^^^^^^\n",
      "  File \"/Users/johnlawson/anaconda3/envs/live-verification/lib/python3.11/site-packages/gribapi/gribapi.py\", line 409, in grib_new_from_file\n",
      "    GRIB_CHECK(err)\n",
      "  File \"/Users/johnlawson/anaconda3/envs/live-verification/lib/python3.11/site-packages/gribapi/gribapi.py\", line 226, in GRIB_CHECK\n",
      "    errors.raise_grib_error(errid)\n",
      "  File \"/Users/johnlawson/anaconda3/envs/live-verification/lib/python3.11/site-packages/gribapi/errors.py\", line 381, in raise_grib_error\n",
      "    raise ERROR_MAP[errid](errid)\n",
      "gribapi.errors.PrematureEndOfFileError: End of resource reached when reading message\n",
      "skipping corrupted Message\n",
      "Traceback (most recent call last):\n",
      "  File \"/Users/johnlawson/anaconda3/envs/live-verification/lib/python3.11/site-packages/cfgrib/messages.py\", line 273, in itervalues\n",
      "    yield self.filestream.message_from_file(file, errors=errors)\n",
      "          ^^^^^^^^^^^^^^^^^^^^^^^^^^^^^^^^^^^^^^^^^^^^^^^^^^^^^^\n",
      "  File \"/Users/johnlawson/anaconda3/envs/live-verification/lib/python3.11/site-packages/cfgrib/messages.py\", line 340, in message_from_file\n",
      "    return Message.from_file(file, offset, **kwargs)\n",
      "           ^^^^^^^^^^^^^^^^^^^^^^^^^^^^^^^^^^^^^^^^^\n",
      "  File \"/Users/johnlawson/anaconda3/envs/live-verification/lib/python3.11/site-packages/cfgrib/messages.py\", line 96, in from_file\n",
      "    codes_id = eccodes.codes_grib_new_from_file(file)\n",
      "               ^^^^^^^^^^^^^^^^^^^^^^^^^^^^^^^^^^^^^^\n",
      "  File \"/Users/johnlawson/anaconda3/envs/live-verification/lib/python3.11/site-packages/gribapi/gribapi.py\", line 409, in grib_new_from_file\n",
      "    GRIB_CHECK(err)\n",
      "  File \"/Users/johnlawson/anaconda3/envs/live-verification/lib/python3.11/site-packages/gribapi/gribapi.py\", line 226, in GRIB_CHECK\n",
      "    errors.raise_grib_error(errid)\n",
      "  File \"/Users/johnlawson/anaconda3/envs/live-verification/lib/python3.11/site-packages/gribapi/errors.py\", line 381, in raise_grib_error\n",
      "    raise ERROR_MAP[errid](errid)\n",
      "gribapi.errors.PrematureEndOfFileError: End of resource reached when reading message\n",
      "skipping corrupted Message\n",
      "Traceback (most recent call last):\n",
      "  File \"/Users/johnlawson/anaconda3/envs/live-verification/lib/python3.11/site-packages/cfgrib/messages.py\", line 273, in itervalues\n",
      "    yield self.filestream.message_from_file(file, errors=errors)\n",
      "          ^^^^^^^^^^^^^^^^^^^^^^^^^^^^^^^^^^^^^^^^^^^^^^^^^^^^^^\n",
      "  File \"/Users/johnlawson/anaconda3/envs/live-verification/lib/python3.11/site-packages/cfgrib/messages.py\", line 340, in message_from_file\n",
      "    return Message.from_file(file, offset, **kwargs)\n",
      "           ^^^^^^^^^^^^^^^^^^^^^^^^^^^^^^^^^^^^^^^^^\n",
      "  File \"/Users/johnlawson/anaconda3/envs/live-verification/lib/python3.11/site-packages/cfgrib/messages.py\", line 96, in from_file\n",
      "    codes_id = eccodes.codes_grib_new_from_file(file)\n",
      "               ^^^^^^^^^^^^^^^^^^^^^^^^^^^^^^^^^^^^^^\n",
      "  File \"/Users/johnlawson/anaconda3/envs/live-verification/lib/python3.11/site-packages/gribapi/gribapi.py\", line 409, in grib_new_from_file\n",
      "    GRIB_CHECK(err)\n",
      "  File \"/Users/johnlawson/anaconda3/envs/live-verification/lib/python3.11/site-packages/gribapi/gribapi.py\", line 226, in GRIB_CHECK\n",
      "    errors.raise_grib_error(errid)\n",
      "  File \"/Users/johnlawson/anaconda3/envs/live-verification/lib/python3.11/site-packages/gribapi/errors.py\", line 381, in raise_grib_error\n",
      "    raise ERROR_MAP[errid](errid)\n",
      "gribapi.errors.PrematureEndOfFileError: End of resource reached when reading message\n",
      "skipping corrupted Message\n",
      "Traceback (most recent call last):\n",
      "  File \"/Users/johnlawson/anaconda3/envs/live-verification/lib/python3.11/site-packages/cfgrib/messages.py\", line 273, in itervalues\n",
      "    yield self.filestream.message_from_file(file, errors=errors)\n",
      "          ^^^^^^^^^^^^^^^^^^^^^^^^^^^^^^^^^^^^^^^^^^^^^^^^^^^^^^\n",
      "  File \"/Users/johnlawson/anaconda3/envs/live-verification/lib/python3.11/site-packages/cfgrib/messages.py\", line 340, in message_from_file\n",
      "    return Message.from_file(file, offset, **kwargs)\n",
      "           ^^^^^^^^^^^^^^^^^^^^^^^^^^^^^^^^^^^^^^^^^\n",
      "  File \"/Users/johnlawson/anaconda3/envs/live-verification/lib/python3.11/site-packages/cfgrib/messages.py\", line 96, in from_file\n",
      "    codes_id = eccodes.codes_grib_new_from_file(file)\n",
      "               ^^^^^^^^^^^^^^^^^^^^^^^^^^^^^^^^^^^^^^\n",
      "  File \"/Users/johnlawson/anaconda3/envs/live-verification/lib/python3.11/site-packages/gribapi/gribapi.py\", line 409, in grib_new_from_file\n",
      "    GRIB_CHECK(err)\n",
      "  File \"/Users/johnlawson/anaconda3/envs/live-verification/lib/python3.11/site-packages/gribapi/gribapi.py\", line 226, in GRIB_CHECK\n",
      "    errors.raise_grib_error(errid)\n",
      "  File \"/Users/johnlawson/anaconda3/envs/live-verification/lib/python3.11/site-packages/gribapi/errors.py\", line 381, in raise_grib_error\n",
      "    raise ERROR_MAP[errid](errid)\n",
      "gribapi.errors.PrematureEndOfFileError: End of resource reached when reading message\n",
      "skipping corrupted Message\n",
      "Traceback (most recent call last):\n",
      "  File \"/Users/johnlawson/anaconda3/envs/live-verification/lib/python3.11/site-packages/cfgrib/messages.py\", line 273, in itervalues\n",
      "    yield self.filestream.message_from_file(file, errors=errors)\n",
      "          ^^^^^^^^^^^^^^^^^^^^^^^^^^^^^^^^^^^^^^^^^^^^^^^^^^^^^^\n",
      "  File \"/Users/johnlawson/anaconda3/envs/live-verification/lib/python3.11/site-packages/cfgrib/messages.py\", line 340, in message_from_file\n",
      "    return Message.from_file(file, offset, **kwargs)\n",
      "           ^^^^^^^^^^^^^^^^^^^^^^^^^^^^^^^^^^^^^^^^^\n",
      "  File \"/Users/johnlawson/anaconda3/envs/live-verification/lib/python3.11/site-packages/cfgrib/messages.py\", line 96, in from_file\n",
      "    codes_id = eccodes.codes_grib_new_from_file(file)\n",
      "               ^^^^^^^^^^^^^^^^^^^^^^^^^^^^^^^^^^^^^^\n",
      "  File \"/Users/johnlawson/anaconda3/envs/live-verification/lib/python3.11/site-packages/gribapi/gribapi.py\", line 409, in grib_new_from_file\n",
      "    GRIB_CHECK(err)\n",
      "  File \"/Users/johnlawson/anaconda3/envs/live-verification/lib/python3.11/site-packages/gribapi/gribapi.py\", line 226, in GRIB_CHECK\n",
      "    errors.raise_grib_error(errid)\n",
      "  File \"/Users/johnlawson/anaconda3/envs/live-verification/lib/python3.11/site-packages/gribapi/errors.py\", line 381, in raise_grib_error\n",
      "    raise ERROR_MAP[errid](errid)\n",
      "gribapi.errors.PrematureEndOfFileError: End of resource reached when reading message\n"
     ]
    },
    {
     "name": "stdout",
     "output_type": "stream",
     "text": [
      "Note: Returning a list of [2] xarray.Datasets because cfgrib opened with multiple hypercubes.\n"
     ]
    },
    {
     "ename": "AttributeError",
     "evalue": "'list' object has no attribute 'step'",
     "output_type": "error",
     "traceback": [
      "\u001B[0;31m---------------------------------------------------------------------------\u001B[0m",
      "\u001B[0;31mAttributeError\u001B[0m                            Traceback (most recent call last)",
      "Cell \u001B[0;32mIn[4], line 2\u001B[0m\n\u001B[1;32m      1\u001B[0m \u001B[38;5;66;03m#Load downloaded fields into a xarray dataset\u001B[39;00m\n\u001B[0;32m----> 2\u001B[0m ds_clouds \u001B[38;5;241m=\u001B[39m \u001B[43mFH\u001B[49m\u001B[38;5;241;43m.\u001B[39;49m\u001B[43mxarray\u001B[49m\u001B[43m(\u001B[49m\u001B[43mqstr\u001B[49m\u001B[43m,\u001B[49m\u001B[43m \u001B[49m\u001B[43mremove_grib\u001B[49m\u001B[38;5;241;43m=\u001B[39;49m\u001B[38;5;28;43;01mTrue\u001B[39;49;00m\u001B[43m)\u001B[49m\n\u001B[1;32m      4\u001B[0m \u001B[38;5;66;03m#Fix metadata\u001B[39;00m\n\u001B[1;32m      5\u001B[0m ds_clouds \u001B[38;5;241m=\u001B[39m ds_clouds\u001B[38;5;241m.\u001B[39mrename({\u001B[38;5;124m'\u001B[39m\u001B[38;5;124munknown\u001B[39m\u001B[38;5;124m'\u001B[39m : \u001B[38;5;124m'\u001B[39m\u001B[38;5;124mcloudice\u001B[39m\u001B[38;5;124m'\u001B[39m, \u001B[38;5;124m'\u001B[39m\u001B[38;5;124mclwmr\u001B[39m\u001B[38;5;124m'\u001B[39m : \u001B[38;5;124m'\u001B[39m\u001B[38;5;124mcloudwater\u001B[39m\u001B[38;5;124m'\u001B[39m})\n",
      "File \u001B[0;32m~/anaconda3/envs/live-verification/lib/python3.11/site-packages/herbie/fast.py:294\u001B[0m, in \u001B[0;36mFastHerbie.xarray\u001B[0;34m(self, searchString, max_threads, **xarray_kwargs)\u001B[0m\n\u001B[1;32m    291\u001B[0m     ds_list \u001B[38;5;241m=\u001B[39m [H\u001B[38;5;241m.\u001B[39mxarray(\u001B[38;5;241m*\u001B[39m\u001B[38;5;241m*\u001B[39mxarray_kwargs) \u001B[38;5;28;01mfor\u001B[39;00m H \u001B[38;5;129;01min\u001B[39;00m \u001B[38;5;28mself\u001B[39m\u001B[38;5;241m.\u001B[39mfile_exists]\n\u001B[1;32m    293\u001B[0m \u001B[38;5;66;03m# Sort the DataSets, first by lead time (step), then by run time (time)\u001B[39;00m\n\u001B[0;32m--> 294\u001B[0m \u001B[43mds_list\u001B[49m\u001B[38;5;241;43m.\u001B[39;49m\u001B[43msort\u001B[49m\u001B[43m(\u001B[49m\u001B[43mkey\u001B[49m\u001B[38;5;241;43m=\u001B[39;49m\u001B[38;5;28;43;01mlambda\u001B[39;49;00m\u001B[43m \u001B[49m\u001B[43mx\u001B[49m\u001B[43m:\u001B[49m\u001B[43m \u001B[49m\u001B[43mx\u001B[49m\u001B[38;5;241;43m.\u001B[39;49m\u001B[43mstep\u001B[49m\u001B[38;5;241;43m.\u001B[39;49m\u001B[43mdata\u001B[49m\u001B[38;5;241;43m.\u001B[39;49m\u001B[43mmax\u001B[49m\u001B[43m(\u001B[49m\u001B[43m)\u001B[49m\u001B[43m)\u001B[49m\n\u001B[1;32m    295\u001B[0m ds_list\u001B[38;5;241m.\u001B[39msort(key\u001B[38;5;241m=\u001B[39m\u001B[38;5;28;01mlambda\u001B[39;00m x: x\u001B[38;5;241m.\u001B[39mtime\u001B[38;5;241m.\u001B[39mdata\u001B[38;5;241m.\u001B[39mmax())\n\u001B[1;32m    297\u001B[0m \u001B[38;5;66;03m# Reshape list with dimensions (len(DATES), len(fxx))\u001B[39;00m\n",
      "File \u001B[0;32m~/anaconda3/envs/live-verification/lib/python3.11/site-packages/herbie/fast.py:294\u001B[0m, in \u001B[0;36mFastHerbie.xarray.<locals>.<lambda>\u001B[0;34m(x)\u001B[0m\n\u001B[1;32m    291\u001B[0m     ds_list \u001B[38;5;241m=\u001B[39m [H\u001B[38;5;241m.\u001B[39mxarray(\u001B[38;5;241m*\u001B[39m\u001B[38;5;241m*\u001B[39mxarray_kwargs) \u001B[38;5;28;01mfor\u001B[39;00m H \u001B[38;5;129;01min\u001B[39;00m \u001B[38;5;28mself\u001B[39m\u001B[38;5;241m.\u001B[39mfile_exists]\n\u001B[1;32m    293\u001B[0m \u001B[38;5;66;03m# Sort the DataSets, first by lead time (step), then by run time (time)\u001B[39;00m\n\u001B[0;32m--> 294\u001B[0m ds_list\u001B[38;5;241m.\u001B[39msort(key\u001B[38;5;241m=\u001B[39m\u001B[38;5;28;01mlambda\u001B[39;00m x: \u001B[43mx\u001B[49m\u001B[38;5;241;43m.\u001B[39;49m\u001B[43mstep\u001B[49m\u001B[38;5;241m.\u001B[39mdata\u001B[38;5;241m.\u001B[39mmax())\n\u001B[1;32m    295\u001B[0m ds_list\u001B[38;5;241m.\u001B[39msort(key\u001B[38;5;241m=\u001B[39m\u001B[38;5;28;01mlambda\u001B[39;00m x: x\u001B[38;5;241m.\u001B[39mtime\u001B[38;5;241m.\u001B[39mdata\u001B[38;5;241m.\u001B[39mmax())\n\u001B[1;32m    297\u001B[0m \u001B[38;5;66;03m# Reshape list with dimensions (len(DATES), len(fxx))\u001B[39;00m\n",
      "\u001B[0;31mAttributeError\u001B[0m: 'list' object has no attribute 'step'"
     ]
    }
   ],
   "source": [
    "\n",
    "#Load downloaded fields into a xarray dataset\n",
    "ds_clouds = FH.xarray(qstr, remove_grib=True)\n",
    "\n",
    "#Fix metadata\n",
    "ds_clouds = ds_clouds.rename({'unknown' : 'cloudice', 'clwmr' : 'cloudwater'})\n",
    "ds_clouds.cloudice.attrs['units'] = 'kg/kg'\n",
    "ds_clouds.cloudice.attrs['long_name'] = 'Cloud ice mixing ratio'\n",
    "\n",
    "tcloud = time.time() #timing"
   ],
   "metadata": {
    "collapsed": false,
    "ExecuteTime": {
     "end_time": "2023-09-27T19:11:35.398830Z",
     "start_time": "2023-09-27T19:11:27.399023Z"
    }
   },
   "id": "ba5406e1b05ff84d"
  },
  {
   "cell_type": "markdown",
   "id": "1069bf94",
   "metadata": {},
   "source": [
    "Now we download the 3D (time, y, x) surface fields. "
   ]
  },
  {
   "cell_type": "code",
   "execution_count": null,
   "id": "ef609c93",
   "metadata": {
    "ExecuteTime": {
     "start_time": "2023-09-27T19:00:02.296942Z"
    }
   },
   "outputs": [],
   "source": [
    "FH = FastHerbie([mt], model=\"hrrr\", fxx=range(0,nfcst), source=source)\n",
    "\n",
    "#Download temperature and Dewpoint at 2m\n",
    "FH.download(\"(TMP|DPT):2 m\", max_threads=nprocs)\n",
    "\n",
    "#Load it into xarray\n",
    "ds_t_and_dp = FH.xarray(\"(TMP|DPT):2 m\", remove_grib=True)\n",
    "\n",
    "ttemps = time.time()"
   ]
  },
  {
   "cell_type": "code",
   "execution_count": null,
   "outputs": [],
   "source": [
    "FH = FastHerbie([mt], model=\"hrrr\", product=\"sfc\",fxx=range(0,nfcst), source=source)\n",
    "\n",
    "#Download temperature and Dewpoint at 2m\n",
    "FH.download(\"(:SNOD:)\", max_threads=nprocs)\n",
    "\n",
    "#Load it into xarray\n",
    "ds_snod = FH.xarray(\"(:SNOD:)\", remove_grib=True)\n",
    "\n",
    "tsnod = time.time()"
   ],
   "metadata": {
    "collapsed": false,
    "ExecuteTime": {
     "start_time": "2023-09-27T19:00:02.298234Z"
    }
   },
   "id": "9343b8841c66ca59"
  },
  {
   "cell_type": "markdown",
   "id": "b2f38b60",
   "metadata": {},
   "source": [
    "Now the naming schema for one hour precipitation is complicated by the file contains total precipitation, 6 hour and 24 hour accumulations. So we brute force this query string."
   ]
  },
  {
   "cell_type": "code",
   "execution_count": null,
   "id": "326c1a0e",
   "metadata": {
    "ExecuteTime": {
     "start_time": "2023-09-27T19:00:02.299537Z"
    }
   },
   "outputs": [],
   "source": [
    "qstr = '(' \n",
    "for i in range(nfcst):\n",
    "    if i != nfcst -1:\n",
    "        qstr = qstr +  f':APCP:surface:{i}-{i+1} ho*|'\n",
    "    else:\n",
    "        qstr = qstr +  f':APCP:surface:{i}-{i+1} ho*)'\n",
    "\n",
    "H = Herbie(\n",
    "    mt,  # model run date\n",
    "    model=\"hrrr\",  # model name\n",
    "    product=\"sfc\",  # model produce name (model dependent)\n",
    "    fxx=24,  # forecast lead time\n",
    ")\n",
    "\n",
    "#Lets test!\n",
    "H.read_idx(searchString=qstr)\n"
   ]
  },
  {
   "cell_type": "markdown",
   "id": "ba16f4fd",
   "metadata": {},
   "source": [
    "Ok, now we have the search query we download the data. NOTE the zeroth hour has no accumulation so we \"cheat\" and expand the dimensions to match our other fields by duplicating the first entry."
   ]
  },
  {
   "cell_type": "code",
   "execution_count": null,
   "id": "f8fc6a08",
   "metadata": {
    "ExecuteTime": {
     "start_time": "2023-09-27T19:00:02.300723Z"
    }
   },
   "outputs": [],
   "source": [
    "#Download\n",
    "FH = FastHerbie([mt], model=\"hrrr\",source=source, fxx=range(1,nfcst))\n",
    "FH.download(qstr, max_threads=nprocs) #This needs a good (and cheap) internet connection... ~1m on my connection\n",
    "\n",
    "#Read to xarray\n",
    "ds_rain = FH.xarray(qstr, remove_grib=True)\n",
    "\n",
    "#Add a timestep at start\n",
    "ds_rain = xr.concat([ds_rain.isel(step=0), ds_rain], dim='step')\n",
    "ds_rain['step'] = ds_clouds['step']\n",
    "ds_rain['valid_time'] = ds_clouds['valid_time']\n",
    "ds_rain = ds_rain.rename({'tp': 'precip_accum_1hr'})\n",
    "\n",
    "#set time zero to zero mm/hr\n",
    "ds_rain.precip_accum_1hr[0, :, :] =  ds_rain.precip_accum_1hr[0, :, :]*0.0\n",
    "\n",
    "tprecip = time.time() #timing"
   ]
  },
  {
   "cell_type": "markdown",
   "id": "ed633d16",
   "metadata": {},
   "source": [
    "The data is in the natural [Sigma](https://en.wikipedia.org/wiki/Sigma_coordinate_system) coordinate system. In order to look at cloud heights we use Geopotentail hieghts. See this [Twitter Thread](https://twitter.com/Cyclogenesis_au/status/1614989311375540224). Note, as it is a smooth field (no zeros) geopotential hieghts do not compress well so file sizes are large. So we only grab one timestep and use that."
   ]
  },
  {
   "cell_type": "code",
   "execution_count": null,
   "id": "f64a2430",
   "metadata": {
    "ExecuteTime": {
     "start_time": "2023-09-27T19:00:02.301801Z"
    }
   },
   "outputs": [],
   "source": [
    "#Get vertical axis\n",
    "FH = FastHerbie([mt], model=\"hrrr\",product=\"nat\",source=source, fxx=[0])\n",
    "FH.download(':HGT:.*hybrid', max_threads=1) \n",
    "ds_heights = FH.xarray(':HGT:.*hybrid', remove_grib=True)\n",
    "\n",
    "taxis = time.time() # timing"
   ]
  },
  {
   "cell_type": "markdown",
   "id": "b14219d6",
   "metadata": {},
   "source": [
    "Now we do the merge. Merge the 4D and 3D fields. And take the 3D single timestep of hieghts. "
   ]
  },
  {
   "cell_type": "code",
   "execution_count": null,
   "id": "ad58722d",
   "metadata": {
    "ExecuteTime": {
     "start_time": "2023-09-27T19:00:02.302849Z"
    }
   },
   "outputs": [],
   "source": [
    "ds_precip = xr.merge([ds_rain, ds_clouds, ds_t_and_dp, ds_snod])\n",
    "ds_precip['gph_zero_time'] = ds_heights.gh\n",
    "\n",
    "#lets see what we have!\n",
    "ds_precip"
   ]
  },
  {
   "cell_type": "markdown",
   "id": "c46e4bce",
   "metadata": {},
   "source": [
    "##  Ok!\n",
    "\n",
    "Now we have the data in a nice format (I have no idea why the dims of the precip accums are swapped.. Any idea?) lets do some vis.. first some definitions and then lets take a 2D look at the precip and temperature.\n",
    "\n",
    "First lets set up some stuff common to all plots."
   ]
  },
  {
   "cell_type": "code",
   "execution_count": null,
   "id": "f59443be",
   "metadata": {
    "ExecuteTime": {
     "start_time": "2023-09-27T19:00:02.303732Z"
    }
   },
   "outputs": [],
   "source": [
    "#HRRR gives kg per m^2.. this is basically mm of rainfall. So convert to inches for our American audience \n",
    "inches_per_mm = 0.0393701\n",
    "\n",
    "#The time step to show (hr 30 of 47). And some title text\n",
    "timestep = plot_t\n",
    "tstr = f\"{ds_precip.model.upper()}: {ds_precip.description}\\nValid: {ds_precip.valid_time[timestep].dt.strftime('%H:%M UTC %d %b %Y').item()}\"\n",
    "\n",
    "#Places we are intrerested in. Argonne National Lab, DOE ARM Facility's Southern Great Plains and St Louis\n",
    "# locations_of_interest = [(-87.9789, 41.7183),(-97.4882, 36.6077),( -90.1994, 38.6270)]\n",
    "# names_of_interest = [\"Argonne\", \"ARM SGP\", 'St Louis']\n",
    "locations_of_interest = [(-109.5287,40.4555),(-110.4029,40.1633),(-109.6774,40.0891)]\n",
    "names_of_interest = [\"Vernal\",\"Duchesne\",\"Ouray\"]\n",
    "\n",
    "\n",
    "#Map parameters\n",
    "my_transform = crs.PlateCarree()\n",
    "# my_extent = [-100, -85, 45, 33]\n",
    "my_extent = [-110.6,-108.7,41.05,39.65]\n",
    "\n",
    "nlines = 5\n",
    "lonlines = trunc(np.linspace(my_extent[0], my_extent[1], nlines), 1)\n",
    "latlines = trunc(np.linspace(my_extent[2], my_extent[3], nlines), 1)\n",
    "\n",
    "coast = cfeature.NaturalEarthFeature(category='physical', scale='10m',\n",
    "                            edgecolor='black', name='coastline')\n",
    "\n",
    "counties = cfeature.NaturalEarthFeature(category='cultural', scale='10m',\n",
    "                            edgecolor='black', name='admin_2_counties_lakes', alpha=.2)\n"
   ]
  },
  {
   "cell_type": "markdown",
   "id": "45a9337e",
   "metadata": {},
   "source": [
    "Map surface temperature and rainfall rate.. note this is rain and snow.. "
   ]
  },
  {
   "cell_type": "code",
   "execution_count": null,
   "id": "267f395b",
   "metadata": {
    "ExecuteTime": {
     "start_time": "2023-09-27T19:00:02.304371Z"
    }
   },
   "outputs": [],
   "source": [
    "#Make a two panel figure\n",
    "fig, (ax1, ax2) = plt.subplots( ncols=2, figsize=[18,8], constrained_layout=True,\n",
    "                  subplot_kw={'projection' : ds_precip.herbie.crs})\n",
    "\n",
    "\n",
    "#Plot 2m temperature\n",
    "pc_temp = ax1.pcolormesh(ds_precip.longitude,  ds_precip.latitude, \n",
    "                         ds_precip.isel(step=timestep).t2m-273.15, cmap=cm_colorblind.HomeyerRainbow,\n",
    "                        transform=my_transform)\n",
    "\n",
    "c1 = plt.colorbar(pc_temp, fraction=0.046, pad=0.04)\n",
    "c1.set_label(label='2m Temperature (Celsius)', size=18, weight='bold')\n",
    "c1.ax.tick_params(labelsize=18) \n",
    "\n",
    "# plot_2 = \"precip\"\n",
    "plot_2 = \"snod\"\n",
    "if plot_2 == \"precip\":\n",
    "    pc_precip = ax2.pcolormesh(ds_precip.longitude,  ds_precip.latitude, \n",
    "                             ds_precip.isel(step=timestep).precip_accum_1hr*inches_per_mm, \n",
    "                               cmap=cm_colorblind.HomeyerRainbow,\n",
    "                            transform=my_transform, vmin = 0, vmax=.1)\n",
    "    \n",
    "    c2 = plt.colorbar(pc_precip, fraction=0.046, pad=0.04)\n",
    "    c2.set_label(label='1hr Precip Accum (rain or SWE, Inches)', size=18, weight='bold')\n",
    "    c2.ax.tick_params(labelsize=18)\n",
    "else:\n",
    "    pc_precip = ax2.pcolormesh(ds_precip.longitude,  ds_precip.latitude, \n",
    "                             ds_precip.isel(step=timestep).snod, \n",
    "                               cmap=cm_colorblind.HomeyerRainbow,\n",
    "                            transform=my_transform, vmin = 0, vmax=.1)\n",
    "    \n",
    "    c2 = plt.colorbar(pc_precip, fraction=0.046, pad=0.04)\n",
    "    c2.set_label(label='Snow depth (m)', size=18, weight='bold')\n",
    "    c2.ax.tick_params(labelsize=18)\n",
    "    \n",
    "\n",
    "\n",
    "#Zoom\n",
    "ax1.set_extent(my_extent, crs=my_transform)\n",
    "ax2.set_extent(my_extent, crs=my_transform)\n",
    "\n",
    "#Gridlines\n",
    "gl1 = ax1.gridlines(xlocs=lonlines, ylocs=latlines, x_inline=False, rotate_labels=False)\n",
    "gl2 = ax2.gridlines(xlocs=lonlines, ylocs=latlines, x_inline=False, rotate_labels=False)\n",
    "gl1.xlabels_bottom = True\n",
    "gl1.ylabels_left = True\n",
    "gl2.xlabels_bottom = True\n",
    "gl2.ylabels_left = False\n",
    "gl1.xlabel_style = {'size': 18}\n",
    "gl1.ylabel_style = {'size': 18}\n",
    "gl2.xlabel_style = {'size': 18}\n",
    "gl2.ylabel_style = {'size': 18}\n",
    "ax1.set_title( tstr, loc=\"left\")\n",
    "ax2.set_title( tstr, loc=\"left\")\n",
    "\n",
    "#Map features\n",
    "ax1.add_feature(cfeature.STATES, facecolor='none', edgecolor='black')\n",
    "ax1.add_feature(coast, facecolor='none', edgecolor='black')\n",
    "ax1.add_feature(counties, facecolor='none', edgecolor='black')\n",
    "ax2.add_feature(cfeature.STATES, facecolor='none', edgecolor='black')\n",
    "ax2.add_feature(coast, facecolor='none', edgecolor='black')\n",
    "ax2.add_feature(counties, facecolor='none', edgecolor='black')\n",
    "\n",
    "#Plot Locations\n",
    "ax1.scatter([loc[0] for loc in locations_of_interest],\n",
    "            [loc[1] for loc in locations_of_interest], transform=my_transform, marker='o', color='r')\n",
    "\n",
    "for i in range(len(names_of_interest)):\n",
    "    ax1.text(locations_of_interest[i][0],locations_of_interest[i][1], \n",
    "             names_of_interest[i], transform = my_transform, size=15 )\n",
    "    \n",
    "ax2.scatter([loc[0] for loc in locations_of_interest],\n",
    "            [loc[1] for loc in locations_of_interest], transform=my_transform, marker='o', color='r')\n",
    "\n",
    "for i in range(len(names_of_interest)):\n",
    "    ax2.text(locations_of_interest[i][0],locations_of_interest[i][1], \n",
    "             names_of_interest[i], transform = my_transform, size=15 )"
   ]
  },
  {
   "cell_type": "code",
   "execution_count": null,
   "id": "b697e4bc",
   "metadata": {
    "ExecuteTime": {
     "start_time": "2023-09-27T19:00:02.305043Z"
    }
   },
   "outputs": [],
   "source": [
    "fig, (ax1, ax2) = plt.subplots( ncols=2, figsize=[18,8], constrained_layout=True,\n",
    "                  subplot_kw={'projection' : ds_precip.herbie.crs})\n",
    "\n",
    "pc_cw = ax1.pcolormesh(ds_precip.longitude,  ds_precip.latitude, \n",
    "                         ds_precip.cloudwater.isel(step=timestep).max(dim='hybrid'), cmap=cm_colorblind.HomeyerRainbow,\n",
    "                        transform=my_transform, vmax=0.002)\n",
    "\n",
    "c1 = plt.colorbar(pc_cw, fraction=0.046, pad=0.04)\n",
    "c1.set_label(label='Col. Max Cloud Water Mixing Ratio kg/kg', size=18, weight='bold')\n",
    "c1.ax.tick_params(labelsize=18) \n",
    "\n",
    "pc_ci = ax2.pcolormesh(ds_precip.longitude,  ds_precip.latitude, \n",
    "                         ds_precip.cloudice.isel(step=timestep).max(dim='hybrid'), cmap=cm_colorblind.HomeyerRainbow,\n",
    "                        transform=my_transform, vmax=1e-5)\n",
    "\n",
    "c2 = plt.colorbar(pc_ci, fraction=0.046, pad=0.04)\n",
    "c2.set_label(label='Col. Max Cloud Ice Mixing Ratio kg/kg', size=18, weight='bold')\n",
    "c2.ax.tick_params(labelsize=18) \n",
    "\n",
    "\n",
    "\n",
    "ax1.set_extent(my_extent, crs=my_transform)\n",
    "ax2.set_extent(my_extent, crs=my_transform)\n",
    "\n",
    "gl1 = ax1.gridlines(xlocs=lonlines, ylocs=latlines, x_inline=False, rotate_labels=False)\n",
    "gl2 = ax2.gridlines(xlocs=lonlines, ylocs=latlines, x_inline=False, rotate_labels=False)\n",
    "\n",
    "gl1.xlabels_bottom = True\n",
    "gl1.ylabels_left = True\n",
    "gl2.xlabels_bottom = True\n",
    "gl2.ylabels_left = False\n",
    "\n",
    "gl1.xlabel_style = {'size': 18}\n",
    "gl1.ylabel_style = {'size': 18}\n",
    "\n",
    "gl2.xlabel_style = {'size': 18}\n",
    "gl2.ylabel_style = {'size': 18}\n",
    "\n",
    "\n",
    "ax1.set_title( tstr, loc=\"left\")\n",
    "ax2.set_title( tstr, loc=\"left\")\n",
    "\n",
    "ax1.add_feature(cfeature.STATES, facecolor='none', edgecolor='black')\n",
    "ax1.add_feature(coast, facecolor='none', edgecolor='black')\n",
    "ax1.add_feature(counties, facecolor='none', edgecolor='black')\n",
    "\n",
    "ax2.add_feature(cfeature.STATES, facecolor='none', edgecolor='black')\n",
    "ax2.add_feature(coast, facecolor='none', edgecolor='black')\n",
    "ax2.add_feature(counties, facecolor='none', edgecolor='black')\n",
    "\n",
    "ax1.scatter([loc[0] for loc in locations_of_interest],\n",
    "            [loc[1] for loc in locations_of_interest], transform=my_transform, marker='o', color='r')\n",
    "\n",
    "for i in range(len(names_of_interest)):\n",
    "    ax1.text(locations_of_interest[i][0],locations_of_interest[i][1], \n",
    "             names_of_interest[i], transform = my_transform, size=15 )\n",
    "    \n",
    "ax2.scatter([loc[0] for loc in locations_of_interest],\n",
    "            [loc[1] for loc in locations_of_interest], transform=my_transform, marker='o', color='r')\n",
    "\n",
    "for i in range(len(names_of_interest)):\n",
    "    ax2.text(locations_of_interest[i][0],locations_of_interest[i][1], \n",
    "             names_of_interest[i], transform = my_transform, size=15 )"
   ]
  },
  {
   "cell_type": "markdown",
   "id": "b9516023",
   "metadata": {},
   "source": [
    "## Now, lets look at some locations.\n",
    "\n",
    "We noted Argonne, the SGP and St Louis before. Herbie has a neat accessor for reducing the data to points and columns. "
   ]
  },
  {
   "cell_type": "code",
   "execution_count": null,
   "id": "0503be24",
   "metadata": {
    "ExecuteTime": {
     "start_time": "2023-09-27T19:00:02.305820Z"
    }
   },
   "outputs": [],
   "source": [
    "dsi = ds_precip.herbie.nearest_points(locations_of_interest, \n",
    "                               names=names_of_interest)\n",
    "dsi"
   ]
  },
  {
   "cell_type": "markdown",
   "id": "3c80fb1d",
   "metadata": {},
   "source": [
    "Now lets visiualize it! Lets start with the Chicago column! Here is where we use the geopotential heights as the vertical axis. "
   ]
  },
  {
   "cell_type": "code",
   "execution_count": null,
   "id": "f7a0cf51",
   "metadata": {
    "ExecuteTime": {
     "start_time": "2023-09-27T19:00:02.306582Z"
    }
   },
   "outputs": [],
   "source": [
    "#Make a figure with four rows. \n",
    "fig, (ax1, ax2, ax3, ax4)  = plt.subplots(nrows = 4, sharex=True, constrained_layout=True, figsize=[15,15])\n",
    "\n",
    "\n",
    "#Use GPH at t=0 as the vertical axis and plot cloud ice and cloud water for one site\n",
    "dsi.isel(point=0).set_index(hybrid=\"gph_zero_time\").cloudice.plot(x=\"valid_time\", vmin=0, vmax=5e-6, \n",
    "                                                        cmap = cm_colorblind.HomeyerRainbow, ax=ax1)\n",
    "\n",
    "\n",
    "dsi.isel(point=0).set_index(hybrid=\"gph_zero_time\").cloudwater.plot(x=\"valid_time\", vmin=0, vmax=0.0005, \n",
    "                                                        cmap = cm_colorblind.HomeyerRainbow, ax=ax2)\n",
    "\n",
    "\n",
    "\n",
    "#Plot precip 1hr accums for all sites\n",
    "(dsi.precip_accum_1hr*inches_per_mm).isel(point=2).plot(color='red', \n",
    "                                                      x=\"valid_time\", marker=\".\", \n",
    "                                                      label=dsi.point[2].values,\n",
    "                                                     ax=ax3)\n",
    "\n",
    "\n",
    "(dsi.precip_accum_1hr*inches_per_mm).isel(point=0).plot(color='blue', \n",
    "                                                      x=\"valid_time\", marker=\".\", \n",
    "                                                      label=dsi.point[0].values,\n",
    "                                                     ax = ax3)\n",
    "\n",
    "(dsi.precip_accum_1hr*inches_per_mm).isel(point=1).plot(color='purple', \n",
    "                                                      x=\"valid_time\", marker=\".\",\n",
    "                                                      label=dsi.point[1].values,\n",
    "                                                     ax=ax3)\n",
    "\n",
    "\n",
    "#plot temperature and dewpoints for all sites. \n",
    "(dsi.t2m - 273.15).isel(point=0).plot(color='blue', x=\"valid_time\", marker=\".\", label=dsi.point[0].values, ax=ax4)\n",
    "(dsi.t2m - 273.15).isel(point=1).plot(color='purple', x=\"valid_time\", marker=\".\", label=dsi.point[1].values, ax=ax4)\n",
    "(dsi.t2m - 273.15).isel(point=2).plot(color='red', x=\"valid_time\", marker=\".\", label=dsi.point[2].values, ax=ax4)\n",
    "\n",
    "(dsi.d2m - 273.15).isel(point=0).plot(color='blue', x=\"valid_time\", marker=\".\", linestyle='dashed', ax=ax4)\n",
    "(dsi.d2m - 273.15).isel(point=1).plot(color='purple', x=\"valid_time\", marker=\".\", linestyle='dashed', ax=ax4)\n",
    "(dsi.d2m - 273.15).isel(point=2).plot(color='red', x=\"valid_time\", marker=\".\", linestyle='dashed', ax=ax4)\n",
    "\n",
    "\n",
    "#Embelish\n",
    "ax4.set_ylabel('Temperature and dew point (Celsius)')\n",
    "ax4.set_xlabel('Time and date (UTC)')\n",
    "ax4.set_title('HRRR Temperature and dewpoint forecasts')\n",
    "\n",
    "\n",
    "plt.legend()\n",
    "\n",
    "ax1.set_ylim([0, 15000])\n",
    "ax2.set_ylim([0, 15000])\n",
    "#ax3.set_ylim([0,.5])\n",
    "plt.grid()\n",
    "ax3.set_ylabel('Rain Rate (in/hr)')\n",
    "ax3.set_xlabel('Time and date (UTC)')\n",
    "ax3.set_title('HRRR rain rate forecasts')"
   ]
  },
  {
   "cell_type": "markdown",
   "id": "d220e915",
   "metadata": {},
   "source": [
    "# Now we do SGP!"
   ]
  },
  {
   "cell_type": "code",
   "execution_count": null,
   "id": "0c8a15ae",
   "metadata": {
    "ExecuteTime": {
     "start_time": "2023-09-27T19:00:02.307224Z"
    }
   },
   "outputs": [],
   "source": [
    "fig, (ax1, ax2, ax3, ax4)  = plt.subplots(nrows = 4, sharex=True, constrained_layout=True, figsize=[15,15])\n",
    "\n",
    "dsi.isel(point=1).set_index(hybrid=\"gph_zero_time\").cloudice.plot(x=\"valid_time\", vmin=0, vmax=1e-6, \n",
    "                                                        cmap = cm_colorblind.HomeyerRainbow, ax=ax1)\n",
    "\n",
    "\n",
    "dsi.isel(point=1).set_index(hybrid=\"gph_zero_time\").cloudwater.plot(x=\"valid_time\", vmin=0, vmax=0.0005, \n",
    "                                                        cmap = cm_colorblind.HomeyerRainbow, ax=ax2)\n",
    "\n",
    "\n",
    "(dsi.precip_accum_1hr*inches_per_mm).isel(point=2).plot(color='red', \n",
    "                                                      x=\"valid_time\", marker=\".\", \n",
    "                                                      label=dsi.point[2].values,\n",
    "                                                     ax=ax3)\n",
    "\n",
    "\n",
    "(dsi.precip_accum_1hr*inches_per_mm).isel(point=0).plot(color='blue', \n",
    "                                                      x=\"valid_time\", marker=\".\", \n",
    "                                                      label=dsi.point[0].values,\n",
    "                                                     ax = ax3)\n",
    "\n",
    "(dsi.precip_accum_1hr*inches_per_mm).isel(point=1).plot(color='purple', \n",
    "                                                      x=\"valid_time\", marker=\".\",\n",
    "                                                      label=dsi.point[1].values,\n",
    "                                                     ax=ax3)\n",
    "\n",
    "\n",
    "\n",
    "\n",
    "(dsi.t2m - 273.15).isel(point=0).plot(color='blue', x=\"valid_time\", marker=\".\", label=dsi.point[0].values, ax=ax4)\n",
    "(dsi.t2m - 273.15).isel(point=1).plot(color='purple', x=\"valid_time\", marker=\".\", label=dsi.point[1].values, ax=ax4)\n",
    "(dsi.t2m - 273.15).isel(point=2).plot(color='red', x=\"valid_time\", marker=\".\", label=dsi.point[2].values, ax=ax4)\n",
    "\n",
    "(dsi.d2m - 273.15).isel(point=0).plot(color='blue', x=\"valid_time\", marker=\".\", linestyle='dashed', ax=ax4)\n",
    "(dsi.d2m - 273.15).isel(point=1).plot(color='purple', x=\"valid_time\", marker=\".\", linestyle='dashed', ax=ax4)\n",
    "(dsi.d2m - 273.15).isel(point=2).plot(color='red', x=\"valid_time\", marker=\".\", linestyle='dashed', ax=ax4)\n",
    "\n",
    "#plt.grid()\n",
    "ax4.set_ylabel('Temperature and dew point (Celsius)')\n",
    "ax4.set_xlabel('Time and date (UTC)')\n",
    "ax4.set_title('HRRR Temperature and dewpoint forecasts')\n",
    "\n",
    "\n",
    "plt.legend()\n",
    "\n",
    "ax1.set_ylim([0, 15000])\n",
    "ax2.set_ylim([0, 15000])\n",
    "#ax3.set_ylim([0,.5])\n",
    "plt.grid()\n",
    "ax3.set_ylabel('Rain Rate (in/hr)')\n",
    "ax3.set_xlabel('Time and date (UTC)')\n",
    "ax3.set_title('HRRR rain rate forecasts')"
   ]
  },
  {
   "cell_type": "markdown",
   "id": "77d8518a",
   "metadata": {},
   "source": [
    "## Woo hoo!\n",
    "\n",
    "Note the marked difference. You can see a diurnal cycle in SGP due to nice clear skies. Also some proper mixed phase clouds with some light rain. Persisten cloud deck in Chicago with some light snowfall. This gives a general guide on how to make nice time height series using Herbie, xarray and matplotlib. \n",
    "\n",
    "Now, the challenge. Do this with streaming data and/or lazy loading. Fi"
   ]
  },
  {
   "cell_type": "code",
   "execution_count": null,
   "id": "06d5b954",
   "metadata": {
    "ExecuteTime": {
     "start_time": "2023-09-27T19:00:02.308043Z"
    }
   },
   "outputs": [],
   "source": []
  }
 ],
 "metadata": {
  "kernelspec": {
   "display_name": "Python 3 (ipykernel)",
   "language": "python",
   "name": "python3"
  },
  "language_info": {
   "codemirror_mode": {
    "name": "ipython",
    "version": 3
   },
   "file_extension": ".py",
   "mimetype": "text/x-python",
   "name": "python",
   "nbconvert_exporter": "python",
   "pygments_lexer": "ipython3",
   "version": "3.11.0"
  }
 },
 "nbformat": 4,
 "nbformat_minor": 5
}

{
 "cells": [
  {
   "cell_type": "code",
   "execution_count": 25,
   "id": "initial_id",
   "metadata": {
    "collapsed": true,
    "ExecuteTime": {
     "end_time": "2023-09-29T23:49:41.036319Z",
     "start_time": "2023-09-29T23:49:41.014887Z"
    }
   },
   "outputs": [],
   "source": [
    "import io\n",
    "from urllib.request import urlopen, Request\n",
    "import sqlite3\n",
    "\n",
    "import numpy as np\n",
    "from PIL import Image\n",
    "import matplotlib.pyplot as plt\n",
    "import cartopy.crs as ccrs\n",
    "import cartopy.feature as cfeature\n",
    "import cartopy.io.img_tiles as cimgt\n",
    "import pandas as pd \n",
    "\n",
    "%matplotlib inline\n"
   ]
  },
  {
   "cell_type": "code",
   "execution_count": 26,
   "outputs": [
    {
     "data": {
      "text/plain": "              id                  date_time  stid  elevation  air_temp  \\\n0              1  2022-09-29T22:15:00+00:00  KVEL   1599.648      24.0   \n1              2  2022-09-29T22:20:00+00:00  KVEL   1599.648      24.0   \n2              3  2022-09-29T22:25:00+00:00  KVEL   1599.648      24.0   \n3              4  2022-09-29T22:30:00+00:00  KVEL   1599.648      24.0   \n4              5  2022-09-29T22:35:00+00:00  KVEL   1599.648      24.0   \n...          ...                        ...   ...        ...       ...   \n7835255  7835256  2023-09-24T22:35:00+00:00  K40U   1877.200      21.8   \n7835256  7835257  2023-09-24T22:55:00+00:00  K40U   1877.200      21.8   \n7835257  7835258  2023-09-24T23:15:00+00:00  K40U   1877.200      21.7   \n7835258  7835259  2023-09-24T23:35:00+00:00  K40U   1877.200      21.7   \n7835259  7835260  2023-09-24T23:55:00+00:00  K40U   1877.200      21.3   \n\n         dew_point_temperature  pressure  wind_direction  wind_speed  wind_u  \\\n0                         6.99  84029.07           190.0       2.572   0.447   \n1                         6.99  84029.07           170.0       2.058  -0.357   \n2                         6.99  84029.07           190.0       3.087   0.536   \n3                         5.99  84029.07           200.0       2.058   0.704   \n4                         5.99  84029.07           200.0       1.543   0.528   \n...                        ...       ...             ...         ...     ...   \n7835255                  -3.90  81487.07           110.0       1.543  -1.450   \n7835256                  -4.30  81487.07           110.0       2.572  -2.417   \n7835257                  -4.40  81487.07           140.0       2.058  -1.323   \n7835258                  -4.00  81487.07           100.0       2.058  -2.027   \n7835259                  -4.40  81487.07             0.0       0.000   0.000   \n\n         wind_v  snow_depth  solar_radiation  ozone_concentration  air_density  \n0         2.533         NaN              NaN                  NaN     0.985092  \n1         2.027         NaN              NaN                  NaN     0.985092  \n2         3.040         NaN              NaN                  NaN     0.985092  \n3         1.934         NaN              NaN                  NaN     0.985095  \n4         1.450         NaN              NaN                  NaN     0.985095  \n...         ...         ...              ...                  ...          ...  \n7835255   0.528         NaN              NaN                  NaN     0.962440  \n7835256   0.880         NaN              NaN                  NaN     0.962440  \n7835257   1.577         NaN              NaN                  NaN     0.962767  \n7835258   0.357         NaN              NaN                  NaN     0.962766  \n7835259   0.000         NaN              NaN                  NaN     0.964075  \n\n[7835260 rows x 15 columns]",
      "text/html": "<div>\n<style scoped>\n    .dataframe tbody tr th:only-of-type {\n        vertical-align: middle;\n    }\n\n    .dataframe tbody tr th {\n        vertical-align: top;\n    }\n\n    .dataframe thead th {\n        text-align: right;\n    }\n</style>\n<table border=\"1\" class=\"dataframe\">\n  <thead>\n    <tr style=\"text-align: right;\">\n      <th></th>\n      <th>id</th>\n      <th>date_time</th>\n      <th>stid</th>\n      <th>elevation</th>\n      <th>air_temp</th>\n      <th>dew_point_temperature</th>\n      <th>pressure</th>\n      <th>wind_direction</th>\n      <th>wind_speed</th>\n      <th>wind_u</th>\n      <th>wind_v</th>\n      <th>snow_depth</th>\n      <th>solar_radiation</th>\n      <th>ozone_concentration</th>\n      <th>air_density</th>\n    </tr>\n  </thead>\n  <tbody>\n    <tr>\n      <th>0</th>\n      <td>1</td>\n      <td>2022-09-29T22:15:00+00:00</td>\n      <td>KVEL</td>\n      <td>1599.648</td>\n      <td>24.0</td>\n      <td>6.99</td>\n      <td>84029.07</td>\n      <td>190.0</td>\n      <td>2.572</td>\n      <td>0.447</td>\n      <td>2.533</td>\n      <td>NaN</td>\n      <td>NaN</td>\n      <td>NaN</td>\n      <td>0.985092</td>\n    </tr>\n    <tr>\n      <th>1</th>\n      <td>2</td>\n      <td>2022-09-29T22:20:00+00:00</td>\n      <td>KVEL</td>\n      <td>1599.648</td>\n      <td>24.0</td>\n      <td>6.99</td>\n      <td>84029.07</td>\n      <td>170.0</td>\n      <td>2.058</td>\n      <td>-0.357</td>\n      <td>2.027</td>\n      <td>NaN</td>\n      <td>NaN</td>\n      <td>NaN</td>\n      <td>0.985092</td>\n    </tr>\n    <tr>\n      <th>2</th>\n      <td>3</td>\n      <td>2022-09-29T22:25:00+00:00</td>\n      <td>KVEL</td>\n      <td>1599.648</td>\n      <td>24.0</td>\n      <td>6.99</td>\n      <td>84029.07</td>\n      <td>190.0</td>\n      <td>3.087</td>\n      <td>0.536</td>\n      <td>3.040</td>\n      <td>NaN</td>\n      <td>NaN</td>\n      <td>NaN</td>\n      <td>0.985092</td>\n    </tr>\n    <tr>\n      <th>3</th>\n      <td>4</td>\n      <td>2022-09-29T22:30:00+00:00</td>\n      <td>KVEL</td>\n      <td>1599.648</td>\n      <td>24.0</td>\n      <td>5.99</td>\n      <td>84029.07</td>\n      <td>200.0</td>\n      <td>2.058</td>\n      <td>0.704</td>\n      <td>1.934</td>\n      <td>NaN</td>\n      <td>NaN</td>\n      <td>NaN</td>\n      <td>0.985095</td>\n    </tr>\n    <tr>\n      <th>4</th>\n      <td>5</td>\n      <td>2022-09-29T22:35:00+00:00</td>\n      <td>KVEL</td>\n      <td>1599.648</td>\n      <td>24.0</td>\n      <td>5.99</td>\n      <td>84029.07</td>\n      <td>200.0</td>\n      <td>1.543</td>\n      <td>0.528</td>\n      <td>1.450</td>\n      <td>NaN</td>\n      <td>NaN</td>\n      <td>NaN</td>\n      <td>0.985095</td>\n    </tr>\n    <tr>\n      <th>...</th>\n      <td>...</td>\n      <td>...</td>\n      <td>...</td>\n      <td>...</td>\n      <td>...</td>\n      <td>...</td>\n      <td>...</td>\n      <td>...</td>\n      <td>...</td>\n      <td>...</td>\n      <td>...</td>\n      <td>...</td>\n      <td>...</td>\n      <td>...</td>\n      <td>...</td>\n    </tr>\n    <tr>\n      <th>7835255</th>\n      <td>7835256</td>\n      <td>2023-09-24T22:35:00+00:00</td>\n      <td>K40U</td>\n      <td>1877.200</td>\n      <td>21.8</td>\n      <td>-3.90</td>\n      <td>81487.07</td>\n      <td>110.0</td>\n      <td>1.543</td>\n      <td>-1.450</td>\n      <td>0.528</td>\n      <td>NaN</td>\n      <td>NaN</td>\n      <td>NaN</td>\n      <td>0.962440</td>\n    </tr>\n    <tr>\n      <th>7835256</th>\n      <td>7835257</td>\n      <td>2023-09-24T22:55:00+00:00</td>\n      <td>K40U</td>\n      <td>1877.200</td>\n      <td>21.8</td>\n      <td>-4.30</td>\n      <td>81487.07</td>\n      <td>110.0</td>\n      <td>2.572</td>\n      <td>-2.417</td>\n      <td>0.880</td>\n      <td>NaN</td>\n      <td>NaN</td>\n      <td>NaN</td>\n      <td>0.962440</td>\n    </tr>\n    <tr>\n      <th>7835257</th>\n      <td>7835258</td>\n      <td>2023-09-24T23:15:00+00:00</td>\n      <td>K40U</td>\n      <td>1877.200</td>\n      <td>21.7</td>\n      <td>-4.40</td>\n      <td>81487.07</td>\n      <td>140.0</td>\n      <td>2.058</td>\n      <td>-1.323</td>\n      <td>1.577</td>\n      <td>NaN</td>\n      <td>NaN</td>\n      <td>NaN</td>\n      <td>0.962767</td>\n    </tr>\n    <tr>\n      <th>7835258</th>\n      <td>7835259</td>\n      <td>2023-09-24T23:35:00+00:00</td>\n      <td>K40U</td>\n      <td>1877.200</td>\n      <td>21.7</td>\n      <td>-4.00</td>\n      <td>81487.07</td>\n      <td>100.0</td>\n      <td>2.058</td>\n      <td>-2.027</td>\n      <td>0.357</td>\n      <td>NaN</td>\n      <td>NaN</td>\n      <td>NaN</td>\n      <td>0.962766</td>\n    </tr>\n    <tr>\n      <th>7835259</th>\n      <td>7835260</td>\n      <td>2023-09-24T23:55:00+00:00</td>\n      <td>K40U</td>\n      <td>1877.200</td>\n      <td>21.3</td>\n      <td>-4.40</td>\n      <td>81487.07</td>\n      <td>0.0</td>\n      <td>0.000</td>\n      <td>0.000</td>\n      <td>0.000</td>\n      <td>NaN</td>\n      <td>NaN</td>\n      <td>NaN</td>\n      <td>0.964075</td>\n    </tr>\n  </tbody>\n</table>\n<p>7835260 rows × 15 columns</p>\n</div>"
     },
     "metadata": {},
     "output_type": "display_data"
    }
   ],
   "source": [
    "# Load from SQL database\n",
    "conn = sqlite3.connect(\"observation_repo.db\")\n",
    "query = \"SELECT * FROM weather_data\"\n",
    "df = pd.read_sql_query(query, conn)\n",
    "display(df) "
   ],
   "metadata": {
    "collapsed": false,
    "ExecuteTime": {
     "end_time": "2023-09-29T23:50:21.114125Z",
     "start_time": "2023-09-29T23:49:41.040758Z"
    }
   },
   "id": "b371aab02f40951f"
  },
  {
   "cell_type": "code",
   "execution_count": 27,
   "outputs": [],
   "source": [
    "def image_spoof(self, tile):\n",
    "    \"\"\"Thanks to Joshua Hrisko \n",
    "    https://makersportal.com/blog/2020/4/24/geographic-visualizations-in-python-with-cartopy\n",
    "    \"\"\"    \n",
    "    # get the url of the street map API\n",
    "    url = self._image_url(tile) \n",
    "    req = Request(url) \n",
    "    req.add_header('User-agent','Anaconda 3') \n",
    "    fh = urlopen(req)\n",
    "    im_data = io.BytesIO(fh.read()) \n",
    "    fh.close() \n",
    "    # open image with PIL, set format, reformat for Cartopy\n",
    "    img = Image.open(im_data) \n",
    "    img = img.convert(self.desired_tile_form)\n",
    "    return (img, self.tileextent(tile), 'lower') "
   ],
   "metadata": {
    "collapsed": false,
    "ExecuteTime": {
     "end_time": "2023-09-29T23:50:21.116753Z",
     "start_time": "2023-09-29T23:50:21.112719Z"
    }
   },
   "id": "87fb5b3bda21b18b"
  },
  {
   "cell_type": "code",
   "execution_count": 28,
   "outputs": [],
   "source": [
    "cimgt.Stamen.get_image = image_spoof  # reformat web request for street map spoofing\n",
    "osm_img = cimgt.Stamen('terrain')  # spoofed, downloaded street map"
   ],
   "metadata": {
    "collapsed": false,
    "ExecuteTime": {
     "end_time": "2023-09-29T23:50:21.127619Z",
     "start_time": "2023-09-29T23:50:21.116139Z"
    }
   },
   "id": "547444ec07964784"
  },
  {
   "cell_type": "code",
   "execution_count": 29,
   "outputs": [
    {
     "data": {
      "text/plain": "              id                  date_time   stid  elevation  air_temp  \\\n113832    113833  2022-09-29T23:00:00+00:00  CWHU1   3191.392     8.700   \n113833    113834  2022-09-30T00:00:00+00:00  CWHU1   3191.392     6.400   \n113835    113836  2022-09-30T02:00:00+00:00  CWHU1   3191.392     1.900   \n113836    113837  2022-09-30T03:00:00+00:00  CWHU1   3191.392     2.500   \n113837    113838  2022-09-30T04:00:00+00:00  CWHU1   3191.392     3.700   \n...          ...                        ...    ...        ...       ...   \n7705238  7705239  2023-09-24T23:20:00+00:00  UT43W   2198.224    18.433   \n7705239  7705240  2023-09-24T23:30:00+00:00  UT43W   2198.224    18.250   \n7705240  7705241  2023-09-24T23:40:00+00:00  UT43W   2198.224    17.944   \n7705241  7705242  2023-09-24T23:50:00+00:00  UT43W   2198.224    17.872   \n7705242  7705243  2023-09-25T00:00:00+00:00  UT43W   2198.224    17.839   \n\n         dew_point_temperature  pressure  wind_direction  wind_speed  wind_u  \\\n113832                     NaN       NaN             NaN         NaN     NaN   \n113833                     NaN       NaN             NaN         NaN     NaN   \n113835                     NaN       NaN             NaN         NaN     NaN   \n113836                     NaN       NaN             NaN         NaN     NaN   \n113837                     NaN       NaN             NaN         NaN     NaN   \n...                        ...       ...             ...         ...     ...   \n7705238                  -1.14       NaN           109.0       1.924  -1.819   \n7705239                  -2.22       NaN           118.0       2.459  -2.171   \n7705240                   1.39       NaN           133.6       1.790  -1.296   \n7705241                  -0.60       NaN           134.8       1.996  -1.416   \n7705242                  -0.22       NaN           128.2       1.672  -1.314   \n\n         wind_v  snow_depth  solar_radiation  ozone_concentration  air_density  \n113832      NaN         0.0              NaN                  NaN          NaN  \n113833      NaN         0.0              NaN                  NaN          NaN  \n113835      NaN      4775.2              NaN                  NaN          NaN  \n113836      NaN      4775.2              NaN                  NaN          NaN  \n113837      NaN      4775.2              NaN                  NaN          NaN  \n...         ...         ...              ...                  ...          ...  \n7705238   0.626         0.0              NaN                  NaN          NaN  \n7705239   1.154         0.0              NaN                  NaN          NaN  \n7705240   1.234         0.0              NaN                  NaN          NaN  \n7705241   1.406         0.0              NaN                  NaN          NaN  \n7705242   1.034         0.0              NaN                  NaN          NaN  \n\n[796298 rows x 15 columns]",
      "text/html": "<div>\n<style scoped>\n    .dataframe tbody tr th:only-of-type {\n        vertical-align: middle;\n    }\n\n    .dataframe tbody tr th {\n        vertical-align: top;\n    }\n\n    .dataframe thead th {\n        text-align: right;\n    }\n</style>\n<table border=\"1\" class=\"dataframe\">\n  <thead>\n    <tr style=\"text-align: right;\">\n      <th></th>\n      <th>id</th>\n      <th>date_time</th>\n      <th>stid</th>\n      <th>elevation</th>\n      <th>air_temp</th>\n      <th>dew_point_temperature</th>\n      <th>pressure</th>\n      <th>wind_direction</th>\n      <th>wind_speed</th>\n      <th>wind_u</th>\n      <th>wind_v</th>\n      <th>snow_depth</th>\n      <th>solar_radiation</th>\n      <th>ozone_concentration</th>\n      <th>air_density</th>\n    </tr>\n  </thead>\n  <tbody>\n    <tr>\n      <th>113832</th>\n      <td>113833</td>\n      <td>2022-09-29T23:00:00+00:00</td>\n      <td>CWHU1</td>\n      <td>3191.392</td>\n      <td>8.700</td>\n      <td>NaN</td>\n      <td>NaN</td>\n      <td>NaN</td>\n      <td>NaN</td>\n      <td>NaN</td>\n      <td>NaN</td>\n      <td>0.0</td>\n      <td>NaN</td>\n      <td>NaN</td>\n      <td>NaN</td>\n    </tr>\n    <tr>\n      <th>113833</th>\n      <td>113834</td>\n      <td>2022-09-30T00:00:00+00:00</td>\n      <td>CWHU1</td>\n      <td>3191.392</td>\n      <td>6.400</td>\n      <td>NaN</td>\n      <td>NaN</td>\n      <td>NaN</td>\n      <td>NaN</td>\n      <td>NaN</td>\n      <td>NaN</td>\n      <td>0.0</td>\n      <td>NaN</td>\n      <td>NaN</td>\n      <td>NaN</td>\n    </tr>\n    <tr>\n      <th>113835</th>\n      <td>113836</td>\n      <td>2022-09-30T02:00:00+00:00</td>\n      <td>CWHU1</td>\n      <td>3191.392</td>\n      <td>1.900</td>\n      <td>NaN</td>\n      <td>NaN</td>\n      <td>NaN</td>\n      <td>NaN</td>\n      <td>NaN</td>\n      <td>NaN</td>\n      <td>4775.2</td>\n      <td>NaN</td>\n      <td>NaN</td>\n      <td>NaN</td>\n    </tr>\n    <tr>\n      <th>113836</th>\n      <td>113837</td>\n      <td>2022-09-30T03:00:00+00:00</td>\n      <td>CWHU1</td>\n      <td>3191.392</td>\n      <td>2.500</td>\n      <td>NaN</td>\n      <td>NaN</td>\n      <td>NaN</td>\n      <td>NaN</td>\n      <td>NaN</td>\n      <td>NaN</td>\n      <td>4775.2</td>\n      <td>NaN</td>\n      <td>NaN</td>\n      <td>NaN</td>\n    </tr>\n    <tr>\n      <th>113837</th>\n      <td>113838</td>\n      <td>2022-09-30T04:00:00+00:00</td>\n      <td>CWHU1</td>\n      <td>3191.392</td>\n      <td>3.700</td>\n      <td>NaN</td>\n      <td>NaN</td>\n      <td>NaN</td>\n      <td>NaN</td>\n      <td>NaN</td>\n      <td>NaN</td>\n      <td>4775.2</td>\n      <td>NaN</td>\n      <td>NaN</td>\n      <td>NaN</td>\n    </tr>\n    <tr>\n      <th>...</th>\n      <td>...</td>\n      <td>...</td>\n      <td>...</td>\n      <td>...</td>\n      <td>...</td>\n      <td>...</td>\n      <td>...</td>\n      <td>...</td>\n      <td>...</td>\n      <td>...</td>\n      <td>...</td>\n      <td>...</td>\n      <td>...</td>\n      <td>...</td>\n      <td>...</td>\n    </tr>\n    <tr>\n      <th>7705238</th>\n      <td>7705239</td>\n      <td>2023-09-24T23:20:00+00:00</td>\n      <td>UT43W</td>\n      <td>2198.224</td>\n      <td>18.433</td>\n      <td>-1.14</td>\n      <td>NaN</td>\n      <td>109.0</td>\n      <td>1.924</td>\n      <td>-1.819</td>\n      <td>0.626</td>\n      <td>0.0</td>\n      <td>NaN</td>\n      <td>NaN</td>\n      <td>NaN</td>\n    </tr>\n    <tr>\n      <th>7705239</th>\n      <td>7705240</td>\n      <td>2023-09-24T23:30:00+00:00</td>\n      <td>UT43W</td>\n      <td>2198.224</td>\n      <td>18.250</td>\n      <td>-2.22</td>\n      <td>NaN</td>\n      <td>118.0</td>\n      <td>2.459</td>\n      <td>-2.171</td>\n      <td>1.154</td>\n      <td>0.0</td>\n      <td>NaN</td>\n      <td>NaN</td>\n      <td>NaN</td>\n    </tr>\n    <tr>\n      <th>7705240</th>\n      <td>7705241</td>\n      <td>2023-09-24T23:40:00+00:00</td>\n      <td>UT43W</td>\n      <td>2198.224</td>\n      <td>17.944</td>\n      <td>1.39</td>\n      <td>NaN</td>\n      <td>133.6</td>\n      <td>1.790</td>\n      <td>-1.296</td>\n      <td>1.234</td>\n      <td>0.0</td>\n      <td>NaN</td>\n      <td>NaN</td>\n      <td>NaN</td>\n    </tr>\n    <tr>\n      <th>7705241</th>\n      <td>7705242</td>\n      <td>2023-09-24T23:50:00+00:00</td>\n      <td>UT43W</td>\n      <td>2198.224</td>\n      <td>17.872</td>\n      <td>-0.60</td>\n      <td>NaN</td>\n      <td>134.8</td>\n      <td>1.996</td>\n      <td>-1.416</td>\n      <td>1.406</td>\n      <td>0.0</td>\n      <td>NaN</td>\n      <td>NaN</td>\n      <td>NaN</td>\n    </tr>\n    <tr>\n      <th>7705242</th>\n      <td>7705243</td>\n      <td>2023-09-25T00:00:00+00:00</td>\n      <td>UT43W</td>\n      <td>2198.224</td>\n      <td>17.839</td>\n      <td>-0.22</td>\n      <td>NaN</td>\n      <td>128.2</td>\n      <td>1.672</td>\n      <td>-1.314</td>\n      <td>1.034</td>\n      <td>0.0</td>\n      <td>NaN</td>\n      <td>NaN</td>\n      <td>NaN</td>\n    </tr>\n  </tbody>\n</table>\n<p>796298 rows × 15 columns</p>\n</div>"
     },
     "metadata": {},
     "output_type": "display_data"
    }
   ],
   "source": [
    "# Find those stations with snow depth, and plot their locations\n",
    "df_snow = df[~df['snow_depth'].isna()]\n",
    "display(df_snow)"
   ],
   "metadata": {
    "collapsed": false,
    "ExecuteTime": {
     "end_time": "2023-09-29T23:50:21.397898Z",
     "start_time": "2023-09-29T23:50:21.121422Z"
    }
   },
   "id": "5bc320e5288a8eb3"
  },
  {
   "cell_type": "code",
   "execution_count": 30,
   "outputs": [
    {
     "ename": "KeyError",
     "evalue": "'latitude'",
     "output_type": "error",
     "traceback": [
      "\u001B[0;31m---------------------------------------------------------------------------\u001B[0m",
      "\u001B[0;31mKeyError\u001B[0m                                  Traceback (most recent call last)",
      "File \u001B[0;32m~/anaconda3/envs/live-verification/lib/python3.11/site-packages/pandas/core/indexes/base.py:3790\u001B[0m, in \u001B[0;36mIndex.get_loc\u001B[0;34m(self, key)\u001B[0m\n\u001B[1;32m   3789\u001B[0m \u001B[38;5;28;01mtry\u001B[39;00m:\n\u001B[0;32m-> 3790\u001B[0m     \u001B[38;5;28;01mreturn\u001B[39;00m \u001B[38;5;28;43mself\u001B[39;49m\u001B[38;5;241;43m.\u001B[39;49m\u001B[43m_engine\u001B[49m\u001B[38;5;241;43m.\u001B[39;49m\u001B[43mget_loc\u001B[49m\u001B[43m(\u001B[49m\u001B[43mcasted_key\u001B[49m\u001B[43m)\u001B[49m\n\u001B[1;32m   3791\u001B[0m \u001B[38;5;28;01mexcept\u001B[39;00m \u001B[38;5;167;01mKeyError\u001B[39;00m \u001B[38;5;28;01mas\u001B[39;00m err:\n",
      "File \u001B[0;32mindex.pyx:152\u001B[0m, in \u001B[0;36mpandas._libs.index.IndexEngine.get_loc\u001B[0;34m()\u001B[0m\n",
      "File \u001B[0;32mindex.pyx:181\u001B[0m, in \u001B[0;36mpandas._libs.index.IndexEngine.get_loc\u001B[0;34m()\u001B[0m\n",
      "File \u001B[0;32mpandas/_libs/hashtable_class_helper.pxi:7080\u001B[0m, in \u001B[0;36mpandas._libs.hashtable.PyObjectHashTable.get_item\u001B[0;34m()\u001B[0m\n",
      "File \u001B[0;32mpandas/_libs/hashtable_class_helper.pxi:7088\u001B[0m, in \u001B[0;36mpandas._libs.hashtable.PyObjectHashTable.get_item\u001B[0;34m()\u001B[0m\n",
      "\u001B[0;31mKeyError\u001B[0m: 'latitude'",
      "\nThe above exception was the direct cause of the following exception:\n",
      "\u001B[0;31mKeyError\u001B[0m                                  Traceback (most recent call last)",
      "Cell \u001B[0;32mIn[30], line 1\u001B[0m\n\u001B[0;32m----> 1\u001B[0m df_snow[\u001B[43mdf_snow\u001B[49m\u001B[43m[\u001B[49m\u001B[38;5;124;43m\"\u001B[39;49m\u001B[38;5;124;43mlatitude\u001B[39;49m\u001B[38;5;124;43m\"\u001B[39;49m\u001B[43m]\u001B[49m][\u001B[38;5;241m0\u001B[39m]\n",
      "File \u001B[0;32m~/anaconda3/envs/live-verification/lib/python3.11/site-packages/pandas/core/frame.py:3896\u001B[0m, in \u001B[0;36mDataFrame.__getitem__\u001B[0;34m(self, key)\u001B[0m\n\u001B[1;32m   3894\u001B[0m \u001B[38;5;28;01mif\u001B[39;00m \u001B[38;5;28mself\u001B[39m\u001B[38;5;241m.\u001B[39mcolumns\u001B[38;5;241m.\u001B[39mnlevels \u001B[38;5;241m>\u001B[39m \u001B[38;5;241m1\u001B[39m:\n\u001B[1;32m   3895\u001B[0m     \u001B[38;5;28;01mreturn\u001B[39;00m \u001B[38;5;28mself\u001B[39m\u001B[38;5;241m.\u001B[39m_getitem_multilevel(key)\n\u001B[0;32m-> 3896\u001B[0m indexer \u001B[38;5;241m=\u001B[39m \u001B[38;5;28;43mself\u001B[39;49m\u001B[38;5;241;43m.\u001B[39;49m\u001B[43mcolumns\u001B[49m\u001B[38;5;241;43m.\u001B[39;49m\u001B[43mget_loc\u001B[49m\u001B[43m(\u001B[49m\u001B[43mkey\u001B[49m\u001B[43m)\u001B[49m\n\u001B[1;32m   3897\u001B[0m \u001B[38;5;28;01mif\u001B[39;00m is_integer(indexer):\n\u001B[1;32m   3898\u001B[0m     indexer \u001B[38;5;241m=\u001B[39m [indexer]\n",
      "File \u001B[0;32m~/anaconda3/envs/live-verification/lib/python3.11/site-packages/pandas/core/indexes/base.py:3797\u001B[0m, in \u001B[0;36mIndex.get_loc\u001B[0;34m(self, key)\u001B[0m\n\u001B[1;32m   3792\u001B[0m     \u001B[38;5;28;01mif\u001B[39;00m \u001B[38;5;28misinstance\u001B[39m(casted_key, \u001B[38;5;28mslice\u001B[39m) \u001B[38;5;129;01mor\u001B[39;00m (\n\u001B[1;32m   3793\u001B[0m         \u001B[38;5;28misinstance\u001B[39m(casted_key, abc\u001B[38;5;241m.\u001B[39mIterable)\n\u001B[1;32m   3794\u001B[0m         \u001B[38;5;129;01mand\u001B[39;00m \u001B[38;5;28many\u001B[39m(\u001B[38;5;28misinstance\u001B[39m(x, \u001B[38;5;28mslice\u001B[39m) \u001B[38;5;28;01mfor\u001B[39;00m x \u001B[38;5;129;01min\u001B[39;00m casted_key)\n\u001B[1;32m   3795\u001B[0m     ):\n\u001B[1;32m   3796\u001B[0m         \u001B[38;5;28;01mraise\u001B[39;00m InvalidIndexError(key)\n\u001B[0;32m-> 3797\u001B[0m     \u001B[38;5;28;01mraise\u001B[39;00m \u001B[38;5;167;01mKeyError\u001B[39;00m(key) \u001B[38;5;28;01mfrom\u001B[39;00m \u001B[38;5;21;01merr\u001B[39;00m\n\u001B[1;32m   3798\u001B[0m \u001B[38;5;28;01mexcept\u001B[39;00m \u001B[38;5;167;01mTypeError\u001B[39;00m:\n\u001B[1;32m   3799\u001B[0m     \u001B[38;5;66;03m# If we have a listlike key, _check_indexing_error will raise\u001B[39;00m\n\u001B[1;32m   3800\u001B[0m     \u001B[38;5;66;03m#  InvalidIndexError. Otherwise we fall through and re-raise\u001B[39;00m\n\u001B[1;32m   3801\u001B[0m     \u001B[38;5;66;03m#  the TypeError.\u001B[39;00m\n\u001B[1;32m   3802\u001B[0m     \u001B[38;5;28mself\u001B[39m\u001B[38;5;241m.\u001B[39m_check_indexing_error(key)\n",
      "\u001B[0;31mKeyError\u001B[0m: 'latitude'"
     ]
    }
   ],
   "source": [
    "df_snow[df_snow[\"latitude\"]][0]"
   ],
   "metadata": {
    "collapsed": false,
    "ExecuteTime": {
     "end_time": "2023-09-29T23:50:21.434103Z",
     "start_time": "2023-09-29T23:50:21.352263Z"
    }
   },
   "id": "da4ada567368efe2"
  },
  {
   "cell_type": "code",
   "execution_count": null,
   "outputs": [],
   "source": [
    "unique_stid = df_snow[\"stid\"].unique()\n",
    "# Create lookup of station to lat/lon\n",
    "latlonlookup = {}\n",
    "\n",
    "for stid in unique_stid:\n",
    "    # Take first row with this stid and assign that latlon\n",
    "    latlonlookup[stid] = df_snow[df_snow[\"latitude\"]][0]\n",
    "# Look up that station\n",
    "print(unique_stid, df_snow)\n",
    "\n",
    "def plot_stid_locs(stids, lats, lons):\n",
    "    \n",
    "    fig = plt.figure(figsize=(12, 9))  # open matplotlib figure\n",
    "    ax = plt.axes(projection=osm_img.crs)  # project using coordinate reference system (CRS) of street map\n",
    "    \n",
    "    _lats = []\n",
    "    _lons = []\n",
    "    for s in stids:\n",
    "        lon = lons[s]\n",
    "        lat = lats[s]\n",
    "        elev = elevs[s]\n",
    "    \n",
    "        ax.text(lon, lat, s, transform=ccrs.PlateCarree(),)# **text_kwargs)\n",
    "        _lats.append(lat)\n",
    "        _lons.append(lon)\n",
    "    sc = ax.scatter(lons,lats,transform=ccrs.PlateCarree(),c=elevs)\n",
    "    cbar = fig.colorbar(sc)\n",
    "    \n",
    "    ax.add_feature(cfeature.STATES.with_scale(\"10m\"))\n",
    "    ax.add_feature(cfeature.RIVERS.with_scale(\"10m\"))\n",
    "    # ax.stock_img()\n",
    "    # ax.add_feature(cfeature.NaturalEarthFeature(\"physical\",\"\",scale=\"10m\"))\n",
    "    \n",
    "    extent = [-110.6,-108.7,39.65,41.05]\n",
    "    ax.set_extent(extent)  # set extents\n",
    "    \n",
    "    # empirical solve for scale based on zoom\n",
    "    scale = np.ceil(-np.sqrt(2) * np.log(np.divide((extent[1] - extent[0]) / 2.0, 350.0)))\n",
    "    scale = (scale < 20) and scale or 19  # scale cannot be larger than 19\n",
    "    ax.add_image(osm_img, int(scale))  # add OSM with zoom specification\n",
    "    \n",
    "    ax.set_title(\"Station Locations\", loc=\"left\", fontweight=\"bold\")\n",
    "    fig.tight_layout()\n",
    "    # fig.show()\n",
    "    \n",
    "plot_stid_locs(unique_stid)"
   ],
   "metadata": {
    "collapsed": false,
    "ExecuteTime": {
     "start_time": "2023-09-29T23:50:21.415591Z"
    }
   },
   "id": "473d6ef7aefbe9ad"
  },
  {
   "cell_type": "code",
   "execution_count": null,
   "outputs": [],
   "source": [],
   "metadata": {
    "collapsed": false,
    "ExecuteTime": {
     "start_time": "2023-09-29T23:50:21.416969Z"
    }
   },
   "id": "3b906dda6c5d9e64"
  }
 ],
 "metadata": {
  "kernelspec": {
   "display_name": "Python 3",
   "language": "python",
   "name": "python3"
  },
  "language_info": {
   "codemirror_mode": {
    "name": "ipython",
    "version": 2
   },
   "file_extension": ".py",
   "mimetype": "text/x-python",
   "name": "python",
   "nbconvert_exporter": "python",
   "pygments_lexer": "ipython2",
   "version": "2.7.6"
  }
 },
 "nbformat": 4,
 "nbformat_minor": 5
}

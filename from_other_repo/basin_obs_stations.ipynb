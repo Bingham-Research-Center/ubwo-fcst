{
 "cells": [
  {
   "cell_type": "markdown",
   "source": [
    "### Observation data resources in Uinta Basin"
   ],
   "metadata": {
    "collapsed": false
   },
   "id": "b2d4c8ea2df572a"
  },
  {
   "cell_type": "code",
   "execution_count": 1,
   "outputs": [
    {
     "name": "stderr",
     "output_type": "stream",
     "text": [
      "/Users/johnlawson/anaconda3/envs/live-verification/lib/python3.11/site-packages/synoptic/accessors.py:28: UserWarning: map making not available without Brian's cartopy_tools\n",
      "  warnings.warn(\"map making not available without Brian's cartopy_tools\")\n"
     ]
    }
   ],
   "source": [
    "import datetime\n",
    "import io\n",
    "from urllib.request import urlopen, Request\n",
    "import sqlite3\n",
    "\n",
    "import numpy as np\n",
    "from PIL import Image\n",
    "import matplotlib.pyplot as plt\n",
    "import cartopy.crs as ccrs\n",
    "import cartopy.feature as cfeature\n",
    "import cartopy.io.img_tiles as cimgt\n",
    "import pandas as pd \n",
    "\n",
    "from synoptic.plots import map_metadata\n",
    "import synoptic.services as ss\n",
    "%matplotlib inline\n",
    "\n",
    "# Re-do SQL if not already done - overwriting for testing\n",
    "already_done = False\n"
   ],
   "metadata": {
    "collapsed": false,
    "ExecuteTime": {
     "end_time": "2023-11-17T18:07:16.742783Z",
     "start_time": "2023-11-17T18:07:15.474533Z"
    }
   },
   "id": "51c0a18c531afce0"
  },
  {
   "cell_type": "code",
   "execution_count": 2,
   "outputs": [],
   "source": [
    "def image_spoof(self, tile):\n",
    "    \"\"\"Thanks to Joshua Hrisko \n",
    "    https://makersportal.com/blog/2020/4/24/geographic-visualizations-in-python-with-cartopy\n",
    "    \"\"\"    \n",
    "    # get the url of the street map API\n",
    "    url = self._image_url(tile) \n",
    "    req = Request(url) \n",
    "    req.add_header('User-agent','Anaconda 3') \n",
    "    fh = urlopen(req)\n",
    "    im_data = io.BytesIO(fh.read()) \n",
    "    fh.close() \n",
    "    # open image with PIL, set format, reformat for Cartopy\n",
    "    img = Image.open(im_data) \n",
    "    img = img.convert(self.desired_tile_form)\n",
    "    return (img, self.tileextent(tile), 'lower') "
   ],
   "metadata": {
    "collapsed": false,
    "ExecuteTime": {
     "end_time": "2023-11-17T18:07:16.748717Z",
     "start_time": "2023-11-17T18:07:16.744386Z"
    }
   },
   "id": "4052551aae097862"
  },
  {
   "cell_type": "code",
   "execution_count": 3,
   "outputs": [
    {
     "name": "stdout",
     "output_type": "stream",
     "text": [
      "Checking for data recent=120 minutes.\n",
      "\n",
      " 🚚💨 Speedy Delivery from Synoptic API [metadata]: https://api.synopticdata.com/v2/stations/metadata?radius=KVEL,50&recent=120&token=🙈HIDDEN\n"
     ]
    },
    {
     "data": {
      "text/plain": "                                              KVEL  \\\nDISTANCE                                       0.0   \nELEVATION                                   5262.0   \nELEV_DEM                                    5269.0   \nID                                              61   \nMNET_ID                                          1   \nNAME                                Vernal Airport   \nRECORD_END               2023-11-17 17:10:00+00:00   \nRECORD_START             1997-01-01 00:00:00+00:00   \nRESTRICTED                                   False   \nSTATE                                           UT   \nSTATUS                                      ACTIVE   \nSTID                                          KVEL   \nTIMEZONE                            America/Denver   \nUNITS         {'position': 'm', 'elevation': 'ft'}   \nlatitude                                  40.44295   \nlongitude                               -109.51273   \n\n                                              RSVL  \\\nDISTANCE                                     31.68   \nELEVATION                                   5151.0   \nELEV_DEM                                    5200.1   \nID                                             878   \nMNET_ID                                       1005   \nNAME                            ROOSEVELT-UNION HS   \nRECORD_END               2002-02-13 21:00:00+00:00   \nRECORD_START             1999-01-12 00:00:00+00:00   \nRESTRICTED                                   False   \nSTATE                                           UT   \nSTATUS                                    INACTIVE   \nSTID                                          RSVL   \nTIMEZONE                            America/Denver   \nUNITS         {'position': 'm', 'elevation': 'ft'}   \nlatitude                                     40.27   \nlongitude                                  -110.07   \n\n                                             RNGC2  \\\nDISTANCE                                     46.06   \nELEVATION                                   5290.0   \nELEV_DEM                                    5295.3   \nID                                             964   \nMNET_ID                                        106   \nNAME                      RANGLEY 1E (POWER PLANT)   \nRECORD_END               2023-10-21 03:00:00+00:00   \nRECORD_START             1997-01-01 00:00:00+00:00   \nRESTRICTED                                   False   \nSTATE                                           CO   \nSTATUS                                      ACTIVE   \nSTID                                         RNGC2   \nTIMEZONE                            America/Denver   \nUNITS         {'position': 'm', 'elevation': 'ft'}   \nlatitude                                  40.08889   \nlongitude                                -108.7725   \n\n                                             CWHU1  \\\nDISTANCE                                     34.74   \nELEVATION                                  10498.0   \nELEV_DEM                                   10524.9   \nID                                            1458   \nMNET_ID                                         25   \nNAME                                       CHEPETA   \nRECORD_END               2023-11-17 16:00:00+00:00   \nRECORD_START             2000-01-20 00:00:00+00:00   \nRESTRICTED                                   False   \nSTATE                                           UT   \nSTATUS                                      ACTIVE   \nSTID                                         CWHU1   \nTIMEZONE                            America/Denver   \nUNITS         {'position': 'm', 'elevation': 'ft'}   \nlatitude                                  40.77458   \nlongitude                                -110.0105   \n\n                                             HIRU1  \\\nDISTANCE                                     48.37   \nELEVATION                                   9167.0   \nELEV_DEM                                    9179.8   \nID                                            1472   \nMNET_ID                                         25   \nNAME                                  HOLE-IN-ROCK   \nRECORD_END               2023-11-17 16:00:00+00:00   \nRECORD_START             2000-01-20 00:00:00+00:00   \nRESTRICTED                                   False   \nSTATE                                           UT   \nSTATUS                                      ACTIVE   \nSTID                                         HIRU1   \nTIMEZONE                            America/Denver   \nUNITS         {'position': 'm', 'elevation': 'ft'}   \nlatitude                                  40.92167   \nlongitude                               -110.18623   \n\n                                             HPSU1  \\\nDISTANCE                                     39.79   \nELEVATION                                   9121.0   \nELEV_DEM                                    9137.1   \nID                                            1473   \nMNET_ID                                         25   \nNAME                                HICKERSON PARK   \nRECORD_END               2023-11-17 16:00:00+00:00   \nRECORD_START             2000-01-20 00:00:00+00:00   \nRESTRICTED                                   False   \nSTATE                                           UT   \nSTATUS                                      ACTIVE   \nSTID                                         HPSU1   \nTIMEZONE                            America/Denver   \nUNITS         {'position': 'm', 'elevation': 'ft'}   \nlatitude                                  40.90663   \nlongitude                               -109.96287   \n\n                                             LKFU1  \\\nDISTANCE                                     49.51   \nELEVATION                                  10127.0   \nELEV_DEM                                   10157.5   \nID                                            1482   \nMNET_ID                                         25   \nNAME                                   LAKEFORK #1   \nRECORD_END               2023-11-17 15:00:00+00:00   \nRECORD_START             2000-01-20 00:00:00+00:00   \nRESTRICTED                                   False   \nSTATE                                           UT   \nSTATUS                                      ACTIVE   \nSTID                                         LKFU1   \nTIMEZONE                            America/Denver   \nUNITS         {'position': 'm', 'elevation': 'ft'}   \nlatitude                                  40.59709   \nlongitude                               -110.43316   \n\n                                             MMTU1  \\\nDISTANCE                                     22.78   \nELEVATION                                   9552.0   \nELEV_DEM                                    9583.3   \nID                                            1494   \nMNET_ID                                         25   \nNAME                                    MOSBY MTN.   \nRECORD_END               2023-11-17 16:00:00+00:00   \nRECORD_START             2000-01-20 00:00:00+00:00   \nRESTRICTED                                   False   \nSTATE                                           UT   \nSTATUS                                      ACTIVE   \nSTID                                         MMTU1   \nTIMEZONE                            America/Denver   \nUNITS         {'position': 'm', 'elevation': 'ft'}   \nlatitude                                  40.60798   \nlongitude                                -109.8881   \n\n                                             TCKU1  \\\nDISTANCE                                     22.12   \nELEVATION                                   9448.0   \nELEV_DEM                                    9471.8   \nID                                            1509   \nMNET_ID                                         25   \nNAME                                   TROUT CREEK   \nRECORD_END               2023-11-17 16:00:00+00:00   \nRECORD_START             2000-01-20 00:00:00+00:00   \nRESTRICTED                                   False   \nSTATE                                           UT   \nSTATUS                                      ACTIVE   \nSTID                                         TCKU1   \nTIMEZONE                            America/Denver   \nUNITS         {'position': 'm', 'elevation': 'ft'}   \nlatitude                                  40.73915   \nlongitude                               -109.67265   \n\n                                             SURC2  ...  \\\nDISTANCE                                     30.77  ...   \nELEVATION                                   5960.0  ...   \nELEV_DEM                                    6282.8  ...   \nID                                            1969  ...   \nMNET_ID                                          2  ...   \nNAME                           DINOSAUR NM SUCCESS  ...   \nRECORD_END               2023-11-17 16:22:00+00:00  ...   \nRECORD_START             1998-07-30 00:00:00+00:00  ...   \nRESTRICTED                                   False  ...   \nSTATE                                           CO  ...   \nSTATUS                                      ACTIVE  ...   \nSTID                                         SURC2  ...   \nTIMEZONE                            America/Denver  ...   \nUNITS         {'position': 'm', 'elevation': 'ft'}  ...   \nlatitude                                  40.51056  ...   \nlongitude                               -108.93417  ...   \n\n                                             UTWIS  \\\nDISTANCE                                     28.52   \nELEVATION                                   7927.0   \nELEV_DEM                                    7923.2   \nID                                          151978   \nMNET_ID                                          4   \nNAME                US-191 at MP 386 Willie Spring   \nRECORD_END               2023-11-17 17:10:00+00:00   \nRECORD_START             2020-06-04 17:10:00+00:00   \nRESTRICTED                                   False   \nSTATE                                           UT   \nSTATUS                                      ACTIVE   \nSTID                                         UTWIS   \nTIMEZONE                            America/Denver   \nUNITS         {'position': 'm', 'elevation': 'ft'}   \nlatitude                                   40.8539   \nlongitude                               -109.46205   \n\n                                             UTBAS  \\\nDISTANCE                                     19.56   \nELEVATION                                   8368.0   \nELEV_DEM                                    8366.1   \nID                                          151979   \nMNET_ID                                          4   \nNAME               US-191 at MP 377 Bassett Spring   \nRECORD_END               2023-11-17 17:10:00+00:00   \nRECORD_START             2020-06-04 17:10:00+00:00   \nRESTRICTED                                   False   \nSTATE                                           UT   \nSTATUS                                      ACTIVE   \nSTID                                         UTBAS   \nTIMEZONE                            America/Denver   \nUNITS         {'position': 'm', 'elevation': 'ft'}   \nlatitude                                    40.724   \nlongitude                                -109.4688   \n\n                                             UTMOP  \\\nDISTANCE                                     28.45   \nELEVATION                                   8076.0   \nELEV_DEM                                    8084.0   \nID                                          151983   \nMNET_ID                                          4   \nNAME                      SR-44 at MP 9 Moose Pond   \nRECORD_END               2023-11-17 17:10:00+00:00   \nRECORD_START             2020-06-05 00:40:00+00:00   \nRESTRICTED                                   False   \nSTATE                                           UT   \nSTATUS                                      ACTIVE   \nSTID                                         UTMOP   \nTIMEZONE                            America/Denver   \nUNITS         {'position': 'm', 'elevation': 'ft'}   \nlatitude                                  40.84185   \nlongitude                               -109.64705   \n\n                                             UT43W  \\\nDISTANCE                                     41.71   \nELEVATION                                   7231.0   \nELEV_DEM                                    7224.4   \nID                                          151984   \nMNET_ID                                          4   \nNAME                SR-43 at MP 0.5 West Stateline   \nRECORD_END               2023-11-17 17:10:00+00:00   \nRECORD_START             2020-06-05 00:40:00+00:00   \nRESTRICTED                                   False   \nSTATE                                           UT   \nSTATUS                                      ACTIVE   \nSTID                                         UT43W   \nTIMEZONE                            America/Denver   \nUNITS         {'position': 'm', 'elevation': 'ft'}   \nlatitude                                   40.9918   \nlongitude                                -109.8445   \n\n                                             JESU1  \\\nDISTANCE                                     14.81   \nELEVATION                                   4776.0   \nELEV_DEM                                    4780.2   \nID                                          170574   \nMNET_ID                                         23   \nNAME                  GREEN RIVER NEAR JENSEN 6ENE   \nRECORD_END               2023-11-17 15:30:00+00:00   \nRECORD_START             2021-10-29 15:41:00+00:00   \nRESTRICTED                                   False   \nSTATE                                           UT   \nSTATUS                                      ACTIVE   \nSTID                                         JESU1   \nTIMEZONE                            America/Denver   \nUNITS         {'position': 'm', 'elevation': 'ft'}   \nlatitude                                  40.40944   \nlongitude                               -109.23472   \n\n                                             PC101  \\\nDISTANCE                                      7.43   \nELEVATION                                   5855.0   \nELEV_DEM                                       NaN   \nID                                          172295   \nMNET_ID                                        247   \nNAME                               Dry Fork Canyon   \nRECORD_END               2023-11-17 17:10:00+00:00   \nRECORD_START             2022-03-11 08:14:00+00:00   \nRESTRICTED                                   False   \nSTATE                                           UT   \nSTATUS                                      ACTIVE   \nSTID                                         PC101   \nTIMEZONE                            America/Denver   \nUNITS         {'position': 'm', 'elevation': 'ft'}   \nlatitude                                  40.52349   \nlongitude                               -109.60627   \n\n                                             4276P  \\\nDISTANCE                                     10.98   \nELEVATION                                   4803.0   \nELEV_DEM                                       NaN   \nID                                          173578   \nMNET_ID                                        208   \nNAME                            Dino Ozone Station   \nRECORD_END               2022-05-27 03:10:00+00:00   \nRECORD_START             2022-04-26 21:10:00+00:00   \nRESTRICTED                                   False   \nSTATE                                           UT   \nSTATUS                                    INACTIVE   \nSTID                                         4276P   \nTIMEZONE                            America/Denver   \nUNITS         {'position': 'm', 'elevation': 'ft'}   \nlatitude                                    40.437   \nlongitude                                 -109.304   \n\n                                             PC266  \\\nDISTANCE                                     11.98   \nELEVATION                                   8426.0   \nELEV_DEM                                    8441.6   \nID                                          175633   \nMNET_ID                                        247   \nNAME                               Little Mountain   \nRECORD_END               2023-11-17 17:10:00+00:00   \nRECORD_START             2022-06-30 20:15:00+00:00   \nRESTRICTED                                   False   \nSTATE                                           UT   \nSTATUS                                      ACTIVE   \nSTID                                         PC266   \nTIMEZONE                            America/Denver   \nUNITS         {'position': 'm', 'elevation': 'ft'}   \nlatitude                                  40.54216   \nlongitude                               -109.69963   \n\n                                             PC353  \\\nDISTANCE                                      4.68   \nELEVATION                                   5947.0   \nELEV_DEM                                       NaN   \nID                                          217351   \nMNET_ID                                        247   \nNAME                                   Vernal West   \nRECORD_END               2023-11-17 17:10:00+00:00   \nRECORD_START             2023-05-16 08:14:00+00:00   \nRESTRICTED                                   False   \nSTATE                                           UT   \nSTATUS                                      ACTIVE   \nSTID                                         PC353   \nTIMEZONE                            America/Denver   \nUNITS         {'position': 'm', 'elevation': 'ft'}   \nlatitude                                  40.41344   \nlongitude                               -109.59288   \n\n                                              K40U  \nDISTANCE                                     38.39  \nELEVATION                                   6175.0  \nELEV_DEM                                       NaN  \nID                                          218094  \nMNET_ID                                          1  \nNAME                                        MANILA  \nRECORD_END               2023-11-17 16:55:00+00:00  \nRECORD_START             2023-05-24 20:23:00+00:00  \nRESTRICTED                                   False  \nSTATE                                           UT  \nSTATUS                                      ACTIVE  \nSTID                                          K40U  \nTIMEZONE                            America/Denver  \nUNITS         {'position': 'm', 'elevation': 'ft'}  \nlatitude                                   40.9833  \nlongitude                                -109.6833  \n\n[16 rows x 128 columns]",
      "text/html": "<div>\n<style scoped>\n    .dataframe tbody tr th:only-of-type {\n        vertical-align: middle;\n    }\n\n    .dataframe tbody tr th {\n        vertical-align: top;\n    }\n\n    .dataframe thead th {\n        text-align: right;\n    }\n</style>\n<table border=\"1\" class=\"dataframe\">\n  <thead>\n    <tr style=\"text-align: right;\">\n      <th></th>\n      <th>KVEL</th>\n      <th>RSVL</th>\n      <th>RNGC2</th>\n      <th>CWHU1</th>\n      <th>HIRU1</th>\n      <th>HPSU1</th>\n      <th>LKFU1</th>\n      <th>MMTU1</th>\n      <th>TCKU1</th>\n      <th>SURC2</th>\n      <th>...</th>\n      <th>UTWIS</th>\n      <th>UTBAS</th>\n      <th>UTMOP</th>\n      <th>UT43W</th>\n      <th>JESU1</th>\n      <th>PC101</th>\n      <th>4276P</th>\n      <th>PC266</th>\n      <th>PC353</th>\n      <th>K40U</th>\n    </tr>\n  </thead>\n  <tbody>\n    <tr>\n      <th>DISTANCE</th>\n      <td>0.0</td>\n      <td>31.68</td>\n      <td>46.06</td>\n      <td>34.74</td>\n      <td>48.37</td>\n      <td>39.79</td>\n      <td>49.51</td>\n      <td>22.78</td>\n      <td>22.12</td>\n      <td>30.77</td>\n      <td>...</td>\n      <td>28.52</td>\n      <td>19.56</td>\n      <td>28.45</td>\n      <td>41.71</td>\n      <td>14.81</td>\n      <td>7.43</td>\n      <td>10.98</td>\n      <td>11.98</td>\n      <td>4.68</td>\n      <td>38.39</td>\n    </tr>\n    <tr>\n      <th>ELEVATION</th>\n      <td>5262.0</td>\n      <td>5151.0</td>\n      <td>5290.0</td>\n      <td>10498.0</td>\n      <td>9167.0</td>\n      <td>9121.0</td>\n      <td>10127.0</td>\n      <td>9552.0</td>\n      <td>9448.0</td>\n      <td>5960.0</td>\n      <td>...</td>\n      <td>7927.0</td>\n      <td>8368.0</td>\n      <td>8076.0</td>\n      <td>7231.0</td>\n      <td>4776.0</td>\n      <td>5855.0</td>\n      <td>4803.0</td>\n      <td>8426.0</td>\n      <td>5947.0</td>\n      <td>6175.0</td>\n    </tr>\n    <tr>\n      <th>ELEV_DEM</th>\n      <td>5269.0</td>\n      <td>5200.1</td>\n      <td>5295.3</td>\n      <td>10524.9</td>\n      <td>9179.8</td>\n      <td>9137.1</td>\n      <td>10157.5</td>\n      <td>9583.3</td>\n      <td>9471.8</td>\n      <td>6282.8</td>\n      <td>...</td>\n      <td>7923.2</td>\n      <td>8366.1</td>\n      <td>8084.0</td>\n      <td>7224.4</td>\n      <td>4780.2</td>\n      <td>NaN</td>\n      <td>NaN</td>\n      <td>8441.6</td>\n      <td>NaN</td>\n      <td>NaN</td>\n    </tr>\n    <tr>\n      <th>ID</th>\n      <td>61</td>\n      <td>878</td>\n      <td>964</td>\n      <td>1458</td>\n      <td>1472</td>\n      <td>1473</td>\n      <td>1482</td>\n      <td>1494</td>\n      <td>1509</td>\n      <td>1969</td>\n      <td>...</td>\n      <td>151978</td>\n      <td>151979</td>\n      <td>151983</td>\n      <td>151984</td>\n      <td>170574</td>\n      <td>172295</td>\n      <td>173578</td>\n      <td>175633</td>\n      <td>217351</td>\n      <td>218094</td>\n    </tr>\n    <tr>\n      <th>MNET_ID</th>\n      <td>1</td>\n      <td>1005</td>\n      <td>106</td>\n      <td>25</td>\n      <td>25</td>\n      <td>25</td>\n      <td>25</td>\n      <td>25</td>\n      <td>25</td>\n      <td>2</td>\n      <td>...</td>\n      <td>4</td>\n      <td>4</td>\n      <td>4</td>\n      <td>4</td>\n      <td>23</td>\n      <td>247</td>\n      <td>208</td>\n      <td>247</td>\n      <td>247</td>\n      <td>1</td>\n    </tr>\n    <tr>\n      <th>NAME</th>\n      <td>Vernal Airport</td>\n      <td>ROOSEVELT-UNION HS</td>\n      <td>RANGLEY 1E (POWER PLANT)</td>\n      <td>CHEPETA</td>\n      <td>HOLE-IN-ROCK</td>\n      <td>HICKERSON PARK</td>\n      <td>LAKEFORK #1</td>\n      <td>MOSBY MTN.</td>\n      <td>TROUT CREEK</td>\n      <td>DINOSAUR NM SUCCESS</td>\n      <td>...</td>\n      <td>US-191 at MP 386 Willie Spring</td>\n      <td>US-191 at MP 377 Bassett Spring</td>\n      <td>SR-44 at MP 9 Moose Pond</td>\n      <td>SR-43 at MP 0.5 West Stateline</td>\n      <td>GREEN RIVER NEAR JENSEN 6ENE</td>\n      <td>Dry Fork Canyon</td>\n      <td>Dino Ozone Station</td>\n      <td>Little Mountain</td>\n      <td>Vernal West</td>\n      <td>MANILA</td>\n    </tr>\n    <tr>\n      <th>RECORD_END</th>\n      <td>2023-11-17 17:10:00+00:00</td>\n      <td>2002-02-13 21:00:00+00:00</td>\n      <td>2023-10-21 03:00:00+00:00</td>\n      <td>2023-11-17 16:00:00+00:00</td>\n      <td>2023-11-17 16:00:00+00:00</td>\n      <td>2023-11-17 16:00:00+00:00</td>\n      <td>2023-11-17 15:00:00+00:00</td>\n      <td>2023-11-17 16:00:00+00:00</td>\n      <td>2023-11-17 16:00:00+00:00</td>\n      <td>2023-11-17 16:22:00+00:00</td>\n      <td>...</td>\n      <td>2023-11-17 17:10:00+00:00</td>\n      <td>2023-11-17 17:10:00+00:00</td>\n      <td>2023-11-17 17:10:00+00:00</td>\n      <td>2023-11-17 17:10:00+00:00</td>\n      <td>2023-11-17 15:30:00+00:00</td>\n      <td>2023-11-17 17:10:00+00:00</td>\n      <td>2022-05-27 03:10:00+00:00</td>\n      <td>2023-11-17 17:10:00+00:00</td>\n      <td>2023-11-17 17:10:00+00:00</td>\n      <td>2023-11-17 16:55:00+00:00</td>\n    </tr>\n    <tr>\n      <th>RECORD_START</th>\n      <td>1997-01-01 00:00:00+00:00</td>\n      <td>1999-01-12 00:00:00+00:00</td>\n      <td>1997-01-01 00:00:00+00:00</td>\n      <td>2000-01-20 00:00:00+00:00</td>\n      <td>2000-01-20 00:00:00+00:00</td>\n      <td>2000-01-20 00:00:00+00:00</td>\n      <td>2000-01-20 00:00:00+00:00</td>\n      <td>2000-01-20 00:00:00+00:00</td>\n      <td>2000-01-20 00:00:00+00:00</td>\n      <td>1998-07-30 00:00:00+00:00</td>\n      <td>...</td>\n      <td>2020-06-04 17:10:00+00:00</td>\n      <td>2020-06-04 17:10:00+00:00</td>\n      <td>2020-06-05 00:40:00+00:00</td>\n      <td>2020-06-05 00:40:00+00:00</td>\n      <td>2021-10-29 15:41:00+00:00</td>\n      <td>2022-03-11 08:14:00+00:00</td>\n      <td>2022-04-26 21:10:00+00:00</td>\n      <td>2022-06-30 20:15:00+00:00</td>\n      <td>2023-05-16 08:14:00+00:00</td>\n      <td>2023-05-24 20:23:00+00:00</td>\n    </tr>\n    <tr>\n      <th>RESTRICTED</th>\n      <td>False</td>\n      <td>False</td>\n      <td>False</td>\n      <td>False</td>\n      <td>False</td>\n      <td>False</td>\n      <td>False</td>\n      <td>False</td>\n      <td>False</td>\n      <td>False</td>\n      <td>...</td>\n      <td>False</td>\n      <td>False</td>\n      <td>False</td>\n      <td>False</td>\n      <td>False</td>\n      <td>False</td>\n      <td>False</td>\n      <td>False</td>\n      <td>False</td>\n      <td>False</td>\n    </tr>\n    <tr>\n      <th>STATE</th>\n      <td>UT</td>\n      <td>UT</td>\n      <td>CO</td>\n      <td>UT</td>\n      <td>UT</td>\n      <td>UT</td>\n      <td>UT</td>\n      <td>UT</td>\n      <td>UT</td>\n      <td>CO</td>\n      <td>...</td>\n      <td>UT</td>\n      <td>UT</td>\n      <td>UT</td>\n      <td>UT</td>\n      <td>UT</td>\n      <td>UT</td>\n      <td>UT</td>\n      <td>UT</td>\n      <td>UT</td>\n      <td>UT</td>\n    </tr>\n    <tr>\n      <th>STATUS</th>\n      <td>ACTIVE</td>\n      <td>INACTIVE</td>\n      <td>ACTIVE</td>\n      <td>ACTIVE</td>\n      <td>ACTIVE</td>\n      <td>ACTIVE</td>\n      <td>ACTIVE</td>\n      <td>ACTIVE</td>\n      <td>ACTIVE</td>\n      <td>ACTIVE</td>\n      <td>...</td>\n      <td>ACTIVE</td>\n      <td>ACTIVE</td>\n      <td>ACTIVE</td>\n      <td>ACTIVE</td>\n      <td>ACTIVE</td>\n      <td>ACTIVE</td>\n      <td>INACTIVE</td>\n      <td>ACTIVE</td>\n      <td>ACTIVE</td>\n      <td>ACTIVE</td>\n    </tr>\n    <tr>\n      <th>STID</th>\n      <td>KVEL</td>\n      <td>RSVL</td>\n      <td>RNGC2</td>\n      <td>CWHU1</td>\n      <td>HIRU1</td>\n      <td>HPSU1</td>\n      <td>LKFU1</td>\n      <td>MMTU1</td>\n      <td>TCKU1</td>\n      <td>SURC2</td>\n      <td>...</td>\n      <td>UTWIS</td>\n      <td>UTBAS</td>\n      <td>UTMOP</td>\n      <td>UT43W</td>\n      <td>JESU1</td>\n      <td>PC101</td>\n      <td>4276P</td>\n      <td>PC266</td>\n      <td>PC353</td>\n      <td>K40U</td>\n    </tr>\n    <tr>\n      <th>TIMEZONE</th>\n      <td>America/Denver</td>\n      <td>America/Denver</td>\n      <td>America/Denver</td>\n      <td>America/Denver</td>\n      <td>America/Denver</td>\n      <td>America/Denver</td>\n      <td>America/Denver</td>\n      <td>America/Denver</td>\n      <td>America/Denver</td>\n      <td>America/Denver</td>\n      <td>...</td>\n      <td>America/Denver</td>\n      <td>America/Denver</td>\n      <td>America/Denver</td>\n      <td>America/Denver</td>\n      <td>America/Denver</td>\n      <td>America/Denver</td>\n      <td>America/Denver</td>\n      <td>America/Denver</td>\n      <td>America/Denver</td>\n      <td>America/Denver</td>\n    </tr>\n    <tr>\n      <th>UNITS</th>\n      <td>{'position': 'm', 'elevation': 'ft'}</td>\n      <td>{'position': 'm', 'elevation': 'ft'}</td>\n      <td>{'position': 'm', 'elevation': 'ft'}</td>\n      <td>{'position': 'm', 'elevation': 'ft'}</td>\n      <td>{'position': 'm', 'elevation': 'ft'}</td>\n      <td>{'position': 'm', 'elevation': 'ft'}</td>\n      <td>{'position': 'm', 'elevation': 'ft'}</td>\n      <td>{'position': 'm', 'elevation': 'ft'}</td>\n      <td>{'position': 'm', 'elevation': 'ft'}</td>\n      <td>{'position': 'm', 'elevation': 'ft'}</td>\n      <td>...</td>\n      <td>{'position': 'm', 'elevation': 'ft'}</td>\n      <td>{'position': 'm', 'elevation': 'ft'}</td>\n      <td>{'position': 'm', 'elevation': 'ft'}</td>\n      <td>{'position': 'm', 'elevation': 'ft'}</td>\n      <td>{'position': 'm', 'elevation': 'ft'}</td>\n      <td>{'position': 'm', 'elevation': 'ft'}</td>\n      <td>{'position': 'm', 'elevation': 'ft'}</td>\n      <td>{'position': 'm', 'elevation': 'ft'}</td>\n      <td>{'position': 'm', 'elevation': 'ft'}</td>\n      <td>{'position': 'm', 'elevation': 'ft'}</td>\n    </tr>\n    <tr>\n      <th>latitude</th>\n      <td>40.44295</td>\n      <td>40.27</td>\n      <td>40.08889</td>\n      <td>40.77458</td>\n      <td>40.92167</td>\n      <td>40.90663</td>\n      <td>40.59709</td>\n      <td>40.60798</td>\n      <td>40.73915</td>\n      <td>40.51056</td>\n      <td>...</td>\n      <td>40.8539</td>\n      <td>40.724</td>\n      <td>40.84185</td>\n      <td>40.9918</td>\n      <td>40.40944</td>\n      <td>40.52349</td>\n      <td>40.437</td>\n      <td>40.54216</td>\n      <td>40.41344</td>\n      <td>40.9833</td>\n    </tr>\n    <tr>\n      <th>longitude</th>\n      <td>-109.51273</td>\n      <td>-110.07</td>\n      <td>-108.7725</td>\n      <td>-110.0105</td>\n      <td>-110.18623</td>\n      <td>-109.96287</td>\n      <td>-110.43316</td>\n      <td>-109.8881</td>\n      <td>-109.67265</td>\n      <td>-108.93417</td>\n      <td>...</td>\n      <td>-109.46205</td>\n      <td>-109.4688</td>\n      <td>-109.64705</td>\n      <td>-109.8445</td>\n      <td>-109.23472</td>\n      <td>-109.60627</td>\n      <td>-109.304</td>\n      <td>-109.69963</td>\n      <td>-109.59288</td>\n      <td>-109.6833</td>\n    </tr>\n  </tbody>\n</table>\n<p>16 rows × 128 columns</p>\n</div>"
     },
     "execution_count": 3,
     "metadata": {},
     "output_type": "execute_result"
    }
   ],
   "source": [
    "# Terrain and roads etc\n",
    "radius = \"KVEL,50\"\n",
    "recent = 180\n",
    "cimgt.Stamen.get_image = image_spoof  # reformat web request for street map spoofing\n",
    "osm_img = cimgt.Stamen('terrain')  # spoofed, downloaded street map\n",
    "\n",
    "df_meta = ss.stations_metadata(radius=radius, recent=recent)\n",
    "df_meta"
   ],
   "metadata": {
    "collapsed": false,
    "ExecuteTime": {
     "end_time": "2023-11-17T18:07:17.766088Z",
     "start_time": "2023-11-17T18:07:16.748623Z"
    }
   },
   "id": "307c28896c9fa9e9"
  },
  {
   "cell_type": "markdown",
   "source": [
    "I would like to see maps that show available stations for each variable (e.g., temperature, wind, etc). The aim is to have a dataset to run mining and neural networks on to find:\n",
    "\n",
    "* Areas of most sensitivity for, e.g., central Basin towns' weather conditions\n",
    "* Clusters in the dataset that might automatically \"detect\" inversion events\n",
    "* Are there areas with low observational coverage? South end of Basin; exit canyons?\n",
    "* Will need to build dataset for a number of NDJF periods (?) and fill gaps of missing data \n",
    "* I want to generate criteria in weather observations for inversion onset, persistence, and dissipation"
   ],
   "metadata": {
    "collapsed": false
   },
   "id": "df3a27c49be948aa"
  },
  {
   "cell_type": "code",
   "execution_count": 8,
   "outputs": [
    {
     "name": "stdout",
     "output_type": "stream",
     "text": [
      "\n",
      " 🚚💨 Speedy Delivery from Synoptic API [timeseries]: https://api.synopticdata.com/v2/stations/timeseries?stid=KVEL&start=202309010000&end=202309250000&vars=wind_speed,wind_direction,air_temp,dew_point_temperature,pressure,snow_depth,solar_radiation,ozone_concentration,relative_humidity,wind_gust,altimeter,soil_temp,sea_level_pressure,snow_accum,road_temp,cloud_layer_1_code,cloud_layer_2_code,cloud_layer_3_code,cloud_low_symbol,cloud_mid_symbol,cloud_high_symbol,sonic_wind_direction,peak_wind_speed,ceiling,sonic_wind_speed,soil_temp_ir,snow_smoothed,snow_accum_manual,snow_water_equiv,precipitable_water_vapor,net_radiation_sw,sonic_air_temp,sonic_vertical_vel,vertical_heat_flux&token=🙈HIDDEN\n"
     ]
    },
    {
     "data": {
      "text/plain": "                           air_temp   altimeter  ceiling  cloud_layer_1_code  \\\ndate_time                                                                      \n2023-09-01 00:00:00+00:00      33.0  101354.563      NaN                 1.0   \n2023-09-01 00:05:00+00:00      33.0  101354.563      NaN                 1.0   \n2023-09-01 00:10:00+00:00      33.0  101354.563      NaN                 1.0   \n2023-09-01 00:15:00+00:00      33.0  101354.563      NaN                 1.0   \n2023-09-01 00:20:00+00:00      33.0  101354.563      NaN                 1.0   \n...                             ...         ...      ...                 ...   \n2023-09-24 23:45:00+00:00      23.0  102235.024      NaN                 1.0   \n2023-09-24 23:50:00+00:00      23.0  102235.024      NaN                 1.0   \n2023-09-24 23:53:00+00:00      22.8  102235.024      NaN                 1.0   \n2023-09-24 23:55:00+00:00      23.0  102235.024      NaN                 1.0   \n2023-09-25 00:00:00+00:00      23.0  102235.024      NaN                 1.0   \n\n                           cloud_layer_2_code  cloud_layer_3_code  \\\ndate_time                                                           \n2023-09-01 00:00:00+00:00                 NaN                 NaN   \n2023-09-01 00:05:00+00:00                 NaN                 NaN   \n2023-09-01 00:10:00+00:00                 NaN                 NaN   \n2023-09-01 00:15:00+00:00                 NaN                 NaN   \n2023-09-01 00:20:00+00:00                 NaN                 NaN   \n...                                       ...                 ...   \n2023-09-24 23:45:00+00:00                 NaN                 NaN   \n2023-09-24 23:50:00+00:00                 NaN                 NaN   \n2023-09-24 23:53:00+00:00                 NaN                 NaN   \n2023-09-24 23:55:00+00:00                 NaN                 NaN   \n2023-09-25 00:00:00+00:00                 NaN                 NaN   \n\n                           dew_point_temperature_set_1  dew_point_temperature  \\\ndate_time                                                                       \n2023-09-01 00:00:00+00:00                          NaN                  -1.76   \n2023-09-01 00:05:00+00:00                          NaN                  -1.76   \n2023-09-01 00:10:00+00:00                          NaN                   0.21   \n2023-09-01 00:15:00+00:00                          NaN                  -0.78   \n2023-09-01 00:20:00+00:00                          NaN                  -0.78   \n...                                                ...                    ...   \n2023-09-24 23:45:00+00:00                          NaN                  -3.99   \n2023-09-24 23:50:00+00:00                          NaN                  -3.99   \n2023-09-24 23:53:00+00:00                         -4.4                  -4.39   \n2023-09-24 23:55:00+00:00                          NaN                  -3.99   \n2023-09-25 00:00:00+00:00                          NaN                  -3.99   \n\n                           peak_wind_speed  pressure  relative_humidity  \\\ndate_time                                                                 \n2023-09-01 00:00:00+00:00              NaN  83499.00              10.52   \n2023-09-01 00:05:00+00:00              NaN  83499.00              10.52   \n2023-09-01 00:10:00+00:00              NaN  83499.00              12.18   \n2023-09-01 00:15:00+00:00              NaN  83499.00              11.32   \n2023-09-01 00:20:00+00:00              NaN  83499.00              11.32   \n...                                    ...       ...                ...   \n2023-09-24 23:45:00+00:00              NaN  84224.35              16.22   \n2023-09-24 23:50:00+00:00              NaN  84224.35              16.22   \n2023-09-24 23:53:00+00:00              NaN  84224.35              15.93   \n2023-09-24 23:55:00+00:00              NaN  84224.35              16.22   \n2023-09-25 00:00:00+00:00              NaN  84224.35              16.22   \n\n                           sea_level_pressure_set_1  sea_level_pressure  \\\ndate_time                                                                 \n2023-09-01 00:00:00+00:00                       NaN            99564.56   \n2023-09-01 00:05:00+00:00                       NaN            99564.56   \n2023-09-01 00:10:00+00:00                       NaN            99564.47   \n2023-09-01 00:15:00+00:00                       NaN            99564.52   \n2023-09-01 00:20:00+00:00                       NaN            99564.52   \n...                                             ...                 ...   \n2023-09-24 23:45:00+00:00                       NaN           101017.69   \n2023-09-24 23:50:00+00:00                       NaN           101017.69   \n2023-09-24 23:53:00+00:00                  101860.0           101029.90   \n2023-09-24 23:55:00+00:00                       NaN           101017.69   \n2023-09-25 00:00:00+00:00                       NaN           101017.69   \n\n                           wind_direction  wind_gust  wind_speed  wind_u  \\\ndate_time                                                                  \n2023-09-01 00:00:00+00:00           280.0        NaN       3.601   3.546   \n2023-09-01 00:05:00+00:00           260.0        NaN       2.572   2.533   \n2023-09-01 00:10:00+00:00           260.0        NaN       2.572   2.533   \n2023-09-01 00:15:00+00:00           270.0        NaN       3.087   3.087   \n2023-09-01 00:20:00+00:00           270.0        NaN       2.572   2.572   \n...                                   ...        ...         ...     ...   \n2023-09-24 23:45:00+00:00            80.0        NaN       1.543  -1.520   \n2023-09-24 23:50:00+00:00            60.0        NaN       2.058  -1.782   \n2023-09-24 23:53:00+00:00            70.0        NaN       1.543  -1.450   \n2023-09-24 23:55:00+00:00            80.0        NaN       1.543  -1.520   \n2023-09-25 00:00:00+00:00           100.0        NaN       1.543  -1.520   \n\n                           wind_v  air_density  \ndate_time                                       \n2023-09-01 00:00:00+00:00  -0.625     0.950121  \n2023-09-01 00:05:00+00:00   0.447     0.950121  \n2023-09-01 00:10:00+00:00   0.447     0.950117  \n2023-09-01 00:15:00+00:00   0.000     0.950119  \n2023-09-01 00:20:00+00:00   0.000     0.950119  \n...                           ...          ...  \n2023-09-24 23:45:00+00:00  -0.268     0.990740  \n2023-09-24 23:50:00+00:00  -1.029     0.990740  \n2023-09-24 23:53:00+00:00  -0.528     0.991410  \n2023-09-24 23:55:00+00:00  -0.268     0.990740  \n2023-09-25 00:00:00+00:00   0.268     0.990740  \n\n[7456 rows x 19 columns]",
      "text/html": "<div>\n<style scoped>\n    .dataframe tbody tr th:only-of-type {\n        vertical-align: middle;\n    }\n\n    .dataframe tbody tr th {\n        vertical-align: top;\n    }\n\n    .dataframe thead th {\n        text-align: right;\n    }\n</style>\n<table border=\"1\" class=\"dataframe\">\n  <thead>\n    <tr style=\"text-align: right;\">\n      <th></th>\n      <th>air_temp</th>\n      <th>altimeter</th>\n      <th>ceiling</th>\n      <th>cloud_layer_1_code</th>\n      <th>cloud_layer_2_code</th>\n      <th>cloud_layer_3_code</th>\n      <th>dew_point_temperature_set_1</th>\n      <th>dew_point_temperature</th>\n      <th>peak_wind_speed</th>\n      <th>pressure</th>\n      <th>relative_humidity</th>\n      <th>sea_level_pressure_set_1</th>\n      <th>sea_level_pressure</th>\n      <th>wind_direction</th>\n      <th>wind_gust</th>\n      <th>wind_speed</th>\n      <th>wind_u</th>\n      <th>wind_v</th>\n      <th>air_density</th>\n    </tr>\n    <tr>\n      <th>date_time</th>\n      <th></th>\n      <th></th>\n      <th></th>\n      <th></th>\n      <th></th>\n      <th></th>\n      <th></th>\n      <th></th>\n      <th></th>\n      <th></th>\n      <th></th>\n      <th></th>\n      <th></th>\n      <th></th>\n      <th></th>\n      <th></th>\n      <th></th>\n      <th></th>\n      <th></th>\n    </tr>\n  </thead>\n  <tbody>\n    <tr>\n      <th>2023-09-01 00:00:00+00:00</th>\n      <td>33.0</td>\n      <td>101354.563</td>\n      <td>NaN</td>\n      <td>1.0</td>\n      <td>NaN</td>\n      <td>NaN</td>\n      <td>NaN</td>\n      <td>-1.76</td>\n      <td>NaN</td>\n      <td>83499.00</td>\n      <td>10.52</td>\n      <td>NaN</td>\n      <td>99564.56</td>\n      <td>280.0</td>\n      <td>NaN</td>\n      <td>3.601</td>\n      <td>3.546</td>\n      <td>-0.625</td>\n      <td>0.950121</td>\n    </tr>\n    <tr>\n      <th>2023-09-01 00:05:00+00:00</th>\n      <td>33.0</td>\n      <td>101354.563</td>\n      <td>NaN</td>\n      <td>1.0</td>\n      <td>NaN</td>\n      <td>NaN</td>\n      <td>NaN</td>\n      <td>-1.76</td>\n      <td>NaN</td>\n      <td>83499.00</td>\n      <td>10.52</td>\n      <td>NaN</td>\n      <td>99564.56</td>\n      <td>260.0</td>\n      <td>NaN</td>\n      <td>2.572</td>\n      <td>2.533</td>\n      <td>0.447</td>\n      <td>0.950121</td>\n    </tr>\n    <tr>\n      <th>2023-09-01 00:10:00+00:00</th>\n      <td>33.0</td>\n      <td>101354.563</td>\n      <td>NaN</td>\n      <td>1.0</td>\n      <td>NaN</td>\n      <td>NaN</td>\n      <td>NaN</td>\n      <td>0.21</td>\n      <td>NaN</td>\n      <td>83499.00</td>\n      <td>12.18</td>\n      <td>NaN</td>\n      <td>99564.47</td>\n      <td>260.0</td>\n      <td>NaN</td>\n      <td>2.572</td>\n      <td>2.533</td>\n      <td>0.447</td>\n      <td>0.950117</td>\n    </tr>\n    <tr>\n      <th>2023-09-01 00:15:00+00:00</th>\n      <td>33.0</td>\n      <td>101354.563</td>\n      <td>NaN</td>\n      <td>1.0</td>\n      <td>NaN</td>\n      <td>NaN</td>\n      <td>NaN</td>\n      <td>-0.78</td>\n      <td>NaN</td>\n      <td>83499.00</td>\n      <td>11.32</td>\n      <td>NaN</td>\n      <td>99564.52</td>\n      <td>270.0</td>\n      <td>NaN</td>\n      <td>3.087</td>\n      <td>3.087</td>\n      <td>0.000</td>\n      <td>0.950119</td>\n    </tr>\n    <tr>\n      <th>2023-09-01 00:20:00+00:00</th>\n      <td>33.0</td>\n      <td>101354.563</td>\n      <td>NaN</td>\n      <td>1.0</td>\n      <td>NaN</td>\n      <td>NaN</td>\n      <td>NaN</td>\n      <td>-0.78</td>\n      <td>NaN</td>\n      <td>83499.00</td>\n      <td>11.32</td>\n      <td>NaN</td>\n      <td>99564.52</td>\n      <td>270.0</td>\n      <td>NaN</td>\n      <td>2.572</td>\n      <td>2.572</td>\n      <td>0.000</td>\n      <td>0.950119</td>\n    </tr>\n    <tr>\n      <th>...</th>\n      <td>...</td>\n      <td>...</td>\n      <td>...</td>\n      <td>...</td>\n      <td>...</td>\n      <td>...</td>\n      <td>...</td>\n      <td>...</td>\n      <td>...</td>\n      <td>...</td>\n      <td>...</td>\n      <td>...</td>\n      <td>...</td>\n      <td>...</td>\n      <td>...</td>\n      <td>...</td>\n      <td>...</td>\n      <td>...</td>\n      <td>...</td>\n    </tr>\n    <tr>\n      <th>2023-09-24 23:45:00+00:00</th>\n      <td>23.0</td>\n      <td>102235.024</td>\n      <td>NaN</td>\n      <td>1.0</td>\n      <td>NaN</td>\n      <td>NaN</td>\n      <td>NaN</td>\n      <td>-3.99</td>\n      <td>NaN</td>\n      <td>84224.35</td>\n      <td>16.22</td>\n      <td>NaN</td>\n      <td>101017.69</td>\n      <td>80.0</td>\n      <td>NaN</td>\n      <td>1.543</td>\n      <td>-1.520</td>\n      <td>-0.268</td>\n      <td>0.990740</td>\n    </tr>\n    <tr>\n      <th>2023-09-24 23:50:00+00:00</th>\n      <td>23.0</td>\n      <td>102235.024</td>\n      <td>NaN</td>\n      <td>1.0</td>\n      <td>NaN</td>\n      <td>NaN</td>\n      <td>NaN</td>\n      <td>-3.99</td>\n      <td>NaN</td>\n      <td>84224.35</td>\n      <td>16.22</td>\n      <td>NaN</td>\n      <td>101017.69</td>\n      <td>60.0</td>\n      <td>NaN</td>\n      <td>2.058</td>\n      <td>-1.782</td>\n      <td>-1.029</td>\n      <td>0.990740</td>\n    </tr>\n    <tr>\n      <th>2023-09-24 23:53:00+00:00</th>\n      <td>22.8</td>\n      <td>102235.024</td>\n      <td>NaN</td>\n      <td>1.0</td>\n      <td>NaN</td>\n      <td>NaN</td>\n      <td>-4.4</td>\n      <td>-4.39</td>\n      <td>NaN</td>\n      <td>84224.35</td>\n      <td>15.93</td>\n      <td>101860.0</td>\n      <td>101029.90</td>\n      <td>70.0</td>\n      <td>NaN</td>\n      <td>1.543</td>\n      <td>-1.450</td>\n      <td>-0.528</td>\n      <td>0.991410</td>\n    </tr>\n    <tr>\n      <th>2023-09-24 23:55:00+00:00</th>\n      <td>23.0</td>\n      <td>102235.024</td>\n      <td>NaN</td>\n      <td>1.0</td>\n      <td>NaN</td>\n      <td>NaN</td>\n      <td>NaN</td>\n      <td>-3.99</td>\n      <td>NaN</td>\n      <td>84224.35</td>\n      <td>16.22</td>\n      <td>NaN</td>\n      <td>101017.69</td>\n      <td>80.0</td>\n      <td>NaN</td>\n      <td>1.543</td>\n      <td>-1.520</td>\n      <td>-0.268</td>\n      <td>0.990740</td>\n    </tr>\n    <tr>\n      <th>2023-09-25 00:00:00+00:00</th>\n      <td>23.0</td>\n      <td>102235.024</td>\n      <td>NaN</td>\n      <td>1.0</td>\n      <td>NaN</td>\n      <td>NaN</td>\n      <td>NaN</td>\n      <td>-3.99</td>\n      <td>NaN</td>\n      <td>84224.35</td>\n      <td>16.22</td>\n      <td>NaN</td>\n      <td>101017.69</td>\n      <td>100.0</td>\n      <td>NaN</td>\n      <td>1.543</td>\n      <td>-1.520</td>\n      <td>0.268</td>\n      <td>0.990740</td>\n    </tr>\n  </tbody>\n</table>\n<p>7456 rows × 19 columns</p>\n</div>"
     },
     "execution_count": 8,
     "metadata": {},
     "output_type": "execute_result"
    }
   ],
   "source": [
    "# Show stations with temperature, wind direction, wind speed, humidity \n",
    "def get_density(P,T,Td):\n",
    "    \"\"\"\n",
    "    P in Pa\n",
    "    T in K\n",
    "    Td in K \n",
    "    \"\"\"\n",
    "    R_d = 287.05  # J/(kg·K)\n",
    "    R_v = 461.495  # J/(kg·K)\n",
    "    \n",
    "    # Celsius for this\n",
    "    Td_C = Td - 273.15\n",
    "    \n",
    "    # Calculate partial pressure of water vapour\n",
    "    P_v = 6.11 * 10 ** (7.5 * Td_C / (237.3 + Td_C))\n",
    "    \n",
    "    # Calculate partial pressure of dry air\n",
    "    P_d = P - P_v\n",
    "    \n",
    "    # Calculate air density\n",
    "    rho = (P_d / (R_d * T)) + (P_v / (R_v * T))\n",
    "    return rho\n",
    "\n",
    "vars=[\"wind_speed\",\"wind_direction\",\"air_temp\",\"dew_point_temperature\",\n",
    "            \"pressure\",\"snow_depth\",\"solar_radiation\",\n",
    "            \"relative_humidity\",\"wind_gust\",\"altimeter\",\"soil_temp\",\n",
    "            \"sea_level_pressure\",\"snow_accum\", \"road_temp\",\n",
    "            \"cloud_layer_1_code\", \"cloud_layer_2_code\",\n",
    "            \"cloud_layer_3_code\", \"cloud_low_symbol\",\n",
    "            \"cloud_mid_symbol\", \"cloud_high_symbol\",\n",
    "            \"sonic_wind_direction\", \"peak_wind_speed\",\n",
    "            \"ceiling\", \"sonic_wind_speed\", \"soil_temp_ir\",\n",
    "            \"snow_smoothed\", \"snow_accum_manual\", \"snow_water_equiv\",\n",
    "            \"precipitable_water_vapor\", \"net_radiation_sw\",\n",
    "            \"sonic_air_temp\", \"sonic_vertical_vel\",\n",
    "            \"vertical_heat_flux\", \"outgoing_radiation_sw\",\n",
    "            \"PM_25_concentration\", \"ozone_concentration\",\n",
    "            \"derived_aerosol_boundary_layer_depth\",\n",
    "            \"NOx_concentration\", \"PM_10_concentration\",\n",
    "            \"visibility_code\", \"cloud_layer_1\", \"cloud_layer_2\",\n",
    "            \"cloud_layer_3\", \"wet_bulb_temperature\"\n",
    "            ]\n",
    "# Let's try KVEL time series and computed density of air \n",
    "# stid takes a tuple of station IDs and returns a list of dataframes\n",
    "df = ss.stations_timeseries(stid=\"KVEL\",start=datetime.datetime(2023,9,1,0,0,0),end=datetime.datetime(2023,9,25,0,0,0),\n",
    "                                vars=vars)\n",
    "rho = get_density(df[\"pressure\"],df[\"air_temp\"]+273.15,df[\"dew_point_temperature\"]+273.15)\n",
    "df = df.assign(air_density=rho.values)\n",
    "df\n"
   ],
   "metadata": {
    "collapsed": false,
    "ExecuteTime": {
     "end_time": "2023-11-17T18:29:43.657441Z",
     "start_time": "2023-11-17T18:29:42.492029Z"
    }
   },
   "id": "4363fdee8ef03797"
  },
  {
   "cell_type": "code",
   "execution_count": 5,
   "outputs": [
    {
     "data": {
      "text/plain": "{'ID': 61,\n 'STID': 'KVEL',\n 'NAME': 'Vernal Airport',\n 'ELEVATION': 5262,\n 'STATUS': 'ACTIVE',\n 'MNET_ID': 1,\n 'STATE': 'UT',\n 'TIMEZONE': 'America/Denver',\n 'ELEV_DEM': 5269,\n 'PERIOD_OF_RECORD': {'start': '1997-01-01T00:00:00Z',\n  'end': '2023-11-17T17:35:00Z'},\n 'UNITS': {'position': 'm',\n  'elevation': 'ft',\n  'air_temp': 'Celsius',\n  'wind_direction': 'Degrees',\n  'wind_speed': 'm/s',\n  'dew_point_temperature': 'Celsius',\n  'pressure': 'Pascals',\n  'wind_u': 'm/s',\n  'wind_v': 'm/s'},\n 'QC_FLAGGED': False,\n 'RESTRICTED': False,\n 'RENAMED': {'air_temp_set_1': 'air_temp',\n  'dew_point_temperature_set_1': 'dew_point_temperature_set_1',\n  'dew_point_temperature_set_1d': 'dew_point_temperature',\n  'pressure_set_1d': 'pressure',\n  'wind_direction_set_1': 'wind_direction',\n  'wind_speed_set_1': 'wind_speed',\n  'wind_u_set_1': 'wind_u',\n  'wind_v_set_1': 'wind_v'},\n 'latitude': 40.44295,\n 'longitude': -109.51273,\n 'SUMMARY': {'NUMBER_OF_OBJECTS': 1,\n  'RESPONSE_CODE': 1,\n  'RESPONSE_MESSAGE': 'OK',\n  'METADATA_RESPONSE_TIME': '287.7 ms',\n  'DATA_QUERY_TIME': '104.8 ms',\n  'QC_QUERY_TIME': '17.6 ms',\n  'DATA_PARSING_TIME': '81.1 ms',\n  'TOTAL_DATA_TIME': '203.6 ms',\n  'VERSION': 'v2.22.5'},\n 'QC_SUMMARY': {'QC_CHECKS_APPLIED': ['sl_range_check'],\n  'TOTAL_OBSERVATIONS_FLAGGED': 0.0,\n  'PERCENT_OF_TOTAL_OBSERVATIONS_FLAGGED': 0.0},\n 'SENSOR_VARIABLES': {'air_temp': {'air_temp_set_1': {}},\n  'wind_direction': {'wind_direction_set_1': {}},\n  'wind_speed': {'wind_speed_set_1': {}},\n  'dew_point_temperature': {'dew_point_temperature_set_1': {},\n   'dew_point_temperature_set_1d': {'derived_from': ['air_temp_set_1',\n     'relative_humidity_set_1']}},\n  'pressure': {'pressure_set_1d': {'derived_from': ['altimeter_set_1']}}},\n 'params': {'stid': 'KVEL',\n  'start': datetime.datetime(2023, 9, 1, 0, 0),\n  'end': datetime.datetime(2023, 9, 25, 0, 0),\n  'vars': ['wind_speed',\n   'wind_direction',\n   'air_temp',\n   'dew_point_temperature',\n   'pressure',\n   'snow_depth',\n   'solar_radiation',\n   'ozone_concentration']},\n 'service': 'stations_timeseries'}"
     },
     "execution_count": 5,
     "metadata": {},
     "output_type": "execute_result"
    }
   ],
   "source": [
    "df.attrs"
   ],
   "metadata": {
    "collapsed": false,
    "ExecuteTime": {
     "end_time": "2023-11-17T18:07:18.683136Z",
     "start_time": "2023-11-17T18:07:18.680886Z"
    }
   },
   "id": "e94041b4aef2d1e"
  },
  {
   "cell_type": "code",
   "execution_count": 6,
   "outputs": [],
   "source": [
    "# Drop everything that isn't this? Need to add these to a SQL database\n",
    "conn = sqlite3.connect(\"observation_repo.db\")\n",
    "cursor = conn.cursor()\n",
    "\n",
    "# Here we need to set out all variables we like \n",
    "# Delete table in testing \n",
    "# To avoid loads of API calls, we need a function to create a new column if needed\n",
    "# cursor.execute(\"DROP TABLE IF EXISTS weather_data\")\n",
    "\n",
    "# We don't want pressure or altimeter but mslp\n",
    "cursor.execute(\"\"\"\n",
    "    CREATE TABLE IF NOT EXISTS weather_data (\n",
    "        id INTEGER PRIMARY KEY AUTOINCREMENT,\n",
    "        date_time TEXT,\n",
    "        stid TEXT,\n",
    "        elevation REAL,\n",
    "        latitude REAL,\n",
    "        longitude REAL,\n",
    "        air_temp REAL,\n",
    "        dew_point_temperature REAL,\n",
    "        wind_direction REAL,\n",
    "        wind_speed REAL,\n",
    "        wind_u REAL,\n",
    "        wind_v REAL,\n",
    "        snow_depth REAL,\n",
    "        solar_radiation REAL,\n",
    "        ozone_concentration REAL,\n",
    "        air_density REAL\n",
    "    );\"\"\"\n",
    ")\n",
    "conn.commit()"
   ],
   "metadata": {
    "collapsed": false,
    "ExecuteTime": {
     "end_time": "2023-11-17T18:07:18.693824Z",
     "start_time": "2023-11-17T18:07:18.683724Z"
    }
   },
   "id": "a6acc86f58f05b0a"
  },
  {
   "cell_type": "code",
   "execution_count": 7,
   "outputs": [
    {
     "ename": "NameError",
     "evalue": "name 'stids' is not defined",
     "output_type": "error",
     "traceback": [
      "\u001B[0;31m---------------------------------------------------------------------------\u001B[0m",
      "\u001B[0;31mNameError\u001B[0m                                 Traceback (most recent call last)",
      "Cell \u001B[0;32mIn[7], line 6\u001B[0m\n\u001B[1;32m      1\u001B[0m \u001B[38;5;66;03m# stids.values\u001B[39;00m\n\u001B[1;32m      2\u001B[0m \u001B[38;5;66;03m# Create lookup for station v elevation, latitude, longitude\u001B[39;00m\n\u001B[1;32m      3\u001B[0m \u001B[38;5;66;03m# store dict with station v metadata dict \u001B[39;00m\n\u001B[1;32m      5\u001B[0m STID_META \u001B[38;5;241m=\u001B[39m \u001B[38;5;28mdict\u001B[39m()\n\u001B[0;32m----> 6\u001B[0m \u001B[38;5;28;01mfor\u001B[39;00m stid \u001B[38;5;129;01min\u001B[39;00m \u001B[43mstids\u001B[49m:\n\u001B[1;32m      7\u001B[0m     df_meta \u001B[38;5;241m=\u001B[39m ss\u001B[38;5;241m.\u001B[39mstations_metadata(stid\u001B[38;5;241m=\u001B[39mstid)\n\u001B[1;32m      8\u001B[0m     STID_META[stid] \u001B[38;5;241m=\u001B[39m df_meta\n",
      "\u001B[0;31mNameError\u001B[0m: name 'stids' is not defined"
     ]
    }
   ],
   "source": [
    "# stids.values\n",
    "# Create lookup for station v elevation, latitude, longitude\n",
    "# store dict with station v metadata dict \n",
    "\n",
    "STID_META = dict()\n",
    "for stid in stids:\n",
    "    df_meta = ss.stations_metadata(stid=stid)\n",
    "    STID_META[stid] = df_meta"
   ],
   "metadata": {
    "collapsed": false,
    "ExecuteTime": {
     "end_time": "2023-11-17T18:07:18.815544Z",
     "start_time": "2023-11-17T18:07:18.686284Z"
    }
   },
   "id": "42fb9fa659efb189"
  },
  {
   "cell_type": "code",
   "execution_count": null,
   "outputs": [],
   "source": [
    "# For each station in stids, let's fetch the dataframe. We will have a list of them ready to concatenate or feed into the SQL database\n",
    "if already_done is False:\n",
    "    for stid in stids.values:\n",
    "        try:\n",
    "            df = ss.stations_timeseries(stid=stid,start=datetime.datetime(2022,9,26,0,0,0),end=datetime.datetime(2023,9,25,0,0,0),\n",
    "                                    vars=vars,\n",
    "                                        verbose=False)\n",
    "        except AssertionError:\n",
    "            print(\"Skipping\",stid)\n",
    "            continue\n",
    "\n",
    "        stid_lat = STID_META[stid][\"latitude\"]\n",
    "        stid_lon = STID_META[stid][\"longitude\"]\n",
    "            \n",
    "        if (\"pressure\" in df.columns) and (\"air_temp\" in df.columns) and (\"dew_point_temperature\" in df.columns):\n",
    "            rho = get_density(df[\"pressure\"],df[\"air_temp\"]+273.15,df[\"dew_point_temperature\"]+273.15)\n",
    "            df = df.assign(air_density=rho.values)\n",
    "        df = df.assign(stid=stid, elevation=df_meta[stid].ELEVATION*0.304,latitude=latitudes,longitude=longitudes)\n",
    "        \n",
    "        df.loc[df[stid] == stid, 'latitude'] = stid_lat\n",
    "        df.loc[df[stid] == stid, 'longitude'] = stid_lon\n",
    "        \n",
    "        # Drop everything that isn't in...\n",
    "        good_cols = vars + [\"date_time\",\"wind_u\",\"wind_v\",\"air_density\",\"stid\",\"elevation\",\"latitude\",\"longitude\"]\n",
    "        df.drop(columns=[col for col in df if col not in good_cols], inplace=True)\n",
    "    \n",
    "        # pd.to_datetime(df['date_time']).dt.strftime('%Y-%m-%dT%H:%M:%SZ')\n",
    "        pd.to_datetime(df.index.strftime('%Y-%m-%dT%H:%M:%SZ'))\n",
    "        df.to_sql('weather_data', conn, if_exists='append', index=True, index_label=\"date_time\")\n",
    "    \n",
    "    conn.commit()\n",
    "        # break"
   ],
   "metadata": {
    "collapsed": false,
    "ExecuteTime": {
     "start_time": "2023-11-17T18:07:18.817095Z"
    }
   },
   "id": "77658b7a810c9f46"
  },
  {
   "cell_type": "code",
   "execution_count": null,
   "outputs": [],
   "source": [
    "df"
   ],
   "metadata": {
    "collapsed": false,
    "ExecuteTime": {
     "start_time": "2023-11-17T18:07:18.818153Z"
    }
   },
   "id": "c0568ade914a1410"
  },
  {
   "cell_type": "code",
   "execution_count": null,
   "outputs": [],
   "source": [
    "# conn = sqlite3.connect(\"observation_repo.db\")\n",
    "\n",
    "query = \"SELECT * FROM weather_data\" # LIMIT 200\"\n",
    "\n",
    "df_q = pd.read_sql_query(query, conn)\n",
    "display(df_q)  # This will display the DataFrame in Jupyter's rich display system"
   ],
   "metadata": {
    "collapsed": false,
    "ExecuteTime": {
     "start_time": "2023-11-17T18:07:18.819509Z"
    }
   },
   "id": "5190f1bb33176b40"
  },
  {
   "cell_type": "code",
   "execution_count": null,
   "outputs": [],
   "source": [
    "def reduce_pressure_to_mslp(P, T, h, L=0.0065):\n",
    "    \"\"\"\n",
    "    Reduce pressure to mean sea level using the hypsometric equation.\n",
    "    \n",
    "    Parameters:\n",
    "    P : float\n",
    "        Observed pressure at altitude in hPa\n",
    "    T : float\n",
    "        Observed temperature at altitude in Celsius\n",
    "    h : float\n",
    "        Altitude in meters\n",
    "    L : float, optional\n",
    "        Temperature lapse rate in K/m, default is 0.0065 K/m\n",
    "    \n",
    "    Returns:\n",
    "    float\n",
    "        Pressure at sea level in hPa\n",
    "    \"\"\"\n",
    "    if (np.nan in P) or (np.nan in T) or (np.nan in h):\n",
    "        return np.nan\n",
    "    ### TODO: lapse rate, humidity in air...\n",
    "    R = 287  # Gas constant for dry air in J/(kg·K)\n",
    "    g = 9.81  # Acceleration due to gravity in m/s^2\n",
    "    T_kelvin = T + 273.15  # Convert temperature to Kelvin\n",
    "    \n",
    "    P0 = P * (1 + (L * h) / T_kelvin)**(g / (L * R))\n",
    "    \n",
    "    return P0\n"
   ],
   "metadata": {
    "collapsed": false,
    "ExecuteTime": {
     "start_time": "2023-11-17T18:07:18.820695Z"
    }
   },
   "id": "aa31f5a270c4518b"
  },
  {
   "cell_type": "code",
   "execution_count": null,
   "outputs": [],
   "source": [
    "fig = plt.figure(figsize=(12, 9))  # open matplotlib figure\n",
    "ax = plt.axes(projection=osm_img.crs)  # project using coordinate reference system (CRS) of street map\n",
    "\n",
    "lats = df_meta.loc[\"latitude\"]\n",
    "lons = df_meta.loc[\"longitude\"]\n",
    "stids = df_meta.loc[\"STID\"]\n",
    "elevs = df_meta.loc[\"ELEVATION\"]*0.304\n",
    "\n",
    "sc = ax.scatter(lons, lats, c=elevs, transform=ccrs.PlateCarree())#, **scatter_kwargs)\n",
    "if True:\n",
    "    for lon, lat, stid, elev in zip(lons, lats, stids, elevs):\n",
    "        # Colour-code by altitude?\n",
    "        # sc = ax.scatter(lon,lat,stid,transform=ccrs.PlateCarree(),c=elev)\n",
    "        # ax.text(lon, lat, stn, transform=ccrs.PlateCarree(),)# **text_kwargs)\n",
    "        pass\n",
    "    \n",
    "cbar = fig.colorbar(sc)\n",
    "\n",
    "# Add reference towns in RED\n",
    "towns = {\n",
    "    \"Vernal\":[40.4555,-109.5287],\n",
    "    \"Roosevelt\":[40.2994,-109.9888],\n",
    "}\n",
    "for town,latlon in towns.items():\n",
    "    ax.scatter(latlon[1], latlon[0], color='red',transform=ccrs.PlateCarree())#, **scatter_kwargs)\n",
    "    ax.text(latlon[1],latlon[0],town,color='red',transform=ccrs.PlateCarree())\n",
    "\n",
    "ax.add_feature(cfeature.STATES.with_scale(\"10m\"))\n",
    "ax.add_feature(cfeature.RIVERS.with_scale(\"10m\"))\n",
    "# ax.stock_img()\n",
    "# ax.add_feature(cfeature.NaturalEarthFeature(\"physical\",\"\",scale=\"10m\"))\n",
    "\n",
    "extent = [-110.6,-108.7,39.65,41.05]\n",
    "ax.set_extent(extent)  # set extents\n",
    "\n",
    "# empirical solve for scale based on zoom\n",
    "scale = np.ceil(-np.sqrt(2) * np.log(np.divide((extent[1] - extent[0]) / 2.0, 350.0)))\n",
    "scale = (scale < 20) and scale or 19  # scale cannot be larger than 19\n",
    "ax.add_image(osm_img, int(scale))  # add OSM with zoom specification\n",
    "\n",
    "ax.set_title(\"Station Locations\", loc=\"left\", fontweight=\"bold\")\n",
    "fig.tight_layout()\n",
    "# fig.show()"
   ],
   "metadata": {
    "collapsed": false,
    "ExecuteTime": {
     "start_time": "2023-11-17T18:07:18.822023Z"
    }
   },
   "id": "fa9054d06fc7e1fd"
  },
  {
   "cell_type": "code",
   "execution_count": null,
   "outputs": [],
   "source": [
    "# DATA EXPLORATION\n",
    "# First, a look at the distribution of various things\n",
    "import seaborn as sns\n",
    "from matplotlib import rcParams\n",
    "\n",
    "# Set Helvetica as the font\n",
    "rcParams['font.family'] = 'Helvetica'\n",
    "\n",
    "# Sample dataframe (replace this with your actual dataframe)\n",
    "# df_q = pd.read_csv(\"your_data.csv\")\n",
    "df_q['date_time'] = pd.to_datetime(df_q['date_time'])\n",
    "\n",
    "df_x = df_q.copy(deep=True)\n",
    "\n",
    "# Calculate wind speed\n",
    "wind_speed = np.sqrt(df_q['wind_u']**2 + df_q['wind_v']**2)\n",
    "wind_direction = np.degrees(np.arctan2(df_q['wind_v'], df_q['wind_u']))\n",
    "\n",
    "# Adjust wind direction to meteorological coordinates (0-360 degrees, measured clockwise from true north)\n",
    "wind_direction = (wind_direction + 360) % 360\n",
    " \n",
    "# We need to re-do the obs table - first let's just convert elevation\n",
    "mslp = reduce_pressure_to_mslp(df_x[\"pressure\"]/100, df_x[\"air_temp\"], df_x[\"elevation\"])\n",
    "\n",
    "\n",
    "# deep copy dataframe \n",
    "# df_x\n",
    "# assign these new columns \n",
    "df_x = df_x.assign(wind_speed=wind_speed, wind_direction=wind_direction, mslp=mslp)\n"
   ],
   "metadata": {
    "collapsed": false,
    "ExecuteTime": {
     "start_time": "2023-11-17T18:07:18.823183Z"
    }
   },
   "id": "a3ead7395845356a"
  },
  {
   "cell_type": "code",
   "execution_count": null,
   "outputs": [],
   "source": [
    "import math\n",
    "\n",
    "def plot_distributions(df, columns_to_plot, title):\n",
    "    num_plots = len(columns_to_plot)\n",
    "    num_rows = math.ceil(num_plots / 2)  # Calculate the number of rows needed\n",
    "    \n",
    "    fig, axes = plt.subplots(num_rows, 2, figsize=(10, 5 * num_rows))\n",
    "    fig.suptitle(title)\n",
    "    \n",
    "    # Flatten the 2D array of axes if there's more than one row\n",
    "    axes = axes.flatten() if num_rows > 1 else axes\n",
    "    # vars=[\"wind_speed\",\"wind_direction\",\"air_temp\",\"dew_point_temperature\",\"pressure\",\"snow_depth\",\"solar_radiation\",\"ozone_concentration\"]\n",
    "\n",
    "    x_lims = {\n",
    "                \"wind_direction\":[1,360],\n",
    "                \"wind_speed\":[0,30],\n",
    "                \"air_temp\":[-40,40],\n",
    "                \"dew_point_temperature\":[-40,20],\n",
    "                \"mslp\":[950,1050],\n",
    "                \"pressure\":[75000,87500],\n",
    "                \"elevation\":[1000,5000],\n",
    "                # \"snow_depth\":[0,1],\n",
    "                \"solar_radiation\":[0,200],\n",
    "                \"ozone_concentration\":[0,150]\n",
    "    }\n",
    "    \n",
    "    for i, col in enumerate(columns_to_plot):\n",
    "            \n",
    "        sns.histplot(df[col], kde=True, ax=axes[i])\n",
    "        axes[i].set_title(col)\n",
    "        axes[i].set_xlabel(col)\n",
    "        axes[i].set_ylabel('Frequency')\n",
    "        \n",
    "        if col in x_lims.keys():\n",
    "            axes[i].set_xlim(x_lims[col])\n",
    "        \n",
    "    # Remove any unused subplots\n",
    "    for i in range(num_plots, num_rows * 2):\n",
    "        fig.delaxes(axes[i])\n",
    "        \n",
    "    plt.tight_layout(rect=(0, 0.03, 1, 0.95))\n",
    "    plt.show()\n"
   ],
   "metadata": {
    "collapsed": false,
    "ExecuteTime": {
     "start_time": "2023-11-17T18:07:18.824328Z"
    }
   },
   "id": "d3a9192210bc9f05"
  },
  {
   "cell_type": "code",
   "execution_count": null,
   "outputs": [],
   "source": [
    "columns_to_plot = [\"wind_direction\", \"wind_speed\", \"air_temp\", \"dew_point_temperature\", \"mslp\", \"pressure\", \"elevation\", \"snow_depth\",\n",
    "                            \"solar_radiation\",\"ozone_concentration\"]\n",
    "\n",
    "# Plot for the entire dataframe\n",
    "plot_distributions(df_x, columns_to_plot+[\"elevation\",], 'Distribution of Variables for Entire Dataset')"
   ],
   "metadata": {
    "collapsed": false,
    "ExecuteTime": {
     "start_time": "2023-11-17T18:07:18.825414Z"
    }
   },
   "id": "6e8ee0afd8cb160f"
  },
  {
   "cell_type": "code",
   "execution_count": null,
   "outputs": [],
   "source": [
    "# Extract the month from the date_time column\n",
    "df_x['month'] = df_x['date_time'].dt.month\n",
    "\n",
    "# Split the dataframe based on months\n",
    "df_winter_spring = df_x[df_x['month'].isin([12, 1, 2, 3])]\n",
    "df_other_months = df_x[~df_x['month'].isin([12, 1, 2, 3])]\n",
    "\n",
    "# Plot for the winter and spring months\n",
    "plot_distributions(df_winter_spring, columns_to_plot, 'Distribution of Variables for Dec-Jan-Feb-Mar')\n"
   ],
   "metadata": {
    "collapsed": false,
    "ExecuteTime": {
     "start_time": "2023-11-17T18:07:18.826303Z"
    }
   },
   "id": "27c2230d27393c67"
  },
  {
   "cell_type": "code",
   "execution_count": null,
   "outputs": [],
   "source": [
    "unique_stid = df_q[\"stid\"].unique()\n",
    "print(unique_stid)\n",
    "\n",
    "def plot_stid_locs(stids):\n",
    "    \n",
    "    fig = plt.figure(figsize=(12, 9))  # open matplotlib figure\n",
    "    ax = plt.axes(projection=osm_img.crs)  # project using coordinate reference system (CRS) of street map\n",
    "    \n",
    "    _lats = []\n",
    "    _lons = []\n",
    "    for s in stids:\n",
    "        lon = lons[s]\n",
    "        lat = lats[s]\n",
    "        elev = elevs[s]\n",
    "    \n",
    "        ax.text(lon, lat, s, transform=ccrs.PlateCarree(),)# **text_kwargs)\n",
    "        _lats.append(lat)\n",
    "        _lons.append(lon)\n",
    "    sc = ax.scatter(lons,lats,transform=ccrs.PlateCarree(),c=elevs)\n",
    "    cbar = fig.colorbar(sc)\n",
    "    \n",
    "    ax.add_feature(cfeature.STATES.with_scale(\"10m\"))\n",
    "    ax.add_feature(cfeature.RIVERS.with_scale(\"10m\"))\n",
    "    # ax.stock_img()\n",
    "    # ax.add_feature(cfeature.NaturalEarthFeature(\"physical\",\"\",scale=\"10m\"))\n",
    "    \n",
    "    extent = [-110.6,-108.7,39.65,41.05]\n",
    "    ax.set_extent(extent)  # set extents\n",
    "    \n",
    "    # empirical solve for scale based on zoom\n",
    "    scale = np.ceil(-np.sqrt(2) * np.log(np.divide((extent[1] - extent[0]) / 2.0, 350.0)))\n",
    "    scale = (scale < 20) and scale or 19  # scale cannot be larger than 19\n",
    "    ax.add_image(osm_img, int(scale))  # add OSM with zoom specification\n",
    "    \n",
    "    ax.set_title(\"Station Locations\", loc=\"left\", fontweight=\"bold\")\n",
    "    fig.tight_layout()\n",
    "    # fig.show()\n",
    "    \n",
    "plot_stid_locs(unique_stid)"
   ],
   "metadata": {
    "collapsed": false,
    "ExecuteTime": {
     "start_time": "2023-11-17T18:07:18.826986Z"
    }
   },
   "id": "803fdc8e67e3cbc3"
  },
  {
   "cell_type": "code",
   "execution_count": null,
   "outputs": [],
   "source": [
    "\n",
    "# Plot for the other months\n",
    "plot_distributions(df_other_months, columns_to_plot, 'Distribution of Variables for Remaining Months')"
   ],
   "metadata": {
    "collapsed": false,
    "ExecuteTime": {
     "start_time": "2023-11-17T18:07:18.827628Z"
    }
   },
   "id": "ffe84006fdfaae88"
  },
  {
   "cell_type": "code",
   "execution_count": null,
   "outputs": [],
   "source": [
    "### Could use only obs that are low in the basin by subsetting dataframe\n",
    "\n",
    "### Subset by ozone events exceeding x and perform PCA\n",
    "\n",
    "### Can we find \"inversion-ness\" in the leading PCs?\n",
    "df_winter_spring"
   ],
   "metadata": {
    "collapsed": false,
    "ExecuteTime": {
     "start_time": "2023-11-17T18:07:18.828401Z"
    }
   },
   "id": "880274003008736a"
  },
  {
   "cell_type": "code",
   "execution_count": null,
   "outputs": [],
   "source": [
    "from sklearn.preprocessing import StandardScaler\n",
    "\n",
    "# TODO: once I add ozone time series, it will be amazing to compute PCs again\n",
    "# vars=[\"wind_speed\",\"wind_direction\",\"air_temp\",\"dew_point_temperature\",\"pressure\",\"snow_depth\",\"solar_radiation\",\"ozone_concentration\"]\n",
    "\n",
    "# pca_cols = [\"date_time\",\"wind_speed\", \"air_temp\", \"dew_point_temperature\", \"mslp\", \"elevation\", \"snow_depth\",\"solar_radiation\",\"ozone_concentration\"]\n",
    "# pca_cols = [\"date_time\",\"wind_speed\",\"air_temp\",\"dew_point_temperature\",\"mslp\",\"elevation\"] + [\"snow_depth\",]\n",
    "# pca_cols = [\"date_time\",\"wind_speed\",\"air_temp\",\"dew_point_temperature\",\"mslp\",\"elevation\"] + [\"solar_radiation\",]\n",
    "# pca_cols = [\"date_time\",\"wind_speed\",\"air_temp\",\"dew_point_temperature\",\"mslp\"] + [\"ozone_concentration\",]\n",
    "pca_cols = [\"date_time\",\"wind_speed\",\"air_temp\",\"mslp\",\"solar_radiation\",\"ozone_concentration\"]\n",
    "\n",
    "# df = df_winter_spring[pca_cols].dropna()[df_winter_spring[\"elevation\"]<2000]\n",
    "df = df_winter_spring[pca_cols].dropna()[df_winter_spring[\"elevation\"]<1600]\n",
    "\n",
    "start_time = '2022-12-01 00:00:00'\n",
    "end_time = '2023-03-31 00:00:00'\n",
    "df = df[(df['date_time'] >= start_time) & (df['date_time'] <= end_time)]\n",
    "\n",
    "display(df)\n",
    "\n",
    "pca_cols.remove('date_time')\n",
    "# pca_cols = [\"wind_speed\", \"air_temp\", \"dew_point_temperature\", \"mslp\",]\n",
    "df = df[pca_cols]\n",
    "\n",
    "scaler = StandardScaler()\n",
    "# scaled_data = scaler.fit_transform(df.drop(columns=\"date_time\"))\n",
    "scaled_data = scaler.fit_transform(df)\n",
    "# Now perform PCA\n",
    "from sklearn.decomposition import PCA\n",
    "\n",
    "# Create a PCA object\n",
    "pca = PCA(n_components=5)  # Here, we are considering the first three principal components\n",
    "\n",
    "# Fit the scaled data\n",
    "principal_components = pca.fit_transform(scaled_data)\n",
    "\n",
    "# Visualise \n",
    "explained_variance = pca.explained_variance_ratio_\n",
    "plt.bar(range(len(explained_variance)), explained_variance, alpha=0.5, align='center')\n",
    "plt.title('Variance Contributions from Each Principal Component')\n",
    "plt.xlabel('Principal Component')\n",
    "plt.ylabel('Explained Variance')\n",
    "plt.show()\n",
    "\n",
    "# Leading three components\n",
    "from mpl_toolkits.mplot3d import Axes3D\n",
    "fig = plt.figure()\n",
    "ax = fig.add_subplot(111, projection='3d')\n",
    "\n",
    "ax.scatter(principal_components[:, 0], principal_components[:, 1], principal_components[:, 2])\n",
    "ax.set_xlabel('First Principal Component')\n",
    "ax.set_ylabel('Second Principal Component')\n",
    "ax.set_zlabel('Third Principal Component')\n",
    "plt.title('Leading Three Principal Components')\n",
    "plt.show()\n"
   ],
   "metadata": {
    "collapsed": false,
    "ExecuteTime": {
     "start_time": "2023-11-17T18:07:18.829157Z"
    }
   },
   "id": "b25618cc6d2f9a25"
  },
  {
   "cell_type": "code",
   "execution_count": null,
   "outputs": [],
   "source": [
    "# Get the PCA components (loadings)\n",
    "loadings = pca.components_\n",
    "\n",
    "# Create DataFrame from the loadings\n",
    "loadings_df = pd.DataFrame(loadings.T, columns=[f'PC{i+1}' for i in range(loadings.shape[0])], index=df.columns)\n",
    "\n",
    "# Create bar chart\n",
    "ax = loadings_df.plot(kind='bar', figsize=(20, 10))\n",
    "ax.set_title('Variable Contributions to Principal Components')\n",
    "ax.set_ylabel('Loading Score')\n",
    "ax.set_xlabel('Variables')\n",
    "plt.show()\n",
    "\n",
    "# Convert principal components to DataFrame\n",
    "pc_df = pd.DataFrame(data=principal_components, columns=[f'PC{i+1}' for i in range(principal_components.shape[1])])\n",
    "\n",
    "# Plot the distribution of each principal component\n",
    "for col in pc_df.columns:\n",
    "    sns.histplot(pc_df[col], kde=True)\n",
    "    plt.title(f'Distribution of {col}')\n",
    "    plt.xlabel('Principal Component Score')\n",
    "    plt.ylabel('Frequency')\n",
    "    plt.show()\n"
   ],
   "metadata": {
    "collapsed": false,
    "ExecuteTime": {
     "start_time": "2023-11-17T18:07:18.829835Z"
    }
   },
   "id": "285ec72773f3958"
  },
  {
   "cell_type": "code",
   "execution_count": null,
   "outputs": [],
   "source": [],
   "metadata": {
    "collapsed": false,
    "ExecuteTime": {
     "start_time": "2023-11-17T18:07:18.830642Z"
    }
   },
   "id": "6012502c0bf16261"
  },
  {
   "cell_type": "code",
   "execution_count": null,
   "outputs": [],
   "source": [],
   "metadata": {
    "collapsed": false,
    "ExecuteTime": {
     "start_time": "2023-11-17T18:07:18.831229Z"
    }
   },
   "id": "63fa8222a24cc9e4"
  }
 ],
 "metadata": {
  "kernelspec": {
   "display_name": "Python 3",
   "language": "python",
   "name": "python3"
  },
  "language_info": {
   "codemirror_mode": {
    "name": "ipython",
    "version": 2
   },
   "file_extension": ".py",
   "mimetype": "text/x-python",
   "name": "python",
   "nbconvert_exporter": "python",
   "pygments_lexer": "ipython2",
   "version": "2.7.6"
  }
 },
 "nbformat": 4,
 "nbformat_minor": 5
}

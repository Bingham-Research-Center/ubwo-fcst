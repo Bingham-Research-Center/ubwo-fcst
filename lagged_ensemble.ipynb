{
 "cells": [
  {
   "cell_type": "code",
   "execution_count": null,
   "id": "initial_id",
   "metadata": {
    "collapsed": true
   },
   "outputs": [],
   "source": [
    "import warnings \n",
    "\n",
    "import xarray\n",
    "import numpy as np\n",
    "import metpy \n",
    "from cartopy import crs\n",
    "import matplotlib as M\n",
    "from matplotlib import rc\n",
    "import matplotlib.pyplot as plt \n",
    "import cartopy.feature as cfeature\n",
    "\n",
    "from herbie import Herbie\n",
    "\n",
    "# Use for \"operations\" \n",
    "warnings.filterwarnings(action='ignore')"
   ]
  },
  {
   "cell_type": "code",
   "execution_count": null,
   "outputs": [],
   "source": [
    "font = {'family' : \"helvetica\",\n",
    "        # 'family' : 'sans-serif',\n",
    "        'weight' : 'bold',\n",
    "        'size'   : 12}\n",
    "\n",
    "rc('font', **font)"
   ],
   "metadata": {
    "collapsed": false
   },
   "id": "77ba06adfcfb714d"
  },
  {
   "cell_type": "code",
   "execution_count": null,
   "outputs": [],
   "source": [
    "locations_of_interest = [(-109.5287,40.4555),(-110.4029,40.1633),(-109.6774,40.0891),(-109.07315,39.78549),(-110.03689,39.53777),(-110.3728,40.7764)]\n",
    "names_of_interest = [\"Vernal\",\"Duchesne\",\"Ouray\",\"Dragon\",\"Rock Creek Ranch\",\"Kings Peak\"]\n",
    "my_transform = crs.PlateCarree()\n",
    "my_extent = [-110.6,-108.7,41.05,39.65]\n",
    "nlines = 5\n",
    "lonlines = trunc(np.linspace(my_extent[0], my_extent[1], nlines), 1)\n",
    "latlines = trunc(np.linspace(my_extent[2], my_extent[3], nlines), 1)\n",
    "\n",
    "coast = cfeature.NaturalEarthFeature(category='physical', scale='10m',\n",
    "                            edgecolor='black', name='coastline')\n",
    "\n",
    "counties = cfeature.NaturalEarthFeature(category='cultural', scale='10m',\n",
    "                            edgecolor='black', name='admin_2_counties_lakes', alpha=0.2)\n"
   ],
   "metadata": {
    "collapsed": false
   },
   "id": "2afcbb4dd51086ee"
  },
  {
   "cell_type": "code",
   "execution_count": null,
   "outputs": [],
   "source": [
    "### FUNCTIONS\n",
    "def trunc(values, decs=0):\n",
    "    return np.trunc(values*10**decs)/(10**decs)"
   ],
   "metadata": {
    "collapsed": false
   },
   "id": "c7d89abd63f97aaa"
  },
  {
   "cell_type": "code",
   "execution_count": null,
   "outputs": [],
   "source": [
    "def make_plot(ds,fchr,tstr,plot_data=None,plot_vrbl=\"t2m\",cm=M.cm.Viridis):\n",
    "    fig, ax = plt.subplots(1, figsize=[7,5], constrained_layout=True, dpi=200,\n",
    "                      subplot_kw={'projection' : ds.herbie.crs})\n",
    "    \n",
    "    if plot_data is None:\n",
    "        if \"step\" in ds.dims:\n",
    "        # Doesn't work if not hourly!\n",
    "        plot_data = ds.isel(step=fchr).sde\n",
    "        else:\n",
    "            # plot_data = ds.t2m - 273.15\n",
    "            plot_data = ds.sde \n",
    "    else:\n",
    "        print(\"Plotting custom data.\")\n",
    "    #Plot 2m temperature, usually\n",
    "        \n",
    "    pc_temp = ax.pcolormesh(ds.longitude,  ds.latitude, \n",
    "                                plot_data, vmin=0, vmax=0.5, alpha=0.7,\n",
    "                                cmap=cm_colorblind.HomeyerRainbow,\n",
    "                                transform=my_transform)\n",
    "        \n",
    "    c1 = plt.colorbar(pc_temp, fraction=0.046, pad=0.04)\n",
    "    # c1.set_label(label='2m Temperature (Celsius)', size=18, weight='bold')\n",
    "    c1.ax.tick_params(labelsize=18) \n",
    "    \n",
    "    \n",
    "    #Zoom\n",
    "    ax.set_extent(my_extent, crs=my_transform)\n",
    "    \n",
    "    #Gridlines\n",
    "    gl1 = ax.gridlines(xlocs=lonlines, ylocs=latlines, x_inline=False, rotate_labels=False)\n",
    "    gl1.xlabels_bottom = True\n",
    "    gl1.ylabels_left = True\n",
    "    gl1.xlabel_style = {'size': 18}\n",
    "    gl1.ylabel_style = {'size': 18}\n",
    "    if tstr is not None:\n",
    "        ax.set_title(tstr, loc=\"left\")\n",
    "    \n",
    "    #Map features\n",
    "    ax.add_feature(cfeature.STATES, facecolor='none', edgecolor='black')\n",
    "    ax.add_feature(coast, facecolor='none', edgecolor='black')\n",
    "    ax.add_feature(counties, facecolor='none', edgecolor='black')\n",
    "    \n",
    "    #Plot Locations\n",
    "    ax.scatter([loc[0] for loc in locations_of_interest],\n",
    "                [loc[1] for loc in locations_of_interest], transform=my_transform, marker='o', color='r')\n",
    "    \n",
    "    for i in range(len(names_of_interest)):\n",
    "        ax.text(locations_of_interest[i][0],locations_of_interest[i][1], \n",
    "                 names_of_interest[i], transform = my_transform, size=15 )\n",
    "    return fig"
   ],
   "metadata": {
    "collapsed": false
   },
   "id": "ebe5c410a36be1ee"
  },
  {
   "cell_type": "code",
   "execution_count": null,
   "outputs": [],
   "source": [
    "\n",
    "# Set valid time(s)\n",
    "valid_datetime = datetime.datetime(2023,1,30,12,0,0)\n",
    "valid_dt_str = datetime.datetime.strftime(valid_datetime, \"%Y-%m-%d %H:%M\")\n",
    "\n",
    "# Create ensemble dictionary\n",
    "# Will have each member (0 to x with x being the earliest init time) as first key\n",
    "# Each member has \"weight\", \"init_time\", \"fcst_hr\" values\n",
    "ensemble = dict()\n",
    "\n",
    "# Set latest init time for forecasts \n",
    "latest_init = datetime.datetime(2023,1,30,6,0,0)\n",
    "latest_dt_str = datetime.datetime.strftime(latest_init, \"%Y-%m-%d %H:%M\")\n",
    "\n",
    "latest_fchr = int((valid_datetime - latest_init).total_seconds()/3600)\n",
    "\n",
    "# Set the gap between lagged forecast init times (int, >0)\n",
    "hr_spacing = 6\n",
    "\n",
    "# Initial weighting from earliest to latest\n",
    "# Could generalise this with function and request number of lagged members\n",
    "# These weights will eventually be tuned with stochastic gradient descent or something\n",
    "weighting = [0.3, 0.25, 0.2, 0.15, 0.1]\n",
    "# weighting = [0.55,0.3,0.15]\n",
    "num_lags = len(weighting)\n",
    "assert np.sum(weighting) == 1.0\n",
    "\n",
    "for x, w in enumerate(weighting):\n",
    "    ensemble[x] = dict()\n",
    "    ensemble[x][\"weight\"] = w\n",
    "    ensemble[x][\"init_time\"] = latest_init - datetime.timedelta(hours=int(x*hr_spacing))\n",
    "    ensemble[x][\"fcst_hr\"] = int((valid_datetime - ensemble[x][\"init_time\"]).total_seconds()/3600)"
   ],
   "metadata": {
    "collapsed": false
   },
   "id": "92f5e477979302f7"
  },
  {
   "cell_type": "code",
   "execution_count": null,
   "outputs": [],
   "source": [
    "plot_vrbl = \"snod\"\n",
    "# Now we can loop over these init_times and forecast hours to download the required variables \n",
    "for mem in ensemble.keys():\n",
    "    fhr = ensemble[mem][\"fcst_hr\"]\n",
    "    dt_str = datetime.datetime.strftime(ensemble[mem][\"init_time\"], \"%Y-%m-%d %H:%M\")\n",
    "    if plot_vrbl == \"temp\":\n",
    "        # FH = FastHerbie([dt_str], model=\"hrrr\", fxx=range(fhr,fhr+1), source=data_source)\n",
    "        # FH.download(\"TMP:2 m\", max_threads=nprocs)\n",
    "        ds_t2m = H.xarray(\"TMP:2 m\", remove_grib=True)\n",
    "        ensemble[mem][\"data\"] = ds_t2m"
   ],
   "metadata": {
    "collapsed": false
   },
   "id": "f7d0efc5cee53f20"
  },
  {
   "cell_type": "code",
   "execution_count": 1,
   "outputs": [
    {
     "ename": "NameError",
     "evalue": "name 'ensemble' is not defined",
     "output_type": "error",
     "traceback": [
      "\u001B[0;31m---------------------------------------------------------------------------\u001B[0m",
      "\u001B[0;31mNameError\u001B[0m                                 Traceback (most recent call last)",
      "Cell \u001B[0;32mIn[1], line 1\u001B[0m\n\u001B[0;32m----> 1\u001B[0m xsize \u001B[38;5;241m=\u001B[39m \u001B[38;5;28mlen\u001B[39m(\u001B[43mensemble\u001B[49m[mem][\u001B[38;5;124m\"\u001B[39m\u001B[38;5;124mdata\u001B[39m\u001B[38;5;124m\"\u001B[39m]\u001B[38;5;241m.\u001B[39msde\u001B[38;5;241m.\u001B[39mx)\n\u001B[1;32m      2\u001B[0m ysize \u001B[38;5;241m=\u001B[39m \u001B[38;5;28mlen\u001B[39m(ensemble[mem][\u001B[38;5;124m\"\u001B[39m\u001B[38;5;124mdata\u001B[39m\u001B[38;5;124m\"\u001B[39m]\u001B[38;5;241m.\u001B[39msde\u001B[38;5;241m.\u001B[39my)\n\u001B[1;32m      4\u001B[0m \u001B[38;5;66;03m# CROP HERE\u001B[39;00m\n\u001B[1;32m      5\u001B[0m \u001B[38;5;66;03m###########\u001B[39;00m\n",
      "\u001B[0;31mNameError\u001B[0m: name 'ensemble' is not defined"
     ]
    }
   ],
   "source": [
    "xsize = len(ensemble[mem][\"data\"].sde.x)\n",
    "ysize = len(ensemble[mem][\"data\"].sde.y)\n",
    "\n",
    "# CROP HERE\n",
    "###########"
   ],
   "metadata": {
    "collapsed": false,
    "ExecuteTime": {
     "end_time": "2023-11-21T02:09:59.032886Z",
     "start_time": "2023-11-21T02:09:58.812286Z"
    }
   },
   "id": "2ef293853f2aa964"
  },
  {
   "cell_type": "code",
   "execution_count": null,
   "outputs": [],
   "source": [
    "stack_data = np.zeros([num_lags,ysize,xsize])\n",
    "for mem in sorted(ensemble.keys()):\n",
    "    # print(f\"{mem=}\")\n",
    " \n",
    "    ds = ensemble[mem][\"data\"]\n",
    "    # tstr = f\"{ds.model.upper()}: {ds.description}\\nValid: {ds.valid_time[ensemble[mem]['fcst_hr']].dt.strftime('%H:%M UTC %d %b %Y').item()}\"\n",
    "    tstr = f\"{ds.model.upper()}: {ds.description}\\nValid: {ds.valid_time.dt.strftime('%H:%M UTC %d %b %Y').item()}\\nInit: {ensemble[mem]['init_time']}\"\n",
    "\n",
    "    f = make_plot(ensemble[mem][\"data\"],ensemble[mem][\"fcst_hr\"],tstr,plot_vrbl=\"snod\")\n",
    "    dd = ensemble[mem][\"data\"].to_array()[0]\n",
    "    if plot_vrbl == \"temp\":\n",
    "        dd -= 273.15\n",
    "    stack_data[mem,:,:] = dd"
   ],
   "metadata": {
    "collapsed": false
   },
   "id": "8cb234c9d696324f"
  },
  {
   "cell_type": "code",
   "execution_count": null,
   "outputs": [],
   "source": [
    "std_data = np.std(stack_data, axis=0)\n",
    "fig = make_plot(ds_t2m,None,None,plot_data=std_data, plot_vrbl=[0,0.04])"
   ],
   "metadata": {
    "collapsed": false
   },
   "id": "4737671738516ff8"
  },
  {
   "cell_type": "code",
   "execution_count": null,
   "outputs": [],
   "source": [
    "# Create mean and probabilities of exceedence with weighting\n",
    "weighted_ave = np.average(stack_data, axis=0, weights=weighting)\n",
    "fig = make_plot(ds_t2m,None,None,plot_data=weighted_ave, plot_vrbl=[0,0.25],cm=M.cm.Purples)\n",
    "\n",
    "exceed_data = np.where(stack_data >= 0.05)\n",
    "exceed_data2 = np.zeros_like(stack_data)\n",
    "exceed_data2[exceed_data] = 1\n",
    "exceed_data2 = exceed_data2.reshape(stack_data.shape)\n",
    "weighted_probs = np.average(exceed_data2, axis=0, weights=weighting)\n",
    "fig = make_plot(ds_t2m,None,None,plot_data=weighted_probs, plot_vrbl=[0.05,1], cm=M.cm.turbo)\n"
   ],
   "metadata": {
    "collapsed": false
   },
   "id": "c301977fd64e11a5"
  }
 ],
 "metadata": {
  "kernelspec": {
   "display_name": "Python 3",
   "language": "python",
   "name": "python3"
  },
  "language_info": {
   "codemirror_mode": {
    "name": "ipython",
    "version": 2
   },
   "file_extension": ".py",
   "mimetype": "text/x-python",
   "name": "python",
   "nbconvert_exporter": "python",
   "pygments_lexer": "ipython2",
   "version": "2.7.6"
  }
 },
 "nbformat": 4,
 "nbformat_minor": 5
}

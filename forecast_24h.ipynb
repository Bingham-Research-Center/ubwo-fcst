{
 "cells": [
  {
   "cell_type": "code",
   "execution_count": null,
   "id": "initial_id",
   "metadata": {
    "collapsed": true
   },
   "outputs": [],
   "source": []
  },
  {
   "cell_type": "code",
   "execution_count": null,
   "outputs": [],
   "source": [
    "import warnings \n",
    "\n",
    "import xarray\n",
    "import numpy as np\n",
    "import metpy \n",
    "from cartopy import crs as ccrs\n",
    "import matplotlib as M\n",
    "import matplotlib.pyplot as plt \n",
    "\n",
    "from herbie import Herbie\n",
    "\n",
    "# Use for \"operations\" \n",
    "warnings.filterwarnings(action='ignore')"
   ],
   "metadata": {
    "collapsed": false
   },
   "id": "bd57fde6308aa4b1"
  },
  {
   "cell_type": "code",
   "execution_count": null,
   "outputs": [],
   "source": [],
   "metadata": {
    "collapsed": false
   },
   "id": "93086764d1a85bbd"
  }
 ],
 "metadata": {
  "kernelspec": {
   "display_name": "Python 3",
   "language": "python",
   "name": "python3"
  },
  "language_info": {
   "codemirror_mode": {
    "name": "ipython",
    "version": 2
   },
   "file_extension": ".py",
   "mimetype": "text/x-python",
   "name": "python",
   "nbconvert_exporter": "python",
   "pygments_lexer": "ipython2",
   "version": "2.7.6"
  }
 },
 "nbformat": 4,
 "nbformat_minor": 5
}

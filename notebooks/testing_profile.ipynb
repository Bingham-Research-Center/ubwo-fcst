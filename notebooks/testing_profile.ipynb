{
 "cells": [
  {
   "cell_type": "code",
   "execution_count": 9,
   "outputs": [],
   "source": [],
   "metadata": {
    "collapsed": false,
    "ExecuteTime": {
     "end_time": "2023-11-30T01:14:55.189566Z",
     "start_time": "2023-11-30T01:14:55.184011Z"
    }
   },
   "id": "6581312c9834ed8f"
  },
  {
   "cell_type": "code",
   "execution_count": 2,
   "outputs": [
    {
     "name": "stderr",
     "output_type": "stream",
     "text": [
      "/Users/johnlawson/anaconda3/envs/live-verification/lib/python3.11/site-packages/synoptic/accessors.py:28: UserWarning: map making not available without Brian's cartopy_tools\n",
      "  warnings.warn(\"map making not available without Brian's cartopy_tools\")\n"
     ]
    },
    {
     "name": "stdout",
     "output_type": "stream",
     "text": [
      "Checking for data recent=43200 minutes.\n",
      "\n",
      " 🚚💨 Speedy Delivery from Synoptic API [metadata]: https://api.synopticdata.com/v2/stations/metadata?radius=UCL21,50&recent=43200&token=🙈HIDDEN\n",
      "\n",
      "Loading data for station KVEL\n",
      "Loading data for station RSVL\n",
      "Skipping RSVL\n",
      "Loading data for station CUPH\n",
      "Skipping CUPH\n",
      "Loading data for station RNGC2\n",
      "Skipping RNGC2\n",
      "Loading data for station CWHU1\n",
      "Loading data for station LKFU1\n",
      "Loading data for station MMTU1\n",
      "Loading data for station TCKU1\n",
      "Loading data for station SURC2\n",
      "Loading data for station DRAC2\n"
     ]
    }
   ],
   "source": [
    "import datetime \n",
    "\n",
    "import pandas as pd \n",
    "\n",
    "from src.obsdata import ObsData\n",
    "# def __init__(self,start_date,end_date,recent=12*60*60, radius=\"UCL21,50\"):\n",
    "\n",
    "# Key data\n",
    "start_date = datetime.datetime(2023,11,29,7,0,0)\n",
    "end_date = datetime.datetime(2023,11,29,21,0,0)\n",
    "\n",
    "obs = ObsData(start_date,end_date,tests=True)"
   ],
   "metadata": {
    "collapsed": false,
    "ExecuteTime": {
     "end_time": "2023-11-30T00:48:10.770748Z",
     "start_time": "2023-11-30T00:47:59.198963Z"
    }
   },
   "id": "initial_id"
  },
  {
   "cell_type": "code",
   "execution_count": 3,
   "outputs": [
    {
     "data": {
      "text/plain": "                           air_temp      altimeter     ceiling  \\\ndate_time                                                        \n2023-11-29 07:00:00+00:00    -6.000  102641.390625  335.279999   \n2023-11-29 07:05:00+00:00    -6.000  102641.390625  335.279999   \n2023-11-29 07:10:00+00:00    -6.000  102641.390625  335.279999   \n2023-11-29 07:15:00+00:00    -6.000  102641.390625  335.279999   \n2023-11-29 07:20:00+00:00    -6.000  102607.523438  335.279999   \n...                             ...            ...         ...   \n2023-11-29 16:18:00+00:00   -10.000            NaN         NaN   \n2023-11-29 17:18:00+00:00    -9.444            NaN         NaN   \n2023-11-29 18:18:00+00:00    -7.778            NaN         NaN   \n2023-11-29 19:18:00+00:00    -6.111            NaN         NaN   \n2023-11-29 20:18:00+00:00    -6.111            NaN         NaN   \n\n                           cloud_layer_1_code  \\\ndate_time                                       \n2023-11-29 07:00:00+00:00               114.0   \n2023-11-29 07:05:00+00:00               114.0   \n2023-11-29 07:10:00+00:00               114.0   \n2023-11-29 07:15:00+00:00               114.0   \n2023-11-29 07:20:00+00:00               114.0   \n...                                       ...   \n2023-11-29 16:18:00+00:00                 NaN   \n2023-11-29 17:18:00+00:00                 NaN   \n2023-11-29 18:18:00+00:00                 NaN   \n2023-11-29 19:18:00+00:00                 NaN   \n2023-11-29 20:18:00+00:00                 NaN   \n\n                                                               cloud_layer_1  \\\ndate_time                                                                      \n2023-11-29 07:00:00+00:00  {'sky_condition': 'overcast', 'height_agl': 33...   \n2023-11-29 07:05:00+00:00  {'sky_condition': 'overcast', 'height_agl': 33...   \n2023-11-29 07:10:00+00:00  {'sky_condition': 'overcast', 'height_agl': 33...   \n2023-11-29 07:15:00+00:00  {'sky_condition': 'overcast', 'height_agl': 33...   \n2023-11-29 07:20:00+00:00  {'sky_condition': 'overcast', 'height_agl': 33...   \n...                                                                      ...   \n2023-11-29 16:18:00+00:00                                                NaN   \n2023-11-29 17:18:00+00:00                                                NaN   \n2023-11-29 18:18:00+00:00                                                NaN   \n2023-11-29 19:18:00+00:00                                                NaN   \n2023-11-29 20:18:00+00:00                                                NaN   \n\n                           dew_point_temperature_set_1  dew_point_temperature  \\\ndate_time                                                                       \n2023-11-29 07:00:00+00:00                          NaN                  -9.05   \n2023-11-29 07:05:00+00:00                          NaN                  -9.05   \n2023-11-29 07:10:00+00:00                          NaN                  -9.05   \n2023-11-29 07:15:00+00:00                          NaN                  -9.05   \n2023-11-29 07:20:00+00:00                          NaN                  -9.05   \n...                                                ...                    ...   \n2023-11-29 16:18:00+00:00                          NaN                 -12.07   \n2023-11-29 17:18:00+00:00                          NaN                 -11.53   \n2023-11-29 18:18:00+00:00                          NaN                 -10.20   \n2023-11-29 19:18:00+00:00                          NaN                  -8.56   \n2023-11-29 20:18:00+00:00                          NaN                  -8.56   \n\n                               pressure  relative_humidity  \\\ndate_time                                                    \n2023-11-29 07:00:00+00:00  84559.132812          79.260002   \n2023-11-29 07:05:00+00:00  84559.132812          79.260002   \n2023-11-29 07:10:00+00:00  84559.132812          79.260002   \n2023-11-29 07:15:00+00:00  84559.132812          79.260002   \n2023-11-29 07:20:00+00:00  84531.226562          79.260002   \n...                                 ...                ...   \n2023-11-29 16:18:00+00:00           NaN          85.000000   \n2023-11-29 17:18:00+00:00           NaN          85.000000   \n2023-11-29 18:18:00+00:00           NaN          83.000000   \n2023-11-29 19:18:00+00:00           NaN          83.000000   \n2023-11-29 20:18:00+00:00           NaN          83.000000   \n\n                           sea_level_pressure_set_1  ...  wind_v   stid  \\\ndate_time                                            ...                  \n2023-11-29 07:00:00+00:00                       NaN  ...  -0.357   KVEL   \n2023-11-29 07:05:00+00:00                       NaN  ...   0.771   KVEL   \n2023-11-29 07:10:00+00:00                       NaN  ...   0.000   KVEL   \n2023-11-29 07:15:00+00:00                       NaN  ...   0.000   KVEL   \n2023-11-29 07:20:00+00:00                       NaN  ...   1.934   KVEL   \n...                                             ...  ...     ...    ...   \n2023-11-29 16:18:00+00:00                       NaN  ...  -0.055  DRAC2   \n2023-11-29 17:18:00+00:00                       NaN  ...  -0.210  DRAC2   \n2023-11-29 18:18:00+00:00                       NaN  ...   0.000  DRAC2   \n2023-11-29 19:18:00+00:00                       NaN  ...   0.350  DRAC2   \n2023-11-29 20:18:00+00:00                       NaN  ...  -0.300  DRAC2   \n\n                             elevation   latitude   longitude snow_depth  \\\ndate_time                                                                  \n2023-11-29 07:00:00+00:00  1599.647949  40.442951 -109.512733        NaN   \n2023-11-29 07:05:00+00:00  1599.647949  40.442951 -109.512733        NaN   \n2023-11-29 07:10:00+00:00  1599.647949  40.442951 -109.512733        NaN   \n2023-11-29 07:15:00+00:00  1599.647949  40.442951 -109.512733        NaN   \n2023-11-29 07:20:00+00:00  1599.647949  40.442951 -109.512733        NaN   \n...                                ...        ...         ...        ...   \n2023-11-29 16:18:00+00:00  1912.160034  39.915169 -108.887672        NaN   \n2023-11-29 17:18:00+00:00  1912.160034  39.915169 -108.887672        NaN   \n2023-11-29 18:18:00+00:00  1912.160034  39.915169 -108.887672        NaN   \n2023-11-29 19:18:00+00:00  1912.160034  39.915169 -108.887672        NaN   \n2023-11-29 20:18:00+00:00  1912.160034  39.915169 -108.887672        NaN   \n\n                           snow_water_equiv  peak_wind_speed  solar_radiation  \\\ndate_time                                                                       \n2023-11-29 07:00:00+00:00               NaN              NaN              NaN   \n2023-11-29 07:05:00+00:00               NaN              NaN              NaN   \n2023-11-29 07:10:00+00:00               NaN              NaN              NaN   \n2023-11-29 07:15:00+00:00               NaN              NaN              NaN   \n2023-11-29 07:20:00+00:00               NaN              NaN              NaN   \n...                                     ...              ...              ...   \n2023-11-29 16:18:00+00:00               NaN            1.343            106.0   \n2023-11-29 17:18:00+00:00               NaN            1.343            154.0   \n2023-11-29 18:18:00+00:00               NaN            1.343            239.0   \n2023-11-29 19:18:00+00:00               NaN            2.233            318.0   \n2023-11-29 20:18:00+00:00               NaN            2.680            264.0   \n\n                           wind_gust  \ndate_time                             \n2023-11-29 07:00:00+00:00        NaN  \n2023-11-29 07:05:00+00:00        NaN  \n2023-11-29 07:10:00+00:00        NaN  \n2023-11-29 07:15:00+00:00        NaN  \n2023-11-29 07:20:00+00:00        NaN  \n...                              ...  \n2023-11-29 16:18:00+00:00      1.343  \n2023-11-29 17:18:00+00:00      1.343  \n2023-11-29 18:18:00+00:00      1.343  \n2023-11-29 19:18:00+00:00      2.233  \n2023-11-29 20:18:00+00:00      2.680  \n\n[828 rows x 24 columns]",
      "text/html": "<div>\n<style scoped>\n    .dataframe tbody tr th:only-of-type {\n        vertical-align: middle;\n    }\n\n    .dataframe tbody tr th {\n        vertical-align: top;\n    }\n\n    .dataframe thead th {\n        text-align: right;\n    }\n</style>\n<table border=\"1\" class=\"dataframe\">\n  <thead>\n    <tr style=\"text-align: right;\">\n      <th></th>\n      <th>air_temp</th>\n      <th>altimeter</th>\n      <th>ceiling</th>\n      <th>cloud_layer_1_code</th>\n      <th>cloud_layer_1</th>\n      <th>dew_point_temperature_set_1</th>\n      <th>dew_point_temperature</th>\n      <th>pressure</th>\n      <th>relative_humidity</th>\n      <th>sea_level_pressure_set_1</th>\n      <th>...</th>\n      <th>wind_v</th>\n      <th>stid</th>\n      <th>elevation</th>\n      <th>latitude</th>\n      <th>longitude</th>\n      <th>snow_depth</th>\n      <th>snow_water_equiv</th>\n      <th>peak_wind_speed</th>\n      <th>solar_radiation</th>\n      <th>wind_gust</th>\n    </tr>\n    <tr>\n      <th>date_time</th>\n      <th></th>\n      <th></th>\n      <th></th>\n      <th></th>\n      <th></th>\n      <th></th>\n      <th></th>\n      <th></th>\n      <th></th>\n      <th></th>\n      <th></th>\n      <th></th>\n      <th></th>\n      <th></th>\n      <th></th>\n      <th></th>\n      <th></th>\n      <th></th>\n      <th></th>\n      <th></th>\n      <th></th>\n    </tr>\n  </thead>\n  <tbody>\n    <tr>\n      <th>2023-11-29 07:00:00+00:00</th>\n      <td>-6.000</td>\n      <td>102641.390625</td>\n      <td>335.279999</td>\n      <td>114.0</td>\n      <td>{'sky_condition': 'overcast', 'height_agl': 33...</td>\n      <td>NaN</td>\n      <td>-9.05</td>\n      <td>84559.132812</td>\n      <td>79.260002</td>\n      <td>NaN</td>\n      <td>...</td>\n      <td>-0.357</td>\n      <td>KVEL</td>\n      <td>1599.647949</td>\n      <td>40.442951</td>\n      <td>-109.512733</td>\n      <td>NaN</td>\n      <td>NaN</td>\n      <td>NaN</td>\n      <td>NaN</td>\n      <td>NaN</td>\n    </tr>\n    <tr>\n      <th>2023-11-29 07:05:00+00:00</th>\n      <td>-6.000</td>\n      <td>102641.390625</td>\n      <td>335.279999</td>\n      <td>114.0</td>\n      <td>{'sky_condition': 'overcast', 'height_agl': 33...</td>\n      <td>NaN</td>\n      <td>-9.05</td>\n      <td>84559.132812</td>\n      <td>79.260002</td>\n      <td>NaN</td>\n      <td>...</td>\n      <td>0.771</td>\n      <td>KVEL</td>\n      <td>1599.647949</td>\n      <td>40.442951</td>\n      <td>-109.512733</td>\n      <td>NaN</td>\n      <td>NaN</td>\n      <td>NaN</td>\n      <td>NaN</td>\n      <td>NaN</td>\n    </tr>\n    <tr>\n      <th>2023-11-29 07:10:00+00:00</th>\n      <td>-6.000</td>\n      <td>102641.390625</td>\n      <td>335.279999</td>\n      <td>114.0</td>\n      <td>{'sky_condition': 'overcast', 'height_agl': 33...</td>\n      <td>NaN</td>\n      <td>-9.05</td>\n      <td>84559.132812</td>\n      <td>79.260002</td>\n      <td>NaN</td>\n      <td>...</td>\n      <td>0.000</td>\n      <td>KVEL</td>\n      <td>1599.647949</td>\n      <td>40.442951</td>\n      <td>-109.512733</td>\n      <td>NaN</td>\n      <td>NaN</td>\n      <td>NaN</td>\n      <td>NaN</td>\n      <td>NaN</td>\n    </tr>\n    <tr>\n      <th>2023-11-29 07:15:00+00:00</th>\n      <td>-6.000</td>\n      <td>102641.390625</td>\n      <td>335.279999</td>\n      <td>114.0</td>\n      <td>{'sky_condition': 'overcast', 'height_agl': 33...</td>\n      <td>NaN</td>\n      <td>-9.05</td>\n      <td>84559.132812</td>\n      <td>79.260002</td>\n      <td>NaN</td>\n      <td>...</td>\n      <td>0.000</td>\n      <td>KVEL</td>\n      <td>1599.647949</td>\n      <td>40.442951</td>\n      <td>-109.512733</td>\n      <td>NaN</td>\n      <td>NaN</td>\n      <td>NaN</td>\n      <td>NaN</td>\n      <td>NaN</td>\n    </tr>\n    <tr>\n      <th>2023-11-29 07:20:00+00:00</th>\n      <td>-6.000</td>\n      <td>102607.523438</td>\n      <td>335.279999</td>\n      <td>114.0</td>\n      <td>{'sky_condition': 'overcast', 'height_agl': 33...</td>\n      <td>NaN</td>\n      <td>-9.05</td>\n      <td>84531.226562</td>\n      <td>79.260002</td>\n      <td>NaN</td>\n      <td>...</td>\n      <td>1.934</td>\n      <td>KVEL</td>\n      <td>1599.647949</td>\n      <td>40.442951</td>\n      <td>-109.512733</td>\n      <td>NaN</td>\n      <td>NaN</td>\n      <td>NaN</td>\n      <td>NaN</td>\n      <td>NaN</td>\n    </tr>\n    <tr>\n      <th>...</th>\n      <td>...</td>\n      <td>...</td>\n      <td>...</td>\n      <td>...</td>\n      <td>...</td>\n      <td>...</td>\n      <td>...</td>\n      <td>...</td>\n      <td>...</td>\n      <td>...</td>\n      <td>...</td>\n      <td>...</td>\n      <td>...</td>\n      <td>...</td>\n      <td>...</td>\n      <td>...</td>\n      <td>...</td>\n      <td>...</td>\n      <td>...</td>\n      <td>...</td>\n      <td>...</td>\n    </tr>\n    <tr>\n      <th>2023-11-29 16:18:00+00:00</th>\n      <td>-10.000</td>\n      <td>NaN</td>\n      <td>NaN</td>\n      <td>NaN</td>\n      <td>NaN</td>\n      <td>NaN</td>\n      <td>-12.07</td>\n      <td>NaN</td>\n      <td>85.000000</td>\n      <td>NaN</td>\n      <td>...</td>\n      <td>-0.055</td>\n      <td>DRAC2</td>\n      <td>1912.160034</td>\n      <td>39.915169</td>\n      <td>-108.887672</td>\n      <td>NaN</td>\n      <td>NaN</td>\n      <td>1.343</td>\n      <td>106.0</td>\n      <td>1.343</td>\n    </tr>\n    <tr>\n      <th>2023-11-29 17:18:00+00:00</th>\n      <td>-9.444</td>\n      <td>NaN</td>\n      <td>NaN</td>\n      <td>NaN</td>\n      <td>NaN</td>\n      <td>NaN</td>\n      <td>-11.53</td>\n      <td>NaN</td>\n      <td>85.000000</td>\n      <td>NaN</td>\n      <td>...</td>\n      <td>-0.210</td>\n      <td>DRAC2</td>\n      <td>1912.160034</td>\n      <td>39.915169</td>\n      <td>-108.887672</td>\n      <td>NaN</td>\n      <td>NaN</td>\n      <td>1.343</td>\n      <td>154.0</td>\n      <td>1.343</td>\n    </tr>\n    <tr>\n      <th>2023-11-29 18:18:00+00:00</th>\n      <td>-7.778</td>\n      <td>NaN</td>\n      <td>NaN</td>\n      <td>NaN</td>\n      <td>NaN</td>\n      <td>NaN</td>\n      <td>-10.20</td>\n      <td>NaN</td>\n      <td>83.000000</td>\n      <td>NaN</td>\n      <td>...</td>\n      <td>0.000</td>\n      <td>DRAC2</td>\n      <td>1912.160034</td>\n      <td>39.915169</td>\n      <td>-108.887672</td>\n      <td>NaN</td>\n      <td>NaN</td>\n      <td>1.343</td>\n      <td>239.0</td>\n      <td>1.343</td>\n    </tr>\n    <tr>\n      <th>2023-11-29 19:18:00+00:00</th>\n      <td>-6.111</td>\n      <td>NaN</td>\n      <td>NaN</td>\n      <td>NaN</td>\n      <td>NaN</td>\n      <td>NaN</td>\n      <td>-8.56</td>\n      <td>NaN</td>\n      <td>83.000000</td>\n      <td>NaN</td>\n      <td>...</td>\n      <td>0.350</td>\n      <td>DRAC2</td>\n      <td>1912.160034</td>\n      <td>39.915169</td>\n      <td>-108.887672</td>\n      <td>NaN</td>\n      <td>NaN</td>\n      <td>2.233</td>\n      <td>318.0</td>\n      <td>2.233</td>\n    </tr>\n    <tr>\n      <th>2023-11-29 20:18:00+00:00</th>\n      <td>-6.111</td>\n      <td>NaN</td>\n      <td>NaN</td>\n      <td>NaN</td>\n      <td>NaN</td>\n      <td>NaN</td>\n      <td>-8.56</td>\n      <td>NaN</td>\n      <td>83.000000</td>\n      <td>NaN</td>\n      <td>...</td>\n      <td>-0.300</td>\n      <td>DRAC2</td>\n      <td>1912.160034</td>\n      <td>39.915169</td>\n      <td>-108.887672</td>\n      <td>NaN</td>\n      <td>NaN</td>\n      <td>2.680</td>\n      <td>264.0</td>\n      <td>2.680</td>\n    </tr>\n  </tbody>\n</table>\n<p>828 rows × 24 columns</p>\n</div>"
     },
     "execution_count": 3,
     "metadata": {},
     "output_type": "execute_result"
    }
   ],
   "source": [
    "obs.df"
   ],
   "metadata": {
    "collapsed": false,
    "ExecuteTime": {
     "end_time": "2023-11-30T00:48:10.789900Z",
     "start_time": "2023-11-30T00:48:10.774646Z"
    }
   },
   "id": "c43e4fce330c0991"
  },
  {
   "cell_type": "code",
   "execution_count": 4,
   "outputs": [],
   "source": [
    "dt = pd.Timestamp(datetime.datetime(2023,11,29,20,0,0), tz=\"UTC\")\n",
    "profile_df = obs.get_profile_df(dt)"
   ],
   "metadata": {
    "collapsed": false,
    "ExecuteTime": {
     "end_time": "2023-11-30T00:48:10.824527Z",
     "start_time": "2023-11-30T00:48:10.792590Z"
    }
   },
   "id": "4a0cd03bbf2e83f3"
  },
  {
   "cell_type": "code",
   "execution_count": 5,
   "outputs": [
    {
     "data": {
      "text/plain": "     elevation  drybulb\n0  1599.647949   -6.000\n1  1565.904053   -6.000\n2  1740.400024   -6.000\n3  1608.160034   -6.000\n4  3191.392090    0.700\n5  3078.607910    1.900\n6  2903.808105    0.700\n7  2872.191895    2.200\n8  1811.839966   -1.667\n9  1912.160034   -6.111",
      "text/html": "<div>\n<style scoped>\n    .dataframe tbody tr th:only-of-type {\n        vertical-align: middle;\n    }\n\n    .dataframe tbody tr th {\n        vertical-align: top;\n    }\n\n    .dataframe thead th {\n        text-align: right;\n    }\n</style>\n<table border=\"1\" class=\"dataframe\">\n  <thead>\n    <tr style=\"text-align: right;\">\n      <th></th>\n      <th>elevation</th>\n      <th>drybulb</th>\n    </tr>\n  </thead>\n  <tbody>\n    <tr>\n      <th>0</th>\n      <td>1599.647949</td>\n      <td>-6.000</td>\n    </tr>\n    <tr>\n      <th>1</th>\n      <td>1565.904053</td>\n      <td>-6.000</td>\n    </tr>\n    <tr>\n      <th>2</th>\n      <td>1740.400024</td>\n      <td>-6.000</td>\n    </tr>\n    <tr>\n      <th>3</th>\n      <td>1608.160034</td>\n      <td>-6.000</td>\n    </tr>\n    <tr>\n      <th>4</th>\n      <td>3191.392090</td>\n      <td>0.700</td>\n    </tr>\n    <tr>\n      <th>5</th>\n      <td>3078.607910</td>\n      <td>1.900</td>\n    </tr>\n    <tr>\n      <th>6</th>\n      <td>2903.808105</td>\n      <td>0.700</td>\n    </tr>\n    <tr>\n      <th>7</th>\n      <td>2872.191895</td>\n      <td>2.200</td>\n    </tr>\n    <tr>\n      <th>8</th>\n      <td>1811.839966</td>\n      <td>-1.667</td>\n    </tr>\n    <tr>\n      <th>9</th>\n      <td>1912.160034</td>\n      <td>-6.111</td>\n    </tr>\n  </tbody>\n</table>\n</div>"
     },
     "execution_count": 5,
     "metadata": {},
     "output_type": "execute_result"
    }
   ],
   "source": [
    "profile_df"
   ],
   "metadata": {
    "collapsed": false,
    "ExecuteTime": {
     "end_time": "2023-11-30T00:48:10.840829Z",
     "start_time": "2023-11-30T00:48:10.805515Z"
    }
   },
   "id": "db3c5192ea4d5c9b"
  },
  {
   "cell_type": "code",
   "execution_count": 16,
   "outputs": [
    {
     "data": {
      "text/plain": "(<Figure size 640x480 with 1 Axes>, <Axes: >)"
     },
     "execution_count": 16,
     "metadata": {},
     "output_type": "execute_result"
    },
    {
     "data": {
      "text/plain": "<Figure size 640x480 with 1 Axes>",
      "image/png": "[encoded data removed]"
     },
     "metadata": {},
     "output_type": "display_data"
    }
   ],
   "source": [
    "import importlib\n",
    "importlib.reload(plotting)\n",
    "\n",
    "from src.lookups import elevations \n",
    "\n",
    "plotting.plot_profile(profile_df[\"drybulb\"],profile_df[\"elevation\"],\"obs\",plot_levels=elevations)"
   ],
   "metadata": {
    "collapsed": false,
    "ExecuteTime": {
     "end_time": "2023-11-30T01:21:58.044347Z",
     "start_time": "2023-11-30T01:21:57.950943Z"
    }
   },
   "id": "62a86dfdae18a48"
  },
  {
   "cell_type": "code",
   "execution_count": null,
   "outputs": [],
   "source": [],
   "metadata": {
    "collapsed": false
   },
   "id": "a1b60f947969ee77"
  }
 ],
 "metadata": {
  "kernelspec": {
   "display_name": "Python 3",
   "language": "python",
   "name": "python3"
  },
  "language_info": {
   "codemirror_mode": {
    "name": "ipython",
    "version": 2
   },
   "file_extension": ".py",
   "mimetype": "text/x-python",
   "name": "python",
   "nbconvert_exporter": "python",
   "pygments_lexer": "ipython2",
   "version": "2.7.6"
  }
 },
 "nbformat": 4,
 "nbformat_minor": 5
}

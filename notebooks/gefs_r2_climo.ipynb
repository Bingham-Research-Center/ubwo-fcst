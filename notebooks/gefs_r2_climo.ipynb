{
 "cells": [
  {
   "cell_type": "markdown",
   "source": [
    "## For testing GEFS/R2 import and plotting - climatology data\n"
   ],
   "metadata": {
    "collapsed": false
   },
   "id": "da91dc052b9572b7"
  },
  {
   "cell_type": "code",
   "execution_count": 1,
   "outputs": [],
   "source": [
    "import cartopy.crs as ccrs\n",
    "import matplotlib.pyplot as plt\n",
    "import numpy as np\n",
    "\n",
    "from herbie import Herbie"
   ],
   "metadata": {
    "collapsed": false,
    "ExecuteTime": {
     "end_time": "2023-11-30T03:47:05.428854Z",
     "start_time": "2023-11-30T03:47:04.328051Z"
    }
   },
   "id": "c503970bcbd30b0c"
  },
  {
   "cell_type": "code",
   "execution_count": 2,
   "outputs": [
    {
     "name": "stdout",
     "output_type": "stream",
     "text": [
      "✅ Found ┊ model=gefs_reforecast ┊ \u001B[3mproduct=GEFSv12/reforecast\u001B[0m ┊ \u001B[38;2;41;130;13m2017-Mar-14 00:00 UTC\u001B[92m F12\u001B[0m ┊ \u001B[38;2;255;153;0m\u001B[3mGRIB2 @ aws\u001B[0m ┊ \u001B[38;2;255;153;0m\u001B[3mIDX @ aws\u001B[0m\n",
      "👨🏻‍🏭 Created directory: [/Users/johnlawson/data/gefs_reforecast/20170314]\n",
      "✅ Success! Downloaded GEFS_REFORECAST from \u001B[38;5;202maws                 \u001B[0m\n",
      "\tsrc: /Users/johnlawson/data/gefs_reforecast/20170314/tmp_2m_2017031400_c00.grib2\n",
      "\tdst: /Users/johnlawson/data/gefs_reforecast/20170314/tmp_2m_2017031400_c00.grib2\n"
     ]
    },
    {
     "data": {
      "text/plain": "PosixPath('/Users/johnlawson/data/gefs_reforecast/20170314/tmp_2m_2017031400_c00.grib2')"
     },
     "execution_count": 2,
     "metadata": {},
     "output_type": "execute_result"
    }
   ],
   "source": [
    "H = Herbie(\n",
    "    \"2017-03-14\", model=\"gefs_reforecast\", fxx=12, member=0, variable_level=\"tmp_2m\"\n",
    ")\n",
    "H.download(verbose=True)"
   ],
   "metadata": {
    "collapsed": false,
    "ExecuteTime": {
     "end_time": "2023-11-30T03:47:08.669931Z",
     "start_time": "2023-11-30T03:47:05.432377Z"
    }
   },
   "id": "d232b223cac97f71"
  },
  {
   "cell_type": "code",
   "execution_count": 3,
   "outputs": [
    {
     "data": {
      "text/plain": "0     :TMP:2 m above ground:3 hour fcst:ENS=low-res ctl\n1     :TMP:2 m above ground:6 hour fcst:ENS=low-res ctl\n2     :TMP:2 m above ground:9 hour fcst:ENS=low-res ctl\n3     :TMP:2 m above ground:12 hour fcst:ENS=low-res...\n4     :TMP:2 m above ground:15 hour fcst:ENS=low-res...\n                            ...                        \n75    :TMP:2 m above ground:228 hour fcst:ENS=low-re...\n76    :TMP:2 m above ground:231 hour fcst:ENS=low-re...\n77    :TMP:2 m above ground:234 hour fcst:ENS=low-re...\n78    :TMP:2 m above ground:237 hour fcst:ENS=low-re...\n79    :TMP:2 m above ground:240 hour fcst:ENS=low-re...\nName: search_this, Length: 80, dtype: object"
     },
     "execution_count": 3,
     "metadata": {},
     "output_type": "execute_result"
    }
   ],
   "source": [
    "H.inventory().search_this\n"
   ],
   "metadata": {
    "collapsed": false,
    "ExecuteTime": {
     "end_time": "2023-11-30T03:47:09.096691Z",
     "start_time": "2023-11-30T03:47:08.669753Z"
    }
   },
   "id": "cdf49884f4b158d3"
  },
  {
   "cell_type": "code",
   "execution_count": 4,
   "outputs": [
    {
     "data": {
      "text/plain": "<xarray.Dataset>\nDimensions:              (latitude: 721, longitude: 1440)\nCoordinates:\n    number               int64 0\n    time                 datetime64[ns] 2017-03-14\n    step                 timedelta64[ns] 15:00:00\n    heightAboveGround    float64 2.0\n  * latitude             (latitude) float64 90.0 89.75 89.5 ... -89.75 -90.0\n  * longitude            (longitude) float64 0.0 0.25 0.5 ... 359.2 359.5 359.8\n    valid_time           datetime64[ns] 2017-03-14T15:00:00\nData variables:\n    t2m                  (latitude, longitude) float32 242.8 242.8 ... 225.7\n    gribfile_projection  object None\nAttributes:\n    GRIB_edition:            2\n    GRIB_centre:             kwbc\n    GRIB_centreDescription:  US National Weather Service - NCEP\n    GRIB_subCentre:          2\n    Conventions:             CF-1.7\n    institution:             US National Weather Service - NCEP\n    model:                   gefs_reforecast\n    product:                 GEFSv12/reforecast\n    description:             Global Ensemble Forecast System (GEFS)\n    remote_grib:             /Users/johnlawson/data/gefs_reforecast/20170314/...\n    local_grib:              /Users/johnlawson/data/gefs_reforecast/20170314/...\n    searchString:            :15 hour fcst:",
      "text/html": "<div><svg style=\"position: absolute; width: 0; height: 0; overflow: hidden\">\n<defs>\n<symbol id=\"icon-database\" viewBox=\"0 0 32 32\">\n<path d=\"M16 0c-8.837 0-16 2.239-16 5v4c0 2.761 7.163 5 16 5s16-2.239 16-5v-4c0-2.761-7.163-5-16-5z\"></path>\n<path d=\"M16 17c-8.837 0-16-2.239-16-5v6c0 2.761 7.163 5 16 5s16-2.239 16-5v-6c0 2.761-7.163 5-16 5z\"></path>\n<path d=\"M16 26c-8.837 0-16-2.239-16-5v6c0 2.761 7.163 5 16 5s16-2.239 16-5v-6c0 2.761-7.163 5-16 5z\"></path>\n</symbol>\n<symbol id=\"icon-file-text2\" viewBox=\"0 0 32 32\">\n<path d=\"M28.681 7.159c-0.694-0.947-1.662-2.053-2.724-3.116s-2.169-2.030-3.116-2.724c-1.612-1.182-2.393-1.319-2.841-1.319h-15.5c-1.378 0-2.5 1.121-2.5 2.5v27c0 1.378 1.122 2.5 2.5 2.5h23c1.378 0 2.5-1.122 2.5-2.5v-19.5c0-0.448-0.137-1.23-1.319-2.841zM24.543 5.457c0.959 0.959 1.712 1.825 2.268 2.543h-4.811v-4.811c0.718 0.556 1.584 1.309 2.543 2.268zM28 29.5c0 0.271-0.229 0.5-0.5 0.5h-23c-0.271 0-0.5-0.229-0.5-0.5v-27c0-0.271 0.229-0.5 0.5-0.5 0 0 15.499-0 15.5 0v7c0 0.552 0.448 1 1 1h7v19.5z\"></path>\n<path d=\"M23 26h-14c-0.552 0-1-0.448-1-1s0.448-1 1-1h14c0.552 0 1 0.448 1 1s-0.448 1-1 1z\"></path>\n<path d=\"M23 22h-14c-0.552 0-1-0.448-1-1s0.448-1 1-1h14c0.552 0 1 0.448 1 1s-0.448 1-1 1z\"></path>\n<path d=\"M23 18h-14c-0.552 0-1-0.448-1-1s0.448-1 1-1h14c0.552 0 1 0.448 1 1s-0.448 1-1 1z\"></path>\n</symbol>\n</defs>\n</svg>\n<style>/* CSS stylesheet for displaying xarray objects in jupyterlab.\n *\n */\n\n:root {\n  --xr-font-color0: var(--jp-content-font-color0, rgba(0, 0, 0, 1));\n  --xr-font-color2: var(--jp-content-font-color2, rgba(0, 0, 0, 0.54));\n  --xr-font-color3: var(--jp-content-font-color3, rgba(0, 0, 0, 0.38));\n  --xr-border-color: var(--jp-border-color2, #e0e0e0);\n  --xr-disabled-color: var(--jp-layout-color3, #bdbdbd);\n  --xr-background-color: var(--jp-layout-color0, white);\n  --xr-background-color-row-even: var(--jp-layout-color1, white);\n  --xr-background-color-row-odd: var(--jp-layout-color2, #eeeeee);\n}\n\nhtml[theme=dark],\nbody[data-theme=dark],\nbody.vscode-dark {\n  --xr-font-color0: rgba(255, 255, 255, 1);\n  --xr-font-color2: rgba(255, 255, 255, 0.54);\n  --xr-font-color3: rgba(255, 255, 255, 0.38);\n  --xr-border-color: #1F1F1F;\n  --xr-disabled-color: #515151;\n  --xr-background-color: #111111;\n  --xr-background-color-row-even: #111111;\n  --xr-background-color-row-odd: #313131;\n}\n\n.xr-wrap {\n  display: block !important;\n  min-width: 300px;\n  max-width: 700px;\n}\n\n.xr-text-repr-fallback {\n  /* fallback to plain text repr when CSS is not injected (untrusted notebook) */\n  display: none;\n}\n\n.xr-header {\n  padding-top: 6px;\n  padding-bottom: 6px;\n  margin-bottom: 4px;\n  border-bottom: solid 1px var(--xr-border-color);\n}\n\n.xr-header > div,\n.xr-header > ul {\n  display: inline;\n  margin-top: 0;\n  margin-bottom: 0;\n}\n\n.xr-obj-type,\n.xr-array-name {\n  margin-left: 2px;\n  margin-right: 10px;\n}\n\n.xr-obj-type {\n  color: var(--xr-font-color2);\n}\n\n.xr-sections {\n  padding-left: 0 !important;\n  display: grid;\n  grid-template-columns: 150px auto auto 1fr 20px 20px;\n}\n\n.xr-section-item {\n  display: contents;\n}\n\n.xr-section-item input {\n  display: none;\n}\n\n.xr-section-item input + label {\n  color: var(--xr-disabled-color);\n}\n\n.xr-section-item input:enabled + label {\n  cursor: pointer;\n  color: var(--xr-font-color2);\n}\n\n.xr-section-item input:enabled + label:hover {\n  color: var(--xr-font-color0);\n}\n\n.xr-section-summary {\n  grid-column: 1;\n  color: var(--xr-font-color2);\n  font-weight: 500;\n}\n\n.xr-section-summary > span {\n  display: inline-block;\n  padding-left: 0.5em;\n}\n\n.xr-section-summary-in:disabled + label {\n  color: var(--xr-font-color2);\n}\n\n.xr-section-summary-in + label:before {\n  display: inline-block;\n  content: '►';\n  font-size: 11px;\n  width: 15px;\n  text-align: center;\n}\n\n.xr-section-summary-in:disabled + label:before {\n  color: var(--xr-disabled-color);\n}\n\n.xr-section-summary-in:checked + label:before {\n  content: '▼';\n}\n\n.xr-section-summary-in:checked + label > span {\n  display: none;\n}\n\n.xr-section-summary,\n.xr-section-inline-details {\n  padding-top: 4px;\n  padding-bottom: 4px;\n}\n\n.xr-section-inline-details {\n  grid-column: 2 / -1;\n}\n\n.xr-section-details {\n  display: none;\n  grid-column: 1 / -1;\n  margin-bottom: 5px;\n}\n\n.xr-section-summary-in:checked ~ .xr-section-details {\n  display: contents;\n}\n\n.xr-array-wrap {\n  grid-column: 1 / -1;\n  display: grid;\n  grid-template-columns: 20px auto;\n}\n\n.xr-array-wrap > label {\n  grid-column: 1;\n  vertical-align: top;\n}\n\n.xr-preview {\n  color: var(--xr-font-color3);\n}\n\n.xr-array-preview,\n.xr-array-data {\n  padding: 0 5px !important;\n  grid-column: 2;\n}\n\n.xr-array-data,\n.xr-array-in:checked ~ .xr-array-preview {\n  display: none;\n}\n\n.xr-array-in:checked ~ .xr-array-data,\n.xr-array-preview {\n  display: inline-block;\n}\n\n.xr-dim-list {\n  display: inline-block !important;\n  list-style: none;\n  padding: 0 !important;\n  margin: 0;\n}\n\n.xr-dim-list li {\n  display: inline-block;\n  padding: 0;\n  margin: 0;\n}\n\n.xr-dim-list:before {\n  content: '(';\n}\n\n.xr-dim-list:after {\n  content: ')';\n}\n\n.xr-dim-list li:not(:last-child):after {\n  content: ',';\n  padding-right: 5px;\n}\n\n.xr-has-index {\n  font-weight: bold;\n}\n\n.xr-var-list,\n.xr-var-item {\n  display: contents;\n}\n\n.xr-var-item > div,\n.xr-var-item label,\n.xr-var-item > .xr-var-name span {\n  background-color: var(--xr-background-color-row-even);\n  margin-bottom: 0;\n}\n\n.xr-var-item > .xr-var-name:hover span {\n  padding-right: 5px;\n}\n\n.xr-var-list > li:nth-child(odd) > div,\n.xr-var-list > li:nth-child(odd) > label,\n.xr-var-list > li:nth-child(odd) > .xr-var-name span {\n  background-color: var(--xr-background-color-row-odd);\n}\n\n.xr-var-name {\n  grid-column: 1;\n}\n\n.xr-var-dims {\n  grid-column: 2;\n}\n\n.xr-var-dtype {\n  grid-column: 3;\n  text-align: right;\n  color: var(--xr-font-color2);\n}\n\n.xr-var-preview {\n  grid-column: 4;\n}\n\n.xr-index-preview {\n  grid-column: 2 / 5;\n  color: var(--xr-font-color2);\n}\n\n.xr-var-name,\n.xr-var-dims,\n.xr-var-dtype,\n.xr-preview,\n.xr-attrs dt {\n  white-space: nowrap;\n  overflow: hidden;\n  text-overflow: ellipsis;\n  padding-right: 10px;\n}\n\n.xr-var-name:hover,\n.xr-var-dims:hover,\n.xr-var-dtype:hover,\n.xr-attrs dt:hover {\n  overflow: visible;\n  width: auto;\n  z-index: 1;\n}\n\n.xr-var-attrs,\n.xr-var-data,\n.xr-index-data {\n  display: none;\n  background-color: var(--xr-background-color) !important;\n  padding-bottom: 5px !important;\n}\n\n.xr-var-attrs-in:checked ~ .xr-var-attrs,\n.xr-var-data-in:checked ~ .xr-var-data,\n.xr-index-data-in:checked ~ .xr-index-data {\n  display: block;\n}\n\n.xr-var-data > table {\n  float: right;\n}\n\n.xr-var-name span,\n.xr-var-data,\n.xr-index-name div,\n.xr-index-data,\n.xr-attrs {\n  padding-left: 25px !important;\n}\n\n.xr-attrs,\n.xr-var-attrs,\n.xr-var-data,\n.xr-index-data {\n  grid-column: 1 / -1;\n}\n\ndl.xr-attrs {\n  padding: 0;\n  margin: 0;\n  display: grid;\n  grid-template-columns: 125px auto;\n}\n\n.xr-attrs dt,\n.xr-attrs dd {\n  padding: 0;\n  margin: 0;\n  float: left;\n  padding-right: 10px;\n  width: auto;\n}\n\n.xr-attrs dt {\n  font-weight: normal;\n  grid-column: 1;\n}\n\n.xr-attrs dt:hover span {\n  display: inline-block;\n  background: var(--xr-background-color);\n  padding-right: 10px;\n}\n\n.xr-attrs dd {\n  grid-column: 2;\n  white-space: pre-wrap;\n  word-break: break-all;\n}\n\n.xr-icon-database,\n.xr-icon-file-text2,\n.xr-no-icon {\n  display: inline-block;\n  vertical-align: middle;\n  width: 1em;\n  height: 1.5em !important;\n  stroke-width: 0;\n  stroke: currentColor;\n  fill: currentColor;\n}\n</style><pre class='xr-text-repr-fallback'>&lt;xarray.Dataset&gt;\nDimensions:              (latitude: 721, longitude: 1440)\nCoordinates:\n    number               int64 0\n    time                 datetime64[ns] 2017-03-14\n    step                 timedelta64[ns] 15:00:00\n    heightAboveGround    float64 2.0\n  * latitude             (latitude) float64 90.0 89.75 89.5 ... -89.75 -90.0\n  * longitude            (longitude) float64 0.0 0.25 0.5 ... 359.2 359.5 359.8\n    valid_time           datetime64[ns] 2017-03-14T15:00:00\nData variables:\n    t2m                  (latitude, longitude) float32 242.8 242.8 ... 225.7\n    gribfile_projection  object None\nAttributes:\n    GRIB_edition:            2\n    GRIB_centre:             kwbc\n    GRIB_centreDescription:  US National Weather Service - NCEP\n    GRIB_subCentre:          2\n    Conventions:             CF-1.7\n    institution:             US National Weather Service - NCEP\n    model:                   gefs_reforecast\n    product:                 GEFSv12/reforecast\n    description:             Global Ensemble Forecast System (GEFS)\n    remote_grib:             /Users/johnlawson/data/gefs_reforecast/20170314/...\n    local_grib:              /Users/johnlawson/data/gefs_reforecast/20170314/...\n    searchString:            :15 hour fcst:</pre><div class='xr-wrap' style='display:none'><div class='xr-header'><div class='xr-obj-type'>xarray.Dataset</div></div><ul class='xr-sections'><li class='xr-section-item'><input id='section-c5056b20-cd96-47fe-ad99-8a7058e65776' class='xr-section-summary-in' type='checkbox' disabled ><label for='section-c5056b20-cd96-47fe-ad99-8a7058e65776' class='xr-section-summary'  title='Expand/collapse section'>Dimensions:</label><div class='xr-section-inline-details'><ul class='xr-dim-list'><li><span class='xr-has-index'>latitude</span>: 721</li><li><span class='xr-has-index'>longitude</span>: 1440</li></ul></div><div class='xr-section-details'></div></li><li class='xr-section-item'><input id='section-1fe1d519-897c-4017-86e7-ff490312e18e' class='xr-section-summary-in' type='checkbox'  checked><label for='section-1fe1d519-897c-4017-86e7-ff490312e18e' class='xr-section-summary' >Coordinates: <span>(7)</span></label><div class='xr-section-inline-details'></div><div class='xr-section-details'><ul class='xr-var-list'><li class='xr-var-item'><div class='xr-var-name'><span>number</span></div><div class='xr-var-dims'>()</div><div class='xr-var-dtype'>int64</div><div class='xr-var-preview xr-preview'>0</div><input id='attrs-2b1d8eb6-bb2e-4a18-b208-a0749109f824' class='xr-var-attrs-in' type='checkbox' ><label for='attrs-2b1d8eb6-bb2e-4a18-b208-a0749109f824' title='Show/Hide attributes'><svg class='icon xr-icon-file-text2'><use xlink:href='#icon-file-text2'></use></svg></label><input id='data-3b6dc61c-dc85-443d-af42-2c995a4ced7d' class='xr-var-data-in' type='checkbox'><label for='data-3b6dc61c-dc85-443d-af42-2c995a4ced7d' title='Show/Hide data repr'><svg class='icon xr-icon-database'><use xlink:href='#icon-database'></use></svg></label><div class='xr-var-attrs'><dl class='xr-attrs'><dt><span>long_name :</span></dt><dd>ensemble member numerical id</dd><dt><span>units :</span></dt><dd>1</dd><dt><span>standard_name :</span></dt><dd>realization</dd></dl></div><div class='xr-var-data'><pre>array(0)</pre></div></li><li class='xr-var-item'><div class='xr-var-name'><span>time</span></div><div class='xr-var-dims'>()</div><div class='xr-var-dtype'>datetime64[ns]</div><div class='xr-var-preview xr-preview'>2017-03-14</div><input id='attrs-d70bf3ba-3d5d-42b2-aad1-7991d59a4c22' class='xr-var-attrs-in' type='checkbox' ><label for='attrs-d70bf3ba-3d5d-42b2-aad1-7991d59a4c22' title='Show/Hide attributes'><svg class='icon xr-icon-file-text2'><use xlink:href='#icon-file-text2'></use></svg></label><input id='data-ed71f8e0-8fca-42d7-a573-c10603e9ed91' class='xr-var-data-in' type='checkbox'><label for='data-ed71f8e0-8fca-42d7-a573-c10603e9ed91' title='Show/Hide data repr'><svg class='icon xr-icon-database'><use xlink:href='#icon-database'></use></svg></label><div class='xr-var-attrs'><dl class='xr-attrs'><dt><span>long_name :</span></dt><dd>initial time of forecast</dd><dt><span>standard_name :</span></dt><dd>forecast_reference_time</dd></dl></div><div class='xr-var-data'><pre>array(&#x27;2017-03-14T00:00:00.000000000&#x27;, dtype=&#x27;datetime64[ns]&#x27;)</pre></div></li><li class='xr-var-item'><div class='xr-var-name'><span>step</span></div><div class='xr-var-dims'>()</div><div class='xr-var-dtype'>timedelta64[ns]</div><div class='xr-var-preview xr-preview'>15:00:00</div><input id='attrs-e3c2fd34-9d45-469f-ba78-204bd15699f6' class='xr-var-attrs-in' type='checkbox' ><label for='attrs-e3c2fd34-9d45-469f-ba78-204bd15699f6' title='Show/Hide attributes'><svg class='icon xr-icon-file-text2'><use xlink:href='#icon-file-text2'></use></svg></label><input id='data-0c49e866-9c90-49e2-ae42-e88dbc809f01' class='xr-var-data-in' type='checkbox'><label for='data-0c49e866-9c90-49e2-ae42-e88dbc809f01' title='Show/Hide data repr'><svg class='icon xr-icon-database'><use xlink:href='#icon-database'></use></svg></label><div class='xr-var-attrs'><dl class='xr-attrs'><dt><span>long_name :</span></dt><dd>time since forecast_reference_time</dd><dt><span>standard_name :</span></dt><dd>forecast_period</dd></dl></div><div class='xr-var-data'><pre>array(54000000000000, dtype=&#x27;timedelta64[ns]&#x27;)</pre></div></li><li class='xr-var-item'><div class='xr-var-name'><span>heightAboveGround</span></div><div class='xr-var-dims'>()</div><div class='xr-var-dtype'>float64</div><div class='xr-var-preview xr-preview'>2.0</div><input id='attrs-22924d15-8792-4dac-b32f-a3198b34da52' class='xr-var-attrs-in' type='checkbox' ><label for='attrs-22924d15-8792-4dac-b32f-a3198b34da52' title='Show/Hide attributes'><svg class='icon xr-icon-file-text2'><use xlink:href='#icon-file-text2'></use></svg></label><input id='data-7085ddf3-a050-4351-b882-8b5c53cd7279' class='xr-var-data-in' type='checkbox'><label for='data-7085ddf3-a050-4351-b882-8b5c53cd7279' title='Show/Hide data repr'><svg class='icon xr-icon-database'><use xlink:href='#icon-database'></use></svg></label><div class='xr-var-attrs'><dl class='xr-attrs'><dt><span>long_name :</span></dt><dd>height above the surface</dd><dt><span>units :</span></dt><dd>m</dd><dt><span>positive :</span></dt><dd>up</dd><dt><span>standard_name :</span></dt><dd>height</dd></dl></div><div class='xr-var-data'><pre>array(2.)</pre></div></li><li class='xr-var-item'><div class='xr-var-name'><span class='xr-has-index'>latitude</span></div><div class='xr-var-dims'>(latitude)</div><div class='xr-var-dtype'>float64</div><div class='xr-var-preview xr-preview'>90.0 89.75 89.5 ... -89.75 -90.0</div><input id='attrs-5c4123a0-e705-48e6-8ef1-bc9dcd270e3e' class='xr-var-attrs-in' type='checkbox' ><label for='attrs-5c4123a0-e705-48e6-8ef1-bc9dcd270e3e' title='Show/Hide attributes'><svg class='icon xr-icon-file-text2'><use xlink:href='#icon-file-text2'></use></svg></label><input id='data-0501ce9f-5859-42c5-9e55-86482a37ac3b' class='xr-var-data-in' type='checkbox'><label for='data-0501ce9f-5859-42c5-9e55-86482a37ac3b' title='Show/Hide data repr'><svg class='icon xr-icon-database'><use xlink:href='#icon-database'></use></svg></label><div class='xr-var-attrs'><dl class='xr-attrs'><dt><span>units :</span></dt><dd>degrees_north</dd><dt><span>standard_name :</span></dt><dd>latitude</dd><dt><span>long_name :</span></dt><dd>latitude</dd><dt><span>stored_direction :</span></dt><dd>decreasing</dd></dl></div><div class='xr-var-data'><pre>array([ 90.  ,  89.75,  89.5 , ..., -89.5 , -89.75, -90.  ])</pre></div></li><li class='xr-var-item'><div class='xr-var-name'><span class='xr-has-index'>longitude</span></div><div class='xr-var-dims'>(longitude)</div><div class='xr-var-dtype'>float64</div><div class='xr-var-preview xr-preview'>0.0 0.25 0.5 ... 359.2 359.5 359.8</div><input id='attrs-62eabc6f-ccd1-486f-ae06-29000772d9e4' class='xr-var-attrs-in' type='checkbox' ><label for='attrs-62eabc6f-ccd1-486f-ae06-29000772d9e4' title='Show/Hide attributes'><svg class='icon xr-icon-file-text2'><use xlink:href='#icon-file-text2'></use></svg></label><input id='data-0236cc3a-96cd-4c88-84dc-d87b5a261939' class='xr-var-data-in' type='checkbox'><label for='data-0236cc3a-96cd-4c88-84dc-d87b5a261939' title='Show/Hide data repr'><svg class='icon xr-icon-database'><use xlink:href='#icon-database'></use></svg></label><div class='xr-var-attrs'><dl class='xr-attrs'><dt><span>units :</span></dt><dd>degrees_east</dd><dt><span>standard_name :</span></dt><dd>longitude</dd><dt><span>long_name :</span></dt><dd>longitude</dd></dl></div><div class='xr-var-data'><pre>array([0.0000e+00, 2.5000e-01, 5.0000e-01, ..., 3.5925e+02, 3.5950e+02,\n       3.5975e+02])</pre></div></li><li class='xr-var-item'><div class='xr-var-name'><span>valid_time</span></div><div class='xr-var-dims'>()</div><div class='xr-var-dtype'>datetime64[ns]</div><div class='xr-var-preview xr-preview'>2017-03-14T15:00:00</div><input id='attrs-82bbbab3-30f0-479c-adb9-edf590e32838' class='xr-var-attrs-in' type='checkbox' ><label for='attrs-82bbbab3-30f0-479c-adb9-edf590e32838' title='Show/Hide attributes'><svg class='icon xr-icon-file-text2'><use xlink:href='#icon-file-text2'></use></svg></label><input id='data-4db85909-9f86-49aa-a7a1-f6935cbf6e3e' class='xr-var-data-in' type='checkbox'><label for='data-4db85909-9f86-49aa-a7a1-f6935cbf6e3e' title='Show/Hide data repr'><svg class='icon xr-icon-database'><use xlink:href='#icon-database'></use></svg></label><div class='xr-var-attrs'><dl class='xr-attrs'><dt><span>standard_name :</span></dt><dd>time</dd><dt><span>long_name :</span></dt><dd>time</dd></dl></div><div class='xr-var-data'><pre>array(&#x27;2017-03-14T15:00:00.000000000&#x27;, dtype=&#x27;datetime64[ns]&#x27;)</pre></div></li></ul></div></li><li class='xr-section-item'><input id='section-b6c6a685-c6f1-4c97-a829-dddae1b9d6db' class='xr-section-summary-in' type='checkbox'  checked><label for='section-b6c6a685-c6f1-4c97-a829-dddae1b9d6db' class='xr-section-summary' >Data variables: <span>(2)</span></label><div class='xr-section-inline-details'></div><div class='xr-section-details'><ul class='xr-var-list'><li class='xr-var-item'><div class='xr-var-name'><span>t2m</span></div><div class='xr-var-dims'>(latitude, longitude)</div><div class='xr-var-dtype'>float32</div><div class='xr-var-preview xr-preview'>242.8 242.8 242.8 ... 225.7 225.7</div><input id='attrs-8e4b0128-6d04-425d-8065-3ca30baf8718' class='xr-var-attrs-in' type='checkbox' ><label for='attrs-8e4b0128-6d04-425d-8065-3ca30baf8718' title='Show/Hide attributes'><svg class='icon xr-icon-file-text2'><use xlink:href='#icon-file-text2'></use></svg></label><input id='data-81c43bab-c98a-485f-aeba-e7e9ea45aa32' class='xr-var-data-in' type='checkbox'><label for='data-81c43bab-c98a-485f-aeba-e7e9ea45aa32' title='Show/Hide data repr'><svg class='icon xr-icon-database'><use xlink:href='#icon-database'></use></svg></label><div class='xr-var-attrs'><dl class='xr-attrs'><dt><span>GRIB_paramId :</span></dt><dd>167</dd><dt><span>GRIB_dataType :</span></dt><dd>cf</dd><dt><span>GRIB_numberOfPoints :</span></dt><dd>1038240</dd><dt><span>GRIB_typeOfLevel :</span></dt><dd>heightAboveGround</dd><dt><span>GRIB_stepUnits :</span></dt><dd>1</dd><dt><span>GRIB_stepType :</span></dt><dd>instant</dd><dt><span>GRIB_gridType :</span></dt><dd>regular_ll</dd><dt><span>GRIB_NV :</span></dt><dd>0</dd><dt><span>GRIB_Nx :</span></dt><dd>1440</dd><dt><span>GRIB_Ny :</span></dt><dd>721</dd><dt><span>GRIB_cfName :</span></dt><dd>air_temperature</dd><dt><span>GRIB_cfVarName :</span></dt><dd>t2m</dd><dt><span>GRIB_gridDefinitionDescription :</span></dt><dd>Latitude/longitude. Also called equidistant cylindrical, or Plate Carree</dd><dt><span>GRIB_iDirectionIncrementInDegrees :</span></dt><dd>0.25</dd><dt><span>GRIB_iScansNegatively :</span></dt><dd>0</dd><dt><span>GRIB_jDirectionIncrementInDegrees :</span></dt><dd>0.25</dd><dt><span>GRIB_jPointsAreConsecutive :</span></dt><dd>0</dd><dt><span>GRIB_jScansPositively :</span></dt><dd>0</dd><dt><span>GRIB_latitudeOfFirstGridPointInDegrees :</span></dt><dd>90.0</dd><dt><span>GRIB_latitudeOfLastGridPointInDegrees :</span></dt><dd>-90.0</dd><dt><span>GRIB_longitudeOfFirstGridPointInDegrees :</span></dt><dd>0.0</dd><dt><span>GRIB_longitudeOfLastGridPointInDegrees :</span></dt><dd>359.75</dd><dt><span>GRIB_missingValue :</span></dt><dd>3.4028234663852886e+38</dd><dt><span>GRIB_name :</span></dt><dd>2 metre temperature</dd><dt><span>GRIB_parameterName :</span></dt><dd>Temperature</dd><dt><span>GRIB_parameterUnits :</span></dt><dd>K</dd><dt><span>GRIB_shortName :</span></dt><dd>2t</dd><dt><span>GRIB_stepRange :</span></dt><dd>15</dd><dt><span>GRIB_totalNumber :</span></dt><dd>10</dd><dt><span>GRIB_units :</span></dt><dd>K</dd><dt><span>long_name :</span></dt><dd>2 metre temperature</dd><dt><span>units :</span></dt><dd>K</dd><dt><span>standard_name :</span></dt><dd>air_temperature</dd><dt><span>grid_mapping :</span></dt><dd>gribfile_projection</dd></dl></div><div class='xr-var-data'><pre>array([[242.79997, 242.79997, 242.79997, ..., 242.79997, 242.79997,\n        242.79997],\n       [243.39998, 243.39998, 243.39998, ..., 243.39998, 243.39998,\n        243.39998],\n       [244.19998, 244.19998, 244.29997, ..., 244.09998, 244.09998,\n        244.19998],\n       ...,\n       [225.29997, 225.29997, 225.29997, ..., 225.29997, 225.29997,\n        225.29997],\n       [225.69998, 225.69998, 225.69998, ..., 225.69998, 225.69998,\n        225.69998],\n       [225.69998, 225.69998, 225.69998, ..., 225.69998, 225.69998,\n        225.69998]], dtype=float32)</pre></div></li><li class='xr-var-item'><div class='xr-var-name'><span>gribfile_projection</span></div><div class='xr-var-dims'>()</div><div class='xr-var-dtype'>object</div><div class='xr-var-preview xr-preview'>None</div><input id='attrs-30e49b59-68c0-4066-8be0-b3fd85803a48' class='xr-var-attrs-in' type='checkbox' ><label for='attrs-30e49b59-68c0-4066-8be0-b3fd85803a48' title='Show/Hide attributes'><svg class='icon xr-icon-file-text2'><use xlink:href='#icon-file-text2'></use></svg></label><input id='data-9a273e10-f969-4558-99d7-f3f62ac659dc' class='xr-var-data-in' type='checkbox'><label for='data-9a273e10-f969-4558-99d7-f3f62ac659dc' title='Show/Hide data repr'><svg class='icon xr-icon-database'><use xlink:href='#icon-database'></use></svg></label><div class='xr-var-attrs'><dl class='xr-attrs'><dt><span>crs_wkt :</span></dt><dd>GEOGCRS[&quot;unknown&quot;,DATUM[&quot;unknown&quot;,ELLIPSOID[&quot;unknown&quot;,6371229,0,LENGTHUNIT[&quot;metre&quot;,1,ID[&quot;EPSG&quot;,9001]]]],PRIMEM[&quot;Greenwich&quot;,0,ANGLEUNIT[&quot;degree&quot;,0.0174532925199433],ID[&quot;EPSG&quot;,8901]],CS[ellipsoidal,2],AXIS[&quot;longitude&quot;,east,ORDER[1],ANGLEUNIT[&quot;degree&quot;,0.0174532925199433,ID[&quot;EPSG&quot;,9122]]],AXIS[&quot;latitude&quot;,north,ORDER[2],ANGLEUNIT[&quot;degree&quot;,0.0174532925199433,ID[&quot;EPSG&quot;,9122]]]]</dd><dt><span>semi_major_axis :</span></dt><dd>6371229.0</dd><dt><span>semi_minor_axis :</span></dt><dd>6371229.0</dd><dt><span>inverse_flattening :</span></dt><dd>0.0</dd><dt><span>reference_ellipsoid_name :</span></dt><dd>unknown</dd><dt><span>longitude_of_prime_meridian :</span></dt><dd>0.0</dd><dt><span>prime_meridian_name :</span></dt><dd>Greenwich</dd><dt><span>geographic_crs_name :</span></dt><dd>unknown</dd><dt><span>horizontal_datum_name :</span></dt><dd>unknown</dd><dt><span>grid_mapping_name :</span></dt><dd>latitude_longitude</dd><dt><span>long_name :</span></dt><dd>GEFS_REFORECAST model grid projection</dd></dl></div><div class='xr-var-data'><pre>array(None, dtype=object)</pre></div></li></ul></div></li><li class='xr-section-item'><input id='section-61ecef61-c161-4b99-be78-7a9e15d610e9' class='xr-section-summary-in' type='checkbox'  ><label for='section-61ecef61-c161-4b99-be78-7a9e15d610e9' class='xr-section-summary' >Indexes: <span>(2)</span></label><div class='xr-section-inline-details'></div><div class='xr-section-details'><ul class='xr-var-list'><li class='xr-var-item'><div class='xr-index-name'><div>latitude</div></div><div class='xr-index-preview'>PandasIndex</div><div></div><input id='index-5a038f78-66a2-466d-8a25-a847c1a489e6' class='xr-index-data-in' type='checkbox'/><label for='index-5a038f78-66a2-466d-8a25-a847c1a489e6' title='Show/Hide index repr'><svg class='icon xr-icon-database'><use xlink:href='#icon-database'></use></svg></label><div class='xr-index-data'><pre>PandasIndex(Index([  90.0,  89.75,   89.5,  89.25,   89.0,  88.75,   88.5,  88.25,   88.0,\n        87.75,\n       ...\n       -87.75,  -88.0, -88.25,  -88.5, -88.75,  -89.0, -89.25,  -89.5, -89.75,\n        -90.0],\n      dtype=&#x27;float64&#x27;, name=&#x27;latitude&#x27;, length=721))</pre></div></li><li class='xr-var-item'><div class='xr-index-name'><div>longitude</div></div><div class='xr-index-preview'>PandasIndex</div><div></div><input id='index-66b73486-8844-4e91-8cf5-ea128047e1f2' class='xr-index-data-in' type='checkbox'/><label for='index-66b73486-8844-4e91-8cf5-ea128047e1f2' title='Show/Hide index repr'><svg class='icon xr-icon-database'><use xlink:href='#icon-database'></use></svg></label><div class='xr-index-data'><pre>PandasIndex(Index([   0.0,   0.25,    0.5,   0.75,    1.0,   1.25,    1.5,   1.75,    2.0,\n         2.25,\n       ...\n        357.5, 357.75,  358.0, 358.25,  358.5, 358.75,  359.0, 359.25,  359.5,\n       359.75],\n      dtype=&#x27;float64&#x27;, name=&#x27;longitude&#x27;, length=1440))</pre></div></li></ul></div></li><li class='xr-section-item'><input id='section-6967bc46-f82b-4582-b413-a4e6cd140c32' class='xr-section-summary-in' type='checkbox'  ><label for='section-6967bc46-f82b-4582-b413-a4e6cd140c32' class='xr-section-summary' >Attributes: <span>(12)</span></label><div class='xr-section-inline-details'></div><div class='xr-section-details'><dl class='xr-attrs'><dt><span>GRIB_edition :</span></dt><dd>2</dd><dt><span>GRIB_centre :</span></dt><dd>kwbc</dd><dt><span>GRIB_centreDescription :</span></dt><dd>US National Weather Service - NCEP</dd><dt><span>GRIB_subCentre :</span></dt><dd>2</dd><dt><span>Conventions :</span></dt><dd>CF-1.7</dd><dt><span>institution :</span></dt><dd>US National Weather Service - NCEP</dd><dt><span>model :</span></dt><dd>gefs_reforecast</dd><dt><span>product :</span></dt><dd>GEFSv12/reforecast</dd><dt><span>description :</span></dt><dd>Global Ensemble Forecast System (GEFS)</dd><dt><span>remote_grib :</span></dt><dd>/Users/johnlawson/data/gefs_reforecast/20170314/tmp_2m_2017031400_c00.grib2</dd><dt><span>local_grib :</span></dt><dd>/Users/johnlawson/data/gefs_reforecast/20170314/subset_191288ed__tmp_2m_2017031400_c00.grib2</dd><dt><span>searchString :</span></dt><dd>:15 hour fcst:</dd></dl></div></li></ul></div></div>"
     },
     "execution_count": 4,
     "metadata": {},
     "output_type": "execute_result"
    }
   ],
   "source": [
    "ds = H.xarray(\":15 hour fcst:\")\n",
    "ds\n"
   ],
   "metadata": {
    "collapsed": false,
    "ExecuteTime": {
     "end_time": "2023-11-30T03:47:10.172871Z",
     "start_time": "2023-11-30T03:47:09.099843Z"
    }
   },
   "id": "af216442ee01def9"
  },
  {
   "cell_type": "code",
   "execution_count": 5,
   "outputs": [],
   "source": [
    "import s3fs\n",
    "import pandas as pd\n",
    "# Now for looking up levels:"
   ],
   "metadata": {
    "collapsed": false,
    "ExecuteTime": {
     "end_time": "2023-11-30T03:47:10.271918Z",
     "start_time": "2023-11-30T03:47:10.169226Z"
    }
   },
   "id": "d52ea8f742d0439a"
  },
  {
   "cell_type": "code",
   "execution_count": 6,
   "outputs": [],
   "source": [
    "# List files in the GEFS bucket for a day\n",
    "fs = s3fs.S3FileSystem(anon=True)\n",
    "files = fs.ls(\n",
    "    path=\"noaa-gefs-retrospective/GEFSv12/reforecast/2015/2015010100/c00/Days:1-10\"\n",
    ")"
   ],
   "metadata": {
    "collapsed": false,
    "ExecuteTime": {
     "end_time": "2023-11-30T03:47:10.873271Z",
     "start_time": "2023-11-30T03:47:10.279865Z"
    }
   },
   "id": "a291a37dab2e1d7f"
  },
  {
   "cell_type": "code",
   "execution_count": 7,
   "outputs": [
    {
     "data": {
      "text/plain": "   variable level           a           b          c\n0     acpcp   sfc  2015010100   c00.grib2       None\n1      apcp   sfc  2015010100   c00.grib2       None\n2      cape   sfc  2015010100   c00.grib2       None\n3       cin   sfc  2015010100   c00.grib2       None\n4     dlwrf   sfc  2015010100   c00.grib2       None\n..      ...   ...         ...         ...        ...\n56     vgrd  pvor  2015010100   c00.grib2       None\n57     vvel  pres  2015010100   c00.grib2       None\n58     vvel  pres    abv700mb  2015010100  c00.grib2\n59     watr   sfc  2015010100   c00.grib2       None\n60    weasd   sfc  2015010100   c00.grib2       None\n\n[61 rows x 5 columns]",
      "text/html": "<div>\n<style scoped>\n    .dataframe tbody tr th:only-of-type {\n        vertical-align: middle;\n    }\n\n    .dataframe tbody tr th {\n        vertical-align: top;\n    }\n\n    .dataframe thead th {\n        text-align: right;\n    }\n</style>\n<table border=\"1\" class=\"dataframe\">\n  <thead>\n    <tr style=\"text-align: right;\">\n      <th></th>\n      <th>variable</th>\n      <th>level</th>\n      <th>a</th>\n      <th>b</th>\n      <th>c</th>\n    </tr>\n  </thead>\n  <tbody>\n    <tr>\n      <th>0</th>\n      <td>acpcp</td>\n      <td>sfc</td>\n      <td>2015010100</td>\n      <td>c00.grib2</td>\n      <td>None</td>\n    </tr>\n    <tr>\n      <th>1</th>\n      <td>apcp</td>\n      <td>sfc</td>\n      <td>2015010100</td>\n      <td>c00.grib2</td>\n      <td>None</td>\n    </tr>\n    <tr>\n      <th>2</th>\n      <td>cape</td>\n      <td>sfc</td>\n      <td>2015010100</td>\n      <td>c00.grib2</td>\n      <td>None</td>\n    </tr>\n    <tr>\n      <th>3</th>\n      <td>cin</td>\n      <td>sfc</td>\n      <td>2015010100</td>\n      <td>c00.grib2</td>\n      <td>None</td>\n    </tr>\n    <tr>\n      <th>4</th>\n      <td>dlwrf</td>\n      <td>sfc</td>\n      <td>2015010100</td>\n      <td>c00.grib2</td>\n      <td>None</td>\n    </tr>\n    <tr>\n      <th>...</th>\n      <td>...</td>\n      <td>...</td>\n      <td>...</td>\n      <td>...</td>\n      <td>...</td>\n    </tr>\n    <tr>\n      <th>56</th>\n      <td>vgrd</td>\n      <td>pvor</td>\n      <td>2015010100</td>\n      <td>c00.grib2</td>\n      <td>None</td>\n    </tr>\n    <tr>\n      <th>57</th>\n      <td>vvel</td>\n      <td>pres</td>\n      <td>2015010100</td>\n      <td>c00.grib2</td>\n      <td>None</td>\n    </tr>\n    <tr>\n      <th>58</th>\n      <td>vvel</td>\n      <td>pres</td>\n      <td>abv700mb</td>\n      <td>2015010100</td>\n      <td>c00.grib2</td>\n    </tr>\n    <tr>\n      <th>59</th>\n      <td>watr</td>\n      <td>sfc</td>\n      <td>2015010100</td>\n      <td>c00.grib2</td>\n      <td>None</td>\n    </tr>\n    <tr>\n      <th>60</th>\n      <td>weasd</td>\n      <td>sfc</td>\n      <td>2015010100</td>\n      <td>c00.grib2</td>\n      <td>None</td>\n    </tr>\n  </tbody>\n</table>\n<p>61 rows × 5 columns</p>\n</div>"
     },
     "execution_count": 7,
     "metadata": {},
     "output_type": "execute_result"
    }
   ],
   "source": [
    "# var_lev prefix\n",
    "var_lev = [i.split(\"/\")[-1].split(\"_\") for i in files if i.endswith(\".grib2\")]\n",
    "variable_levels_df = pd.DataFrame(var_lev, columns=[\"variable\", \"level\", \"a\", \"b\", \"c\"])\n",
    "variable_levels_df"
   ],
   "metadata": {
    "collapsed": false,
    "ExecuteTime": {
     "end_time": "2023-11-30T03:47:10.882176Z",
     "start_time": "2023-11-30T03:47:10.875788Z"
    }
   },
   "id": "a48497e7bb61f6c4"
  },
  {
   "cell_type": "code",
   "execution_count": 8,
   "outputs": [
    {
     "data": {
      "text/plain": "array(['acpcp', 'apcp', 'cape', 'cin', 'dlwrf', 'dswrf', 'gflux', 'gust',\n       'hgt', 'hlcy', 'lhtfl', 'ncpcp', 'pbl', 'pres', 'pvort', 'pwat',\n       'rh', 'sfcr', 'shtfl', 'soilw', 'spfh', 'tcdc', 'tmax', 'tmin',\n       'tmp', 'tozne', 'tsoil', 'uflx', 'ugrd', 'ulwrf', 'uswrf', 'vflx',\n       'vgrd', 'vvel', 'watr', 'weasd'], dtype=object)"
     },
     "execution_count": 8,
     "metadata": {},
     "output_type": "execute_result"
    }
   ],
   "source": [
    "# These are the available variables\n",
    "variable_levels_df.variable.unique()"
   ],
   "metadata": {
    "collapsed": false,
    "ExecuteTime": {
     "end_time": "2023-11-30T03:47:10.886480Z",
     "start_time": "2023-11-30T03:47:10.883481Z"
    }
   },
   "id": "5f536081429fdf52"
  },
  {
   "cell_type": "code",
   "execution_count": 9,
   "outputs": [
    {
     "data": {
      "text/plain": "array(['sfc', 'ceiling', 'hybr', 'pres', 'hgt', 'msl', 'mslet', 'pvor',\n       'isen', 'eatm', 'bgrnd', '2m', 'tatm'], dtype=object)"
     },
     "execution_count": 9,
     "metadata": {},
     "output_type": "execute_result"
    }
   ],
   "source": [
    "# These are the available levels\n",
    "variable_levels_df.level.unique()"
   ],
   "metadata": {
    "collapsed": false,
    "ExecuteTime": {
     "end_time": "2023-11-30T03:47:10.889793Z",
     "start_time": "2023-11-30T03:47:10.886932Z"
    }
   },
   "id": "abf131ebddcee884"
  }
 ],
 "metadata": {
  "kernelspec": {
   "display_name": "Python 3",
   "language": "python",
   "name": "python3"
  },
  "language_info": {
   "codemirror_mode": {
    "name": "ipython",
    "version": 2
   },
   "file_extension": ".py",
   "mimetype": "text/x-python",
   "name": "python",
   "nbconvert_exporter": "python",
   "pygments_lexer": "ipython2",
   "version": "2.7.6"
  }
 },
 "nbformat": 4,
 "nbformat_minor": 5
}

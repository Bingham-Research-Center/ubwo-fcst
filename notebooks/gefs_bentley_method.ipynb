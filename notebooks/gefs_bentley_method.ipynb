{
 "cells": [
  {
   "cell_type": "markdown",
   "source": [
    "# Getting GEFS data in real-time\n",
    "We want GEFS 0.25 degree data for 14-day forecasts for UB\n",
    "\n",
    "* Import data from https://noaa-gefs-pds.s3.amazonaws.com/index.html#gefs.20240101/06/atmos/pgrb2sp25/\n",
    "* Note only last 4 days or so - need to archive \n",
    "* We need all members\n",
    "* Slice to just the Basin for pertinent variables\n",
    "\n",
    "In future, we need:\n",
    "* Observations \n",
    "* Fuzzy Inference System to Neurofuzzy model \n",
    "* GEFS or GEFS/R2 archives?\n",
    "* Also look at RRFS data  "
   ],
   "metadata": {
    "collapsed": false
   },
   "id": "6f01ed016c7675e"
  },
  {
   "cell_type": "code",
   "outputs": [],
   "source": [],
   "metadata": {
    "collapsed": false
   },
   "id": "27883734b7f2caab"
  }
 ],
 "metadata": {
  "kernelspec": {
   "display_name": "Python 3",
   "language": "python",
   "name": "python3"
  },
  "language_info": {
   "codemirror_mode": {
    "name": "ipython",
    "version": 2
   },
   "file_extension": ".py",
   "mimetype": "text/x-python",
   "name": "python",
   "nbconvert_exporter": "python",
   "pygments_lexer": "ipython2",
   "version": "2.7.6"
  }
 },
 "nbformat": 4,
 "nbformat_minor": 5
}

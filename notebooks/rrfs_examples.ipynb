{
 "cells": [
  {
   "cell_type": "code",
   "execution_count": 1,
   "id": "initial_id",
   "metadata": {
    "collapsed": true,
    "ExecuteTime": {
     "end_time": "2023-11-30T18:48:20.868597Z",
     "start_time": "2023-11-30T18:48:19.702343Z"
    }
   },
   "outputs": [],
   "source": [
    "from herbie import Herbie\n"
   ]
  },
  {
   "cell_type": "code",
   "execution_count": 2,
   "outputs": [
    {
     "name": "stdout",
     "output_type": "stream",
     "text": [
      "✅ Found ┊ model=rrfs ┊ \u001B[3mproduct=mean\u001B[0m ┊ \u001B[38;2;41;130;13m2021-Jul-23 00:00 UTC\u001B[92m F01\u001B[0m ┊ \u001B[38;2;255;153;0m\u001B[3mGRIB2 @ aws\u001B[0m ┊ \u001B[38;2;255;153;0m\u001B[3mIDX @ aws\u001B[0m\n"
     ]
    }
   ],
   "source": [
    "H = Herbie(\"2021-07-23\", model=\"rrfs\", fxx=1, member=1)\n"
   ],
   "metadata": {
    "collapsed": false,
    "ExecuteTime": {
     "end_time": "2023-11-30T18:48:22.011405Z",
     "start_time": "2023-11-30T18:48:20.876963Z"
    }
   },
   "id": "d90d5f536e155b34"
  },
  {
   "cell_type": "code",
   "execution_count": 3,
   "outputs": [
    {
     "data": {
      "text/plain": "{'aws': 'https://noaa-rrfs-pds.s3.amazonaws.com/rrfs.20210723/00/ensprod/rrfsce.t00z.conus.mean.f01.grib2',\n 'aws-mem': 'https://noaa-rrfs-pds.s3.amazonaws.com/rrfs.20210723/00/mem01/rrfs.t00z.mem01.meanf001.grib2'}"
     },
     "execution_count": 3,
     "metadata": {},
     "output_type": "execute_result"
    }
   ],
   "source": [
    "H.SOURCES\n"
   ],
   "metadata": {
    "collapsed": false,
    "ExecuteTime": {
     "end_time": "2023-11-30T18:48:22.019715Z",
     "start_time": "2023-11-30T18:48:22.015271Z"
    }
   },
   "id": "805b7d7696b39d79"
  },
  {
   "cell_type": "code",
   "execution_count": 4,
   "outputs": [
    {
     "data": {
      "text/plain": "{'mean': 'ensemble mean',\n 'avrg': 'ensemble products: ???',\n 'eas': 'ensemble products: ???',\n 'ffri': 'ensemble products: ???',\n 'lpmm': 'ensemble products: ???',\n 'pmmn': 'ensemble products: ???',\n 'prob': 'ensemble products: ???',\n 'testbed.conus': 'surface grids (one for each member)',\n 'na': 'native grids (one for each member)'}"
     },
     "execution_count": 4,
     "metadata": {},
     "output_type": "execute_result"
    }
   ],
   "source": [
    "H.PRODUCTS\n"
   ],
   "metadata": {
    "collapsed": false,
    "ExecuteTime": {
     "end_time": "2023-11-30T18:48:22.024556Z",
     "start_time": "2023-11-30T18:48:22.019973Z"
    }
   },
   "id": "cf83a8c29988d07b"
  },
  {
   "cell_type": "code",
   "execution_count": 5,
   "outputs": [
    {
     "name": "stdout",
     "output_type": "stream",
     "text": [
      "👨🏻‍🏭 Created directory: [/Users/johnlawson/data/rrfs/20210723/mem01]\n"
     ]
    },
    {
     "data": {
      "text/plain": "<xarray.Dataset>\nDimensions:              (y: 1059, x: 1799)\nCoordinates:\n    time                 datetime64[ns] 2021-07-23\n    step                 timedelta64[ns] 01:00:00\n    heightAboveGround    float64 2.0\n    latitude             (y, x) float64 21.14 21.14 21.15 ... 47.86 47.85 47.84\n    longitude            (y, x) float64 237.3 237.3 237.3 ... 299.0 299.0 299.1\n    valid_time           datetime64[ns] 2021-07-23T01:00:00\nDimensions without coordinates: y, x\nData variables:\n    t2m                  (y, x) float32 295.3 295.3 295.3 ... 287.7 287.8 287.8\n    gribfile_projection  object None\nAttributes:\n    GRIB_edition:            2\n    GRIB_centre:             kwbc\n    GRIB_centreDescription:  US National Weather Service - NCEP\n    GRIB_subCentre:          2\n    Conventions:             CF-1.7\n    institution:             US National Weather Service - NCEP\n    model:                   rrfs\n    product:                 mean\n    description:             Rapid Refresh Forecast System (RRFS) Ensemble\n    remote_grib:             https://noaa-rrfs-pds.s3.amazonaws.com/rrfs.2021...\n    local_grib:              /Users/johnlawson/data/rrfs/20210723/mem01/subse...\n    searchString:            TMP:2 m",
      "text/html": "<div><svg style=\"position: absolute; width: 0; height: 0; overflow: hidden\">\n<defs>\n<symbol id=\"icon-database\" viewBox=\"0 0 32 32\">\n<path d=\"M16 0c-8.837 0-16 2.239-16 5v4c0 2.761 7.163 5 16 5s16-2.239 16-5v-4c0-2.761-7.163-5-16-5z\"></path>\n<path d=\"M16 17c-8.837 0-16-2.239-16-5v6c0 2.761 7.163 5 16 5s16-2.239 16-5v-6c0 2.761-7.163 5-16 5z\"></path>\n<path d=\"M16 26c-8.837 0-16-2.239-16-5v6c0 2.761 7.163 5 16 5s16-2.239 16-5v-6c0 2.761-7.163 5-16 5z\"></path>\n</symbol>\n<symbol id=\"icon-file-text2\" viewBox=\"0 0 32 32\">\n<path d=\"M28.681 7.159c-0.694-0.947-1.662-2.053-2.724-3.116s-2.169-2.030-3.116-2.724c-1.612-1.182-2.393-1.319-2.841-1.319h-15.5c-1.378 0-2.5 1.121-2.5 2.5v27c0 1.378 1.122 2.5 2.5 2.5h23c1.378 0 2.5-1.122 2.5-2.5v-19.5c0-0.448-0.137-1.23-1.319-2.841zM24.543 5.457c0.959 0.959 1.712 1.825 2.268 2.543h-4.811v-4.811c0.718 0.556 1.584 1.309 2.543 2.268zM28 29.5c0 0.271-0.229 0.5-0.5 0.5h-23c-0.271 0-0.5-0.229-0.5-0.5v-27c0-0.271 0.229-0.5 0.5-0.5 0 0 15.499-0 15.5 0v7c0 0.552 0.448 1 1 1h7v19.5z\"></path>\n<path d=\"M23 26h-14c-0.552 0-1-0.448-1-1s0.448-1 1-1h14c0.552 0 1 0.448 1 1s-0.448 1-1 1z\"></path>\n<path d=\"M23 22h-14c-0.552 0-1-0.448-1-1s0.448-1 1-1h14c0.552 0 1 0.448 1 1s-0.448 1-1 1z\"></path>\n<path d=\"M23 18h-14c-0.552 0-1-0.448-1-1s0.448-1 1-1h14c0.552 0 1 0.448 1 1s-0.448 1-1 1z\"></path>\n</symbol>\n</defs>\n</svg>\n<style>/* CSS stylesheet for displaying xarray objects in jupyterlab.\n *\n */\n\n:root {\n  --xr-font-color0: var(--jp-content-font-color0, rgba(0, 0, 0, 1));\n  --xr-font-color2: var(--jp-content-font-color2, rgba(0, 0, 0, 0.54));\n  --xr-font-color3: var(--jp-content-font-color3, rgba(0, 0, 0, 0.38));\n  --xr-border-color: var(--jp-border-color2, #e0e0e0);\n  --xr-disabled-color: var(--jp-layout-color3, #bdbdbd);\n  --xr-background-color: var(--jp-layout-color0, white);\n  --xr-background-color-row-even: var(--jp-layout-color1, white);\n  --xr-background-color-row-odd: var(--jp-layout-color2, #eeeeee);\n}\n\nhtml[theme=dark],\nbody[data-theme=dark],\nbody.vscode-dark {\n  --xr-font-color0: rgba(255, 255, 255, 1);\n  --xr-font-color2: rgba(255, 255, 255, 0.54);\n  --xr-font-color3: rgba(255, 255, 255, 0.38);\n  --xr-border-color: #1F1F1F;\n  --xr-disabled-color: #515151;\n  --xr-background-color: #111111;\n  --xr-background-color-row-even: #111111;\n  --xr-background-color-row-odd: #313131;\n}\n\n.xr-wrap {\n  display: block !important;\n  min-width: 300px;\n  max-width: 700px;\n}\n\n.xr-text-repr-fallback {\n  /* fallback to plain text repr when CSS is not injected (untrusted notebook) */\n  display: none;\n}\n\n.xr-header {\n  padding-top: 6px;\n  padding-bottom: 6px;\n  margin-bottom: 4px;\n  border-bottom: solid 1px var(--xr-border-color);\n}\n\n.xr-header > div,\n.xr-header > ul {\n  display: inline;\n  margin-top: 0;\n  margin-bottom: 0;\n}\n\n.xr-obj-type,\n.xr-array-name {\n  margin-left: 2px;\n  margin-right: 10px;\n}\n\n.xr-obj-type {\n  color: var(--xr-font-color2);\n}\n\n.xr-sections {\n  padding-left: 0 !important;\n  display: grid;\n  grid-template-columns: 150px auto auto 1fr 20px 20px;\n}\n\n.xr-section-item {\n  display: contents;\n}\n\n.xr-section-item input {\n  display: none;\n}\n\n.xr-section-item input + label {\n  color: var(--xr-disabled-color);\n}\n\n.xr-section-item input:enabled + label {\n  cursor: pointer;\n  color: var(--xr-font-color2);\n}\n\n.xr-section-item input:enabled + label:hover {\n  color: var(--xr-font-color0);\n}\n\n.xr-section-summary {\n  grid-column: 1;\n  color: var(--xr-font-color2);\n  font-weight: 500;\n}\n\n.xr-section-summary > span {\n  display: inline-block;\n  padding-left: 0.5em;\n}\n\n.xr-section-summary-in:disabled + label {\n  color: var(--xr-font-color2);\n}\n\n.xr-section-summary-in + label:before {\n  display: inline-block;\n  content: '►';\n  font-size: 11px;\n  width: 15px;\n  text-align: center;\n}\n\n.xr-section-summary-in:disabled + label:before {\n  color: var(--xr-disabled-color);\n}\n\n.xr-section-summary-in:checked + label:before {\n  content: '▼';\n}\n\n.xr-section-summary-in:checked + label > span {\n  display: none;\n}\n\n.xr-section-summary,\n.xr-section-inline-details {\n  padding-top: 4px;\n  padding-bottom: 4px;\n}\n\n.xr-section-inline-details {\n  grid-column: 2 / -1;\n}\n\n.xr-section-details {\n  display: none;\n  grid-column: 1 / -1;\n  margin-bottom: 5px;\n}\n\n.xr-section-summary-in:checked ~ .xr-section-details {\n  display: contents;\n}\n\n.xr-array-wrap {\n  grid-column: 1 / -1;\n  display: grid;\n  grid-template-columns: 20px auto;\n}\n\n.xr-array-wrap > label {\n  grid-column: 1;\n  vertical-align: top;\n}\n\n.xr-preview {\n  color: var(--xr-font-color3);\n}\n\n.xr-array-preview,\n.xr-array-data {\n  padding: 0 5px !important;\n  grid-column: 2;\n}\n\n.xr-array-data,\n.xr-array-in:checked ~ .xr-array-preview {\n  display: none;\n}\n\n.xr-array-in:checked ~ .xr-array-data,\n.xr-array-preview {\n  display: inline-block;\n}\n\n.xr-dim-list {\n  display: inline-block !important;\n  list-style: none;\n  padding: 0 !important;\n  margin: 0;\n}\n\n.xr-dim-list li {\n  display: inline-block;\n  padding: 0;\n  margin: 0;\n}\n\n.xr-dim-list:before {\n  content: '(';\n}\n\n.xr-dim-list:after {\n  content: ')';\n}\n\n.xr-dim-list li:not(:last-child):after {\n  content: ',';\n  padding-right: 5px;\n}\n\n.xr-has-index {\n  font-weight: bold;\n}\n\n.xr-var-list,\n.xr-var-item {\n  display: contents;\n}\n\n.xr-var-item > div,\n.xr-var-item label,\n.xr-var-item > .xr-var-name span {\n  background-color: var(--xr-background-color-row-even);\n  margin-bottom: 0;\n}\n\n.xr-var-item > .xr-var-name:hover span {\n  padding-right: 5px;\n}\n\n.xr-var-list > li:nth-child(odd) > div,\n.xr-var-list > li:nth-child(odd) > label,\n.xr-var-list > li:nth-child(odd) > .xr-var-name span {\n  background-color: var(--xr-background-color-row-odd);\n}\n\n.xr-var-name {\n  grid-column: 1;\n}\n\n.xr-var-dims {\n  grid-column: 2;\n}\n\n.xr-var-dtype {\n  grid-column: 3;\n  text-align: right;\n  color: var(--xr-font-color2);\n}\n\n.xr-var-preview {\n  grid-column: 4;\n}\n\n.xr-index-preview {\n  grid-column: 2 / 5;\n  color: var(--xr-font-color2);\n}\n\n.xr-var-name,\n.xr-var-dims,\n.xr-var-dtype,\n.xr-preview,\n.xr-attrs dt {\n  white-space: nowrap;\n  overflow: hidden;\n  text-overflow: ellipsis;\n  padding-right: 10px;\n}\n\n.xr-var-name:hover,\n.xr-var-dims:hover,\n.xr-var-dtype:hover,\n.xr-attrs dt:hover {\n  overflow: visible;\n  width: auto;\n  z-index: 1;\n}\n\n.xr-var-attrs,\n.xr-var-data,\n.xr-index-data {\n  display: none;\n  background-color: var(--xr-background-color) !important;\n  padding-bottom: 5px !important;\n}\n\n.xr-var-attrs-in:checked ~ .xr-var-attrs,\n.xr-var-data-in:checked ~ .xr-var-data,\n.xr-index-data-in:checked ~ .xr-index-data {\n  display: block;\n}\n\n.xr-var-data > table {\n  float: right;\n}\n\n.xr-var-name span,\n.xr-var-data,\n.xr-index-name div,\n.xr-index-data,\n.xr-attrs {\n  padding-left: 25px !important;\n}\n\n.xr-attrs,\n.xr-var-attrs,\n.xr-var-data,\n.xr-index-data {\n  grid-column: 1 / -1;\n}\n\ndl.xr-attrs {\n  padding: 0;\n  margin: 0;\n  display: grid;\n  grid-template-columns: 125px auto;\n}\n\n.xr-attrs dt,\n.xr-attrs dd {\n  padding: 0;\n  margin: 0;\n  float: left;\n  padding-right: 10px;\n  width: auto;\n}\n\n.xr-attrs dt {\n  font-weight: normal;\n  grid-column: 1;\n}\n\n.xr-attrs dt:hover span {\n  display: inline-block;\n  background: var(--xr-background-color);\n  padding-right: 10px;\n}\n\n.xr-attrs dd {\n  grid-column: 2;\n  white-space: pre-wrap;\n  word-break: break-all;\n}\n\n.xr-icon-database,\n.xr-icon-file-text2,\n.xr-no-icon {\n  display: inline-block;\n  vertical-align: middle;\n  width: 1em;\n  height: 1.5em !important;\n  stroke-width: 0;\n  stroke: currentColor;\n  fill: currentColor;\n}\n</style><pre class='xr-text-repr-fallback'>&lt;xarray.Dataset&gt;\nDimensions:              (y: 1059, x: 1799)\nCoordinates:\n    time                 datetime64[ns] 2021-07-23\n    step                 timedelta64[ns] 01:00:00\n    heightAboveGround    float64 2.0\n    latitude             (y, x) float64 21.14 21.14 21.15 ... 47.86 47.85 47.84\n    longitude            (y, x) float64 237.3 237.3 237.3 ... 299.0 299.0 299.1\n    valid_time           datetime64[ns] 2021-07-23T01:00:00\nDimensions without coordinates: y, x\nData variables:\n    t2m                  (y, x) float32 295.3 295.3 295.3 ... 287.7 287.8 287.8\n    gribfile_projection  object None\nAttributes:\n    GRIB_edition:            2\n    GRIB_centre:             kwbc\n    GRIB_centreDescription:  US National Weather Service - NCEP\n    GRIB_subCentre:          2\n    Conventions:             CF-1.7\n    institution:             US National Weather Service - NCEP\n    model:                   rrfs\n    product:                 mean\n    description:             Rapid Refresh Forecast System (RRFS) Ensemble\n    remote_grib:             https://noaa-rrfs-pds.s3.amazonaws.com/rrfs.2021...\n    local_grib:              /Users/johnlawson/data/rrfs/20210723/mem01/subse...\n    searchString:            TMP:2 m</pre><div class='xr-wrap' style='display:none'><div class='xr-header'><div class='xr-obj-type'>xarray.Dataset</div></div><ul class='xr-sections'><li class='xr-section-item'><input id='section-699347e9-f44b-4e1e-b836-84edd63c19cf' class='xr-section-summary-in' type='checkbox' disabled ><label for='section-699347e9-f44b-4e1e-b836-84edd63c19cf' class='xr-section-summary'  title='Expand/collapse section'>Dimensions:</label><div class='xr-section-inline-details'><ul class='xr-dim-list'><li><span>y</span>: 1059</li><li><span>x</span>: 1799</li></ul></div><div class='xr-section-details'></div></li><li class='xr-section-item'><input id='section-c9bb9b8d-9b12-4535-abb3-e07fc1924a69' class='xr-section-summary-in' type='checkbox'  checked><label for='section-c9bb9b8d-9b12-4535-abb3-e07fc1924a69' class='xr-section-summary' >Coordinates: <span>(6)</span></label><div class='xr-section-inline-details'></div><div class='xr-section-details'><ul class='xr-var-list'><li class='xr-var-item'><div class='xr-var-name'><span>time</span></div><div class='xr-var-dims'>()</div><div class='xr-var-dtype'>datetime64[ns]</div><div class='xr-var-preview xr-preview'>2021-07-23</div><input id='attrs-89f26e9b-636e-45f3-bc0b-004aa5189e3b' class='xr-var-attrs-in' type='checkbox' ><label for='attrs-89f26e9b-636e-45f3-bc0b-004aa5189e3b' title='Show/Hide attributes'><svg class='icon xr-icon-file-text2'><use xlink:href='#icon-file-text2'></use></svg></label><input id='data-53a56998-d760-420d-b123-4a8d0666622b' class='xr-var-data-in' type='checkbox'><label for='data-53a56998-d760-420d-b123-4a8d0666622b' title='Show/Hide data repr'><svg class='icon xr-icon-database'><use xlink:href='#icon-database'></use></svg></label><div class='xr-var-attrs'><dl class='xr-attrs'><dt><span>long_name :</span></dt><dd>initial time of forecast</dd><dt><span>standard_name :</span></dt><dd>forecast_reference_time</dd></dl></div><div class='xr-var-data'><pre>array(&#x27;2021-07-23T00:00:00.000000000&#x27;, dtype=&#x27;datetime64[ns]&#x27;)</pre></div></li><li class='xr-var-item'><div class='xr-var-name'><span>step</span></div><div class='xr-var-dims'>()</div><div class='xr-var-dtype'>timedelta64[ns]</div><div class='xr-var-preview xr-preview'>01:00:00</div><input id='attrs-2c1125ff-e375-408a-a508-00dc8635018b' class='xr-var-attrs-in' type='checkbox' ><label for='attrs-2c1125ff-e375-408a-a508-00dc8635018b' title='Show/Hide attributes'><svg class='icon xr-icon-file-text2'><use xlink:href='#icon-file-text2'></use></svg></label><input id='data-8c3a9b3e-8eac-49f9-a754-57f836f8394b' class='xr-var-data-in' type='checkbox'><label for='data-8c3a9b3e-8eac-49f9-a754-57f836f8394b' title='Show/Hide data repr'><svg class='icon xr-icon-database'><use xlink:href='#icon-database'></use></svg></label><div class='xr-var-attrs'><dl class='xr-attrs'><dt><span>long_name :</span></dt><dd>time since forecast_reference_time</dd><dt><span>standard_name :</span></dt><dd>forecast_period</dd></dl></div><div class='xr-var-data'><pre>array(3600000000000, dtype=&#x27;timedelta64[ns]&#x27;)</pre></div></li><li class='xr-var-item'><div class='xr-var-name'><span>heightAboveGround</span></div><div class='xr-var-dims'>()</div><div class='xr-var-dtype'>float64</div><div class='xr-var-preview xr-preview'>2.0</div><input id='attrs-a8a4082f-aecb-4dcb-bec1-f1caee79e85b' class='xr-var-attrs-in' type='checkbox' ><label for='attrs-a8a4082f-aecb-4dcb-bec1-f1caee79e85b' title='Show/Hide attributes'><svg class='icon xr-icon-file-text2'><use xlink:href='#icon-file-text2'></use></svg></label><input id='data-545b4bd7-b0b0-40a7-8f87-3efa76834f4d' class='xr-var-data-in' type='checkbox'><label for='data-545b4bd7-b0b0-40a7-8f87-3efa76834f4d' title='Show/Hide data repr'><svg class='icon xr-icon-database'><use xlink:href='#icon-database'></use></svg></label><div class='xr-var-attrs'><dl class='xr-attrs'><dt><span>long_name :</span></dt><dd>height above the surface</dd><dt><span>units :</span></dt><dd>m</dd><dt><span>positive :</span></dt><dd>up</dd><dt><span>standard_name :</span></dt><dd>height</dd></dl></div><div class='xr-var-data'><pre>array(2.)</pre></div></li><li class='xr-var-item'><div class='xr-var-name'><span>latitude</span></div><div class='xr-var-dims'>(y, x)</div><div class='xr-var-dtype'>float64</div><div class='xr-var-preview xr-preview'>21.14 21.14 21.15 ... 47.85 47.84</div><input id='attrs-f6d6a3b8-6d4a-4bd3-9320-cbabb36fa463' class='xr-var-attrs-in' type='checkbox' ><label for='attrs-f6d6a3b8-6d4a-4bd3-9320-cbabb36fa463' title='Show/Hide attributes'><svg class='icon xr-icon-file-text2'><use xlink:href='#icon-file-text2'></use></svg></label><input id='data-31d5c9db-9020-4ae2-9608-6713f1755591' class='xr-var-data-in' type='checkbox'><label for='data-31d5c9db-9020-4ae2-9608-6713f1755591' title='Show/Hide data repr'><svg class='icon xr-icon-database'><use xlink:href='#icon-database'></use></svg></label><div class='xr-var-attrs'><dl class='xr-attrs'><dt><span>units :</span></dt><dd>degrees_north</dd><dt><span>standard_name :</span></dt><dd>latitude</dd><dt><span>long_name :</span></dt><dd>latitude</dd></dl></div><div class='xr-var-data'><pre>array([[21.138     , 21.14498716, 21.15196735, ..., 21.15463298,\n        21.14765546, 21.14067096],\n       [21.16287153, 21.16986157, 21.17684464, ..., 21.17951136,\n        21.17253096, 21.16554359],\n       [21.18774553, 21.19473844, 21.20172438, ..., 21.20439221,\n        21.19740893, 21.19041869],\n       ...,\n       [47.78937778, 47.79966771, 47.80994756, ..., 47.81387334,\n        47.80359733, 47.79331126],\n       [47.81391163, 47.82420486, 47.83448802, ..., 47.83841506,\n        47.82813575, 47.81784637],\n       [47.83844191, 47.84873845, 47.85902491, ..., 47.86295322,\n        47.8526706 , 47.84237791]])</pre></div></li><li class='xr-var-item'><div class='xr-var-name'><span>longitude</span></div><div class='xr-var-dims'>(y, x)</div><div class='xr-var-dtype'>float64</div><div class='xr-var-preview xr-preview'>237.3 237.3 237.3 ... 299.0 299.1</div><input id='attrs-5d05e688-f2cb-48c4-95df-4c60bab271c5' class='xr-var-attrs-in' type='checkbox' ><label for='attrs-5d05e688-f2cb-48c4-95df-4c60bab271c5' title='Show/Hide attributes'><svg class='icon xr-icon-file-text2'><use xlink:href='#icon-file-text2'></use></svg></label><input id='data-e9e22d0d-ee07-4476-a179-2b443e01707f' class='xr-var-data-in' type='checkbox'><label for='data-e9e22d0d-ee07-4476-a179-2b443e01707f' title='Show/Hide data repr'><svg class='icon xr-icon-database'><use xlink:href='#icon-database'></use></svg></label><div class='xr-var-attrs'><dl class='xr-attrs'><dt><span>units :</span></dt><dd>degrees_east</dd><dt><span>standard_name :</span></dt><dd>longitude</dd><dt><span>long_name :</span></dt><dd>longitude</dd></dl></div><div class='xr-var-data'><pre>array([[237.28      , 237.3066666 , 237.33333755, ..., 287.65646903,\n        287.68314163, 287.7098099 ],\n       [237.27250288, 237.29917661, 237.32585467, ..., 287.66394919,\n        287.69062891, 287.71730429],\n       [237.26500142, 237.29168227, 237.31836746, ..., 287.67143368,\n        287.69812053, 287.72480303],\n       ...,\n       [225.93454382, 225.97106897, 226.00760628, ..., 298.97842782,\n        299.01496977, 299.05149957],\n       [225.91921463, 225.95575173, 225.99230099, ..., 298.99372853,\n        299.03028244, 299.06682419],\n       [225.90387326, 225.94042231, 225.97698355, ..., 299.00904139,\n        299.04560728, 299.08216099]])</pre></div></li><li class='xr-var-item'><div class='xr-var-name'><span>valid_time</span></div><div class='xr-var-dims'>()</div><div class='xr-var-dtype'>datetime64[ns]</div><div class='xr-var-preview xr-preview'>2021-07-23T01:00:00</div><input id='attrs-86e5a064-f88e-4566-a12e-e5672174594c' class='xr-var-attrs-in' type='checkbox' ><label for='attrs-86e5a064-f88e-4566-a12e-e5672174594c' title='Show/Hide attributes'><svg class='icon xr-icon-file-text2'><use xlink:href='#icon-file-text2'></use></svg></label><input id='data-399de399-2d90-40f5-9d60-4733eaa0425b' class='xr-var-data-in' type='checkbox'><label for='data-399de399-2d90-40f5-9d60-4733eaa0425b' title='Show/Hide data repr'><svg class='icon xr-icon-database'><use xlink:href='#icon-database'></use></svg></label><div class='xr-var-attrs'><dl class='xr-attrs'><dt><span>standard_name :</span></dt><dd>time</dd><dt><span>long_name :</span></dt><dd>time</dd></dl></div><div class='xr-var-data'><pre>array(&#x27;2021-07-23T01:00:00.000000000&#x27;, dtype=&#x27;datetime64[ns]&#x27;)</pre></div></li></ul></div></li><li class='xr-section-item'><input id='section-5ca18695-df19-4aaf-879a-426f1533bf38' class='xr-section-summary-in' type='checkbox'  checked><label for='section-5ca18695-df19-4aaf-879a-426f1533bf38' class='xr-section-summary' >Data variables: <span>(2)</span></label><div class='xr-section-inline-details'></div><div class='xr-section-details'><ul class='xr-var-list'><li class='xr-var-item'><div class='xr-var-name'><span>t2m</span></div><div class='xr-var-dims'>(y, x)</div><div class='xr-var-dtype'>float32</div><div class='xr-var-preview xr-preview'>295.3 295.3 295.3 ... 287.8 287.8</div><input id='attrs-9a24085f-d67a-41dc-8c9f-8e0f75f5fb60' class='xr-var-attrs-in' type='checkbox' ><label for='attrs-9a24085f-d67a-41dc-8c9f-8e0f75f5fb60' title='Show/Hide attributes'><svg class='icon xr-icon-file-text2'><use xlink:href='#icon-file-text2'></use></svg></label><input id='data-4cc8a946-cd92-40a6-b646-7938452c3c85' class='xr-var-data-in' type='checkbox'><label for='data-4cc8a946-cd92-40a6-b646-7938452c3c85' title='Show/Hide data repr'><svg class='icon xr-icon-database'><use xlink:href='#icon-database'></use></svg></label><div class='xr-var-attrs'><dl class='xr-attrs'><dt><span>GRIB_paramId :</span></dt><dd>167</dd><dt><span>GRIB_dataType :</span></dt><dd>fc</dd><dt><span>GRIB_numberOfPoints :</span></dt><dd>1905141</dd><dt><span>GRIB_typeOfLevel :</span></dt><dd>heightAboveGround</dd><dt><span>GRIB_stepUnits :</span></dt><dd>1</dd><dt><span>GRIB_stepType :</span></dt><dd>instant</dd><dt><span>GRIB_gridType :</span></dt><dd>lambert</dd><dt><span>GRIB_DxInMetres :</span></dt><dd>3000.0</dd><dt><span>GRIB_DyInMetres :</span></dt><dd>3000.0</dd><dt><span>GRIB_LaDInDegrees :</span></dt><dd>38.5</dd><dt><span>GRIB_Latin1InDegrees :</span></dt><dd>38.5</dd><dt><span>GRIB_Latin2InDegrees :</span></dt><dd>38.5</dd><dt><span>GRIB_LoVInDegrees :</span></dt><dd>262.5</dd><dt><span>GRIB_NV :</span></dt><dd>0</dd><dt><span>GRIB_Nx :</span></dt><dd>1799</dd><dt><span>GRIB_Ny :</span></dt><dd>1059</dd><dt><span>GRIB_cfName :</span></dt><dd>air_temperature</dd><dt><span>GRIB_cfVarName :</span></dt><dd>t2m</dd><dt><span>GRIB_gridDefinitionDescription :</span></dt><dd>Lambert Conformal can be secant or tangent, conical or bipolar</dd><dt><span>GRIB_iScansNegatively :</span></dt><dd>0</dd><dt><span>GRIB_jPointsAreConsecutive :</span></dt><dd>0</dd><dt><span>GRIB_jScansPositively :</span></dt><dd>1</dd><dt><span>GRIB_latitudeOfFirstGridPointInDegrees :</span></dt><dd>21.138</dd><dt><span>GRIB_latitudeOfSouthernPoleInDegrees :</span></dt><dd>-90.0</dd><dt><span>GRIB_longitudeOfFirstGridPointInDegrees :</span></dt><dd>237.28</dd><dt><span>GRIB_longitudeOfSouthernPoleInDegrees :</span></dt><dd>0.0</dd><dt><span>GRIB_missingValue :</span></dt><dd>3.4028234663852886e+38</dd><dt><span>GRIB_name :</span></dt><dd>2 metre temperature</dd><dt><span>GRIB_parameterName :</span></dt><dd>Temperature</dd><dt><span>GRIB_parameterUnits :</span></dt><dd>K</dd><dt><span>GRIB_shortName :</span></dt><dd>2t</dd><dt><span>GRIB_stepRange :</span></dt><dd>1</dd><dt><span>GRIB_totalNumber :</span></dt><dd>9</dd><dt><span>GRIB_units :</span></dt><dd>K</dd><dt><span>long_name :</span></dt><dd>2 metre temperature</dd><dt><span>units :</span></dt><dd>K</dd><dt><span>standard_name :</span></dt><dd>air_temperature</dd><dt><span>grid_mapping :</span></dt><dd>gribfile_projection</dd></dl></div><div class='xr-var-data'><pre>array([[295.3 , 295.3 , 295.31, ..., 301.  , 300.99, 300.99],\n       [295.28, 295.28, 295.28, ..., 301.  , 300.99, 300.99],\n       [295.25, 295.25, 295.25, ..., 301.  , 301.  , 300.99],\n       ...,\n       [287.51, 287.51, 287.52, ..., 287.7 , 287.75, 287.78],\n       [287.5 , 287.51, 287.51, ..., 287.72, 287.77, 287.81],\n       [287.5 , 287.51, 287.51, ..., 287.74, 287.78, 287.82]],\n      dtype=float32)</pre></div></li><li class='xr-var-item'><div class='xr-var-name'><span>gribfile_projection</span></div><div class='xr-var-dims'>()</div><div class='xr-var-dtype'>object</div><div class='xr-var-preview xr-preview'>None</div><input id='attrs-f1dce9fd-492e-44df-bd9c-1d53c9a55e6d' class='xr-var-attrs-in' type='checkbox' ><label for='attrs-f1dce9fd-492e-44df-bd9c-1d53c9a55e6d' title='Show/Hide attributes'><svg class='icon xr-icon-file-text2'><use xlink:href='#icon-file-text2'></use></svg></label><input id='data-384d16f6-05e6-4de5-9dd5-df9f9dbd2486' class='xr-var-data-in' type='checkbox'><label for='data-384d16f6-05e6-4de5-9dd5-df9f9dbd2486' title='Show/Hide data repr'><svg class='icon xr-icon-database'><use xlink:href='#icon-database'></use></svg></label><div class='xr-var-attrs'><dl class='xr-attrs'><dt><span>crs_wkt :</span></dt><dd>PROJCRS[&quot;unknown&quot;,BASEGEOGCRS[&quot;unknown&quot;,DATUM[&quot;unknown&quot;,ELLIPSOID[&quot;unknown&quot;,6371229,0,LENGTHUNIT[&quot;metre&quot;,1,ID[&quot;EPSG&quot;,9001]]]],PRIMEM[&quot;Greenwich&quot;,0,ANGLEUNIT[&quot;degree&quot;,0.0174532925199433],ID[&quot;EPSG&quot;,8901]]],CONVERSION[&quot;unknown&quot;,METHOD[&quot;Lambert Conic Conformal (2SP)&quot;,ID[&quot;EPSG&quot;,9802]],PARAMETER[&quot;Latitude of false origin&quot;,38.5,ANGLEUNIT[&quot;degree&quot;,0.0174532925199433],ID[&quot;EPSG&quot;,8821]],PARAMETER[&quot;Longitude of false origin&quot;,262.5,ANGLEUNIT[&quot;degree&quot;,0.0174532925199433],ID[&quot;EPSG&quot;,8822]],PARAMETER[&quot;Latitude of 1st standard parallel&quot;,38.5,ANGLEUNIT[&quot;degree&quot;,0.0174532925199433],ID[&quot;EPSG&quot;,8823]],PARAMETER[&quot;Latitude of 2nd standard parallel&quot;,38.5,ANGLEUNIT[&quot;degree&quot;,0.0174532925199433],ID[&quot;EPSG&quot;,8824]],PARAMETER[&quot;Easting at false origin&quot;,0,LENGTHUNIT[&quot;metre&quot;,1],ID[&quot;EPSG&quot;,8826]],PARAMETER[&quot;Northing at false origin&quot;,0,LENGTHUNIT[&quot;metre&quot;,1],ID[&quot;EPSG&quot;,8827]]],CS[Cartesian,2],AXIS[&quot;(E)&quot;,east,ORDER[1],LENGTHUNIT[&quot;metre&quot;,1,ID[&quot;EPSG&quot;,9001]]],AXIS[&quot;(N)&quot;,north,ORDER[2],LENGTHUNIT[&quot;metre&quot;,1,ID[&quot;EPSG&quot;,9001]]]]</dd><dt><span>semi_major_axis :</span></dt><dd>6371229.0</dd><dt><span>semi_minor_axis :</span></dt><dd>6371229.0</dd><dt><span>inverse_flattening :</span></dt><dd>0.0</dd><dt><span>reference_ellipsoid_name :</span></dt><dd>unknown</dd><dt><span>longitude_of_prime_meridian :</span></dt><dd>0.0</dd><dt><span>prime_meridian_name :</span></dt><dd>Greenwich</dd><dt><span>geographic_crs_name :</span></dt><dd>unknown</dd><dt><span>horizontal_datum_name :</span></dt><dd>unknown</dd><dt><span>projected_crs_name :</span></dt><dd>unknown</dd><dt><span>grid_mapping_name :</span></dt><dd>lambert_conformal_conic</dd><dt><span>standard_parallel :</span></dt><dd>(38.5, 38.5)</dd><dt><span>latitude_of_projection_origin :</span></dt><dd>38.5</dd><dt><span>longitude_of_central_meridian :</span></dt><dd>262.5</dd><dt><span>false_easting :</span></dt><dd>0.0</dd><dt><span>false_northing :</span></dt><dd>0.0</dd><dt><span>long_name :</span></dt><dd>RRFS model grid projection</dd></dl></div><div class='xr-var-data'><pre>array(None, dtype=object)</pre></div></li></ul></div></li><li class='xr-section-item'><input id='section-d4861058-3ed4-4fc7-843c-ab77d0f5431f' class='xr-section-summary-in' type='checkbox' disabled ><label for='section-d4861058-3ed4-4fc7-843c-ab77d0f5431f' class='xr-section-summary'  title='Expand/collapse section'>Indexes: <span>(0)</span></label><div class='xr-section-inline-details'></div><div class='xr-section-details'><ul class='xr-var-list'></ul></div></li><li class='xr-section-item'><input id='section-a2f459fb-7bb4-4b52-ad3d-3e7697446797' class='xr-section-summary-in' type='checkbox'  ><label for='section-a2f459fb-7bb4-4b52-ad3d-3e7697446797' class='xr-section-summary' >Attributes: <span>(12)</span></label><div class='xr-section-inline-details'></div><div class='xr-section-details'><dl class='xr-attrs'><dt><span>GRIB_edition :</span></dt><dd>2</dd><dt><span>GRIB_centre :</span></dt><dd>kwbc</dd><dt><span>GRIB_centreDescription :</span></dt><dd>US National Weather Service - NCEP</dd><dt><span>GRIB_subCentre :</span></dt><dd>2</dd><dt><span>Conventions :</span></dt><dd>CF-1.7</dd><dt><span>institution :</span></dt><dd>US National Weather Service - NCEP</dd><dt><span>model :</span></dt><dd>rrfs</dd><dt><span>product :</span></dt><dd>mean</dd><dt><span>description :</span></dt><dd>Rapid Refresh Forecast System (RRFS) Ensemble</dd><dt><span>remote_grib :</span></dt><dd>https://noaa-rrfs-pds.s3.amazonaws.com/rrfs.20210723/00/ensprod/rrfsce.t00z.conus.mean.f01.grib2</dd><dt><span>local_grib :</span></dt><dd>/Users/johnlawson/data/rrfs/20210723/mem01/subset_3ce4cf9d__rrfsce.t00z.conus.mean.f01.grib2</dd><dt><span>searchString :</span></dt><dd>TMP:2 m</dd></dl></div></li></ul></div></div>"
     },
     "execution_count": 5,
     "metadata": {},
     "output_type": "execute_result"
    }
   ],
   "source": [
    "ds = H.xarray(\"TMP:2 m\")\n",
    "ds"
   ],
   "metadata": {
    "collapsed": false,
    "ExecuteTime": {
     "end_time": "2023-11-30T18:48:24.403268Z",
     "start_time": "2023-11-30T18:48:22.025068Z"
    }
   },
   "id": "70d6824bd36d4e63"
  },
  {
   "cell_type": "code",
   "execution_count": 6,
   "outputs": [
    {
     "name": "stdout",
     "output_type": "stream",
     "text": [
      "✅ Found ┊ model=rrfs ┊ \u001B[3mproduct=testbed.conus\u001B[0m ┊ \u001B[38;2;41;130;13m2021-Jul-23 00:00 UTC\u001B[92m F00\u001B[0m ┊ \u001B[38;2;255;153;0m\u001B[3mGRIB2 @ aws-mem\u001B[0m ┊ \u001B[38;2;255;153;0m\u001B[3mIDX @ aws-mem\u001B[0m\n"
     ]
    }
   ],
   "source": [
    "# Missing index files?\n",
    "H = Herbie(\n",
    "    \"2021-07-23\", model=\"rrfs\", product=\"testbed.conus\", member=1, priority=\"aws-mem\"\n",
    ")"
   ],
   "metadata": {
    "collapsed": false,
    "ExecuteTime": {
     "end_time": "2023-11-30T18:48:25.064158Z",
     "start_time": "2023-11-30T18:48:24.401152Z"
    }
   },
   "id": "8f8d6f837c8e9f8f"
  },
  {
   "cell_type": "code",
   "execution_count": 7,
   "outputs": [
    {
     "data": {
      "text/plain": "PosixPath('/Users/johnlawson/data/rrfs/20210723/mem01/rrfsce.t00z.conus.testbed.conus.f00.grib2')"
     },
     "execution_count": 7,
     "metadata": {},
     "output_type": "execute_result"
    }
   ],
   "source": [
    "# no index file available. Have to download the full file.\n",
    "H.download()"
   ],
   "metadata": {
    "collapsed": false,
    "ExecuteTime": {
     "end_time": "2023-11-30T18:48:28.390976Z",
     "start_time": "2023-11-30T18:48:25.063675Z"
    }
   },
   "id": "f62bdea656406f69"
  },
  {
   "cell_type": "code",
   "execution_count": 8,
   "outputs": [],
   "source": [
    "import xarray\n",
    "# Since we have the full file, we need to filter by keys to open the\n",
    "# variable we want with cfgrib\n",
    "x = xarray.open_dataset(\n",
    "    H.get_localFilePath(),\n",
    "    engine=\"cfgrib\",\n",
    "    backend_kwargs={\n",
    "        \"filter_by_keys\": {\"shortName\": \"2t\", \"typeOfLevel\": \"heightAboveGround\"}\n",
    "    },\n",
    ")"
   ],
   "metadata": {
    "collapsed": false,
    "ExecuteTime": {
     "end_time": "2023-11-30T18:48:28.652678Z",
     "start_time": "2023-11-30T18:48:28.387428Z"
    }
   },
   "id": "36c1b16e2d27ab93"
  },
  {
   "cell_type": "code",
   "execution_count": 9,
   "outputs": [
    {
     "name": "stderr",
     "output_type": "stream",
     "text": [
      "/var/folders/rr/m6rsyqmd64q6ddlcqfq1sng00000gp/T/ipykernel_48106/1094693504.py:2: UserWarning: More than one time coordinate present for variable  \"t2m\".\n",
      "  crs_info = x.metpy.parse_cf().metpy_crs.item()\n"
     ]
    },
    {
     "ename": "AttributeError",
     "evalue": "'Dataset' object has no attribute 'metpy_crs'",
     "output_type": "error",
     "traceback": [
      "\u001B[0;31m---------------------------------------------------------------------------\u001B[0m",
      "\u001B[0;31mAttributeError\u001B[0m                            Traceback (most recent call last)",
      "Cell \u001B[0;32mIn[9], line 2\u001B[0m\n\u001B[1;32m      1\u001B[0m \u001B[38;5;28;01mimport\u001B[39;00m \u001B[38;5;21;01mmetpy\u001B[39;00m\n\u001B[0;32m----> 2\u001B[0m crs_info \u001B[38;5;241m=\u001B[39m \u001B[43mx\u001B[49m\u001B[38;5;241;43m.\u001B[39;49m\u001B[43mmetpy\u001B[49m\u001B[38;5;241;43m.\u001B[39;49m\u001B[43mparse_cf\u001B[49m\u001B[43m(\u001B[49m\u001B[43m)\u001B[49m\u001B[38;5;241;43m.\u001B[39;49m\u001B[43mmetpy_crs\u001B[49m\u001B[38;5;241m.\u001B[39mitem()\n\u001B[1;32m      3\u001B[0m crs_info\u001B[38;5;241m.\u001B[39mto_cartopy()\n\u001B[1;32m      4\u001B[0m crs_info\u001B[38;5;241m.\u001B[39mto_pyproj()\n",
      "File \u001B[0;32m~/anaconda3/envs/live-verification/lib/python3.11/site-packages/xarray/core/common.py:277\u001B[0m, in \u001B[0;36mAttrAccessMixin.__getattr__\u001B[0;34m(self, name)\u001B[0m\n\u001B[1;32m    275\u001B[0m         \u001B[38;5;28;01mwith\u001B[39;00m suppress(\u001B[38;5;167;01mKeyError\u001B[39;00m):\n\u001B[1;32m    276\u001B[0m             \u001B[38;5;28;01mreturn\u001B[39;00m source[name]\n\u001B[0;32m--> 277\u001B[0m \u001B[38;5;28;01mraise\u001B[39;00m \u001B[38;5;167;01mAttributeError\u001B[39;00m(\n\u001B[1;32m    278\u001B[0m     \u001B[38;5;124mf\u001B[39m\u001B[38;5;124m\"\u001B[39m\u001B[38;5;132;01m{\u001B[39;00m\u001B[38;5;28mtype\u001B[39m(\u001B[38;5;28mself\u001B[39m)\u001B[38;5;241m.\u001B[39m\u001B[38;5;18m__name__\u001B[39m\u001B[38;5;132;01m!r}\u001B[39;00m\u001B[38;5;124m object has no attribute \u001B[39m\u001B[38;5;132;01m{\u001B[39;00mname\u001B[38;5;132;01m!r}\u001B[39;00m\u001B[38;5;124m\"\u001B[39m\n\u001B[1;32m    279\u001B[0m )\n",
      "\u001B[0;31mAttributeError\u001B[0m: 'Dataset' object has no attribute 'metpy_crs'"
     ]
    }
   ],
   "source": [
    "import metpy\n",
    "crs_info = x.metpy.parse_cf().metpy_crs.item()\n",
    "crs_info.to_cartopy()\n",
    "crs_info.to_pyproj()\n"
   ],
   "metadata": {
    "collapsed": false,
    "ExecuteTime": {
     "end_time": "2023-11-30T18:48:28.803483Z",
     "start_time": "2023-11-30T18:48:28.654410Z"
    }
   },
   "id": "da6fb33f45088df5"
  }
 ],
 "metadata": {
  "kernelspec": {
   "display_name": "Python 3",
   "language": "python",
   "name": "python3"
  },
  "language_info": {
   "codemirror_mode": {
    "name": "ipython",
    "version": 2
   },
   "file_extension": ".py",
   "mimetype": "text/x-python",
   "name": "python",
   "nbconvert_exporter": "python",
   "pygments_lexer": "ipython2",
   "version": "2.7.6"
  }
 },
 "nbformat": 4,
 "nbformat_minor": 5
}

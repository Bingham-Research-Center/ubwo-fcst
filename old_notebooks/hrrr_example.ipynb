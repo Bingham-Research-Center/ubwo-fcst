{
 "cells": [
  {
   "cell_type": "markdown",
   "source": [
    "### Downloading HRRR data\n",
    "This shows code needed to extract variables from raw HRRR data "
   ],
   "metadata": {
    "collapsed": false
   },
   "id": "db71e1ba2e14e185"
  },
  {
   "cell_type": "code",
   "execution_count": null,
   "outputs": [],
   "source": [],
   "metadata": {
    "collapsed": false
   },
   "id": "127d3f4e1dc5447f"
  }
 ],
 "metadata": {
  "kernelspec": {
   "display_name": "Python 3",
   "language": "python",
   "name": "python3"
  },
  "language_info": {
   "codemirror_mode": {
    "name": "ipython",
    "version": 2
   },
   "file_extension": ".py",
   "mimetype": "text/x-python",
   "name": "python",
   "nbconvert_exporter": "python",
   "pygments_lexer": "ipython2",
   "version": "2.7.6"
  }
 },
 "nbformat": 4,
 "nbformat_minor": 5
}

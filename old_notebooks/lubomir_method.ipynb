{
 "cells": [
  {
   "cell_type": "code",
   "execution_count": 1,
   "outputs": [],
   "source": [
    "import dataclasses\n",
    "import datetime\n",
    "\n",
    "@dataclasses.dataclass\n",
    "class ZarrId:\n",
    "    run_hour: datetime.datetime\n",
    "    level_type: str\n",
    "    var_level: str\n",
    "    var_name: str\n",
    "    model_type: str\n",
    "        \n",
    "    def format_chunk_id(self, chunk_id):\n",
    "        if self.model_type == \"fcst\": \n",
    "            # Extra id part since forecasts have an additional (time) dimension\n",
    "            return \"0.\" + str(chunk_id)\n",
    "        else:\n",
    "            return chunk_id"
   ],
   "metadata": {
    "collapsed": false,
    "ExecuteTime": {
     "end_time": "2023-11-16T18:16:56.312573Z",
     "start_time": "2023-11-16T18:16:56.282121Z"
    }
   },
   "id": "385d311efa3ba65a"
  },
  {
   "cell_type": "code",
   "execution_count": 2,
   "outputs": [
    {
     "name": "stdout",
     "output_type": "stream",
     "text": [
      "https://hrrrzarr.s3.amazonaws.com/index.html#sfc/20210101/20210101_07z_fcst.zarr/\n",
      "https://hrrrzarr.s3.amazonaws.com/index.html#prs/20210101/20210101_07z_anl.zarr/\n"
     ]
    }
   ],
   "source": [
    "level_type = \"sfc\"\n",
    "model_type = \"fcst\"\n",
    "run_hour = datetime.datetime(2021, 1, 1, 7)\n",
    "\n",
    "def create_hrrr_zarr_explorer_url(level_type, model_type, run_hour):\n",
    "    url = \"https://hrrrzarr.s3.amazonaws.com/index.html\"\n",
    "    url += run_hour.strftime(\n",
    "        f\"#{level_type}/%Y%m%d/%Y%m%d_%Hz_{model_type}.zarr/\")\n",
    "    return url\n",
    "\n",
    "print(create_hrrr_zarr_explorer_url(level_type, model_type, run_hour))\n",
    "print(create_hrrr_zarr_explorer_url(\"prs\", \"anl\", run_hour))"
   ],
   "metadata": {
    "collapsed": false,
    "ExecuteTime": {
     "end_time": "2023-11-16T18:16:56.313531Z",
     "start_time": "2023-11-16T18:16:56.287307Z"
    }
   },
   "id": "4e4d7bee2b9ec9ca"
  },
  {
   "cell_type": "code",
   "execution_count": 3,
   "outputs": [
    {
     "data": {
      "text/plain": "'https://hrrrzarr.s3.amazonaws.com/sfc/20200801/20200801_00z_anl.zarr/1000mb/TMP/1000mb/TMP/4.3'"
     },
     "execution_count": 3,
     "metadata": {},
     "output_type": "execute_result"
    }
   ],
   "source": [
    "zarr_id = ZarrId(\n",
    "                run_hour=datetime.datetime(2020, 8, 1, 0), # Aug 1, 0Z\n",
    "                level_type=\"sfc\",\n",
    "                var_level=\"1000mb\",\n",
    "                var_name=\"TMP\",\n",
    "                model_type=\"anl\"\n",
    "                )\n",
    "chunk_id = \"4.3\"\n",
    "\n",
    "def create_https_chunk_url(zarr_id, chunk_id):\n",
    "    url = \"https://hrrrzarr.s3.amazonaws.com\"\n",
    "    url += zarr_id.run_hour.strftime(\n",
    "        f\"/{zarr_id.level_type}/%Y%m%d/%Y%m%d_%Hz_{zarr_id.model_type}.zarr/\")\n",
    "    url += f\"{zarr_id.var_level}/{zarr_id.var_name}/{zarr_id.var_level}/{zarr_id.var_name}\"\n",
    "    url += f\"/{zarr_id.format_chunk_id(chunk_id)}\"\n",
    "    return url\n",
    "\n",
    "create_https_chunk_url(zarr_id, chunk_id)"
   ],
   "metadata": {
    "collapsed": false,
    "ExecuteTime": {
     "end_time": "2023-11-16T18:16:56.313778Z",
     "start_time": "2023-11-16T18:16:56.289990Z"
    }
   },
   "id": "6d85cdce923b9c4a"
  },
  {
   "cell_type": "code",
   "execution_count": 4,
   "outputs": [
    {
     "data": {
      "text/plain": "'s3://hrrrzarr/sfc/20200801/20200801_00z_anl.zarr/1000mb/TMP'"
     },
     "execution_count": 4,
     "metadata": {},
     "output_type": "execute_result"
    }
   ],
   "source": [
    "def create_s3_group_url(zarr_id, prefix=True):\n",
    "    url = \"s3://hrrrzarr/\" if prefix else \"\" # Skip when using boto3\n",
    "    url += zarr_id.run_hour.strftime(\n",
    "        f\"{zarr_id.level_type}/%Y%m%d/%Y%m%d_%Hz_{zarr_id.model_type}.zarr/\")\n",
    "    url += f\"{zarr_id.var_level}/{zarr_id.var_name}\"\n",
    "    return url\n",
    "\n",
    "create_s3_group_url(zarr_id)"
   ],
   "metadata": {
    "collapsed": false,
    "ExecuteTime": {
     "end_time": "2023-11-16T18:16:56.314028Z",
     "start_time": "2023-11-16T18:16:56.294094Z"
    }
   },
   "id": "b4d1f27f2299822f"
  },
  {
   "cell_type": "code",
   "execution_count": 5,
   "outputs": [
    {
     "data": {
      "text/plain": "'s3://hrrrzarr/sfc/20200801/20200801_00z_anl.zarr/1000mb/TMP/1000mb'"
     },
     "execution_count": 5,
     "metadata": {},
     "output_type": "execute_result"
    }
   ],
   "source": [
    "def create_s3_subgroup_url(zarr_id, prefix=True):\n",
    "    url = create_s3_group_url(zarr_id, prefix)\n",
    "    url += f\"/{zarr_id.var_level}\"\n",
    "    return url\n",
    "\n",
    "create_s3_subgroup_url(zarr_id)"
   ],
   "metadata": {
    "collapsed": false,
    "ExecuteTime": {
     "end_time": "2023-11-16T18:16:56.332259Z",
     "start_time": "2023-11-16T18:16:56.296085Z"
    }
   },
   "id": "fca3479ea58f6dad"
  },
  {
   "cell_type": "code",
   "execution_count": 6,
   "outputs": [
    {
     "data": {
      "text/plain": "'sfc/20200801/20200801_00z_anl.zarr/1000mb/TMP/1000mb/TMP/4.3'"
     },
     "execution_count": 6,
     "metadata": {},
     "output_type": "execute_result"
    }
   ],
   "source": [
    "def create_s3_chunk_url(zarr_id, chunk_id, prefix=False):\n",
    "    url = create_s3_subgroup_url(zarr_id, prefix)\n",
    "    url += f\"/{zarr_id.var_name}/{zarr_id.format_chunk_id(chunk_id)}\"\n",
    "    return url\n",
    "\n",
    "create_s3_chunk_url(zarr_id, chunk_id)"
   ],
   "metadata": {
    "collapsed": false,
    "ExecuteTime": {
     "end_time": "2023-11-16T18:16:56.332637Z",
     "start_time": "2023-11-16T18:16:56.299710Z"
    }
   },
   "id": "d32302bc5e21b828"
  },
  {
   "cell_type": "code",
   "execution_count": 7,
   "outputs": [],
   "source": [
    "import cartopy.crs as ccrs\n",
    "\n",
    "projection = ccrs.LambertConformal(central_longitude=262.5, \n",
    "                                   central_latitude=38.5, \n",
    "                                   standard_parallels=(38.5, 38.5),\n",
    "                                    globe=ccrs.Globe(semimajor_axis=6371229,\n",
    "                                                     semiminor_axis=6371229))"
   ],
   "metadata": {
    "collapsed": false,
    "ExecuteTime": {
     "end_time": "2023-11-16T18:16:57.336571Z",
     "start_time": "2023-11-16T18:16:56.301991Z"
    }
   },
   "id": "859f160f29186b39"
  },
  {
   "cell_type": "code",
   "execution_count": 7,
   "outputs": [],
   "source": [],
   "metadata": {
    "collapsed": false,
    "ExecuteTime": {
     "end_time": "2023-11-16T18:16:57.343734Z",
     "start_time": "2023-11-16T18:16:57.336981Z"
    }
   },
   "id": "a6f19063e2c1ad14"
  },
  {
   "cell_type": "code",
   "execution_count": 7,
   "outputs": [],
   "source": [],
   "metadata": {
    "collapsed": false,
    "ExecuteTime": {
     "end_time": "2023-11-16T18:16:57.343956Z",
     "start_time": "2023-11-16T18:16:57.339365Z"
    }
   },
   "id": "76ddfc100c69ac5a"
  },
  {
   "cell_type": "code",
   "execution_count": 8,
   "outputs": [],
   "source": [
    "import xarray as xr \n",
    "import s3fs \n",
    "import metpy \n",
    "fs = s3fs.S3FileSystem(anon=True) "
   ],
   "metadata": {
    "collapsed": false,
    "ExecuteTime": {
     "end_time": "2023-11-16T18:17:01.307421Z",
     "start_time": "2023-11-16T18:16:57.343354Z"
    }
   },
   "id": "6af47bcc27a50373"
  },
  {
   "cell_type": "code",
   "execution_count": 9,
   "outputs": [
    {
     "data": {
      "text/plain": "<xarray.Dataset>\nDimensions:     (x: 1799, y: 1059)\nCoordinates:\n  * x           (x) float64 -2.698e+06 -2.695e+06 ... 2.693e+06 2.696e+06\n  * y           (y) float64 -1.587e+06 -1.584e+06 ... 1.584e+06 1.587e+06\nData variables:\n    chunk_id    (x, y) object dask.array<chunksize=(225, 265), meta=np.ndarray>\n    chunk_x     (x) int32 dask.array<chunksize=(1799,), meta=np.ndarray>\n    chunk_y     (y) int32 dask.array<chunksize=(1059,), meta=np.ndarray>\n    in_chunk_x  (x) int32 dask.array<chunksize=(1799,), meta=np.ndarray>\n    in_chunk_y  (y) int32 dask.array<chunksize=(1059,), meta=np.ndarray>\n    index_x     (x) int32 dask.array<chunksize=(1799,), meta=np.ndarray>\n    index_y     (y) int32 dask.array<chunksize=(1059,), meta=np.ndarray>\n    latitude    (y, x) float64 dask.array<chunksize=(133, 450), meta=np.ndarray>\n    longitude   (y, x) float64 dask.array<chunksize=(133, 450), meta=np.ndarray>",
      "text/html": "<div><svg style=\"position: absolute; width: 0; height: 0; overflow: hidden\">\n<defs>\n<symbol id=\"icon-database\" viewBox=\"0 0 32 32\">\n<path d=\"M16 0c-8.837 0-16 2.239-16 5v4c0 2.761 7.163 5 16 5s16-2.239 16-5v-4c0-2.761-7.163-5-16-5z\"></path>\n<path d=\"M16 17c-8.837 0-16-2.239-16-5v6c0 2.761 7.163 5 16 5s16-2.239 16-5v-6c0 2.761-7.163 5-16 5z\"></path>\n<path d=\"M16 26c-8.837 0-16-2.239-16-5v6c0 2.761 7.163 5 16 5s16-2.239 16-5v-6c0 2.761-7.163 5-16 5z\"></path>\n</symbol>\n<symbol id=\"icon-file-text2\" viewBox=\"0 0 32 32\">\n<path d=\"M28.681 7.159c-0.694-0.947-1.662-2.053-2.724-3.116s-2.169-2.030-3.116-2.724c-1.612-1.182-2.393-1.319-2.841-1.319h-15.5c-1.378 0-2.5 1.121-2.5 2.5v27c0 1.378 1.122 2.5 2.5 2.5h23c1.378 0 2.5-1.122 2.5-2.5v-19.5c0-0.448-0.137-1.23-1.319-2.841zM24.543 5.457c0.959 0.959 1.712 1.825 2.268 2.543h-4.811v-4.811c0.718 0.556 1.584 1.309 2.543 2.268zM28 29.5c0 0.271-0.229 0.5-0.5 0.5h-23c-0.271 0-0.5-0.229-0.5-0.5v-27c0-0.271 0.229-0.5 0.5-0.5 0 0 15.499-0 15.5 0v7c0 0.552 0.448 1 1 1h7v19.5z\"></path>\n<path d=\"M23 26h-14c-0.552 0-1-0.448-1-1s0.448-1 1-1h14c0.552 0 1 0.448 1 1s-0.448 1-1 1z\"></path>\n<path d=\"M23 22h-14c-0.552 0-1-0.448-1-1s0.448-1 1-1h14c0.552 0 1 0.448 1 1s-0.448 1-1 1z\"></path>\n<path d=\"M23 18h-14c-0.552 0-1-0.448-1-1s0.448-1 1-1h14c0.552 0 1 0.448 1 1s-0.448 1-1 1z\"></path>\n</symbol>\n</defs>\n</svg>\n<style>/* CSS stylesheet for displaying xarray objects in jupyterlab.\n *\n */\n\n:root {\n  --xr-font-color0: var(--jp-content-font-color0, rgba(0, 0, 0, 1));\n  --xr-font-color2: var(--jp-content-font-color2, rgba(0, 0, 0, 0.54));\n  --xr-font-color3: var(--jp-content-font-color3, rgba(0, 0, 0, 0.38));\n  --xr-border-color: var(--jp-border-color2, #e0e0e0);\n  --xr-disabled-color: var(--jp-layout-color3, #bdbdbd);\n  --xr-background-color: var(--jp-layout-color0, white);\n  --xr-background-color-row-even: var(--jp-layout-color1, white);\n  --xr-background-color-row-odd: var(--jp-layout-color2, #eeeeee);\n}\n\nhtml[theme=dark],\nbody[data-theme=dark],\nbody.vscode-dark {\n  --xr-font-color0: rgba(255, 255, 255, 1);\n  --xr-font-color2: rgba(255, 255, 255, 0.54);\n  --xr-font-color3: rgba(255, 255, 255, 0.38);\n  --xr-border-color: #1F1F1F;\n  --xr-disabled-color: #515151;\n  --xr-background-color: #111111;\n  --xr-background-color-row-even: #111111;\n  --xr-background-color-row-odd: #313131;\n}\n\n.xr-wrap {\n  display: block !important;\n  min-width: 300px;\n  max-width: 700px;\n}\n\n.xr-text-repr-fallback {\n  /* fallback to plain text repr when CSS is not injected (untrusted notebook) */\n  display: none;\n}\n\n.xr-header {\n  padding-top: 6px;\n  padding-bottom: 6px;\n  margin-bottom: 4px;\n  border-bottom: solid 1px var(--xr-border-color);\n}\n\n.xr-header > div,\n.xr-header > ul {\n  display: inline;\n  margin-top: 0;\n  margin-bottom: 0;\n}\n\n.xr-obj-type,\n.xr-array-name {\n  margin-left: 2px;\n  margin-right: 10px;\n}\n\n.xr-obj-type {\n  color: var(--xr-font-color2);\n}\n\n.xr-sections {\n  padding-left: 0 !important;\n  display: grid;\n  grid-template-columns: 150px auto auto 1fr 20px 20px;\n}\n\n.xr-section-item {\n  display: contents;\n}\n\n.xr-section-item input {\n  display: none;\n}\n\n.xr-section-item input + label {\n  color: var(--xr-disabled-color);\n}\n\n.xr-section-item input:enabled + label {\n  cursor: pointer;\n  color: var(--xr-font-color2);\n}\n\n.xr-section-item input:enabled + label:hover {\n  color: var(--xr-font-color0);\n}\n\n.xr-section-summary {\n  grid-column: 1;\n  color: var(--xr-font-color2);\n  font-weight: 500;\n}\n\n.xr-section-summary > span {\n  display: inline-block;\n  padding-left: 0.5em;\n}\n\n.xr-section-summary-in:disabled + label {\n  color: var(--xr-font-color2);\n}\n\n.xr-section-summary-in + label:before {\n  display: inline-block;\n  content: '►';\n  font-size: 11px;\n  width: 15px;\n  text-align: center;\n}\n\n.xr-section-summary-in:disabled + label:before {\n  color: var(--xr-disabled-color);\n}\n\n.xr-section-summary-in:checked + label:before {\n  content: '▼';\n}\n\n.xr-section-summary-in:checked + label > span {\n  display: none;\n}\n\n.xr-section-summary,\n.xr-section-inline-details {\n  padding-top: 4px;\n  padding-bottom: 4px;\n}\n\n.xr-section-inline-details {\n  grid-column: 2 / -1;\n}\n\n.xr-section-details {\n  display: none;\n  grid-column: 1 / -1;\n  margin-bottom: 5px;\n}\n\n.xr-section-summary-in:checked ~ .xr-section-details {\n  display: contents;\n}\n\n.xr-array-wrap {\n  grid-column: 1 / -1;\n  display: grid;\n  grid-template-columns: 20px auto;\n}\n\n.xr-array-wrap > label {\n  grid-column: 1;\n  vertical-align: top;\n}\n\n.xr-preview {\n  color: var(--xr-font-color3);\n}\n\n.xr-array-preview,\n.xr-array-data {\n  padding: 0 5px !important;\n  grid-column: 2;\n}\n\n.xr-array-data,\n.xr-array-in:checked ~ .xr-array-preview {\n  display: none;\n}\n\n.xr-array-in:checked ~ .xr-array-data,\n.xr-array-preview {\n  display: inline-block;\n}\n\n.xr-dim-list {\n  display: inline-block !important;\n  list-style: none;\n  padding: 0 !important;\n  margin: 0;\n}\n\n.xr-dim-list li {\n  display: inline-block;\n  padding: 0;\n  margin: 0;\n}\n\n.xr-dim-list:before {\n  content: '(';\n}\n\n.xr-dim-list:after {\n  content: ')';\n}\n\n.xr-dim-list li:not(:last-child):after {\n  content: ',';\n  padding-right: 5px;\n}\n\n.xr-has-index {\n  font-weight: bold;\n}\n\n.xr-var-list,\n.xr-var-item {\n  display: contents;\n}\n\n.xr-var-item > div,\n.xr-var-item label,\n.xr-var-item > .xr-var-name span {\n  background-color: var(--xr-background-color-row-even);\n  margin-bottom: 0;\n}\n\n.xr-var-item > .xr-var-name:hover span {\n  padding-right: 5px;\n}\n\n.xr-var-list > li:nth-child(odd) > div,\n.xr-var-list > li:nth-child(odd) > label,\n.xr-var-list > li:nth-child(odd) > .xr-var-name span {\n  background-color: var(--xr-background-color-row-odd);\n}\n\n.xr-var-name {\n  grid-column: 1;\n}\n\n.xr-var-dims {\n  grid-column: 2;\n}\n\n.xr-var-dtype {\n  grid-column: 3;\n  text-align: right;\n  color: var(--xr-font-color2);\n}\n\n.xr-var-preview {\n  grid-column: 4;\n}\n\n.xr-index-preview {\n  grid-column: 2 / 5;\n  color: var(--xr-font-color2);\n}\n\n.xr-var-name,\n.xr-var-dims,\n.xr-var-dtype,\n.xr-preview,\n.xr-attrs dt {\n  white-space: nowrap;\n  overflow: hidden;\n  text-overflow: ellipsis;\n  padding-right: 10px;\n}\n\n.xr-var-name:hover,\n.xr-var-dims:hover,\n.xr-var-dtype:hover,\n.xr-attrs dt:hover {\n  overflow: visible;\n  width: auto;\n  z-index: 1;\n}\n\n.xr-var-attrs,\n.xr-var-data,\n.xr-index-data {\n  display: none;\n  background-color: var(--xr-background-color) !important;\n  padding-bottom: 5px !important;\n}\n\n.xr-var-attrs-in:checked ~ .xr-var-attrs,\n.xr-var-data-in:checked ~ .xr-var-data,\n.xr-index-data-in:checked ~ .xr-index-data {\n  display: block;\n}\n\n.xr-var-data > table {\n  float: right;\n}\n\n.xr-var-name span,\n.xr-var-data,\n.xr-index-name div,\n.xr-index-data,\n.xr-attrs {\n  padding-left: 25px !important;\n}\n\n.xr-attrs,\n.xr-var-attrs,\n.xr-var-data,\n.xr-index-data {\n  grid-column: 1 / -1;\n}\n\ndl.xr-attrs {\n  padding: 0;\n  margin: 0;\n  display: grid;\n  grid-template-columns: 125px auto;\n}\n\n.xr-attrs dt,\n.xr-attrs dd {\n  padding: 0;\n  margin: 0;\n  float: left;\n  padding-right: 10px;\n  width: auto;\n}\n\n.xr-attrs dt {\n  font-weight: normal;\n  grid-column: 1;\n}\n\n.xr-attrs dt:hover span {\n  display: inline-block;\n  background: var(--xr-background-color);\n  padding-right: 10px;\n}\n\n.xr-attrs dd {\n  grid-column: 2;\n  white-space: pre-wrap;\n  word-break: break-all;\n}\n\n.xr-icon-database,\n.xr-icon-file-text2,\n.xr-no-icon {\n  display: inline-block;\n  vertical-align: middle;\n  width: 1em;\n  height: 1.5em !important;\n  stroke-width: 0;\n  stroke: currentColor;\n  fill: currentColor;\n}\n</style><pre class='xr-text-repr-fallback'>&lt;xarray.Dataset&gt;\nDimensions:     (x: 1799, y: 1059)\nCoordinates:\n  * x           (x) float64 -2.698e+06 -2.695e+06 ... 2.693e+06 2.696e+06\n  * y           (y) float64 -1.587e+06 -1.584e+06 ... 1.584e+06 1.587e+06\nData variables:\n    chunk_id    (x, y) object dask.array&lt;chunksize=(225, 265), meta=np.ndarray&gt;\n    chunk_x     (x) int32 dask.array&lt;chunksize=(1799,), meta=np.ndarray&gt;\n    chunk_y     (y) int32 dask.array&lt;chunksize=(1059,), meta=np.ndarray&gt;\n    in_chunk_x  (x) int32 dask.array&lt;chunksize=(1799,), meta=np.ndarray&gt;\n    in_chunk_y  (y) int32 dask.array&lt;chunksize=(1059,), meta=np.ndarray&gt;\n    index_x     (x) int32 dask.array&lt;chunksize=(1799,), meta=np.ndarray&gt;\n    index_y     (y) int32 dask.array&lt;chunksize=(1059,), meta=np.ndarray&gt;\n    latitude    (y, x) float64 dask.array&lt;chunksize=(133, 450), meta=np.ndarray&gt;\n    longitude   (y, x) float64 dask.array&lt;chunksize=(133, 450), meta=np.ndarray&gt;</pre><div class='xr-wrap' style='display:none'><div class='xr-header'><div class='xr-obj-type'>xarray.Dataset</div></div><ul class='xr-sections'><li class='xr-section-item'><input id='section-8aa89cdc-bce2-4915-afa8-ecfb636ca8b6' class='xr-section-summary-in' type='checkbox' disabled ><label for='section-8aa89cdc-bce2-4915-afa8-ecfb636ca8b6' class='xr-section-summary'  title='Expand/collapse section'>Dimensions:</label><div class='xr-section-inline-details'><ul class='xr-dim-list'><li><span class='xr-has-index'>x</span>: 1799</li><li><span class='xr-has-index'>y</span>: 1059</li></ul></div><div class='xr-section-details'></div></li><li class='xr-section-item'><input id='section-3fe32236-f114-461e-8adf-39da46235144' class='xr-section-summary-in' type='checkbox'  checked><label for='section-3fe32236-f114-461e-8adf-39da46235144' class='xr-section-summary' >Coordinates: <span>(2)</span></label><div class='xr-section-inline-details'></div><div class='xr-section-details'><ul class='xr-var-list'><li class='xr-var-item'><div class='xr-var-name'><span class='xr-has-index'>x</span></div><div class='xr-var-dims'>(x)</div><div class='xr-var-dtype'>float64</div><div class='xr-var-preview xr-preview'>-2.698e+06 -2.695e+06 ... 2.696e+06</div><input id='attrs-37ae5565-44b6-4b58-b43b-16cb46f6d7e2' class='xr-var-attrs-in' type='checkbox' disabled><label for='attrs-37ae5565-44b6-4b58-b43b-16cb46f6d7e2' title='Show/Hide attributes'><svg class='icon xr-icon-file-text2'><use xlink:href='#icon-file-text2'></use></svg></label><input id='data-a2db7dcd-d6e1-4651-a4b3-f0a0a49e8995' class='xr-var-data-in' type='checkbox'><label for='data-a2db7dcd-d6e1-4651-a4b3-f0a0a49e8995' title='Show/Hide data repr'><svg class='icon xr-icon-database'><use xlink:href='#icon-database'></use></svg></label><div class='xr-var-attrs'><dl class='xr-attrs'></dl></div><div class='xr-var-data'><pre>array([-2697520.142522, -2694520.142522, -2691520.142522, ...,  2690479.857478,\n        2693479.857478,  2696479.857478])</pre></div></li><li class='xr-var-item'><div class='xr-var-name'><span class='xr-has-index'>y</span></div><div class='xr-var-dims'>(y)</div><div class='xr-var-dtype'>float64</div><div class='xr-var-preview xr-preview'>-1.587e+06 -1.584e+06 ... 1.587e+06</div><input id='attrs-96439a97-2fa4-4b18-9421-e2a6c82ccd74' class='xr-var-attrs-in' type='checkbox' disabled><label for='attrs-96439a97-2fa4-4b18-9421-e2a6c82ccd74' title='Show/Hide attributes'><svg class='icon xr-icon-file-text2'><use xlink:href='#icon-file-text2'></use></svg></label><input id='data-18e26331-1123-447a-9676-c2c1bfaeb421' class='xr-var-data-in' type='checkbox'><label for='data-18e26331-1123-447a-9676-c2c1bfaeb421' title='Show/Hide data repr'><svg class='icon xr-icon-database'><use xlink:href='#icon-database'></use></svg></label><div class='xr-var-attrs'><dl class='xr-attrs'></dl></div><div class='xr-var-data'><pre>array([-1587306.152557, -1584306.152557, -1581306.152557, ...,  1580693.847443,\n        1583693.847443,  1586693.847443])</pre></div></li></ul></div></li><li class='xr-section-item'><input id='section-7827b32a-1cba-428c-9da7-a690a193bcdf' class='xr-section-summary-in' type='checkbox'  checked><label for='section-7827b32a-1cba-428c-9da7-a690a193bcdf' class='xr-section-summary' >Data variables: <span>(9)</span></label><div class='xr-section-inline-details'></div><div class='xr-section-details'><ul class='xr-var-list'><li class='xr-var-item'><div class='xr-var-name'><span>chunk_id</span></div><div class='xr-var-dims'>(x, y)</div><div class='xr-var-dtype'>object</div><div class='xr-var-preview xr-preview'>dask.array&lt;chunksize=(225, 265), meta=np.ndarray&gt;</div><input id='attrs-162e5216-b63a-446d-88b2-1c9a1883a9fb' class='xr-var-attrs-in' type='checkbox' disabled><label for='attrs-162e5216-b63a-446d-88b2-1c9a1883a9fb' title='Show/Hide attributes'><svg class='icon xr-icon-file-text2'><use xlink:href='#icon-file-text2'></use></svg></label><input id='data-725e5b53-e46c-47a8-96a7-acc2dfe1c8bc' class='xr-var-data-in' type='checkbox'><label for='data-725e5b53-e46c-47a8-96a7-acc2dfe1c8bc' title='Show/Hide data repr'><svg class='icon xr-icon-database'><use xlink:href='#icon-database'></use></svg></label><div class='xr-var-attrs'><dl class='xr-attrs'></dl></div><div class='xr-var-data'><table>\n    <tr>\n        <td>\n            <table style=\"border-collapse: collapse;\">\n                <thead>\n                    <tr>\n                        <td> </td>\n                        <th> Array </th>\n                        <th> Chunk </th>\n                    </tr>\n                </thead>\n                <tbody>\n                    \n                    <tr>\n                        <th> Bytes </th>\n                        <td> 14.54 MiB </td>\n                        <td> 465.82 kiB </td>\n                    </tr>\n                    \n                    <tr>\n                        <th> Shape </th>\n                        <td> (1799, 1059) </td>\n                        <td> (225, 265) </td>\n                    </tr>\n                    <tr>\n                        <th> Dask graph </th>\n                        <td colspan=\"2\"> 32 chunks in 2 graph layers </td>\n                    </tr>\n                    <tr>\n                        <th> Data type </th>\n                        <td colspan=\"2\"> object numpy.ndarray </td>\n                    </tr>\n                </tbody>\n            </table>\n        </td>\n        <td>\n        <svg width=\"120\" height=\"170\" style=\"stroke:rgb(0,0,0);stroke-width:1\" >\n\n  <!-- Horizontal lines -->\n  <line x1=\"0\" y1=\"0\" x2=\"70\" y2=\"0\" style=\"stroke-width:2\" />\n  <line x1=\"0\" y1=\"15\" x2=\"70\" y2=\"15\" />\n  <line x1=\"0\" y1=\"30\" x2=\"70\" y2=\"30\" />\n  <line x1=\"0\" y1=\"45\" x2=\"70\" y2=\"45\" />\n  <line x1=\"0\" y1=\"60\" x2=\"70\" y2=\"60\" />\n  <line x1=\"0\" y1=\"75\" x2=\"70\" y2=\"75\" />\n  <line x1=\"0\" y1=\"90\" x2=\"70\" y2=\"90\" />\n  <line x1=\"0\" y1=\"105\" x2=\"70\" y2=\"105\" />\n  <line x1=\"0\" y1=\"120\" x2=\"70\" y2=\"120\" style=\"stroke-width:2\" />\n\n  <!-- Vertical lines -->\n  <line x1=\"0\" y1=\"0\" x2=\"0\" y2=\"120\" style=\"stroke-width:2\" />\n  <line x1=\"17\" y1=\"0\" x2=\"17\" y2=\"120\" />\n  <line x1=\"35\" y1=\"0\" x2=\"35\" y2=\"120\" />\n  <line x1=\"53\" y1=\"0\" x2=\"53\" y2=\"120\" />\n  <line x1=\"70\" y1=\"0\" x2=\"70\" y2=\"120\" style=\"stroke-width:2\" />\n\n  <!-- Colored Rectangle -->\n  <polygon points=\"0.0,0.0 70.63924402445804,0.0 70.63924402445804,120.0 0.0,120.0\" style=\"fill:#ECB172A0;stroke-width:0\"/>\n\n  <!-- Text -->\n  <text x=\"35.319622\" y=\"140.000000\" font-size=\"1.0rem\" font-weight=\"100\" text-anchor=\"middle\" >1059</text>\n  <text x=\"90.639244\" y=\"60.000000\" font-size=\"1.0rem\" font-weight=\"100\" text-anchor=\"middle\" transform=\"rotate(-90,90.639244,60.000000)\">1799</text>\n</svg>\n        </td>\n    </tr>\n</table></div></li><li class='xr-var-item'><div class='xr-var-name'><span>chunk_x</span></div><div class='xr-var-dims'>(x)</div><div class='xr-var-dtype'>int32</div><div class='xr-var-preview xr-preview'>dask.array&lt;chunksize=(1799,), meta=np.ndarray&gt;</div><input id='attrs-cf363cf0-a67e-4471-bbbc-d47d2018e7fa' class='xr-var-attrs-in' type='checkbox' disabled><label for='attrs-cf363cf0-a67e-4471-bbbc-d47d2018e7fa' title='Show/Hide attributes'><svg class='icon xr-icon-file-text2'><use xlink:href='#icon-file-text2'></use></svg></label><input id='data-4b526330-9ff6-4ba0-a6ae-f4dfa659cc47' class='xr-var-data-in' type='checkbox'><label for='data-4b526330-9ff6-4ba0-a6ae-f4dfa659cc47' title='Show/Hide data repr'><svg class='icon xr-icon-database'><use xlink:href='#icon-database'></use></svg></label><div class='xr-var-attrs'><dl class='xr-attrs'></dl></div><div class='xr-var-data'><table>\n    <tr>\n        <td>\n            <table style=\"border-collapse: collapse;\">\n                <thead>\n                    <tr>\n                        <td> </td>\n                        <th> Array </th>\n                        <th> Chunk </th>\n                    </tr>\n                </thead>\n                <tbody>\n                    \n                    <tr>\n                        <th> Bytes </th>\n                        <td> 7.03 kiB </td>\n                        <td> 7.03 kiB </td>\n                    </tr>\n                    \n                    <tr>\n                        <th> Shape </th>\n                        <td> (1799,) </td>\n                        <td> (1799,) </td>\n                    </tr>\n                    <tr>\n                        <th> Dask graph </th>\n                        <td colspan=\"2\"> 1 chunks in 2 graph layers </td>\n                    </tr>\n                    <tr>\n                        <th> Data type </th>\n                        <td colspan=\"2\"> int32 numpy.ndarray </td>\n                    </tr>\n                </tbody>\n            </table>\n        </td>\n        <td>\n        <svg width=\"170\" height=\"75\" style=\"stroke:rgb(0,0,0);stroke-width:1\" >\n\n  <!-- Horizontal lines -->\n  <line x1=\"0\" y1=\"0\" x2=\"120\" y2=\"0\" style=\"stroke-width:2\" />\n  <line x1=\"0\" y1=\"25\" x2=\"120\" y2=\"25\" style=\"stroke-width:2\" />\n\n  <!-- Vertical lines -->\n  <line x1=\"0\" y1=\"0\" x2=\"0\" y2=\"25\" style=\"stroke-width:2\" />\n  <line x1=\"120\" y1=\"0\" x2=\"120\" y2=\"25\" style=\"stroke-width:2\" />\n\n  <!-- Colored Rectangle -->\n  <polygon points=\"0.0,0.0 120.0,0.0 120.0,25.412616514582485 0.0,25.412616514582485\" style=\"fill:#ECB172A0;stroke-width:0\"/>\n\n  <!-- Text -->\n  <text x=\"60.000000\" y=\"45.412617\" font-size=\"1.0rem\" font-weight=\"100\" text-anchor=\"middle\" >1799</text>\n  <text x=\"140.000000\" y=\"12.706308\" font-size=\"1.0rem\" font-weight=\"100\" text-anchor=\"middle\" transform=\"rotate(0,140.000000,12.706308)\">1</text>\n</svg>\n        </td>\n    </tr>\n</table></div></li><li class='xr-var-item'><div class='xr-var-name'><span>chunk_y</span></div><div class='xr-var-dims'>(y)</div><div class='xr-var-dtype'>int32</div><div class='xr-var-preview xr-preview'>dask.array&lt;chunksize=(1059,), meta=np.ndarray&gt;</div><input id='attrs-4035d932-67b0-4933-8456-f9786d100e0b' class='xr-var-attrs-in' type='checkbox' disabled><label for='attrs-4035d932-67b0-4933-8456-f9786d100e0b' title='Show/Hide attributes'><svg class='icon xr-icon-file-text2'><use xlink:href='#icon-file-text2'></use></svg></label><input id='data-dcbca112-37d7-4b2a-9c82-a357bbb52ea5' class='xr-var-data-in' type='checkbox'><label for='data-dcbca112-37d7-4b2a-9c82-a357bbb52ea5' title='Show/Hide data repr'><svg class='icon xr-icon-database'><use xlink:href='#icon-database'></use></svg></label><div class='xr-var-attrs'><dl class='xr-attrs'></dl></div><div class='xr-var-data'><table>\n    <tr>\n        <td>\n            <table style=\"border-collapse: collapse;\">\n                <thead>\n                    <tr>\n                        <td> </td>\n                        <th> Array </th>\n                        <th> Chunk </th>\n                    </tr>\n                </thead>\n                <tbody>\n                    \n                    <tr>\n                        <th> Bytes </th>\n                        <td> 4.14 kiB </td>\n                        <td> 4.14 kiB </td>\n                    </tr>\n                    \n                    <tr>\n                        <th> Shape </th>\n                        <td> (1059,) </td>\n                        <td> (1059,) </td>\n                    </tr>\n                    <tr>\n                        <th> Dask graph </th>\n                        <td colspan=\"2\"> 1 chunks in 2 graph layers </td>\n                    </tr>\n                    <tr>\n                        <th> Data type </th>\n                        <td colspan=\"2\"> int32 numpy.ndarray </td>\n                    </tr>\n                </tbody>\n            </table>\n        </td>\n        <td>\n        <svg width=\"170\" height=\"75\" style=\"stroke:rgb(0,0,0);stroke-width:1\" >\n\n  <!-- Horizontal lines -->\n  <line x1=\"0\" y1=\"0\" x2=\"120\" y2=\"0\" style=\"stroke-width:2\" />\n  <line x1=\"0\" y1=\"25\" x2=\"120\" y2=\"25\" style=\"stroke-width:2\" />\n\n  <!-- Vertical lines -->\n  <line x1=\"0\" y1=\"0\" x2=\"0\" y2=\"25\" style=\"stroke-width:2\" />\n  <line x1=\"120\" y1=\"0\" x2=\"120\" y2=\"25\" style=\"stroke-width:2\" />\n\n  <!-- Colored Rectangle -->\n  <polygon points=\"0.0,0.0 120.0,0.0 120.0,25.412616514582485 0.0,25.412616514582485\" style=\"fill:#ECB172A0;stroke-width:0\"/>\n\n  <!-- Text -->\n  <text x=\"60.000000\" y=\"45.412617\" font-size=\"1.0rem\" font-weight=\"100\" text-anchor=\"middle\" >1059</text>\n  <text x=\"140.000000\" y=\"12.706308\" font-size=\"1.0rem\" font-weight=\"100\" text-anchor=\"middle\" transform=\"rotate(0,140.000000,12.706308)\">1</text>\n</svg>\n        </td>\n    </tr>\n</table></div></li><li class='xr-var-item'><div class='xr-var-name'><span>in_chunk_x</span></div><div class='xr-var-dims'>(x)</div><div class='xr-var-dtype'>int32</div><div class='xr-var-preview xr-preview'>dask.array&lt;chunksize=(1799,), meta=np.ndarray&gt;</div><input id='attrs-27ffb504-a584-433d-8b9b-ed8f46c257df' class='xr-var-attrs-in' type='checkbox' disabled><label for='attrs-27ffb504-a584-433d-8b9b-ed8f46c257df' title='Show/Hide attributes'><svg class='icon xr-icon-file-text2'><use xlink:href='#icon-file-text2'></use></svg></label><input id='data-ff6d0b0c-6860-4bd2-8041-c58de6ec8039' class='xr-var-data-in' type='checkbox'><label for='data-ff6d0b0c-6860-4bd2-8041-c58de6ec8039' title='Show/Hide data repr'><svg class='icon xr-icon-database'><use xlink:href='#icon-database'></use></svg></label><div class='xr-var-attrs'><dl class='xr-attrs'></dl></div><div class='xr-var-data'><table>\n    <tr>\n        <td>\n            <table style=\"border-collapse: collapse;\">\n                <thead>\n                    <tr>\n                        <td> </td>\n                        <th> Array </th>\n                        <th> Chunk </th>\n                    </tr>\n                </thead>\n                <tbody>\n                    \n                    <tr>\n                        <th> Bytes </th>\n                        <td> 7.03 kiB </td>\n                        <td> 7.03 kiB </td>\n                    </tr>\n                    \n                    <tr>\n                        <th> Shape </th>\n                        <td> (1799,) </td>\n                        <td> (1799,) </td>\n                    </tr>\n                    <tr>\n                        <th> Dask graph </th>\n                        <td colspan=\"2\"> 1 chunks in 2 graph layers </td>\n                    </tr>\n                    <tr>\n                        <th> Data type </th>\n                        <td colspan=\"2\"> int32 numpy.ndarray </td>\n                    </tr>\n                </tbody>\n            </table>\n        </td>\n        <td>\n        <svg width=\"170\" height=\"75\" style=\"stroke:rgb(0,0,0);stroke-width:1\" >\n\n  <!-- Horizontal lines -->\n  <line x1=\"0\" y1=\"0\" x2=\"120\" y2=\"0\" style=\"stroke-width:2\" />\n  <line x1=\"0\" y1=\"25\" x2=\"120\" y2=\"25\" style=\"stroke-width:2\" />\n\n  <!-- Vertical lines -->\n  <line x1=\"0\" y1=\"0\" x2=\"0\" y2=\"25\" style=\"stroke-width:2\" />\n  <line x1=\"120\" y1=\"0\" x2=\"120\" y2=\"25\" style=\"stroke-width:2\" />\n\n  <!-- Colored Rectangle -->\n  <polygon points=\"0.0,0.0 120.0,0.0 120.0,25.412616514582485 0.0,25.412616514582485\" style=\"fill:#ECB172A0;stroke-width:0\"/>\n\n  <!-- Text -->\n  <text x=\"60.000000\" y=\"45.412617\" font-size=\"1.0rem\" font-weight=\"100\" text-anchor=\"middle\" >1799</text>\n  <text x=\"140.000000\" y=\"12.706308\" font-size=\"1.0rem\" font-weight=\"100\" text-anchor=\"middle\" transform=\"rotate(0,140.000000,12.706308)\">1</text>\n</svg>\n        </td>\n    </tr>\n</table></div></li><li class='xr-var-item'><div class='xr-var-name'><span>in_chunk_y</span></div><div class='xr-var-dims'>(y)</div><div class='xr-var-dtype'>int32</div><div class='xr-var-preview xr-preview'>dask.array&lt;chunksize=(1059,), meta=np.ndarray&gt;</div><input id='attrs-17767b88-58d9-4a07-91fb-3ea738433655' class='xr-var-attrs-in' type='checkbox' disabled><label for='attrs-17767b88-58d9-4a07-91fb-3ea738433655' title='Show/Hide attributes'><svg class='icon xr-icon-file-text2'><use xlink:href='#icon-file-text2'></use></svg></label><input id='data-1d087c8e-3acf-44e0-80fd-656c45089ef7' class='xr-var-data-in' type='checkbox'><label for='data-1d087c8e-3acf-44e0-80fd-656c45089ef7' title='Show/Hide data repr'><svg class='icon xr-icon-database'><use xlink:href='#icon-database'></use></svg></label><div class='xr-var-attrs'><dl class='xr-attrs'></dl></div><div class='xr-var-data'><table>\n    <tr>\n        <td>\n            <table style=\"border-collapse: collapse;\">\n                <thead>\n                    <tr>\n                        <td> </td>\n                        <th> Array </th>\n                        <th> Chunk </th>\n                    </tr>\n                </thead>\n                <tbody>\n                    \n                    <tr>\n                        <th> Bytes </th>\n                        <td> 4.14 kiB </td>\n                        <td> 4.14 kiB </td>\n                    </tr>\n                    \n                    <tr>\n                        <th> Shape </th>\n                        <td> (1059,) </td>\n                        <td> (1059,) </td>\n                    </tr>\n                    <tr>\n                        <th> Dask graph </th>\n                        <td colspan=\"2\"> 1 chunks in 2 graph layers </td>\n                    </tr>\n                    <tr>\n                        <th> Data type </th>\n                        <td colspan=\"2\"> int32 numpy.ndarray </td>\n                    </tr>\n                </tbody>\n            </table>\n        </td>\n        <td>\n        <svg width=\"170\" height=\"75\" style=\"stroke:rgb(0,0,0);stroke-width:1\" >\n\n  <!-- Horizontal lines -->\n  <line x1=\"0\" y1=\"0\" x2=\"120\" y2=\"0\" style=\"stroke-width:2\" />\n  <line x1=\"0\" y1=\"25\" x2=\"120\" y2=\"25\" style=\"stroke-width:2\" />\n\n  <!-- Vertical lines -->\n  <line x1=\"0\" y1=\"0\" x2=\"0\" y2=\"25\" style=\"stroke-width:2\" />\n  <line x1=\"120\" y1=\"0\" x2=\"120\" y2=\"25\" style=\"stroke-width:2\" />\n\n  <!-- Colored Rectangle -->\n  <polygon points=\"0.0,0.0 120.0,0.0 120.0,25.412616514582485 0.0,25.412616514582485\" style=\"fill:#ECB172A0;stroke-width:0\"/>\n\n  <!-- Text -->\n  <text x=\"60.000000\" y=\"45.412617\" font-size=\"1.0rem\" font-weight=\"100\" text-anchor=\"middle\" >1059</text>\n  <text x=\"140.000000\" y=\"12.706308\" font-size=\"1.0rem\" font-weight=\"100\" text-anchor=\"middle\" transform=\"rotate(0,140.000000,12.706308)\">1</text>\n</svg>\n        </td>\n    </tr>\n</table></div></li><li class='xr-var-item'><div class='xr-var-name'><span>index_x</span></div><div class='xr-var-dims'>(x)</div><div class='xr-var-dtype'>int32</div><div class='xr-var-preview xr-preview'>dask.array&lt;chunksize=(1799,), meta=np.ndarray&gt;</div><input id='attrs-32a202d0-0b60-445c-89b2-303cc898ed66' class='xr-var-attrs-in' type='checkbox' disabled><label for='attrs-32a202d0-0b60-445c-89b2-303cc898ed66' title='Show/Hide attributes'><svg class='icon xr-icon-file-text2'><use xlink:href='#icon-file-text2'></use></svg></label><input id='data-ee1be351-183d-49c7-a68a-7e62af4fda68' class='xr-var-data-in' type='checkbox'><label for='data-ee1be351-183d-49c7-a68a-7e62af4fda68' title='Show/Hide data repr'><svg class='icon xr-icon-database'><use xlink:href='#icon-database'></use></svg></label><div class='xr-var-attrs'><dl class='xr-attrs'></dl></div><div class='xr-var-data'><table>\n    <tr>\n        <td>\n            <table style=\"border-collapse: collapse;\">\n                <thead>\n                    <tr>\n                        <td> </td>\n                        <th> Array </th>\n                        <th> Chunk </th>\n                    </tr>\n                </thead>\n                <tbody>\n                    \n                    <tr>\n                        <th> Bytes </th>\n                        <td> 7.03 kiB </td>\n                        <td> 7.03 kiB </td>\n                    </tr>\n                    \n                    <tr>\n                        <th> Shape </th>\n                        <td> (1799,) </td>\n                        <td> (1799,) </td>\n                    </tr>\n                    <tr>\n                        <th> Dask graph </th>\n                        <td colspan=\"2\"> 1 chunks in 2 graph layers </td>\n                    </tr>\n                    <tr>\n                        <th> Data type </th>\n                        <td colspan=\"2\"> int32 numpy.ndarray </td>\n                    </tr>\n                </tbody>\n            </table>\n        </td>\n        <td>\n        <svg width=\"170\" height=\"75\" style=\"stroke:rgb(0,0,0);stroke-width:1\" >\n\n  <!-- Horizontal lines -->\n  <line x1=\"0\" y1=\"0\" x2=\"120\" y2=\"0\" style=\"stroke-width:2\" />\n  <line x1=\"0\" y1=\"25\" x2=\"120\" y2=\"25\" style=\"stroke-width:2\" />\n\n  <!-- Vertical lines -->\n  <line x1=\"0\" y1=\"0\" x2=\"0\" y2=\"25\" style=\"stroke-width:2\" />\n  <line x1=\"120\" y1=\"0\" x2=\"120\" y2=\"25\" style=\"stroke-width:2\" />\n\n  <!-- Colored Rectangle -->\n  <polygon points=\"0.0,0.0 120.0,0.0 120.0,25.412616514582485 0.0,25.412616514582485\" style=\"fill:#ECB172A0;stroke-width:0\"/>\n\n  <!-- Text -->\n  <text x=\"60.000000\" y=\"45.412617\" font-size=\"1.0rem\" font-weight=\"100\" text-anchor=\"middle\" >1799</text>\n  <text x=\"140.000000\" y=\"12.706308\" font-size=\"1.0rem\" font-weight=\"100\" text-anchor=\"middle\" transform=\"rotate(0,140.000000,12.706308)\">1</text>\n</svg>\n        </td>\n    </tr>\n</table></div></li><li class='xr-var-item'><div class='xr-var-name'><span>index_y</span></div><div class='xr-var-dims'>(y)</div><div class='xr-var-dtype'>int32</div><div class='xr-var-preview xr-preview'>dask.array&lt;chunksize=(1059,), meta=np.ndarray&gt;</div><input id='attrs-57902798-fd3e-4684-a87f-d202a71015f1' class='xr-var-attrs-in' type='checkbox' disabled><label for='attrs-57902798-fd3e-4684-a87f-d202a71015f1' title='Show/Hide attributes'><svg class='icon xr-icon-file-text2'><use xlink:href='#icon-file-text2'></use></svg></label><input id='data-e8e28c5d-98c5-4e0e-9be8-f542a627ebd7' class='xr-var-data-in' type='checkbox'><label for='data-e8e28c5d-98c5-4e0e-9be8-f542a627ebd7' title='Show/Hide data repr'><svg class='icon xr-icon-database'><use xlink:href='#icon-database'></use></svg></label><div class='xr-var-attrs'><dl class='xr-attrs'></dl></div><div class='xr-var-data'><table>\n    <tr>\n        <td>\n            <table style=\"border-collapse: collapse;\">\n                <thead>\n                    <tr>\n                        <td> </td>\n                        <th> Array </th>\n                        <th> Chunk </th>\n                    </tr>\n                </thead>\n                <tbody>\n                    \n                    <tr>\n                        <th> Bytes </th>\n                        <td> 4.14 kiB </td>\n                        <td> 4.14 kiB </td>\n                    </tr>\n                    \n                    <tr>\n                        <th> Shape </th>\n                        <td> (1059,) </td>\n                        <td> (1059,) </td>\n                    </tr>\n                    <tr>\n                        <th> Dask graph </th>\n                        <td colspan=\"2\"> 1 chunks in 2 graph layers </td>\n                    </tr>\n                    <tr>\n                        <th> Data type </th>\n                        <td colspan=\"2\"> int32 numpy.ndarray </td>\n                    </tr>\n                </tbody>\n            </table>\n        </td>\n        <td>\n        <svg width=\"170\" height=\"75\" style=\"stroke:rgb(0,0,0);stroke-width:1\" >\n\n  <!-- Horizontal lines -->\n  <line x1=\"0\" y1=\"0\" x2=\"120\" y2=\"0\" style=\"stroke-width:2\" />\n  <line x1=\"0\" y1=\"25\" x2=\"120\" y2=\"25\" style=\"stroke-width:2\" />\n\n  <!-- Vertical lines -->\n  <line x1=\"0\" y1=\"0\" x2=\"0\" y2=\"25\" style=\"stroke-width:2\" />\n  <line x1=\"120\" y1=\"0\" x2=\"120\" y2=\"25\" style=\"stroke-width:2\" />\n\n  <!-- Colored Rectangle -->\n  <polygon points=\"0.0,0.0 120.0,0.0 120.0,25.412616514582485 0.0,25.412616514582485\" style=\"fill:#ECB172A0;stroke-width:0\"/>\n\n  <!-- Text -->\n  <text x=\"60.000000\" y=\"45.412617\" font-size=\"1.0rem\" font-weight=\"100\" text-anchor=\"middle\" >1059</text>\n  <text x=\"140.000000\" y=\"12.706308\" font-size=\"1.0rem\" font-weight=\"100\" text-anchor=\"middle\" transform=\"rotate(0,140.000000,12.706308)\">1</text>\n</svg>\n        </td>\n    </tr>\n</table></div></li><li class='xr-var-item'><div class='xr-var-name'><span>latitude</span></div><div class='xr-var-dims'>(y, x)</div><div class='xr-var-dtype'>float64</div><div class='xr-var-preview xr-preview'>dask.array&lt;chunksize=(133, 450), meta=np.ndarray&gt;</div><input id='attrs-2f29f006-436f-4593-9daf-8c91a5cac6c9' class='xr-var-attrs-in' type='checkbox' disabled><label for='attrs-2f29f006-436f-4593-9daf-8c91a5cac6c9' title='Show/Hide attributes'><svg class='icon xr-icon-file-text2'><use xlink:href='#icon-file-text2'></use></svg></label><input id='data-3a6ca445-9ba6-4351-9b7f-8f34399c824a' class='xr-var-data-in' type='checkbox'><label for='data-3a6ca445-9ba6-4351-9b7f-8f34399c824a' title='Show/Hide data repr'><svg class='icon xr-icon-database'><use xlink:href='#icon-database'></use></svg></label><div class='xr-var-attrs'><dl class='xr-attrs'></dl></div><div class='xr-var-data'><table>\n    <tr>\n        <td>\n            <table style=\"border-collapse: collapse;\">\n                <thead>\n                    <tr>\n                        <td> </td>\n                        <th> Array </th>\n                        <th> Chunk </th>\n                    </tr>\n                </thead>\n                <tbody>\n                    \n                    <tr>\n                        <th> Bytes </th>\n                        <td> 14.54 MiB </td>\n                        <td> 467.58 kiB </td>\n                    </tr>\n                    \n                    <tr>\n                        <th> Shape </th>\n                        <td> (1059, 1799) </td>\n                        <td> (133, 450) </td>\n                    </tr>\n                    <tr>\n                        <th> Dask graph </th>\n                        <td colspan=\"2\"> 32 chunks in 2 graph layers </td>\n                    </tr>\n                    <tr>\n                        <th> Data type </th>\n                        <td colspan=\"2\"> float64 numpy.ndarray </td>\n                    </tr>\n                </tbody>\n            </table>\n        </td>\n        <td>\n        <svg width=\"170\" height=\"120\" style=\"stroke:rgb(0,0,0);stroke-width:1\" >\n\n  <!-- Horizontal lines -->\n  <line x1=\"0\" y1=\"0\" x2=\"120\" y2=\"0\" style=\"stroke-width:2\" />\n  <line x1=\"0\" y1=\"8\" x2=\"120\" y2=\"8\" />\n  <line x1=\"0\" y1=\"17\" x2=\"120\" y2=\"17\" />\n  <line x1=\"0\" y1=\"26\" x2=\"120\" y2=\"26\" />\n  <line x1=\"0\" y1=\"35\" x2=\"120\" y2=\"35\" />\n  <line x1=\"0\" y1=\"44\" x2=\"120\" y2=\"44\" />\n  <line x1=\"0\" y1=\"53\" x2=\"120\" y2=\"53\" />\n  <line x1=\"0\" y1=\"62\" x2=\"120\" y2=\"62\" />\n  <line x1=\"0\" y1=\"70\" x2=\"120\" y2=\"70\" style=\"stroke-width:2\" />\n\n  <!-- Vertical lines -->\n  <line x1=\"0\" y1=\"0\" x2=\"0\" y2=\"70\" style=\"stroke-width:2\" />\n  <line x1=\"30\" y1=\"0\" x2=\"30\" y2=\"70\" />\n  <line x1=\"60\" y1=\"0\" x2=\"60\" y2=\"70\" />\n  <line x1=\"90\" y1=\"0\" x2=\"90\" y2=\"70\" />\n  <line x1=\"120\" y1=\"0\" x2=\"120\" y2=\"70\" style=\"stroke-width:2\" />\n\n  <!-- Colored Rectangle -->\n  <polygon points=\"0.0,0.0 120.0,0.0 120.0,70.63924402445804 0.0,70.63924402445804\" style=\"fill:#ECB172A0;stroke-width:0\"/>\n\n  <!-- Text -->\n  <text x=\"60.000000\" y=\"90.639244\" font-size=\"1.0rem\" font-weight=\"100\" text-anchor=\"middle\" >1799</text>\n  <text x=\"140.000000\" y=\"35.319622\" font-size=\"1.0rem\" font-weight=\"100\" text-anchor=\"middle\" transform=\"rotate(-90,140.000000,35.319622)\">1059</text>\n</svg>\n        </td>\n    </tr>\n</table></div></li><li class='xr-var-item'><div class='xr-var-name'><span>longitude</span></div><div class='xr-var-dims'>(y, x)</div><div class='xr-var-dtype'>float64</div><div class='xr-var-preview xr-preview'>dask.array&lt;chunksize=(133, 450), meta=np.ndarray&gt;</div><input id='attrs-e6229844-bfa4-4bce-9b78-4f0cdd052581' class='xr-var-attrs-in' type='checkbox' disabled><label for='attrs-e6229844-bfa4-4bce-9b78-4f0cdd052581' title='Show/Hide attributes'><svg class='icon xr-icon-file-text2'><use xlink:href='#icon-file-text2'></use></svg></label><input id='data-7a239628-96cf-4763-980f-6494036a9714' class='xr-var-data-in' type='checkbox'><label for='data-7a239628-96cf-4763-980f-6494036a9714' title='Show/Hide data repr'><svg class='icon xr-icon-database'><use xlink:href='#icon-database'></use></svg></label><div class='xr-var-attrs'><dl class='xr-attrs'></dl></div><div class='xr-var-data'><table>\n    <tr>\n        <td>\n            <table style=\"border-collapse: collapse;\">\n                <thead>\n                    <tr>\n                        <td> </td>\n                        <th> Array </th>\n                        <th> Chunk </th>\n                    </tr>\n                </thead>\n                <tbody>\n                    \n                    <tr>\n                        <th> Bytes </th>\n                        <td> 14.54 MiB </td>\n                        <td> 467.58 kiB </td>\n                    </tr>\n                    \n                    <tr>\n                        <th> Shape </th>\n                        <td> (1059, 1799) </td>\n                        <td> (133, 450) </td>\n                    </tr>\n                    <tr>\n                        <th> Dask graph </th>\n                        <td colspan=\"2\"> 32 chunks in 2 graph layers </td>\n                    </tr>\n                    <tr>\n                        <th> Data type </th>\n                        <td colspan=\"2\"> float64 numpy.ndarray </td>\n                    </tr>\n                </tbody>\n            </table>\n        </td>\n        <td>\n        <svg width=\"170\" height=\"120\" style=\"stroke:rgb(0,0,0);stroke-width:1\" >\n\n  <!-- Horizontal lines -->\n  <line x1=\"0\" y1=\"0\" x2=\"120\" y2=\"0\" style=\"stroke-width:2\" />\n  <line x1=\"0\" y1=\"8\" x2=\"120\" y2=\"8\" />\n  <line x1=\"0\" y1=\"17\" x2=\"120\" y2=\"17\" />\n  <line x1=\"0\" y1=\"26\" x2=\"120\" y2=\"26\" />\n  <line x1=\"0\" y1=\"35\" x2=\"120\" y2=\"35\" />\n  <line x1=\"0\" y1=\"44\" x2=\"120\" y2=\"44\" />\n  <line x1=\"0\" y1=\"53\" x2=\"120\" y2=\"53\" />\n  <line x1=\"0\" y1=\"62\" x2=\"120\" y2=\"62\" />\n  <line x1=\"0\" y1=\"70\" x2=\"120\" y2=\"70\" style=\"stroke-width:2\" />\n\n  <!-- Vertical lines -->\n  <line x1=\"0\" y1=\"0\" x2=\"0\" y2=\"70\" style=\"stroke-width:2\" />\n  <line x1=\"30\" y1=\"0\" x2=\"30\" y2=\"70\" />\n  <line x1=\"60\" y1=\"0\" x2=\"60\" y2=\"70\" />\n  <line x1=\"90\" y1=\"0\" x2=\"90\" y2=\"70\" />\n  <line x1=\"120\" y1=\"0\" x2=\"120\" y2=\"70\" style=\"stroke-width:2\" />\n\n  <!-- Colored Rectangle -->\n  <polygon points=\"0.0,0.0 120.0,0.0 120.0,70.63924402445804 0.0,70.63924402445804\" style=\"fill:#ECB172A0;stroke-width:0\"/>\n\n  <!-- Text -->\n  <text x=\"60.000000\" y=\"90.639244\" font-size=\"1.0rem\" font-weight=\"100\" text-anchor=\"middle\" >1799</text>\n  <text x=\"140.000000\" y=\"35.319622\" font-size=\"1.0rem\" font-weight=\"100\" text-anchor=\"middle\" transform=\"rotate(-90,140.000000,35.319622)\">1059</text>\n</svg>\n        </td>\n    </tr>\n</table></div></li></ul></div></li><li class='xr-section-item'><input id='section-aa73e12d-b5d1-4ccd-a93a-1769c3e95306' class='xr-section-summary-in' type='checkbox'  ><label for='section-aa73e12d-b5d1-4ccd-a93a-1769c3e95306' class='xr-section-summary' >Indexes: <span>(2)</span></label><div class='xr-section-inline-details'></div><div class='xr-section-details'><ul class='xr-var-list'><li class='xr-var-item'><div class='xr-index-name'><div>x</div></div><div class='xr-index-preview'>PandasIndex</div><div></div><input id='index-d1cca694-615c-4257-acff-31cf35a45a7c' class='xr-index-data-in' type='checkbox'/><label for='index-d1cca694-615c-4257-acff-31cf35a45a7c' title='Show/Hide index repr'><svg class='icon xr-icon-database'><use xlink:href='#icon-database'></use></svg></label><div class='xr-index-data'><pre>PandasIndex(Index([-2697520.1425219304, -2694520.1425219304, -2691520.1425219304,\n       -2688520.1425219304, -2685520.1425219304, -2682520.1425219304,\n       -2679520.1425219304, -2676520.1425219304, -2673520.1425219304,\n       -2670520.1425219304,\n       ...\n        2669479.8574780696,  2672479.8574780696,  2675479.8574780696,\n        2678479.8574780696,  2681479.8574780696,  2684479.8574780696,\n        2687479.8574780696,  2690479.8574780696,  2693479.8574780696,\n        2696479.8574780696],\n      dtype=&#x27;float64&#x27;, name=&#x27;x&#x27;, length=1799))</pre></div></li><li class='xr-var-item'><div class='xr-index-name'><div>y</div></div><div class='xr-index-preview'>PandasIndex</div><div></div><input id='index-f4d85d8d-dd14-424b-9e9d-7d59afa0268c' class='xr-index-data-in' type='checkbox'/><label for='index-f4d85d8d-dd14-424b-9e9d-7d59afa0268c' title='Show/Hide index repr'><svg class='icon xr-icon-database'><use xlink:href='#icon-database'></use></svg></label><div class='xr-index-data'><pre>PandasIndex(Index([-1587306.1525566636, -1584306.1525566636, -1581306.1525566636,\n       -1578306.1525566636, -1575306.1525566636, -1572306.1525566636,\n       -1569306.1525566636, -1566306.1525566636, -1563306.1525566636,\n       -1560306.1525566636,\n       ...\n        1559693.8474433364,  1562693.8474433364,  1565693.8474433364,\n        1568693.8474433364,  1571693.8474433364,  1574693.8474433364,\n        1577693.8474433364,  1580693.8474433364,  1583693.8474433364,\n        1586693.8474433364],\n      dtype=&#x27;float64&#x27;, name=&#x27;y&#x27;, length=1059))</pre></div></li></ul></div></li><li class='xr-section-item'><input id='section-409d2947-7a5a-4f11-8001-0152d13cf7a3' class='xr-section-summary-in' type='checkbox' disabled ><label for='section-409d2947-7a5a-4f11-8001-0152d13cf7a3' class='xr-section-summary'  title='Expand/collapse section'>Attributes: <span>(0)</span></label><div class='xr-section-inline-details'></div><div class='xr-section-details'><dl class='xr-attrs'></dl></div></li></ul></div></div>"
     },
     "execution_count": 9,
     "metadata": {},
     "output_type": "execute_result"
    }
   ],
   "source": [
    "chunk_index = xr.open_zarr(s3fs.S3Map(\"s3://hrrrzarr/grid/HRRR_chunk_index.zarr\", s3=fs))\n",
    "chunk_index"
   ],
   "metadata": {
    "collapsed": false,
    "ExecuteTime": {
     "end_time": "2023-11-16T18:17:04.285632Z",
     "start_time": "2023-11-16T18:17:01.307746Z"
    }
   },
   "id": "initial_id"
  },
  {
   "cell_type": "code",
   "execution_count": 10,
   "outputs": [
    {
     "name": "stdout",
     "output_type": "stream",
     "text": [
      "4.3\n"
     ]
    }
   ],
   "source": [
    "def get_nearest_point(projection, chunk_index, longitude, latitude):\n",
    "    x, y = projection.transform_point(longitude, latitude, ccrs.PlateCarree())\n",
    "    return chunk_index.sel(x=x, y=y, method=\"nearest\")\n",
    "\n",
    "# lon, lat = -111.8910, 40.7608\n",
    "lon, lat = -109.5287, 40.4555\n",
    "nearest_point = get_nearest_point(projection, chunk_index, lon, lat)\n",
    "chunk_id = nearest_point.chunk_id.values\n",
    "print(chunk_id)"
   ],
   "metadata": {
    "collapsed": false,
    "ExecuteTime": {
     "end_time": "2023-11-16T18:17:04.534691Z",
     "start_time": "2023-11-16T18:17:04.282119Z"
    }
   },
   "id": "ee4654063b3a28d1"
  },
  {
   "cell_type": "code",
   "execution_count": 11,
   "outputs": [],
   "source": [
    "import boto3\n",
    "from botocore import UNSIGNED\n",
    "from botocore.config import Config\n",
    "\n",
    "# Don't recreate this resource in a loop! That caused a 3-4x slowdown for me.\n",
    "s3 = boto3.resource(service_name='s3', region_name='us-west-1', config=Config(signature_version=UNSIGNED))\n",
    "\n",
    "def retrieve_object(s3, s3_url):\n",
    "    obj = s3.Object('hrrrzarr', s3_url)\n",
    "    return obj.get()['Body'].read()\n",
    "\n",
    "zarr_id = ZarrId(\n",
    "                # run_hour=datetime.datetime(2019, 1, 1, 12),\n",
    "                run_hour = datetime.datetime(2023,11,7,0,0,0),\n",
    "                level_type=\"sfc\",\n",
    "                var_level=\"2m_above_ground\",\n",
    "                var_name=\"TMP\",\n",
    "                model_type=\"anl\"\n",
    "                )\n",
    "\n",
    "compressed_data = retrieve_object(s3, create_s3_chunk_url(zarr_id, chunk_id))"
   ],
   "metadata": {
    "collapsed": false,
    "ExecuteTime": {
     "end_time": "2023-11-16T18:17:05.088900Z",
     "start_time": "2023-11-16T18:17:04.536166Z"
    }
   },
   "id": "c12aaf46db535693"
  },
  {
   "cell_type": "code",
   "execution_count": 12,
   "outputs": [],
   "source": [
    "import numcodecs as ncd\n",
    "import numpy as np\n",
    "\n",
    "def decompress_chunk(zarr_id, compressed_data):\n",
    "    buffer = ncd.blosc.decompress(compressed_data)\n",
    "    \n",
    "    dtype = \"<f2\"\n",
    "    if zarr_id.var_level == \"surface\" and zarr_id.var_name == \"PRES\":\n",
    "        dtype = \"<f4\"\n",
    "        \n",
    "    chunk = np.frombuffer(buffer, dtype=dtype)\n",
    "    \n",
    "    if zarr_id.model_type == \"anl\":\n",
    "        data_array = np.reshape(chunk, (150, 150))\n",
    "    else:\n",
    "        entry_size = 22500\n",
    "        data_array = np.reshape(chunk, (len(chunk)//entry_size, 150, 150))\n",
    "        \n",
    "    return data_array\n",
    "\n",
    "chunk_data = decompress_chunk(zarr_id, compressed_data)"
   ],
   "metadata": {
    "collapsed": false,
    "ExecuteTime": {
     "end_time": "2023-11-16T18:17:05.092451Z",
     "start_time": "2023-11-16T18:17:05.090312Z"
    }
   },
   "id": "c4c885a51db93dc3"
  },
  {
   "cell_type": "code",
   "execution_count": 13,
   "outputs": [
    {
     "data": {
      "text/plain": "287.0"
     },
     "execution_count": 13,
     "metadata": {},
     "output_type": "execute_result"
    }
   ],
   "source": [
    "chunk_data[nearest_point.in_chunk_y.values, nearest_point.in_chunk_x.values]\n"
   ],
   "metadata": {
    "collapsed": false,
    "ExecuteTime": {
     "end_time": "2023-11-16T18:17:05.307800Z",
     "start_time": "2023-11-16T18:17:05.093305Z"
    }
   },
   "id": "30b4397e67d43580"
  },
  {
   "cell_type": "code",
   "execution_count": 14,
   "outputs": [
    {
     "name": "stdout",
     "output_type": "stream",
     "text": [
      "[13.75 10.75 10.75  9.    7.75  7.5   7.5   6.25  4.75  4.25  4.25  4.  ]\n"
     ]
    }
   ],
   "source": [
    "def get_value(zarr_id, chunk_id, nearest_point):\n",
    "    compressed_data = retrieve_object(s3, create_s3_chunk_url(zarr_id, chunk_id))\n",
    "    chunk_data = decompress_chunk(zarr_id, compressed_data)\n",
    "    if zarr_id.model_type == \"fcst\":\n",
    "        return chunk_data[:, nearest_point.in_chunk_y.values, nearest_point.in_chunk_x.values]\n",
    "    else:\n",
    "        return chunk_data[nearest_point.in_chunk_y.values, nearest_point.in_chunk_x.values]\n",
    "    \n",
    "zarr_ids = [dataclasses.replace(zarr_id, run_hour=zarr_id.run_hour + datetime.timedelta(hours=time_delta))\n",
    "           for time_delta in range(12)]\n",
    "print(np.array([get_value(zid, chunk_id, nearest_point) for zid in zarr_ids]) - 273.15)"
   ],
   "metadata": {
    "collapsed": false,
    "ExecuteTime": {
     "end_time": "2023-11-16T18:17:08.902281Z",
     "start_time": "2023-11-16T18:17:05.309244Z"
    }
   },
   "id": "bd85e5b5e56141e7"
  },
  {
   "cell_type": "code",
   "execution_count": 15,
   "outputs": [
    {
     "data": {
      "text/plain": "[array([83150., 83130., 83150., 83180., 83140., 83180., 83190., 83210.,\n        83230., 83240., 83240., 83250., 83270., 83290., 83310., 83320.,\n        83360., 83330., 83290., 83260., 83210., 83200., 83180., 83210.,\n        83260., 83280., 83290., 83290., 83360., 83550., 83650., 83690.,\n        83740., 83800., 83830., 83910., 84010., 84080., 84160., 84200.,\n        84240., 84250., 84230., 84240., 84250., 84280., 84290., 84300.],\n       dtype=float32),\n array([83160., 83100., 83140., 83140., 83200., 83160., 83200., 83250.,\n        83270., 83270., 83250., 83260., 83280., 83320., 83380., 83350.,\n        83280., 83230.], dtype=float32),\n array([83140., 83140., 83120., 83190., 83180., 83220., 83270., 83270.,\n        83260., 83260., 83290., 83290., 83290., 83310., 83320., 83240.,\n        83220., 83200.], dtype=float32),\n array([83110., 83100., 83210., 83240., 83260., 83260., 83270., 83250.,\n        83290., 83290., 83290., 83290., 83270., 83300., 83290., 83240.,\n        83190., 83200.], dtype=float32),\n array([83100., 83120., 83130., 83190., 83190., 83250., 83250., 83270.,\n        83270., 83290., 83320., 83330., 83290., 83250., 83240., 83160.,\n        83100., 83140.], dtype=float32),\n array([83140., 83130., 83260., 83260., 83240., 83210., 83270., 83290.,\n        83300., 83300., 83310., 83360., 83320., 83260., 83170., 83130.,\n        83160., 83230.], dtype=float32),\n array([83180., 83130., 83210., 83250., 83260., 83280., 83290., 83300.,\n        83290., 83280., 83260., 83290., 83250., 83170., 83140., 83140.,\n        83180., 83220., 83260., 83350., 83410., 83400., 83460., 83490.,\n        83600., 83720., 83800., 83880., 83910., 83960., 84040., 84140.,\n        84200., 84270., 84290., 84290., 84280., 84330., 84330., 84360.,\n        84370., 84410., 84490., 84540., 84560., 84560., 84590., 84610.],\n       dtype=float32),\n array([83170., 83210., 83290., 83290., 83280., 83300., 83320., 83340.,\n        83380., 83340., 83310., 83270., 83210., 83190., 83160., 83180.,\n        83210., 83280.], dtype=float32),\n array([83220., 83280., 83240., 83210., 83270., 83380., 83360., 83320.,\n        83350., 83360., 83290., 83220., 83160., 83160., 83200., 83220.,\n        83240., 83330.], dtype=float32),\n array([83250., 83220., 83280., 83260., 83350., 83360., 83370., 83360.,\n        83280., 83250., 83170., 83150., 83110., 83150., 83180., 83200.,\n        83270., 83320.], dtype=float32)]"
     },
     "execution_count": 15,
     "metadata": {},
     "output_type": "execute_result"
    }
   ],
   "source": [
    "# forecast example\n",
    "fcst_zarr_id = ZarrId(\n",
    "                run_hour=datetime.datetime(2023, 11, 7, 20),\n",
    "                level_type=\"sfc\",\n",
    "                var_level=\"surface\",\n",
    "                var_name=\"PRES\",\n",
    "                model_type=\"fcst\"\n",
    "                )\n",
    "zarr_ids = [dataclasses.replace(fcst_zarr_id, run_hour=zarr_id.run_hour + datetime.timedelta(hours=time_delta))\n",
    "           for time_delta in range(10)]\n",
    "[get_value(zid, chunk_id, nearest_point) for zid in zarr_ids]"
   ],
   "metadata": {
    "collapsed": false,
    "ExecuteTime": {
     "end_time": "2023-11-16T18:17:12.852384Z",
     "start_time": "2023-11-16T18:17:08.904150Z"
    }
   },
   "id": "9559be8aed7b4891"
  },
  {
   "cell_type": "code",
   "execution_count": 16,
   "outputs": [
    {
     "ename": "KeyError",
     "evalue": "'Indexing with a boolean dask array is not allowed. This will result in a dask array of unknown shape. Such arrays are unsupported by Xarray.Please compute the indexer first using .compute()'",
     "output_type": "error",
     "traceback": [
      "\u001B[0;31m---------------------------------------------------------------------------\u001B[0m",
      "\u001B[0;31mKeyError\u001B[0m                                  Traceback (most recent call last)",
      "Cell \u001B[0;32mIn[16], line 10\u001B[0m\n\u001B[1;32m      6\u001B[0m \u001B[38;5;28;01mdef\u001B[39;00m \u001B[38;5;21mcheck_boundaries\u001B[39m(data):\n\u001B[1;32m      7\u001B[0m     \u001B[38;5;28;01mreturn\u001B[39;00m (lat_bottom \u001B[38;5;241m<\u001B[39m data\u001B[38;5;241m.\u001B[39mlatitude) \u001B[38;5;241m&\u001B[39m (data\u001B[38;5;241m.\u001B[39mlatitude \u001B[38;5;241m<\u001B[39m lat_top) \u001B[38;5;241m&\u001B[39m (\n\u001B[1;32m      8\u001B[0m         lon_bottom \u001B[38;5;241m<\u001B[39m data\u001B[38;5;241m.\u001B[39mlongitude) \u001B[38;5;241m&\u001B[39m (data\u001B[38;5;241m.\u001B[39mlongitude \u001B[38;5;241m<\u001B[39m lon_top)\n\u001B[0;32m---> 10\u001B[0m area \u001B[38;5;241m=\u001B[39m \u001B[43mchunk_index\u001B[49m\u001B[38;5;241;43m.\u001B[39;49m\u001B[43mwhere\u001B[49m\u001B[43m(\u001B[49m\u001B[43mcheck_boundaries\u001B[49m\u001B[43m,\u001B[49m\u001B[43m \u001B[49m\u001B[43mdrop\u001B[49m\u001B[38;5;241;43m=\u001B[39;49m\u001B[38;5;28;43;01mTrue\u001B[39;49;00m\u001B[43m)\u001B[49m\n\u001B[1;32m     11\u001B[0m area\n",
      "File \u001B[0;32m~/anaconda3/envs/live-verification/lib/python3.11/site-packages/xarray/core/common.py:1181\u001B[0m, in \u001B[0;36mDataWithCoords.where\u001B[0;34m(self, cond, other, drop)\u001B[0m\n\u001B[1;32m   1178\u001B[0m     \u001B[38;5;28;01mfor\u001B[39;00m dim \u001B[38;5;129;01min\u001B[39;00m cond\u001B[38;5;241m.\u001B[39msizes\u001B[38;5;241m.\u001B[39mkeys():\n\u001B[1;32m   1179\u001B[0m         indexers[dim] \u001B[38;5;241m=\u001B[39m _get_indexer(dim)\n\u001B[0;32m-> 1181\u001B[0m     \u001B[38;5;28mself\u001B[39m \u001B[38;5;241m=\u001B[39m \u001B[38;5;28;43mself\u001B[39;49m\u001B[38;5;241;43m.\u001B[39;49m\u001B[43misel\u001B[49m\u001B[43m(\u001B[49m\u001B[38;5;241;43m*\u001B[39;49m\u001B[38;5;241;43m*\u001B[39;49m\u001B[43mindexers\u001B[49m\u001B[43m)\u001B[49m\n\u001B[1;32m   1182\u001B[0m     cond \u001B[38;5;241m=\u001B[39m cond\u001B[38;5;241m.\u001B[39misel(\u001B[38;5;241m*\u001B[39m\u001B[38;5;241m*\u001B[39mindexers)\n\u001B[1;32m   1184\u001B[0m \u001B[38;5;28;01mreturn\u001B[39;00m ops\u001B[38;5;241m.\u001B[39mwhere_method(\u001B[38;5;28mself\u001B[39m, cond, other)\n",
      "File \u001B[0;32m~/anaconda3/envs/live-verification/lib/python3.11/site-packages/xarray/core/dataset.py:2874\u001B[0m, in \u001B[0;36mDataset.isel\u001B[0;34m(self, indexers, drop, missing_dims, **indexers_kwargs)\u001B[0m\n\u001B[1;32m   2872\u001B[0m indexers \u001B[38;5;241m=\u001B[39m either_dict_or_kwargs(indexers, indexers_kwargs, \u001B[38;5;124m\"\u001B[39m\u001B[38;5;124misel\u001B[39m\u001B[38;5;124m\"\u001B[39m)\n\u001B[1;32m   2873\u001B[0m \u001B[38;5;28;01mif\u001B[39;00m \u001B[38;5;28many\u001B[39m(is_fancy_indexer(idx) \u001B[38;5;28;01mfor\u001B[39;00m idx \u001B[38;5;129;01min\u001B[39;00m indexers\u001B[38;5;241m.\u001B[39mvalues()):\n\u001B[0;32m-> 2874\u001B[0m     \u001B[38;5;28;01mreturn\u001B[39;00m \u001B[38;5;28;43mself\u001B[39;49m\u001B[38;5;241;43m.\u001B[39;49m\u001B[43m_isel_fancy\u001B[49m\u001B[43m(\u001B[49m\u001B[43mindexers\u001B[49m\u001B[43m,\u001B[49m\u001B[43m \u001B[49m\u001B[43mdrop\u001B[49m\u001B[38;5;241;43m=\u001B[39;49m\u001B[43mdrop\u001B[49m\u001B[43m,\u001B[49m\u001B[43m \u001B[49m\u001B[43mmissing_dims\u001B[49m\u001B[38;5;241;43m=\u001B[39;49m\u001B[43mmissing_dims\u001B[49m\u001B[43m)\u001B[49m\n\u001B[1;32m   2876\u001B[0m \u001B[38;5;66;03m# Much faster algorithm for when all indexers are ints, slices, one-dimensional\u001B[39;00m\n\u001B[1;32m   2877\u001B[0m \u001B[38;5;66;03m# lists, or zero or one-dimensional np.ndarray's\u001B[39;00m\n\u001B[1;32m   2878\u001B[0m indexers \u001B[38;5;241m=\u001B[39m drop_dims_from_indexers(indexers, \u001B[38;5;28mself\u001B[39m\u001B[38;5;241m.\u001B[39mdims, missing_dims)\n",
      "File \u001B[0;32m~/anaconda3/envs/live-verification/lib/python3.11/site-packages/xarray/core/dataset.py:2930\u001B[0m, in \u001B[0;36mDataset._isel_fancy\u001B[0;34m(self, indexers, drop, missing_dims)\u001B[0m\n\u001B[1;32m   2926\u001B[0m var_indexers \u001B[38;5;241m=\u001B[39m {\n\u001B[1;32m   2927\u001B[0m     k: v \u001B[38;5;28;01mfor\u001B[39;00m k, v \u001B[38;5;129;01min\u001B[39;00m valid_indexers\u001B[38;5;241m.\u001B[39mitems() \u001B[38;5;28;01mif\u001B[39;00m k \u001B[38;5;129;01min\u001B[39;00m var\u001B[38;5;241m.\u001B[39mdims\n\u001B[1;32m   2928\u001B[0m }\n\u001B[1;32m   2929\u001B[0m \u001B[38;5;28;01mif\u001B[39;00m var_indexers:\n\u001B[0;32m-> 2930\u001B[0m     new_var \u001B[38;5;241m=\u001B[39m \u001B[43mvar\u001B[49m\u001B[38;5;241;43m.\u001B[39;49m\u001B[43misel\u001B[49m\u001B[43m(\u001B[49m\u001B[43mindexers\u001B[49m\u001B[38;5;241;43m=\u001B[39;49m\u001B[43mvar_indexers\u001B[49m\u001B[43m)\u001B[49m\n\u001B[1;32m   2931\u001B[0m     \u001B[38;5;66;03m# drop scalar coordinates\u001B[39;00m\n\u001B[1;32m   2932\u001B[0m     \u001B[38;5;66;03m# https://github.com/pydata/xarray/issues/6554\u001B[39;00m\n\u001B[1;32m   2933\u001B[0m     \u001B[38;5;28;01mif\u001B[39;00m name \u001B[38;5;129;01min\u001B[39;00m \u001B[38;5;28mself\u001B[39m\u001B[38;5;241m.\u001B[39mcoords \u001B[38;5;129;01mand\u001B[39;00m drop \u001B[38;5;129;01mand\u001B[39;00m new_var\u001B[38;5;241m.\u001B[39mndim \u001B[38;5;241m==\u001B[39m \u001B[38;5;241m0\u001B[39m:\n",
      "File \u001B[0;32m~/anaconda3/envs/live-verification/lib/python3.11/site-packages/xarray/core/variable.py:1368\u001B[0m, in \u001B[0;36mVariable.isel\u001B[0;34m(self, indexers, missing_dims, **indexers_kwargs)\u001B[0m\n\u001B[1;32m   1365\u001B[0m indexers \u001B[38;5;241m=\u001B[39m drop_dims_from_indexers(indexers, \u001B[38;5;28mself\u001B[39m\u001B[38;5;241m.\u001B[39mdims, missing_dims)\n\u001B[1;32m   1367\u001B[0m key \u001B[38;5;241m=\u001B[39m \u001B[38;5;28mtuple\u001B[39m(indexers\u001B[38;5;241m.\u001B[39mget(dim, \u001B[38;5;28mslice\u001B[39m(\u001B[38;5;28;01mNone\u001B[39;00m)) \u001B[38;5;28;01mfor\u001B[39;00m dim \u001B[38;5;129;01min\u001B[39;00m \u001B[38;5;28mself\u001B[39m\u001B[38;5;241m.\u001B[39mdims)\n\u001B[0;32m-> 1368\u001B[0m \u001B[38;5;28;01mreturn\u001B[39;00m \u001B[38;5;28;43mself\u001B[39;49m\u001B[43m[\u001B[49m\u001B[43mkey\u001B[49m\u001B[43m]\u001B[49m\n",
      "File \u001B[0;32m~/anaconda3/envs/live-verification/lib/python3.11/site-packages/xarray/core/variable.py:891\u001B[0m, in \u001B[0;36mVariable.__getitem__\u001B[0;34m(self, key)\u001B[0m\n\u001B[1;32m    878\u001B[0m \u001B[38;5;28;01mdef\u001B[39;00m \u001B[38;5;21m__getitem__\u001B[39m(\u001B[38;5;28mself\u001B[39m: T_Variable, key) \u001B[38;5;241m-\u001B[39m\u001B[38;5;241m>\u001B[39m T_Variable:\n\u001B[1;32m    879\u001B[0m \u001B[38;5;250m    \u001B[39m\u001B[38;5;124;03m\"\"\"Return a new Variable object whose contents are consistent with\u001B[39;00m\n\u001B[1;32m    880\u001B[0m \u001B[38;5;124;03m    getting the provided key from the underlying data.\u001B[39;00m\n\u001B[1;32m    881\u001B[0m \n\u001B[0;32m   (...)\u001B[0m\n\u001B[1;32m    889\u001B[0m \u001B[38;5;124;03m    array `x.values` directly.\u001B[39;00m\n\u001B[1;32m    890\u001B[0m \u001B[38;5;124;03m    \"\"\"\u001B[39;00m\n\u001B[0;32m--> 891\u001B[0m     dims, indexer, new_order \u001B[38;5;241m=\u001B[39m \u001B[38;5;28;43mself\u001B[39;49m\u001B[38;5;241;43m.\u001B[39;49m\u001B[43m_broadcast_indexes\u001B[49m\u001B[43m(\u001B[49m\u001B[43mkey\u001B[49m\u001B[43m)\u001B[49m\n\u001B[1;32m    892\u001B[0m     data \u001B[38;5;241m=\u001B[39m as_indexable(\u001B[38;5;28mself\u001B[39m\u001B[38;5;241m.\u001B[39m_data)[indexer]\n\u001B[1;32m    893\u001B[0m     \u001B[38;5;28;01mif\u001B[39;00m new_order:\n",
      "File \u001B[0;32m~/anaconda3/envs/live-verification/lib/python3.11/site-packages/xarray/core/variable.py:724\u001B[0m, in \u001B[0;36mVariable._broadcast_indexes\u001B[0;34m(self, key)\u001B[0m\n\u001B[1;32m    721\u001B[0m \u001B[38;5;28;01mif\u001B[39;00m \u001B[38;5;28mall\u001B[39m(\u001B[38;5;28misinstance\u001B[39m(k, BASIC_INDEXING_TYPES) \u001B[38;5;28;01mfor\u001B[39;00m k \u001B[38;5;129;01min\u001B[39;00m key):\n\u001B[1;32m    722\u001B[0m     \u001B[38;5;28;01mreturn\u001B[39;00m \u001B[38;5;28mself\u001B[39m\u001B[38;5;241m.\u001B[39m_broadcast_indexes_basic(key)\n\u001B[0;32m--> 724\u001B[0m \u001B[38;5;28;43mself\u001B[39;49m\u001B[38;5;241;43m.\u001B[39;49m\u001B[43m_validate_indexers\u001B[49m\u001B[43m(\u001B[49m\u001B[43mkey\u001B[49m\u001B[43m)\u001B[49m\n\u001B[1;32m    725\u001B[0m \u001B[38;5;66;03m# Detect it can be mapped as an outer indexer\u001B[39;00m\n\u001B[1;32m    726\u001B[0m \u001B[38;5;66;03m# If all key is unlabeled, or\u001B[39;00m\n\u001B[1;32m    727\u001B[0m \u001B[38;5;66;03m# key can be mapped as an OuterIndexer.\u001B[39;00m\n\u001B[1;32m    728\u001B[0m \u001B[38;5;28;01mif\u001B[39;00m \u001B[38;5;28mall\u001B[39m(\u001B[38;5;129;01mnot\u001B[39;00m \u001B[38;5;28misinstance\u001B[39m(k, Variable) \u001B[38;5;28;01mfor\u001B[39;00m k \u001B[38;5;129;01min\u001B[39;00m key):\n",
      "File \u001B[0;32m~/anaconda3/envs/live-verification/lib/python3.11/site-packages/xarray/core/variable.py:776\u001B[0m, in \u001B[0;36mVariable._validate_indexers\u001B[0;34m(self, key)\u001B[0m\n\u001B[1;32m    771\u001B[0m     \u001B[38;5;28;01mraise\u001B[39;00m \u001B[38;5;167;01mIndexError\u001B[39;00m(\n\u001B[1;32m    772\u001B[0m         \u001B[38;5;124m\"\u001B[39m\u001B[38;5;132;01m{}\u001B[39;00m\u001B[38;5;124m-dimensional boolean indexing is \u001B[39m\u001B[38;5;124m\"\u001B[39m\n\u001B[1;32m    773\u001B[0m         \u001B[38;5;124m\"\u001B[39m\u001B[38;5;124mnot supported. \u001B[39m\u001B[38;5;124m\"\u001B[39m\u001B[38;5;241m.\u001B[39mformat(k\u001B[38;5;241m.\u001B[39mndim)\n\u001B[1;32m    774\u001B[0m     )\n\u001B[1;32m    775\u001B[0m \u001B[38;5;28;01mif\u001B[39;00m is_duck_dask_array(k\u001B[38;5;241m.\u001B[39mdata):\n\u001B[0;32m--> 776\u001B[0m     \u001B[38;5;28;01mraise\u001B[39;00m \u001B[38;5;167;01mKeyError\u001B[39;00m(\n\u001B[1;32m    777\u001B[0m         \u001B[38;5;124m\"\u001B[39m\u001B[38;5;124mIndexing with a boolean dask array is not allowed. \u001B[39m\u001B[38;5;124m\"\u001B[39m\n\u001B[1;32m    778\u001B[0m         \u001B[38;5;124m\"\u001B[39m\u001B[38;5;124mThis will result in a dask array of unknown shape. \u001B[39m\u001B[38;5;124m\"\u001B[39m\n\u001B[1;32m    779\u001B[0m         \u001B[38;5;124m\"\u001B[39m\u001B[38;5;124mSuch arrays are unsupported by Xarray.\u001B[39m\u001B[38;5;124m\"\u001B[39m\n\u001B[1;32m    780\u001B[0m         \u001B[38;5;124m\"\u001B[39m\u001B[38;5;124mPlease compute the indexer first using .compute()\u001B[39m\u001B[38;5;124m\"\u001B[39m\n\u001B[1;32m    781\u001B[0m     )\n\u001B[1;32m    782\u001B[0m \u001B[38;5;28;01mif\u001B[39;00m \u001B[38;5;28mgetattr\u001B[39m(k, \u001B[38;5;124m\"\u001B[39m\u001B[38;5;124mdims\u001B[39m\u001B[38;5;124m\"\u001B[39m, (dim,)) \u001B[38;5;241m!=\u001B[39m (dim,):\n\u001B[1;32m    783\u001B[0m     \u001B[38;5;28;01mraise\u001B[39;00m \u001B[38;5;167;01mIndexError\u001B[39;00m(\n\u001B[1;32m    784\u001B[0m         \u001B[38;5;124m\"\u001B[39m\u001B[38;5;124mBoolean indexer should be unlabeled or on the \u001B[39m\u001B[38;5;124m\"\u001B[39m\n\u001B[1;32m    785\u001B[0m         \u001B[38;5;124m\"\u001B[39m\u001B[38;5;124msame dimension to the indexed array. Indexer is \u001B[39m\u001B[38;5;124m\"\u001B[39m\n\u001B[0;32m   (...)\u001B[0m\n\u001B[1;32m    788\u001B[0m         )\n\u001B[1;32m    789\u001B[0m     )\n",
      "\u001B[0;31mKeyError\u001B[0m: 'Indexing with a boolean dask array is not allowed. This will result in a dask array of unknown shape. Such arrays are unsupported by Xarray.Please compute the indexer first using .compute()'"
     ]
    }
   ],
   "source": [
    "lat_top = 39\n",
    "lat_bottom = 34\n",
    "lon_top = -107\n",
    "lon_bottom = -110 # Four Corners region\n",
    "\n",
    "def check_boundaries(data):\n",
    "    return (lat_bottom < data.latitude) & (data.latitude < lat_top) & (\n",
    "        lon_bottom < data.longitude) & (data.longitude < lon_top)\n",
    "\n",
    "area = chunk_index.where(check_boundaries, drop=True)\n",
    "area"
   ],
   "metadata": {
    "collapsed": false,
    "ExecuteTime": {
     "end_time": "2023-11-16T18:17:15.783720Z",
     "start_time": "2023-11-16T18:17:12.853326Z"
    }
   },
   "id": "72b6746c089c9731"
  },
  {
   "cell_type": "code",
   "execution_count": null,
   "outputs": [],
   "source": [
    "def get_unique(data):\n",
    "    # We have to implement our own \"unique\" logic since missing values are NaN (a float) and the rest are string\n",
    "    data = data.fillna(None).values.flatten()\n",
    "    data = data[data != None]\n",
    "    return np.unique(data)\n",
    "\n",
    "chunk_ids = get_unique(area.chunk_id)"
   ],
   "metadata": {
    "collapsed": false,
    "ExecuteTime": {
     "end_time": "2023-11-16T18:17:15.784808Z",
     "start_time": "2023-11-16T18:17:15.784214Z"
    }
   },
   "id": "427874371f03f4c2"
  },
  {
   "cell_type": "code",
   "execution_count": null,
   "outputs": [],
   "source": [
    "def get_chunk(zarr_id, chunk_id):\n",
    "    # retrieve data as before\n",
    "    compressed_data = retrieve_object(s3, create_s3_chunk_url(zarr_id, chunk_id))\n",
    "    chunk_data = decompress_chunk(zarr_id, compressed_data)\n",
    "    \n",
    "    # combine retrieved data with the chunk grid\n",
    "    chunk_xarray = chunk_index.where(lambda x: x.chunk_id == chunk_id, drop=True)\n",
    "    dimensions = (\"y\", \"x\") if zarr_id.model_type == \"anl\" else (\"time\", \"y\", \"x\")\n",
    "    chunk_xarray[zarr_id.var_name] = (dimensions, chunk_data)\n",
    "    return chunk_xarray\n",
    "\n",
    "def get_chunks_combined(zarr_id, chunk_ids):\n",
    "    chunks = [get_chunk(zarr_id, chunk_id) for chunk_id in chunk_ids]\n",
    "    return xr.merge(chunks)\n",
    "\n",
    "    \n",
    "data = get_chunks_combined(zarr_id, chunk_ids)\n",
    "data"
   ],
   "metadata": {
    "collapsed": false,
    "ExecuteTime": {
     "end_time": "2023-11-16T18:17:15.785421Z",
     "start_time": "2023-11-16T18:17:15.785364Z"
    }
   },
   "id": "88cb700dfaaaba7"
  },
  {
   "cell_type": "code",
   "execution_count": null,
   "outputs": [],
   "source": [
    "data.where(check_boundaries, drop=True)\n"
   ],
   "metadata": {
    "collapsed": false,
    "ExecuteTime": {
     "start_time": "2023-11-16T18:17:15.786754Z"
    }
   },
   "id": "d8579861b5f4ffa9"
  },
  {
   "cell_type": "code",
   "execution_count": null,
   "outputs": [],
   "source": [
    "data.TMP.plot()\n"
   ],
   "metadata": {
    "collapsed": false,
    "ExecuteTime": {
     "start_time": "2023-11-16T18:17:15.788021Z"
    }
   },
   "id": "2066338df0008f5c"
  },
  {
   "cell_type": "code",
   "execution_count": null,
   "outputs": [],
   "source": [
    "start = datetime.datetime(2018, 1, 1, 0)\n",
    "times = [start + datetime.timedelta(weeks=week_delta) for week_delta in range(2)]\n",
    "\n",
    "zarr_ids = [dataclasses.replace(zarr_id, run_hour=time) for time in times]\n",
    "\n",
    "def get_data(zarr_ids, chunk_ids, is_forecast):\n",
    "    datasets = []\n",
    "    for zarr_id in zarr_ids:\n",
    "        data = get_chunks_combined(zarr_id, chunk_ids)\n",
    "        new_time_dimension = \"run_time\" if is_forecast else \"time\"\n",
    "        data[new_time_dimension] = zarr_id.run_hour\n",
    "        datasets.append(data)\n",
    "    ds = xr.concat(datasets, dim=new_time_dimension, combine_attrs=\"override\")\n",
    "    return ds\n",
    "    \n",
    "get_data(zarr_ids, chunk_ids, False)"
   ],
   "metadata": {
    "collapsed": false,
    "ExecuteTime": {
     "start_time": "2023-11-16T18:17:15.788900Z"
    }
   },
   "id": "2c574c131f6e88fb"
  },
  {
   "cell_type": "code",
   "execution_count": null,
   "outputs": [],
   "source": [],
   "metadata": {
    "collapsed": false,
    "ExecuteTime": {
     "start_time": "2023-11-16T18:17:15.789708Z"
    }
   },
   "id": "7b5b210e5a8a6952"
  }
 ],
 "metadata": {
  "kernelspec": {
   "display_name": "Python 3",
   "language": "python",
   "name": "python3"
  },
  "language_info": {
   "codemirror_mode": {
    "name": "ipython",
    "version": 2
   },
   "file_extension": ".py",
   "mimetype": "text/x-python",
   "name": "python",
   "nbconvert_exporter": "python",
   "pygments_lexer": "ipython2",
   "version": "2.7.6"
  }
 },
 "nbformat": 4,
 "nbformat_minor": 5
}
